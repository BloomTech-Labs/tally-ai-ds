{
  "nbformat": 4,
  "nbformat_minor": 0,
  "metadata": {
    "colab": {
      "name": "sentiment_part3.ipynb",
      "provenance": [],
      "collapsed_sections": []
    },
    "kernelspec": {
      "name": "python3",
      "display_name": "Python 3"
    }
  },
  "cells": [
    {
      "cell_type": "code",
      "metadata": {
        "id": "tRpHTdw9gL0q",
        "colab_type": "code",
        "colab": {
          "base_uri": "https://localhost:8080/",
          "height": 118
        },
        "outputId": "1c5ae7bf-064b-4402-f778-be505a79591d"
      },
      "source": [
        "from google.colab import drive\n",
        "drive.mount('drive')"
      ],
      "execution_count": null,
      "outputs": [
        {
          "output_type": "stream",
          "text": [
            "Go to this URL in a browser: https://accounts.google.com/o/oauth2/auth?client_id=947318989803-6bn6qk8qdgf4n4g3pfee6491hc0brc4i.apps.googleusercontent.com&redirect_uri=urn%3aietf%3awg%3aoauth%3a2.0%3aoob&response_type=code&scope=email%20https%3a%2f%2fwww.googleapis.com%2fauth%2fdocs.test%20https%3a%2f%2fwww.googleapis.com%2fauth%2fdrive%20https%3a%2f%2fwww.googleapis.com%2fauth%2fdrive.photos.readonly%20https%3a%2f%2fwww.googleapis.com%2fauth%2fpeopleapi.readonly\n",
            "\n",
            "Enter your authorization code:\n",
            "··········\n",
            "Mounted at drive\n"
          ],
          "name": "stdout"
        }
      ]
    },
    {
      "cell_type": "code",
      "metadata": {
        "id": "cLp-MbwugMQL",
        "colab_type": "code",
        "colab": {
          "base_uri": "https://localhost:8080/",
          "height": 232
        },
        "outputId": "06568697-1101-41fb-a44d-61dda38c4d6d"
      },
      "source": [
        "#import dask.dataframe as dd\n",
        "#!pip install fastparquet\n",
        "#from fastparquet import ParquetFile\n",
        "\n",
        "import re\n",
        "import nltk\n",
        "import json\n",
        "import pandas as pd\n",
        "import numpy as np\n",
        "!pip install vaderSentiment\n",
        "from nltk.corpus import wordnet \n",
        "from gensim.utils import simple_preprocess\n",
        "from gensim.parsing.preprocessing import STOPWORDS\n",
        "from vaderSentiment.vaderSentiment import SentimentIntensityAnalyzer \n",
        "\n",
        "nltk.download('wordnet')\n",
        "pd.options.display.max_rows = 999\n",
        "pd.options.display.max_columns = 999\n",
        "pd.set_option('display.max_colwidth', 1000)\n",
        "\n",
        "#imports to get our parquet files aand dask files"
      ],
      "execution_count": null,
      "outputs": [
        {
          "output_type": "stream",
          "text": [
            "Collecting vaderSentiment\n",
            "\u001b[?25l  Downloading https://files.pythonhosted.org/packages/76/fc/310e16254683c1ed35eeb97386986d6c00bc29df17ce280aed64d55537e9/vaderSentiment-3.3.2-py2.py3-none-any.whl (125kB)\n",
            "\r\u001b[K     |██▋                             | 10kB 17.3MB/s eta 0:00:01\r\u001b[K     |█████▏                          | 20kB 1.6MB/s eta 0:00:01\r\u001b[K     |███████▉                        | 30kB 2.0MB/s eta 0:00:01\r\u001b[K     |██████████▍                     | 40kB 1.6MB/s eta 0:00:01\r\u001b[K     |█████████████                   | 51kB 1.9MB/s eta 0:00:01\r\u001b[K     |███████████████▋                | 61kB 2.2MB/s eta 0:00:01\r\u001b[K     |██████████████████▏             | 71kB 2.3MB/s eta 0:00:01\r\u001b[K     |████████████████████▉           | 81kB 2.6MB/s eta 0:00:01\r\u001b[K     |███████████████████████▍        | 92kB 2.8MB/s eta 0:00:01\r\u001b[K     |██████████████████████████      | 102kB 2.7MB/s eta 0:00:01\r\u001b[K     |████████████████████████████▋   | 112kB 2.7MB/s eta 0:00:01\r\u001b[K     |███████████████████████████████▏| 122kB 2.7MB/s eta 0:00:01\r\u001b[K     |████████████████████████████████| 133kB 2.7MB/s \n",
            "\u001b[?25hRequirement already satisfied: requests in /usr/local/lib/python3.6/dist-packages (from vaderSentiment) (2.23.0)\n",
            "Requirement already satisfied: urllib3!=1.25.0,!=1.25.1,<1.26,>=1.21.1 in /usr/local/lib/python3.6/dist-packages (from requests->vaderSentiment) (1.24.3)\n",
            "Requirement already satisfied: certifi>=2017.4.17 in /usr/local/lib/python3.6/dist-packages (from requests->vaderSentiment) (2020.4.5.1)\n",
            "Requirement already satisfied: idna<3,>=2.5 in /usr/local/lib/python3.6/dist-packages (from requests->vaderSentiment) (2.9)\n",
            "Requirement already satisfied: chardet<4,>=3.0.2 in /usr/local/lib/python3.6/dist-packages (from requests->vaderSentiment) (3.0.4)\n",
            "Installing collected packages: vaderSentiment\n",
            "Successfully installed vaderSentiment-3.3.2\n",
            "[nltk_data] Downloading package wordnet to /root/nltk_data...\n",
            "[nltk_data]   Unzipping corpora/wordnet.zip.\n"
          ],
          "name": "stdout"
        }
      ]
    },
    {
      "cell_type": "code",
      "metadata": {
        "id": "gDOHZ320gMSj",
        "colab_type": "code",
        "colab": {}
      },
      "source": [
        "# Load pandas dataframe\n",
        "def load_data(url):\n",
        "    if url.endswith(\".csv\") or \"csv\" in url:\n",
        "        df = pd.read_csv(url)\n",
        "    else:\n",
        "        df = None\n",
        "    return df\n"
      ],
      "execution_count": null,
      "outputs": []
    },
    {
      "cell_type": "code",
      "metadata": {
        "id": "cWvhM6c6gMW4",
        "colab_type": "code",
        "colab": {
          "base_uri": "https://localhost:8080/",
          "height": 70
        },
        "outputId": "dd25c5ce-b893-42d5-9ef2-766f357d9049"
      },
      "source": [
        "rev_url = 'https://tally-ai-dspt3.s3.amazonaws.com/yelp-restaurants/reviews-6-15-20.csv'\n",
        "\n",
        "rev = load_data(rev_url)"
      ],
      "execution_count": null,
      "outputs": [
        {
          "output_type": "stream",
          "text": [
            "/usr/local/lib/python3.6/dist-packages/IPython/core/interactiveshell.py:2822: DtypeWarning: Columns (0) have mixed types.Specify dtype option on import or set low_memory=False.\n",
            "  if self.run_code(code, result):\n"
          ],
          "name": "stderr"
        }
      ]
    },
    {
      "cell_type": "code",
      "metadata": {
        "id": "XSAs6JChrgXR",
        "colab_type": "code",
        "colab": {
          "base_uri": "https://localhost:8080/",
          "height": 873
        },
        "outputId": "20a03c80-f6d0-43b1-a0be-33400dc8a573"
      },
      "source": [
        "rev.head()"
      ],
      "execution_count": null,
      "outputs": [
        {
          "output_type": "execute_result",
          "data": {
            "text/html": [
              "<div>\n",
              "<style scoped>\n",
              "    .dataframe tbody tr th:only-of-type {\n",
              "        vertical-align: middle;\n",
              "    }\n",
              "\n",
              "    .dataframe tbody tr th {\n",
              "        vertical-align: top;\n",
              "    }\n",
              "\n",
              "    .dataframe thead th {\n",
              "        text-align: right;\n",
              "    }\n",
              "</style>\n",
              "<table border=\"1\" class=\"dataframe\">\n",
              "  <thead>\n",
              "    <tr style=\"text-align: right;\">\n",
              "      <th></th>\n",
              "      <th>Unnamed: 0</th>\n",
              "      <th>review_id</th>\n",
              "      <th>business_id</th>\n",
              "      <th>reviews_stars</th>\n",
              "      <th>date</th>\n",
              "      <th>text</th>\n",
              "    </tr>\n",
              "  </thead>\n",
              "  <tbody>\n",
              "    <tr>\n",
              "      <th>0</th>\n",
              "      <td>0</td>\n",
              "      <td>Oa-sapLub0wRAzxRKVmtDQ</td>\n",
              "      <td>j9bWpCRwpDVfwVT_V85qeA</td>\n",
              "      <td>5.0</td>\n",
              "      <td>2017-02-23 03:10:38</td>\n",
              "      <td>Best thai food in Mesa, and you get so much food for your money. We have tried almost every thai place in the area, and think Papaya thai is by far the best - and always ends u p being the cheapest too. Only eating here for thair food for now on!!</td>\n",
              "    </tr>\n",
              "    <tr>\n",
              "      <th>1</th>\n",
              "      <td>1</td>\n",
              "      <td>NawvdCkVIvhMO_eMVMdBhw</td>\n",
              "      <td>j9bWpCRwpDVfwVT_V85qeA</td>\n",
              "      <td>3.0</td>\n",
              "      <td>2010-12-04 00:38:28</td>\n",
              "      <td>There are several contributing factors to the 3-starness of Papaya Thai, but it isn't necessarily the food.   This place is literally a block away from my house, and I have ventured frequently because of its proximity, reasonable pricing, and portioning.  \\n\\nGiant fish tanks with some cool tropical fish are strewn about, but then there is this tank with the ugliest eel-like fish and catfish.  It makes it hard for me to eat looking at them, so I opt for seats facing the opposite direction.  I also feel like there are too many tables for the amount of space.  If the restaurant where ever full, I think I would knock into someone's head with the imaginary purse that I do not carry. \\n\\nNow onto the food.  I love that there are spiciness scales that I do not adhere too.  I always ask extra, extra spicy, and they don't just throw a handful of red chile flakes into the dish that I order.  Every curry dish I have ordered has tasted the way it should, not like coconut milk or peanuts.  The...</td>\n",
              "    </tr>\n",
              "    <tr>\n",
              "      <th>2</th>\n",
              "      <td>2</td>\n",
              "      <td>uBWpaM4_PQ1NMB3N9nYkJA</td>\n",
              "      <td>j9bWpCRwpDVfwVT_V85qeA</td>\n",
              "      <td>1.0</td>\n",
              "      <td>2012-03-07 21:51:40</td>\n",
              "      <td>Moving to the Phoenix area was a shock to begin with and it has been difficult finding truly great Thai food establishments, especially in the far East Valley. However, of all the places I have tried, which is nearly 15 in just under 2 years, Papaya Thai on University Dr. in Mesa is the absolute WORST! \\n\\nI am a HUGE fan of all styles of Thai Food. I've traveled throughout Asia on more than one occassion, taught English in China and spent years seeking out authentic eateries in the Asian-based areas of this country's biggest Metropolitan cities. Thai food holds a special place in my heart, but never have I been as disappointed as I was with my experience at Papaya Thai!\\n\\nIf Papaya Thai was worth the words, I would gladly go into more detail about the atmosphere, the menu and the quality-to-value ratio, as I do with my other reviews... \\n\\nHowever, there's really not much to say about this dark and dirty hole-in-the-wall next to the Dollar Store. The service isn't worth the price...</td>\n",
              "    </tr>\n",
              "    <tr>\n",
              "      <th>3</th>\n",
              "      <td>3</td>\n",
              "      <td>EIcE_Xw9G5bDAY-XQ0Vosg</td>\n",
              "      <td>j9bWpCRwpDVfwVT_V85qeA</td>\n",
              "      <td>1.0</td>\n",
              "      <td>2011-10-06 00:29:51</td>\n",
              "      <td>Usually ok but today we went and ordered garden medley with garlic and drunken noodles which should have lots of basil in it.  The medley had no garlic and was sour.  The drunken noodles had no basil and after we asked the rude owner for some basil he told us that its in there but he will bring us some raw basil.  I think he must have been drunk to screw up 2 dishes that we have ordered 10 times before.  He treats the customer like an idiot.</td>\n",
              "    </tr>\n",
              "    <tr>\n",
              "      <th>4</th>\n",
              "      <td>4</td>\n",
              "      <td>BXTxF_ijBmm5RPYELr-5RQ</td>\n",
              "      <td>j9bWpCRwpDVfwVT_V85qeA</td>\n",
              "      <td>4.0</td>\n",
              "      <td>2013-11-20 03:08:02</td>\n",
              "      <td>I have never dined in. The restaurant itself is always pretty slow but the takeout is delicious. I really enjoy the soups. I have tried a number of entrees and they have been delicious. The lady dish I tried had sauteed pumpkin. It was something I have never tried but it was great!</td>\n",
              "    </tr>\n",
              "  </tbody>\n",
              "</table>\n",
              "</div>"
            ],
            "text/plain": [
              "  Unnamed: 0               review_id             business_id  reviews_stars  \\\n",
              "0          0  Oa-sapLub0wRAzxRKVmtDQ  j9bWpCRwpDVfwVT_V85qeA            5.0   \n",
              "1          1  NawvdCkVIvhMO_eMVMdBhw  j9bWpCRwpDVfwVT_V85qeA            3.0   \n",
              "2          2  uBWpaM4_PQ1NMB3N9nYkJA  j9bWpCRwpDVfwVT_V85qeA            1.0   \n",
              "3          3  EIcE_Xw9G5bDAY-XQ0Vosg  j9bWpCRwpDVfwVT_V85qeA            1.0   \n",
              "4          4  BXTxF_ijBmm5RPYELr-5RQ  j9bWpCRwpDVfwVT_V85qeA            4.0   \n",
              "\n",
              "                  date  \\\n",
              "0  2017-02-23 03:10:38   \n",
              "1  2010-12-04 00:38:28   \n",
              "2  2012-03-07 21:51:40   \n",
              "3  2011-10-06 00:29:51   \n",
              "4  2013-11-20 03:08:02   \n",
              "\n",
              "                                                                                                                                                                                                                                                                                                                                                                                                                                                                                                                                                                                                                                                                                                                                                                                                                                                                                                                                                                                                                                      text  \n",
              "0                                                                                                                                                                                                                                                                                                                                                                                                                                                                                                                                                                                                                                                                                                                                                                                  Best thai food in Mesa, and you get so much food for your money. We have tried almost every thai place in the area, and think Papaya thai is by far the best - and always ends u p being the cheapest too. Only eating here for thair food for now on!!  \n",
              "1  There are several contributing factors to the 3-starness of Papaya Thai, but it isn't necessarily the food.   This place is literally a block away from my house, and I have ventured frequently because of its proximity, reasonable pricing, and portioning.  \\n\\nGiant fish tanks with some cool tropical fish are strewn about, but then there is this tank with the ugliest eel-like fish and catfish.  It makes it hard for me to eat looking at them, so I opt for seats facing the opposite direction.  I also feel like there are too many tables for the amount of space.  If the restaurant where ever full, I think I would knock into someone's head with the imaginary purse that I do not carry. \\n\\nNow onto the food.  I love that there are spiciness scales that I do not adhere too.  I always ask extra, extra spicy, and they don't just throw a handful of red chile flakes into the dish that I order.  Every curry dish I have ordered has tasted the way it should, not like coconut milk or peanuts.  The...  \n",
              "2  Moving to the Phoenix area was a shock to begin with and it has been difficult finding truly great Thai food establishments, especially in the far East Valley. However, of all the places I have tried, which is nearly 15 in just under 2 years, Papaya Thai on University Dr. in Mesa is the absolute WORST! \\n\\nI am a HUGE fan of all styles of Thai Food. I've traveled throughout Asia on more than one occassion, taught English in China and spent years seeking out authentic eateries in the Asian-based areas of this country's biggest Metropolitan cities. Thai food holds a special place in my heart, but never have I been as disappointed as I was with my experience at Papaya Thai!\\n\\nIf Papaya Thai was worth the words, I would gladly go into more detail about the atmosphere, the menu and the quality-to-value ratio, as I do with my other reviews... \\n\\nHowever, there's really not much to say about this dark and dirty hole-in-the-wall next to the Dollar Store. The service isn't worth the price...  \n",
              "3                                                                                                                                                                                                                                                                                                                                                                                                                                                                                                                                                                            Usually ok but today we went and ordered garden medley with garlic and drunken noodles which should have lots of basil in it.  The medley had no garlic and was sour.  The drunken noodles had no basil and after we asked the rude owner for some basil he told us that its in there but he will bring us some raw basil.  I think he must have been drunk to screw up 2 dishes that we have ordered 10 times before.  He treats the customer like an idiot.  \n",
              "4                                                                                                                                                                                                                                                                                                                                                                                                                                                                                                                                                                                                                                                                                                                                               I have never dined in. The restaurant itself is always pretty slow but the takeout is delicious. I really enjoy the soups. I have tried a number of entrees and they have been delicious. The lady dish I tried had sauteed pumpkin. It was something I have never tried but it was great!  "
            ]
          },
          "metadata": {
            "tags": []
          },
          "execution_count": 5
        }
      ]
    },
    {
      "cell_type": "code",
      "metadata": {
        "id": "7Ok4Entmr5bt",
        "colab_type": "code",
        "colab": {
          "base_uri": "https://localhost:8080/",
          "height": 66
        },
        "outputId": "2b01a868-343d-4cde-9d35-76b2a5668e89"
      },
      "source": [
        "rev.columns"
      ],
      "execution_count": null,
      "outputs": [
        {
          "output_type": "execute_result",
          "data": {
            "text/plain": [
              "Index(['Unnamed: 0', 'review_id', 'business_id', 'reviews_stars', 'date',\n",
              "       'text'],\n",
              "      dtype='object')"
            ]
          },
          "metadata": {
            "tags": []
          },
          "execution_count": 6
        }
      ]
    },
    {
      "cell_type": "code",
      "metadata": {
        "id": "o_ceyrqirkSr",
        "colab_type": "code",
        "colab": {
          "base_uri": "https://localhost:8080/",
          "height": 760
        },
        "outputId": "9205372b-c118-4944-c989-0696c291548c"
      },
      "source": [
        "rev = rev.drop(columns=[\"Unnamed: 0\"])\n",
        "rev.head()"
      ],
      "execution_count": null,
      "outputs": [
        {
          "output_type": "execute_result",
          "data": {
            "text/html": [
              "<div>\n",
              "<style scoped>\n",
              "    .dataframe tbody tr th:only-of-type {\n",
              "        vertical-align: middle;\n",
              "    }\n",
              "\n",
              "    .dataframe tbody tr th {\n",
              "        vertical-align: top;\n",
              "    }\n",
              "\n",
              "    .dataframe thead th {\n",
              "        text-align: right;\n",
              "    }\n",
              "</style>\n",
              "<table border=\"1\" class=\"dataframe\">\n",
              "  <thead>\n",
              "    <tr style=\"text-align: right;\">\n",
              "      <th></th>\n",
              "      <th>review_id</th>\n",
              "      <th>business_id</th>\n",
              "      <th>reviews_stars</th>\n",
              "      <th>date</th>\n",
              "      <th>text</th>\n",
              "    </tr>\n",
              "  </thead>\n",
              "  <tbody>\n",
              "    <tr>\n",
              "      <th>0</th>\n",
              "      <td>Oa-sapLub0wRAzxRKVmtDQ</td>\n",
              "      <td>j9bWpCRwpDVfwVT_V85qeA</td>\n",
              "      <td>5.0</td>\n",
              "      <td>2017-02-23 03:10:38</td>\n",
              "      <td>Best thai food in Mesa, and you get so much food for your money. We have tried almost every thai place in the area, and think Papaya thai is by far the best - and always ends u p being the cheapest too. Only eating here for thair food for now on!!</td>\n",
              "    </tr>\n",
              "    <tr>\n",
              "      <th>1</th>\n",
              "      <td>NawvdCkVIvhMO_eMVMdBhw</td>\n",
              "      <td>j9bWpCRwpDVfwVT_V85qeA</td>\n",
              "      <td>3.0</td>\n",
              "      <td>2010-12-04 00:38:28</td>\n",
              "      <td>There are several contributing factors to the 3-starness of Papaya Thai, but it isn't necessarily the food.   This place is literally a block away from my house, and I have ventured frequently because of its proximity, reasonable pricing, and portioning.  \\n\\nGiant fish tanks with some cool tropical fish are strewn about, but then there is this tank with the ugliest eel-like fish and catfish.  It makes it hard for me to eat looking at them, so I opt for seats facing the opposite direction.  I also feel like there are too many tables for the amount of space.  If the restaurant where ever full, I think I would knock into someone's head with the imaginary purse that I do not carry. \\n\\nNow onto the food.  I love that there are spiciness scales that I do not adhere too.  I always ask extra, extra spicy, and they don't just throw a handful of red chile flakes into the dish that I order.  Every curry dish I have ordered has tasted the way it should, not like coconut milk or peanuts.  The...</td>\n",
              "    </tr>\n",
              "    <tr>\n",
              "      <th>2</th>\n",
              "      <td>uBWpaM4_PQ1NMB3N9nYkJA</td>\n",
              "      <td>j9bWpCRwpDVfwVT_V85qeA</td>\n",
              "      <td>1.0</td>\n",
              "      <td>2012-03-07 21:51:40</td>\n",
              "      <td>Moving to the Phoenix area was a shock to begin with and it has been difficult finding truly great Thai food establishments, especially in the far East Valley. However, of all the places I have tried, which is nearly 15 in just under 2 years, Papaya Thai on University Dr. in Mesa is the absolute WORST! \\n\\nI am a HUGE fan of all styles of Thai Food. I've traveled throughout Asia on more than one occassion, taught English in China and spent years seeking out authentic eateries in the Asian-based areas of this country's biggest Metropolitan cities. Thai food holds a special place in my heart, but never have I been as disappointed as I was with my experience at Papaya Thai!\\n\\nIf Papaya Thai was worth the words, I would gladly go into more detail about the atmosphere, the menu and the quality-to-value ratio, as I do with my other reviews... \\n\\nHowever, there's really not much to say about this dark and dirty hole-in-the-wall next to the Dollar Store. The service isn't worth the price...</td>\n",
              "    </tr>\n",
              "    <tr>\n",
              "      <th>3</th>\n",
              "      <td>EIcE_Xw9G5bDAY-XQ0Vosg</td>\n",
              "      <td>j9bWpCRwpDVfwVT_V85qeA</td>\n",
              "      <td>1.0</td>\n",
              "      <td>2011-10-06 00:29:51</td>\n",
              "      <td>Usually ok but today we went and ordered garden medley with garlic and drunken noodles which should have lots of basil in it.  The medley had no garlic and was sour.  The drunken noodles had no basil and after we asked the rude owner for some basil he told us that its in there but he will bring us some raw basil.  I think he must have been drunk to screw up 2 dishes that we have ordered 10 times before.  He treats the customer like an idiot.</td>\n",
              "    </tr>\n",
              "    <tr>\n",
              "      <th>4</th>\n",
              "      <td>BXTxF_ijBmm5RPYELr-5RQ</td>\n",
              "      <td>j9bWpCRwpDVfwVT_V85qeA</td>\n",
              "      <td>4.0</td>\n",
              "      <td>2013-11-20 03:08:02</td>\n",
              "      <td>I have never dined in. The restaurant itself is always pretty slow but the takeout is delicious. I really enjoy the soups. I have tried a number of entrees and they have been delicious. The lady dish I tried had sauteed pumpkin. It was something I have never tried but it was great!</td>\n",
              "    </tr>\n",
              "  </tbody>\n",
              "</table>\n",
              "</div>"
            ],
            "text/plain": [
              "                review_id             business_id  reviews_stars  \\\n",
              "0  Oa-sapLub0wRAzxRKVmtDQ  j9bWpCRwpDVfwVT_V85qeA            5.0   \n",
              "1  NawvdCkVIvhMO_eMVMdBhw  j9bWpCRwpDVfwVT_V85qeA            3.0   \n",
              "2  uBWpaM4_PQ1NMB3N9nYkJA  j9bWpCRwpDVfwVT_V85qeA            1.0   \n",
              "3  EIcE_Xw9G5bDAY-XQ0Vosg  j9bWpCRwpDVfwVT_V85qeA            1.0   \n",
              "4  BXTxF_ijBmm5RPYELr-5RQ  j9bWpCRwpDVfwVT_V85qeA            4.0   \n",
              "\n",
              "                  date  \\\n",
              "0  2017-02-23 03:10:38   \n",
              "1  2010-12-04 00:38:28   \n",
              "2  2012-03-07 21:51:40   \n",
              "3  2011-10-06 00:29:51   \n",
              "4  2013-11-20 03:08:02   \n",
              "\n",
              "                                                                                                                                                                                                                                                                                                                                                                                                                                                                                                                                                                                                                                                                                                                                                                                                                                                                                                                                                                                                                                      text  \n",
              "0                                                                                                                                                                                                                                                                                                                                                                                                                                                                                                                                                                                                                                                                                                                                                                                  Best thai food in Mesa, and you get so much food for your money. We have tried almost every thai place in the area, and think Papaya thai is by far the best - and always ends u p being the cheapest too. Only eating here for thair food for now on!!  \n",
              "1  There are several contributing factors to the 3-starness of Papaya Thai, but it isn't necessarily the food.   This place is literally a block away from my house, and I have ventured frequently because of its proximity, reasonable pricing, and portioning.  \\n\\nGiant fish tanks with some cool tropical fish are strewn about, but then there is this tank with the ugliest eel-like fish and catfish.  It makes it hard for me to eat looking at them, so I opt for seats facing the opposite direction.  I also feel like there are too many tables for the amount of space.  If the restaurant where ever full, I think I would knock into someone's head with the imaginary purse that I do not carry. \\n\\nNow onto the food.  I love that there are spiciness scales that I do not adhere too.  I always ask extra, extra spicy, and they don't just throw a handful of red chile flakes into the dish that I order.  Every curry dish I have ordered has tasted the way it should, not like coconut milk or peanuts.  The...  \n",
              "2  Moving to the Phoenix area was a shock to begin with and it has been difficult finding truly great Thai food establishments, especially in the far East Valley. However, of all the places I have tried, which is nearly 15 in just under 2 years, Papaya Thai on University Dr. in Mesa is the absolute WORST! \\n\\nI am a HUGE fan of all styles of Thai Food. I've traveled throughout Asia on more than one occassion, taught English in China and spent years seeking out authentic eateries in the Asian-based areas of this country's biggest Metropolitan cities. Thai food holds a special place in my heart, but never have I been as disappointed as I was with my experience at Papaya Thai!\\n\\nIf Papaya Thai was worth the words, I would gladly go into more detail about the atmosphere, the menu and the quality-to-value ratio, as I do with my other reviews... \\n\\nHowever, there's really not much to say about this dark and dirty hole-in-the-wall next to the Dollar Store. The service isn't worth the price...  \n",
              "3                                                                                                                                                                                                                                                                                                                                                                                                                                                                                                                                                                            Usually ok but today we went and ordered garden medley with garlic and drunken noodles which should have lots of basil in it.  The medley had no garlic and was sour.  The drunken noodles had no basil and after we asked the rude owner for some basil he told us that its in there but he will bring us some raw basil.  I think he must have been drunk to screw up 2 dishes that we have ordered 10 times before.  He treats the customer like an idiot.  \n",
              "4                                                                                                                                                                                                                                                                                                                                                                                                                                                                                                                                                                                                                                                                                                                                               I have never dined in. The restaurant itself is always pretty slow but the takeout is delicious. I really enjoy the soups. I have tried a number of entrees and they have been delicious. The lady dish I tried had sauteed pumpkin. It was something I have never tried but it was great!  "
            ]
          },
          "metadata": {
            "tags": []
          },
          "execution_count": 7
        }
      ]
    },
    {
      "cell_type": "code",
      "metadata": {
        "id": "DGB2CSbmsU4O",
        "colab_type": "code",
        "colab": {
          "base_uri": "https://localhost:8080/",
          "height": 115
        },
        "outputId": "22826cbd-cd96-493b-8068-0c6bb3e75e8f"
      },
      "source": [
        "rev.dtypes"
      ],
      "execution_count": null,
      "outputs": [
        {
          "output_type": "execute_result",
          "data": {
            "text/plain": [
              "review_id         object\n",
              "business_id       object\n",
              "reviews_stars    float64\n",
              "date              object\n",
              "text              object\n",
              "dtype: object"
            ]
          },
          "metadata": {
            "tags": []
          },
          "execution_count": 8
        }
      ]
    },
    {
      "cell_type": "code",
      "metadata": {
        "id": "JQaEDcrbGuV1",
        "colab_type": "code",
        "colab": {}
      },
      "source": [
        "#causes errors when running sentiment analysis\n",
        "rev['text'] = rev['text'].astype(str)"
      ],
      "execution_count": null,
      "outputs": []
    },
    {
      "cell_type": "code",
      "metadata": {
        "id": "bT_Pdc7blkGm",
        "colab_type": "code",
        "colab": {}
      },
      "source": [
        "rev['text'] = rev['text'].str.replace('\\d+', '')"
      ],
      "execution_count": null,
      "outputs": []
    },
    {
      "cell_type": "code",
      "metadata": {
        "id": "2xyqCatF56Bc",
        "colab_type": "code",
        "colab": {}
      },
      "source": [
        "rev['text'] = rev['text'].str.replace('[^\\w\\s#@/:%.,_-]', '', flags=re.UNICODE)"
      ],
      "execution_count": null,
      "outputs": []
    },
    {
      "cell_type": "code",
      "metadata": {
        "id": "QUFVSTF4So-f",
        "colab_type": "code",
        "colab": {
          "base_uri": "https://localhost:8080/",
          "height": 33
        },
        "outputId": "31a339c0-cc92-44b8-88e9-f872943f25cb"
      },
      "source": [
        "rev.shape\n",
        "#3,244,807 reviews"
      ],
      "execution_count": null,
      "outputs": [
        {
          "output_type": "execute_result",
          "data": {
            "text/plain": [
              "(3244807, 5)"
            ]
          },
          "metadata": {
            "tags": []
          },
          "execution_count": 15
        }
      ]
    },
    {
      "cell_type": "markdown",
      "metadata": {
        "id": "AECCye7CSrhO",
        "colab_type": "text"
      },
      "source": [
        "# Try NLP on segments of reviews df"
      ]
    },
    {
      "cell_type": "code",
      "metadata": {
        "id": "fCB06ZDjSq2G",
        "colab_type": "code",
        "colab": {
          "base_uri": "https://localhost:8080/",
          "height": 500
        },
        "outputId": "a96f27b7-984e-44b7-f0b6-49c84cadccbd"
      },
      "source": [
        "sent3 = rev.iloc[300001:350000]\n",
        "sent3.head()"
      ],
      "execution_count": null,
      "outputs": [
        {
          "output_type": "execute_result",
          "data": {
            "text/html": [
              "<div>\n",
              "<style scoped>\n",
              "    .dataframe tbody tr th:only-of-type {\n",
              "        vertical-align: middle;\n",
              "    }\n",
              "\n",
              "    .dataframe tbody tr th {\n",
              "        vertical-align: top;\n",
              "    }\n",
              "\n",
              "    .dataframe thead th {\n",
              "        text-align: right;\n",
              "    }\n",
              "</style>\n",
              "<table border=\"1\" class=\"dataframe\">\n",
              "  <thead>\n",
              "    <tr style=\"text-align: right;\">\n",
              "      <th></th>\n",
              "      <th>review_id</th>\n",
              "      <th>business_id</th>\n",
              "      <th>reviews_stars</th>\n",
              "      <th>date</th>\n",
              "      <th>text</th>\n",
              "    </tr>\n",
              "  </thead>\n",
              "  <tbody>\n",
              "    <tr>\n",
              "      <th>300001</th>\n",
              "      <td>QtdfgzU2QWqkqqnSQSJsCg</td>\n",
              "      <td>bjJcDCx5uMUr89nxBdGizw</td>\n",
              "      <td>5.0</td>\n",
              "      <td>2017-11-26 18:06:00</td>\n",
              "      <td>This place is legit The breakfast was amazing. The staff so attentive and on top of it. Thanks Brittany</td>\n",
              "    </tr>\n",
              "    <tr>\n",
              "      <th>300002</th>\n",
              "      <td>YA_UscHihJW0Z7YSvPt_9A</td>\n",
              "      <td>bjJcDCx5uMUr89nxBdGizw</td>\n",
              "      <td>5.0</td>\n",
              "      <td>2018-03-28 20:52:58</td>\n",
              "      <td>Awesome service and tasty food. Husband had the Hawaiian pork chops and egg breakfast. I had the waffle with eggs  bacon and added strawberries  bananas to the waffle. The waffle is so good it didnt need the fruit. Next time Im having it plain. Staff are genuinely nice and inviting. Definitely worth giving this place your business.</td>\n",
              "    </tr>\n",
              "    <tr>\n",
              "      <th>300003</th>\n",
              "      <td>10gJft08qwWrVXm5DgeA3w</td>\n",
              "      <td>bjJcDCx5uMUr89nxBdGizw</td>\n",
              "      <td>5.0</td>\n",
              "      <td>2018-03-22 17:01:43</td>\n",
              "      <td>WOW Just WOW  This place knocks it outta the park.\\nSOOOOO lucky to have this family owned joint here in Henderson-</td>\n",
              "    </tr>\n",
              "    <tr>\n",
              "      <th>300004</th>\n",
              "      <td>8QoGf7QsDVOjkRHOfewY1w</td>\n",
              "      <td>bjJcDCx5uMUr89nxBdGizw</td>\n",
              "      <td>5.0</td>\n",
              "      <td>2017-11-14 18:25:17</td>\n",
              "      <td>My husband and I came here for breakfast and seriously was the best experience Everyone was extremely nice and the food blew us away Came out fast and extremely delicious. Oh and the caramel bananas were bomb.com</td>\n",
              "    </tr>\n",
              "    <tr>\n",
              "      <th>300005</th>\n",
              "      <td>nvX0xUUgJhkoG9hrYJEyLQ</td>\n",
              "      <td>bjJcDCx5uMUr89nxBdGizw</td>\n",
              "      <td>5.0</td>\n",
              "      <td>2017-09-25 03:24:16</td>\n",
              "      <td>Loved the first breakfast last week and have been back twice more to try additional breakfast entrees.  The Belgian waffle was outstanding and the chili relleno and eggs were super delicious.  The service, quality of food, and ambiance is very consistent.  I am anxious to try the lunch menu soon.\\n\\nThe best breakfast restaurant I have been to since moving here  years ago.  The décor is super awesome, along with the friendly service from Gabriela I felt like I was back home in downtown Chicago.  This place is clean with a friendly staff.  Breakfast and Lunch served all day.  Everything is fresh and delicious. Finally found a place that can make hash browns the right way. Biscuits and gravy were outstanding.  I plan on going back often</td>\n",
              "    </tr>\n",
              "  </tbody>\n",
              "</table>\n",
              "</div>"
            ],
            "text/plain": [
              "                     review_id             business_id  reviews_stars  \\\n",
              "300001  QtdfgzU2QWqkqqnSQSJsCg  bjJcDCx5uMUr89nxBdGizw            5.0   \n",
              "300002  YA_UscHihJW0Z7YSvPt_9A  bjJcDCx5uMUr89nxBdGizw            5.0   \n",
              "300003  10gJft08qwWrVXm5DgeA3w  bjJcDCx5uMUr89nxBdGizw            5.0   \n",
              "300004  8QoGf7QsDVOjkRHOfewY1w  bjJcDCx5uMUr89nxBdGizw            5.0   \n",
              "300005  nvX0xUUgJhkoG9hrYJEyLQ  bjJcDCx5uMUr89nxBdGizw            5.0   \n",
              "\n",
              "                       date  \\\n",
              "300001  2017-11-26 18:06:00   \n",
              "300002  2018-03-28 20:52:58   \n",
              "300003  2018-03-22 17:01:43   \n",
              "300004  2017-11-14 18:25:17   \n",
              "300005  2017-09-25 03:24:16   \n",
              "\n",
              "                                                                                                                                                                                                                                                                                                                                                                                                                                                                                                                                                                                                                                                                                                                                                                            text  \n",
              "300001                                                                                                                                                                                                                                                                                                                                                                                                                                                                                                                                                                                                                                                                   This place is legit The breakfast was amazing. The staff so attentive and on top of it. Thanks Brittany  \n",
              "300002                                                                                                                                                                                                                                                                                                                                                                                                                             Awesome service and tasty food. Husband had the Hawaiian pork chops and egg breakfast. I had the waffle with eggs  bacon and added strawberries  bananas to the waffle. The waffle is so good it didnt need the fruit. Next time Im having it plain. Staff are genuinely nice and inviting. Definitely worth giving this place your business.  \n",
              "300003                                                                                                                                                                                                                                                                                                                                                                                                                                                                                                                                                                                                                                                       WOW Just WOW  This place knocks it outta the park.\\nSOOOOO lucky to have this family owned joint here in Henderson-  \n",
              "300004                                                                                                                                                                                                                                                                                                                                                                                                                                                                                                                                                      My husband and I came here for breakfast and seriously was the best experience Everyone was extremely nice and the food blew us away Came out fast and extremely delicious. Oh and the caramel bananas were bomb.com  \n",
              "300005  Loved the first breakfast last week and have been back twice more to try additional breakfast entrees.  The Belgian waffle was outstanding and the chili relleno and eggs were super delicious.  The service, quality of food, and ambiance is very consistent.  I am anxious to try the lunch menu soon.\\n\\nThe best breakfast restaurant I have been to since moving here  years ago.  The décor is super awesome, along with the friendly service from Gabriela I felt like I was back home in downtown Chicago.  This place is clean with a friendly staff.  Breakfast and Lunch served all day.  Everything is fresh and delicious. Finally found a place that can make hash browns the right way. Biscuits and gravy were outstanding.  I plan on going back often  "
            ]
          },
          "metadata": {
            "tags": []
          },
          "execution_count": 12
        }
      ]
    },
    {
      "cell_type": "code",
      "metadata": {
        "id": "j0zo8LJxSq60",
        "colab_type": "code",
        "colab": {
          "base_uri": "https://localhost:8080/",
          "height": 33
        },
        "outputId": "8af76e51-e6fe-4d46-8f94-494251dbe714"
      },
      "source": [
        "sent3.shape"
      ],
      "execution_count": null,
      "outputs": [
        {
          "output_type": "execute_result",
          "data": {
            "text/plain": [
              "(49999, 5)"
            ]
          },
          "metadata": {
            "tags": []
          },
          "execution_count": 14
        }
      ]
    },
    {
      "cell_type": "code",
      "metadata": {
        "id": "qlk_knwnSq-R",
        "colab_type": "code",
        "colab": {}
      },
      "source": [
        "#load VADER\n",
        "analyzer = SentimentIntensityAnalyzer()\n",
        "#Add VADER metrics to dataframe"
      ],
      "execution_count": null,
      "outputs": []
    },
    {
      "cell_type": "code",
      "metadata": {
        "id": "MEhZgSe-SrCG",
        "colab_type": "code",
        "colab": {
          "base_uri": "https://localhost:8080/",
          "height": 722
        },
        "outputId": "5ea246b9-1d6b-4043-bf82-96799c02203f"
      },
      "source": [
        "sent3['compound'] = [analyzer.polarity_scores(v)['compound'] for v in sent3['text']]\n",
        "sent3['neg'] = [analyzer.polarity_scores(v)['neg'] for v in sent3['text']]\n",
        "sent3['neu'] = [analyzer.polarity_scores(v)['neu'] for v in sent3['text']]\n",
        "sent3['pos'] = [analyzer.polarity_scores(v)['pos'] for v in sent3['text']]\n",
        "\n",
        "sent3.head(3)"
      ],
      "execution_count": null,
      "outputs": [
        {
          "output_type": "stream",
          "text": [
            "/usr/local/lib/python3.6/dist-packages/ipykernel_launcher.py:1: SettingWithCopyWarning: \n",
            "A value is trying to be set on a copy of a slice from a DataFrame.\n",
            "Try using .loc[row_indexer,col_indexer] = value instead\n",
            "\n",
            "See the caveats in the documentation: https://pandas.pydata.org/pandas-docs/stable/user_guide/indexing.html#returning-a-view-versus-a-copy\n",
            "  \"\"\"Entry point for launching an IPython kernel.\n",
            "/usr/local/lib/python3.6/dist-packages/ipykernel_launcher.py:2: SettingWithCopyWarning: \n",
            "A value is trying to be set on a copy of a slice from a DataFrame.\n",
            "Try using .loc[row_indexer,col_indexer] = value instead\n",
            "\n",
            "See the caveats in the documentation: https://pandas.pydata.org/pandas-docs/stable/user_guide/indexing.html#returning-a-view-versus-a-copy\n",
            "  \n",
            "/usr/local/lib/python3.6/dist-packages/ipykernel_launcher.py:3: SettingWithCopyWarning: \n",
            "A value is trying to be set on a copy of a slice from a DataFrame.\n",
            "Try using .loc[row_indexer,col_indexer] = value instead\n",
            "\n",
            "See the caveats in the documentation: https://pandas.pydata.org/pandas-docs/stable/user_guide/indexing.html#returning-a-view-versus-a-copy\n",
            "  This is separate from the ipykernel package so we can avoid doing imports until\n",
            "/usr/local/lib/python3.6/dist-packages/ipykernel_launcher.py:4: SettingWithCopyWarning: \n",
            "A value is trying to be set on a copy of a slice from a DataFrame.\n",
            "Try using .loc[row_indexer,col_indexer] = value instead\n",
            "\n",
            "See the caveats in the documentation: https://pandas.pydata.org/pandas-docs/stable/user_guide/indexing.html#returning-a-view-versus-a-copy\n",
            "  after removing the cwd from sys.path.\n"
          ],
          "name": "stderr"
        },
        {
          "output_type": "execute_result",
          "data": {
            "text/html": [
              "<div>\n",
              "<style scoped>\n",
              "    .dataframe tbody tr th:only-of-type {\n",
              "        vertical-align: middle;\n",
              "    }\n",
              "\n",
              "    .dataframe tbody tr th {\n",
              "        vertical-align: top;\n",
              "    }\n",
              "\n",
              "    .dataframe thead th {\n",
              "        text-align: right;\n",
              "    }\n",
              "</style>\n",
              "<table border=\"1\" class=\"dataframe\">\n",
              "  <thead>\n",
              "    <tr style=\"text-align: right;\">\n",
              "      <th></th>\n",
              "      <th>review_id</th>\n",
              "      <th>business_id</th>\n",
              "      <th>reviews_stars</th>\n",
              "      <th>date</th>\n",
              "      <th>text</th>\n",
              "      <th>compound</th>\n",
              "      <th>neg</th>\n",
              "      <th>neu</th>\n",
              "      <th>pos</th>\n",
              "    </tr>\n",
              "  </thead>\n",
              "  <tbody>\n",
              "    <tr>\n",
              "      <th>300001</th>\n",
              "      <td>QtdfgzU2QWqkqqnSQSJsCg</td>\n",
              "      <td>bjJcDCx5uMUr89nxBdGizw</td>\n",
              "      <td>5.0</td>\n",
              "      <td>2017-11-26 18:06:00</td>\n",
              "      <td>This place is legit The breakfast was amazing. The staff so attentive and on top of it. Thanks Brittany</td>\n",
              "      <td>0.8176</td>\n",
              "      <td>0.0</td>\n",
              "      <td>0.653</td>\n",
              "      <td>0.347</td>\n",
              "    </tr>\n",
              "    <tr>\n",
              "      <th>300002</th>\n",
              "      <td>YA_UscHihJW0Z7YSvPt_9A</td>\n",
              "      <td>bjJcDCx5uMUr89nxBdGizw</td>\n",
              "      <td>5.0</td>\n",
              "      <td>2018-03-28 20:52:58</td>\n",
              "      <td>Awesome service and tasty food. Husband had the Hawaiian pork chops and egg breakfast. I had the waffle with eggs  bacon and added strawberries  bananas to the waffle. The waffle is so good it didnt need the fruit. Next time Im having it plain. Staff are genuinely nice and inviting. Definitely worth giving this place your business.</td>\n",
              "      <td>0.9580</td>\n",
              "      <td>0.0</td>\n",
              "      <td>0.715</td>\n",
              "      <td>0.285</td>\n",
              "    </tr>\n",
              "    <tr>\n",
              "      <th>300003</th>\n",
              "      <td>10gJft08qwWrVXm5DgeA3w</td>\n",
              "      <td>bjJcDCx5uMUr89nxBdGizw</td>\n",
              "      <td>5.0</td>\n",
              "      <td>2018-03-22 17:01:43</td>\n",
              "      <td>WOW Just WOW  This place knocks it outta the park.\\nSOOOOO lucky to have this family owned joint here in Henderson-</td>\n",
              "      <td>0.9164</td>\n",
              "      <td>0.0</td>\n",
              "      <td>0.603</td>\n",
              "      <td>0.397</td>\n",
              "    </tr>\n",
              "  </tbody>\n",
              "</table>\n",
              "</div>"
            ],
            "text/plain": [
              "                     review_id             business_id  reviews_stars  \\\n",
              "300001  QtdfgzU2QWqkqqnSQSJsCg  bjJcDCx5uMUr89nxBdGizw            5.0   \n",
              "300002  YA_UscHihJW0Z7YSvPt_9A  bjJcDCx5uMUr89nxBdGizw            5.0   \n",
              "300003  10gJft08qwWrVXm5DgeA3w  bjJcDCx5uMUr89nxBdGizw            5.0   \n",
              "\n",
              "                       date  \\\n",
              "300001  2017-11-26 18:06:00   \n",
              "300002  2018-03-28 20:52:58   \n",
              "300003  2018-03-22 17:01:43   \n",
              "\n",
              "                                                                                                                                                                                                                                                                                                                                                 text  \\\n",
              "300001                                                                                                                                                                                                                                        This place is legit The breakfast was amazing. The staff so attentive and on top of it. Thanks Brittany   \n",
              "300002  Awesome service and tasty food. Husband had the Hawaiian pork chops and egg breakfast. I had the waffle with eggs  bacon and added strawberries  bananas to the waffle. The waffle is so good it didnt need the fruit. Next time Im having it plain. Staff are genuinely nice and inviting. Definitely worth giving this place your business.   \n",
              "300003                                                                                                                                                                                                                            WOW Just WOW  This place knocks it outta the park.\\nSOOOOO lucky to have this family owned joint here in Henderson-   \n",
              "\n",
              "        compound  neg    neu    pos  \n",
              "300001    0.8176  0.0  0.653  0.347  \n",
              "300002    0.9580  0.0  0.715  0.285  \n",
              "300003    0.9164  0.0  0.603  0.397  "
            ]
          },
          "metadata": {
            "tags": []
          },
          "execution_count": 16
        }
      ]
    },
    {
      "cell_type": "code",
      "metadata": {
        "id": "x1PwYyVxdA7b",
        "colab_type": "code",
        "colab": {
          "base_uri": "https://localhost:8080/",
          "height": 135
        },
        "outputId": "d48b53d3-0b6b-4c72-cfb7-3f2727cf5217"
      },
      "source": [
        "sent3['text_length'] = sent3['text'].str.len()"
      ],
      "execution_count": null,
      "outputs": [
        {
          "output_type": "stream",
          "text": [
            "/usr/local/lib/python3.6/dist-packages/ipykernel_launcher.py:1: SettingWithCopyWarning: \n",
            "A value is trying to be set on a copy of a slice from a DataFrame.\n",
            "Try using .loc[row_indexer,col_indexer] = value instead\n",
            "\n",
            "See the caveats in the documentation: https://pandas.pydata.org/pandas-docs/stable/user_guide/indexing.html#returning-a-view-versus-a-copy\n",
            "  \"\"\"Entry point for launching an IPython kernel.\n"
          ],
          "name": "stderr"
        }
      ]
    },
    {
      "cell_type": "code",
      "metadata": {
        "id": "TmEslzNbdBFZ",
        "colab_type": "code",
        "colab": {}
      },
      "source": [
        "columns = ['review_id', 'business_id', 'compound', 'text']"
      ],
      "execution_count": null,
      "outputs": []
    },
    {
      "cell_type": "code",
      "metadata": {
        "id": "_JWYx9v4dBKi",
        "colab_type": "code",
        "colab": {}
      },
      "source": [
        "df = sent3[columns]"
      ],
      "execution_count": null,
      "outputs": []
    },
    {
      "cell_type": "code",
      "metadata": {
        "id": "3mgBq-A5lv-h",
        "colab_type": "code",
        "colab": {
          "base_uri": "https://localhost:8080/",
          "height": 525
        },
        "outputId": "4b4cefbf-1b18-4718-d960-1986c5504819"
      },
      "source": [
        "def tokenizer(doc):\n",
        "     return [token for token in simple_preprocess(doc) \n",
        "             if token not in STOPWORDS]\n",
        "\n",
        "\n",
        "def related_to_food(doc):\n",
        "  word_similarity_list = []\n",
        "  for review_word in doc:\n",
        "    syns = wordnet.synsets(review_word) \n",
        "    if len(syns) > 0:\n",
        "      w1 = wordnet.synset(syns[0].name()) # n here denotes the tag noun\n",
        "      w2 = wordnet.synset('food.n.01') \n",
        "      word_similarity_score = w1.wup_similarity(w2)\n",
        "      if word_similarity_score !=None and word_similarity_score > 0.5:\n",
        "        word_similarity_list.append(review_word)\n",
        "  return word_similarity_list\n",
        "\n",
        "\n",
        "def related_to_service(doc):\n",
        "  word_similarity_list = []\n",
        "  for review_word in doc:\n",
        "    syns = wordnet.synsets(review_word) \n",
        "    if len(syns) > 0:\n",
        "      w1 = wordnet.synset(syns[0].name()) # n here denotes the tag noun\n",
        "      w2 = wordnet.synset('service.n.01') \n",
        "      word_similarity_score = w1.wup_similarity(w2)\n",
        "      if word_similarity_score !=None and word_similarity_score > 0.5:\n",
        "        word_similarity_list.append(review_word)\n",
        "  return word_similarity_list\n",
        "\n",
        "\n",
        "def related_to_speed(doc):\n",
        "  word_similarity_list = []\n",
        "  for review_word in doc:\n",
        "    syns = wordnet.synsets(review_word) \n",
        "    if len(syns) > 0:\n",
        "      w1 = wordnet.synset(syns[0].name()) # n here denotes the tag noun\n",
        "      w2 = wordnet.synset('speed.n.01') \n",
        "      word_similarity_score = w1.wup_similarity(w2)\n",
        "      if word_similarity_score !=None and word_similarity_score > 0.5:\n",
        "        word_similarity_list.append(review_word)\n",
        "  return word_similarity_list\n",
        "\n",
        "def related_to_price(doc):\n",
        "  word_similarity_list = []\n",
        "  for review_word in doc:\n",
        "    syns = wordnet.synsets(review_word) \n",
        "    if len(syns) > 0:\n",
        "      w1 = wordnet.synset(syns[0].name()) # n here denotes the tag noun\n",
        "      w2 = wordnet.synset('price.n.01') \n",
        "      word_similarity_score = w1.wup_similarity(w2)\n",
        "      if word_similarity_score !=None and word_similarity_score > 0.5:\n",
        "        word_similarity_list.append(review_word)\n",
        "  return word_similarity_list\n",
        "\n",
        "\n",
        "def related_to_ambience(doc):\n",
        "  word_similarity_list = []\n",
        "  for review_word in doc:\n",
        "    syns = wordnet.synsets(review_word) \n",
        "    if len(syns) > 0:\n",
        "      w1 = wordnet.synset(syns[0].name()) # n here denotes the tag noun\n",
        "      w2 = wordnet.synset('ambience.n.01') \n",
        "      word_similarity_score = w1.wup_similarity(w2)\n",
        "      if word_similarity_score !=None and word_similarity_score > 0.5:\n",
        "        word_similarity_list.append(review_word)\n",
        "  return word_similarity_list\n",
        "\n",
        "\n",
        "def related_to_experience(doc):\n",
        "  word_similarity_list = []\n",
        "  for review_word in doc:\n",
        "    syns = wordnet.synsets(review_word) \n",
        "    if len(syns) > 0:\n",
        "      w1 = wordnet.synset(syns[0].name()) # n here denotes the tag noun\n",
        "      w2 = wordnet.synset('experience.n.01') \n",
        "      word_similarity_score = w1.wup_similarity(w2)\n",
        "      if word_similarity_score !=None and word_similarity_score > 0.5:\n",
        "        word_similarity_list.append(review_word)\n",
        "  return word_similarity_list\n",
        "\n",
        "def extract_subject_related_words():\n",
        "  df['text'] = df['text'].apply(lambda x:\" \".join(re.findall(\"[a-zA-Z]+\", x)))\n",
        "  df['cleaned'] = df['text'].apply(tokenizer)\n",
        "  df['words_related_to_food'] = df['cleaned'].apply(related_to_food)\n",
        "  df['words_related_to_service'] = df['cleaned'].apply(related_to_service)\n",
        "  df['words_related_to_speed'] = df['cleaned'].apply(related_to_speed)\n",
        "  df['words_related_to_price'] = df['cleaned'].apply(related_to_price)\n",
        "  df['words_related_to_ambience'] = df['cleaned'].apply(related_to_ambience)\n",
        "  df['words_related_to_experience'] = df['cleaned'].apply(related_to_experience)\n",
        "\n",
        "extract_subject_related_words()"
      ],
      "execution_count": null,
      "outputs": [
        {
          "output_type": "stream",
          "text": [
            "/usr/local/lib/python3.6/dist-packages/ipykernel_launcher.py:83: SettingWithCopyWarning: \n",
            "A value is trying to be set on a copy of a slice from a DataFrame.\n",
            "Try using .loc[row_indexer,col_indexer] = value instead\n",
            "\n",
            "See the caveats in the documentation: https://pandas.pydata.org/pandas-docs/stable/user_guide/indexing.html#returning-a-view-versus-a-copy\n",
            "/usr/local/lib/python3.6/dist-packages/ipykernel_launcher.py:84: SettingWithCopyWarning: \n",
            "A value is trying to be set on a copy of a slice from a DataFrame.\n",
            "Try using .loc[row_indexer,col_indexer] = value instead\n",
            "\n",
            "See the caveats in the documentation: https://pandas.pydata.org/pandas-docs/stable/user_guide/indexing.html#returning-a-view-versus-a-copy\n",
            "/usr/local/lib/python3.6/dist-packages/ipykernel_launcher.py:85: SettingWithCopyWarning: \n",
            "A value is trying to be set on a copy of a slice from a DataFrame.\n",
            "Try using .loc[row_indexer,col_indexer] = value instead\n",
            "\n",
            "See the caveats in the documentation: https://pandas.pydata.org/pandas-docs/stable/user_guide/indexing.html#returning-a-view-versus-a-copy\n",
            "/usr/local/lib/python3.6/dist-packages/ipykernel_launcher.py:86: SettingWithCopyWarning: \n",
            "A value is trying to be set on a copy of a slice from a DataFrame.\n",
            "Try using .loc[row_indexer,col_indexer] = value instead\n",
            "\n",
            "See the caveats in the documentation: https://pandas.pydata.org/pandas-docs/stable/user_guide/indexing.html#returning-a-view-versus-a-copy\n",
            "/usr/local/lib/python3.6/dist-packages/ipykernel_launcher.py:87: SettingWithCopyWarning: \n",
            "A value is trying to be set on a copy of a slice from a DataFrame.\n",
            "Try using .loc[row_indexer,col_indexer] = value instead\n",
            "\n",
            "See the caveats in the documentation: https://pandas.pydata.org/pandas-docs/stable/user_guide/indexing.html#returning-a-view-versus-a-copy\n",
            "/usr/local/lib/python3.6/dist-packages/ipykernel_launcher.py:88: SettingWithCopyWarning: \n",
            "A value is trying to be set on a copy of a slice from a DataFrame.\n",
            "Try using .loc[row_indexer,col_indexer] = value instead\n",
            "\n",
            "See the caveats in the documentation: https://pandas.pydata.org/pandas-docs/stable/user_guide/indexing.html#returning-a-view-versus-a-copy\n"
          ],
          "name": "stderr"
        }
      ]
    },
    {
      "cell_type": "code",
      "metadata": {
        "id": "XErtN81O2Fnt",
        "colab_type": "code",
        "colab": {
          "base_uri": "https://localhost:8080/",
          "height": 1000
        },
        "outputId": "a20d3ecb-6a9c-43de-dcfa-83bfba834e1c"
      },
      "source": [
        "df.head()"
      ],
      "execution_count": null,
      "outputs": [
        {
          "output_type": "execute_result",
          "data": {
            "text/html": [
              "<div>\n",
              "<style scoped>\n",
              "    .dataframe tbody tr th:only-of-type {\n",
              "        vertical-align: middle;\n",
              "    }\n",
              "\n",
              "    .dataframe tbody tr th {\n",
              "        vertical-align: top;\n",
              "    }\n",
              "\n",
              "    .dataframe thead th {\n",
              "        text-align: right;\n",
              "    }\n",
              "</style>\n",
              "<table border=\"1\" class=\"dataframe\">\n",
              "  <thead>\n",
              "    <tr style=\"text-align: right;\">\n",
              "      <th></th>\n",
              "      <th>review_id</th>\n",
              "      <th>business_id</th>\n",
              "      <th>compound</th>\n",
              "      <th>text</th>\n",
              "      <th>cleaned</th>\n",
              "      <th>words_related_to_food</th>\n",
              "      <th>words_related_to_service</th>\n",
              "      <th>words_related_to_speed</th>\n",
              "      <th>words_related_to_price</th>\n",
              "      <th>words_related_to_ambience</th>\n",
              "      <th>words_related_to_experience</th>\n",
              "    </tr>\n",
              "  </thead>\n",
              "  <tbody>\n",
              "    <tr>\n",
              "      <th>300001</th>\n",
              "      <td>QtdfgzU2QWqkqqnSQSJsCg</td>\n",
              "      <td>bjJcDCx5uMUr89nxBdGizw</td>\n",
              "      <td>0.8176</td>\n",
              "      <td>This place is legit The breakfast was amazing The staff so attentive and on top of it Thanks Brittany</td>\n",
              "      <td>[place, legit, breakfast, amazing, staff, attentive, thanks, brittany]</td>\n",
              "      <td>[breakfast]</td>\n",
              "      <td>[]</td>\n",
              "      <td>[]</td>\n",
              "      <td>[]</td>\n",
              "      <td>[]</td>\n",
              "      <td>[]</td>\n",
              "    </tr>\n",
              "    <tr>\n",
              "      <th>300002</th>\n",
              "      <td>YA_UscHihJW0Z7YSvPt_9A</td>\n",
              "      <td>bjJcDCx5uMUr89nxBdGizw</td>\n",
              "      <td>0.9580</td>\n",
              "      <td>Awesome service and tasty food Husband had the Hawaiian pork chops and egg breakfast I had the waffle with eggs bacon and added strawberries bananas to the waffle The waffle is so good it didnt need the fruit Next time Im having it plain Staff are genuinely nice and inviting Definitely worth giving this place your business</td>\n",
              "      <td>[awesome, service, tasty, food, husband, hawaiian, pork, chops, egg, breakfast, waffle, eggs, bacon, added, strawberries, bananas, waffle, waffle, good, didnt, need, fruit, time, im, having, plain, staff, genuinely, nice, inviting, definitely, worth, giving, place, business]</td>\n",
              "      <td>[food, breakfast, eggs]</td>\n",
              "      <td>[service, time, giving]</td>\n",
              "      <td>[]</td>\n",
              "      <td>[good]</td>\n",
              "      <td>[need]</td>\n",
              "      <td>[]</td>\n",
              "    </tr>\n",
              "    <tr>\n",
              "      <th>300003</th>\n",
              "      <td>10gJft08qwWrVXm5DgeA3w</td>\n",
              "      <td>bjJcDCx5uMUr89nxBdGizw</td>\n",
              "      <td>0.9164</td>\n",
              "      <td>WOW Just WOW This place knocks it outta the park SOOOOO lucky to have this family owned joint here in Henderson</td>\n",
              "      <td>[wow, wow, place, knocks, outta, park, sooooo, lucky, family, owned, joint, henderson]</td>\n",
              "      <td>[]</td>\n",
              "      <td>[knocks]</td>\n",
              "      <td>[]</td>\n",
              "      <td>[]</td>\n",
              "      <td>[]</td>\n",
              "      <td>[]</td>\n",
              "    </tr>\n",
              "    <tr>\n",
              "      <th>300004</th>\n",
              "      <td>8QoGf7QsDVOjkRHOfewY1w</td>\n",
              "      <td>bjJcDCx5uMUr89nxBdGizw</td>\n",
              "      <td>0.8906</td>\n",
              "      <td>My husband and I came here for breakfast and seriously was the best experience Everyone was extremely nice and the food blew us away Came out fast and extremely delicious Oh and the caramel bananas were bomb com</td>\n",
              "      <td>[husband, came, breakfast, seriously, best, experience, extremely, nice, food, blew, away, came, fast, extremely, delicious, oh, caramel, bananas, bomb, com]</td>\n",
              "      <td>[breakfast, food, caramel]</td>\n",
              "      <td>[best, fast]</td>\n",
              "      <td>[]</td>\n",
              "      <td>[]</td>\n",
              "      <td>[]</td>\n",
              "      <td>[experience]</td>\n",
              "    </tr>\n",
              "    <tr>\n",
              "      <th>300005</th>\n",
              "      <td>nvX0xUUgJhkoG9hrYJEyLQ</td>\n",
              "      <td>bjJcDCx5uMUr89nxBdGizw</td>\n",
              "      <td>0.9937</td>\n",
              "      <td>Loved the first breakfast last week and have been back twice more to try additional breakfast entrees The Belgian waffle was outstanding and the chili relleno and eggs were super delicious The service quality of food and ambiance is very consistent I am anxious to try the lunch menu soon The best breakfast restaurant I have been to since moving here years ago The d cor is super awesome along with the friendly service from Gabriela I felt like I was back home in downtown Chicago This place is clean with a friendly staff Breakfast and Lunch served all day Everything is fresh and delicious Finally found a place that can make hash browns the right way Biscuits and gravy were outstanding I plan on going back often</td>\n",
              "      <td>[loved, breakfast, week, twice, try, additional, breakfast, entrees, belgian, waffle, outstanding, chili, relleno, eggs, super, delicious, service, quality, food, ambiance, consistent, anxious, try, lunch, menu, soon, best, breakfast, restaurant, moving, years, ago, cor, super, awesome, friendly, service, gabriela, felt, like, home, downtown, chicago, place, clean, friendly, staff, breakfast, lunch, served, day, fresh, delicious, finally, place, hash, browns, right, way, biscuits, gravy, outstanding, plan, going]</td>\n",
              "      <td>[breakfast, breakfast, entrees, chili, eggs, food, lunch, breakfast, breakfast, lunch, hash, biscuits, gravy]</td>\n",
              "      <td>[try, service, try, best, service, clean, going]</td>\n",
              "      <td>[]</td>\n",
              "      <td>[quality]</td>\n",
              "      <td>[quality, ambiance, way]</td>\n",
              "      <td>[like, right, plan]</td>\n",
              "    </tr>\n",
              "  </tbody>\n",
              "</table>\n",
              "</div>"
            ],
            "text/plain": [
              "                     review_id             business_id  compound  \\\n",
              "300001  QtdfgzU2QWqkqqnSQSJsCg  bjJcDCx5uMUr89nxBdGizw    0.8176   \n",
              "300002  YA_UscHihJW0Z7YSvPt_9A  bjJcDCx5uMUr89nxBdGizw    0.9580   \n",
              "300003  10gJft08qwWrVXm5DgeA3w  bjJcDCx5uMUr89nxBdGizw    0.9164   \n",
              "300004  8QoGf7QsDVOjkRHOfewY1w  bjJcDCx5uMUr89nxBdGizw    0.8906   \n",
              "300005  nvX0xUUgJhkoG9hrYJEyLQ  bjJcDCx5uMUr89nxBdGizw    0.9937   \n",
              "\n",
              "                                                                                                                                                                                                                                                                                                                                                                                                                                                                                                                                                                                                                                                                                                                                                  text  \\\n",
              "300001                                                                                                                                                                                                                                                                                                                                                                                                                                                                                                                                                                                                                                           This place is legit The breakfast was amazing The staff so attentive and on top of it Thanks Brittany   \n",
              "300002                                                                                                                                                                                                                                                                                                                                                                                                            Awesome service and tasty food Husband had the Hawaiian pork chops and egg breakfast I had the waffle with eggs bacon and added strawberries bananas to the waffle The waffle is so good it didnt need the fruit Next time Im having it plain Staff are genuinely nice and inviting Definitely worth giving this place your business   \n",
              "300003                                                                                                                                                                                                                                                                                                                                                                                                                                                                                                                                                                                                                                 WOW Just WOW This place knocks it outta the park SOOOOO lucky to have this family owned joint here in Henderson   \n",
              "300004                                                                                                                                                                                                                                                                                                                                                                                                                                                                                                                             My husband and I came here for breakfast and seriously was the best experience Everyone was extremely nice and the food blew us away Came out fast and extremely delicious Oh and the caramel bananas were bomb com   \n",
              "300005  Loved the first breakfast last week and have been back twice more to try additional breakfast entrees The Belgian waffle was outstanding and the chili relleno and eggs were super delicious The service quality of food and ambiance is very consistent I am anxious to try the lunch menu soon The best breakfast restaurant I have been to since moving here years ago The d cor is super awesome along with the friendly service from Gabriela I felt like I was back home in downtown Chicago This place is clean with a friendly staff Breakfast and Lunch served all day Everything is fresh and delicious Finally found a place that can make hash browns the right way Biscuits and gravy were outstanding I plan on going back often   \n",
              "\n",
              "                                                                                                                                                                                                                                                                                                                                                                                                                                                                                                                                       cleaned  \\\n",
              "300001                                                                                                                                                                                                                                                                                                                                                                                                                                                                  [place, legit, breakfast, amazing, staff, attentive, thanks, brittany]   \n",
              "300002                                                                                                                                                                                                                                                     [awesome, service, tasty, food, husband, hawaiian, pork, chops, egg, breakfast, waffle, eggs, bacon, added, strawberries, bananas, waffle, waffle, good, didnt, need, fruit, time, im, having, plain, staff, genuinely, nice, inviting, definitely, worth, giving, place, business]   \n",
              "300003                                                                                                                                                                                                                                                                                                                                                                                                                                                  [wow, wow, place, knocks, outta, park, sooooo, lucky, family, owned, joint, henderson]   \n",
              "300004                                                                                                                                                                                                                                                                                                                                                                           [husband, came, breakfast, seriously, best, experience, extremely, nice, food, blew, away, came, fast, extremely, delicious, oh, caramel, bananas, bomb, com]   \n",
              "300005  [loved, breakfast, week, twice, try, additional, breakfast, entrees, belgian, waffle, outstanding, chili, relleno, eggs, super, delicious, service, quality, food, ambiance, consistent, anxious, try, lunch, menu, soon, best, breakfast, restaurant, moving, years, ago, cor, super, awesome, friendly, service, gabriela, felt, like, home, downtown, chicago, place, clean, friendly, staff, breakfast, lunch, served, day, fresh, delicious, finally, place, hash, browns, right, way, biscuits, gravy, outstanding, plan, going]   \n",
              "\n",
              "                                                                                                words_related_to_food  \\\n",
              "300001                                                                                                    [breakfast]   \n",
              "300002                                                                                        [food, breakfast, eggs]   \n",
              "300003                                                                                                             []   \n",
              "300004                                                                                     [breakfast, food, caramel]   \n",
              "300005  [breakfast, breakfast, entrees, chili, eggs, food, lunch, breakfast, breakfast, lunch, hash, biscuits, gravy]   \n",
              "\n",
              "                                words_related_to_service  \\\n",
              "300001                                                []   \n",
              "300002                           [service, time, giving]   \n",
              "300003                                          [knocks]   \n",
              "300004                                      [best, fast]   \n",
              "300005  [try, service, try, best, service, clean, going]   \n",
              "\n",
              "       words_related_to_speed words_related_to_price  \\\n",
              "300001                     []                     []   \n",
              "300002                     []                 [good]   \n",
              "300003                     []                     []   \n",
              "300004                     []                     []   \n",
              "300005                     []              [quality]   \n",
              "\n",
              "       words_related_to_ambience words_related_to_experience  \n",
              "300001                        []                          []  \n",
              "300002                    [need]                          []  \n",
              "300003                        []                          []  \n",
              "300004                        []                [experience]  \n",
              "300005  [quality, ambiance, way]         [like, right, plan]  "
            ]
          },
          "metadata": {
            "tags": []
          },
          "execution_count": 22
        }
      ]
    },
    {
      "cell_type": "code",
      "metadata": {
        "id": "UYA0P-yEdBPL",
        "colab_type": "code",
        "colab": {}
      },
      "source": [
        "def sentiment_score(sentence):\n",
        "  # Create a SentimentIntensityAnalyzer object. \n",
        "  sid_obj = SentimentIntensityAnalyzer()\n",
        "  # polarity_scores method of SentimentIntensityAnalyzer oject gives a sentiment dictionary. which contains pos, neg, neu, and compound scores. \n",
        "  sentiment_dict = sid_obj.polarity_scores(sentence)\n",
        "  return sentiment_dict\n",
        "\n",
        "def get_sentiment(review_list):\n",
        "  all_sentiments = []\n",
        "  compounds = []\n",
        "  if len(review_list) > 0:\n",
        "    for review in review_list:\n",
        "      score = sentiment_score(review)\n",
        "      all_sentiments.append(score)\n",
        "\n",
        "  if len(all_sentiments) > 0:\n",
        "    for sentiment_dict in all_sentiments:\n",
        "      compound = sentiment_dict['compound']\n",
        "      compounds.append(compound)\n",
        "\n",
        "  if len(compounds) > 0:\n",
        "    avg_sentiment = sum(compounds) / len(compounds)\n",
        "\t\n",
        "  else:\n",
        "    avg_sentiment = None\n",
        "    \n",
        "  return avg_sentiment\n",
        "\n",
        "def get_subject_review_scores(review_list):\n",
        "  if len(review_list) > 0:\n",
        "    sub_sentiment_score = round((get_sentiment(review_list))*150)\n",
        "    if sub_sentiment_score < 0:\n",
        "      sub_sentiment_score = 0\n",
        "    else:\n",
        "      sub_sentiment_score = 75 #leaving at 75 to give neutral score\n",
        "    return sub_sentiment_score\n",
        "\n",
        "def sentimental_analysis(df):\n",
        "  # Create a SentimentIntensityAnalyzer object. \n",
        "  sid_obj = SentimentIntensityAnalyzer()\n",
        "  # extract_subject_related_words\n",
        "  df['text'] = df['text'].apply(lambda x:\" \".join(re.findall(\"[a-zA-Z]+\", x)))\n",
        "  df['cleaned'] = df['text'].apply(tokenizer)\n",
        "\n",
        "  df['words_related_to_food'] = df['cleaned'].apply(related_to_food)\n",
        "  df['food_review_list'] = df[df['words_related_to_food'].map(len) > 1]['text'].tolist()\n",
        "  df['food_score'] = df['food_review_list'].apply(get_subject_review_scores)\n",
        "\n",
        "  df['words_related_to_service'] = df['cleaned'].apply(related_to_service)\n",
        "  df['service_review_list'] = df[df['words_related_to_service'].map(len) > 1]['text'].tolist()\n",
        "  df['service_score'] = df['service_review_list'].apply(get_subject_review_scores)\n",
        "\n",
        "  df['words_related_to_speed'] = df['cleaned'].apply(related_to_service)\n",
        "  df['speed_review_list'] = df[df['words_related_to_speed'].map(len) > 1]['text'].tolist()\n",
        "  df['speed_score'] = df['speed_review_list'].apply(get_subject_review_scores)\n",
        "\n",
        "  df['words_related_to_price'] = df['cleaned'].apply(related_to_service)\n",
        "  df['price_review_list'] = df[df['words_related_to_price'].map(len) > 1]['text'].tolist()\n",
        "  df['price_score'] = df['price_review_list'].apply(get_subject_review_scores)\n",
        "\n",
        "  df['words_related_to_ambience'] = df['cleaned'].apply(related_to_service)\n",
        "  df['ambience_review_list'] = df[df['words_related_to_ambience'].map(len) > 1]['text'].tolist()\n",
        "  df['ambience_score'] = df['ambience_review_list'].apply(get_subject_review_scores)\n",
        "\n",
        "  df['words_related_to_experience'] = df['cleaned'].apply(related_to_service)\n",
        "  df['experience_review_list'] = df[df['words_related_to_experience'].map(len) > 1]['text'].tolist()\n",
        "  df['experience_score'] = df['experience_review_list'].apply(get_subject_review_scores)\n",
        "  \n",
        "  return df\n"
      ],
      "execution_count": null,
      "outputs": []
    },
    {
      "cell_type": "code",
      "metadata": {
        "id": "Ln1aGP8W5xn3",
        "colab_type": "code",
        "colab": {
          "base_uri": "https://localhost:8080/",
          "height": 1000
        },
        "outputId": "f6533b17-6f0d-4e32-b72b-d52e544f357d"
      },
      "source": [
        "df.head()"
      ],
      "execution_count": null,
      "outputs": [
        {
          "output_type": "execute_result",
          "data": {
            "text/html": [
              "<div>\n",
              "<style scoped>\n",
              "    .dataframe tbody tr th:only-of-type {\n",
              "        vertical-align: middle;\n",
              "    }\n",
              "\n",
              "    .dataframe tbody tr th {\n",
              "        vertical-align: top;\n",
              "    }\n",
              "\n",
              "    .dataframe thead th {\n",
              "        text-align: right;\n",
              "    }\n",
              "</style>\n",
              "<table border=\"1\" class=\"dataframe\">\n",
              "  <thead>\n",
              "    <tr style=\"text-align: right;\">\n",
              "      <th></th>\n",
              "      <th>review_id</th>\n",
              "      <th>business_id</th>\n",
              "      <th>compound</th>\n",
              "      <th>text</th>\n",
              "      <th>cleaned</th>\n",
              "      <th>words_related_to_food</th>\n",
              "      <th>words_related_to_service</th>\n",
              "      <th>words_related_to_speed</th>\n",
              "      <th>words_related_to_price</th>\n",
              "      <th>words_related_to_ambience</th>\n",
              "      <th>words_related_to_experience</th>\n",
              "    </tr>\n",
              "  </thead>\n",
              "  <tbody>\n",
              "    <tr>\n",
              "      <th>300001</th>\n",
              "      <td>QtdfgzU2QWqkqqnSQSJsCg</td>\n",
              "      <td>bjJcDCx5uMUr89nxBdGizw</td>\n",
              "      <td>0.8176</td>\n",
              "      <td>This place is legit The breakfast was amazing The staff so attentive and on top of it Thanks Brittany</td>\n",
              "      <td>[place, legit, breakfast, amazing, staff, attentive, thanks, brittany]</td>\n",
              "      <td>[breakfast]</td>\n",
              "      <td>[]</td>\n",
              "      <td>[]</td>\n",
              "      <td>[]</td>\n",
              "      <td>[]</td>\n",
              "      <td>[]</td>\n",
              "    </tr>\n",
              "    <tr>\n",
              "      <th>300002</th>\n",
              "      <td>YA_UscHihJW0Z7YSvPt_9A</td>\n",
              "      <td>bjJcDCx5uMUr89nxBdGizw</td>\n",
              "      <td>0.9580</td>\n",
              "      <td>Awesome service and tasty food Husband had the Hawaiian pork chops and egg breakfast I had the waffle with eggs bacon and added strawberries bananas to the waffle The waffle is so good it didnt need the fruit Next time Im having it plain Staff are genuinely nice and inviting Definitely worth giving this place your business</td>\n",
              "      <td>[awesome, service, tasty, food, husband, hawaiian, pork, chops, egg, breakfast, waffle, eggs, bacon, added, strawberries, bananas, waffle, waffle, good, didnt, need, fruit, time, im, having, plain, staff, genuinely, nice, inviting, definitely, worth, giving, place, business]</td>\n",
              "      <td>[food, breakfast, eggs]</td>\n",
              "      <td>[service, time, giving]</td>\n",
              "      <td>[]</td>\n",
              "      <td>[good]</td>\n",
              "      <td>[need]</td>\n",
              "      <td>[]</td>\n",
              "    </tr>\n",
              "    <tr>\n",
              "      <th>300003</th>\n",
              "      <td>10gJft08qwWrVXm5DgeA3w</td>\n",
              "      <td>bjJcDCx5uMUr89nxBdGizw</td>\n",
              "      <td>0.9164</td>\n",
              "      <td>WOW Just WOW This place knocks it outta the park SOOOOO lucky to have this family owned joint here in Henderson</td>\n",
              "      <td>[wow, wow, place, knocks, outta, park, sooooo, lucky, family, owned, joint, henderson]</td>\n",
              "      <td>[]</td>\n",
              "      <td>[knocks]</td>\n",
              "      <td>[]</td>\n",
              "      <td>[]</td>\n",
              "      <td>[]</td>\n",
              "      <td>[]</td>\n",
              "    </tr>\n",
              "    <tr>\n",
              "      <th>300004</th>\n",
              "      <td>8QoGf7QsDVOjkRHOfewY1w</td>\n",
              "      <td>bjJcDCx5uMUr89nxBdGizw</td>\n",
              "      <td>0.8906</td>\n",
              "      <td>My husband and I came here for breakfast and seriously was the best experience Everyone was extremely nice and the food blew us away Came out fast and extremely delicious Oh and the caramel bananas were bomb com</td>\n",
              "      <td>[husband, came, breakfast, seriously, best, experience, extremely, nice, food, blew, away, came, fast, extremely, delicious, oh, caramel, bananas, bomb, com]</td>\n",
              "      <td>[breakfast, food, caramel]</td>\n",
              "      <td>[best, fast]</td>\n",
              "      <td>[]</td>\n",
              "      <td>[]</td>\n",
              "      <td>[]</td>\n",
              "      <td>[experience]</td>\n",
              "    </tr>\n",
              "    <tr>\n",
              "      <th>300005</th>\n",
              "      <td>nvX0xUUgJhkoG9hrYJEyLQ</td>\n",
              "      <td>bjJcDCx5uMUr89nxBdGizw</td>\n",
              "      <td>0.9937</td>\n",
              "      <td>Loved the first breakfast last week and have been back twice more to try additional breakfast entrees The Belgian waffle was outstanding and the chili relleno and eggs were super delicious The service quality of food and ambiance is very consistent I am anxious to try the lunch menu soon The best breakfast restaurant I have been to since moving here years ago The d cor is super awesome along with the friendly service from Gabriela I felt like I was back home in downtown Chicago This place is clean with a friendly staff Breakfast and Lunch served all day Everything is fresh and delicious Finally found a place that can make hash browns the right way Biscuits and gravy were outstanding I plan on going back often</td>\n",
              "      <td>[loved, breakfast, week, twice, try, additional, breakfast, entrees, belgian, waffle, outstanding, chili, relleno, eggs, super, delicious, service, quality, food, ambiance, consistent, anxious, try, lunch, menu, soon, best, breakfast, restaurant, moving, years, ago, cor, super, awesome, friendly, service, gabriela, felt, like, home, downtown, chicago, place, clean, friendly, staff, breakfast, lunch, served, day, fresh, delicious, finally, place, hash, browns, right, way, biscuits, gravy, outstanding, plan, going]</td>\n",
              "      <td>[breakfast, breakfast, entrees, chili, eggs, food, lunch, breakfast, breakfast, lunch, hash, biscuits, gravy]</td>\n",
              "      <td>[try, service, try, best, service, clean, going]</td>\n",
              "      <td>[]</td>\n",
              "      <td>[quality]</td>\n",
              "      <td>[quality, ambiance, way]</td>\n",
              "      <td>[like, right, plan]</td>\n",
              "    </tr>\n",
              "  </tbody>\n",
              "</table>\n",
              "</div>"
            ],
            "text/plain": [
              "                     review_id             business_id  compound  \\\n",
              "300001  QtdfgzU2QWqkqqnSQSJsCg  bjJcDCx5uMUr89nxBdGizw    0.8176   \n",
              "300002  YA_UscHihJW0Z7YSvPt_9A  bjJcDCx5uMUr89nxBdGizw    0.9580   \n",
              "300003  10gJft08qwWrVXm5DgeA3w  bjJcDCx5uMUr89nxBdGizw    0.9164   \n",
              "300004  8QoGf7QsDVOjkRHOfewY1w  bjJcDCx5uMUr89nxBdGizw    0.8906   \n",
              "300005  nvX0xUUgJhkoG9hrYJEyLQ  bjJcDCx5uMUr89nxBdGizw    0.9937   \n",
              "\n",
              "                                                                                                                                                                                                                                                                                                                                                                                                                                                                                                                                                                                                                                                                                                                                                  text  \\\n",
              "300001                                                                                                                                                                                                                                                                                                                                                                                                                                                                                                                                                                                                                                           This place is legit The breakfast was amazing The staff so attentive and on top of it Thanks Brittany   \n",
              "300002                                                                                                                                                                                                                                                                                                                                                                                                            Awesome service and tasty food Husband had the Hawaiian pork chops and egg breakfast I had the waffle with eggs bacon and added strawberries bananas to the waffle The waffle is so good it didnt need the fruit Next time Im having it plain Staff are genuinely nice and inviting Definitely worth giving this place your business   \n",
              "300003                                                                                                                                                                                                                                                                                                                                                                                                                                                                                                                                                                                                                                 WOW Just WOW This place knocks it outta the park SOOOOO lucky to have this family owned joint here in Henderson   \n",
              "300004                                                                                                                                                                                                                                                                                                                                                                                                                                                                                                                             My husband and I came here for breakfast and seriously was the best experience Everyone was extremely nice and the food blew us away Came out fast and extremely delicious Oh and the caramel bananas were bomb com   \n",
              "300005  Loved the first breakfast last week and have been back twice more to try additional breakfast entrees The Belgian waffle was outstanding and the chili relleno and eggs were super delicious The service quality of food and ambiance is very consistent I am anxious to try the lunch menu soon The best breakfast restaurant I have been to since moving here years ago The d cor is super awesome along with the friendly service from Gabriela I felt like I was back home in downtown Chicago This place is clean with a friendly staff Breakfast and Lunch served all day Everything is fresh and delicious Finally found a place that can make hash browns the right way Biscuits and gravy were outstanding I plan on going back often   \n",
              "\n",
              "                                                                                                                                                                                                                                                                                                                                                                                                                                                                                                                                       cleaned  \\\n",
              "300001                                                                                                                                                                                                                                                                                                                                                                                                                                                                  [place, legit, breakfast, amazing, staff, attentive, thanks, brittany]   \n",
              "300002                                                                                                                                                                                                                                                     [awesome, service, tasty, food, husband, hawaiian, pork, chops, egg, breakfast, waffle, eggs, bacon, added, strawberries, bananas, waffle, waffle, good, didnt, need, fruit, time, im, having, plain, staff, genuinely, nice, inviting, definitely, worth, giving, place, business]   \n",
              "300003                                                                                                                                                                                                                                                                                                                                                                                                                                                  [wow, wow, place, knocks, outta, park, sooooo, lucky, family, owned, joint, henderson]   \n",
              "300004                                                                                                                                                                                                                                                                                                                                                                           [husband, came, breakfast, seriously, best, experience, extremely, nice, food, blew, away, came, fast, extremely, delicious, oh, caramel, bananas, bomb, com]   \n",
              "300005  [loved, breakfast, week, twice, try, additional, breakfast, entrees, belgian, waffle, outstanding, chili, relleno, eggs, super, delicious, service, quality, food, ambiance, consistent, anxious, try, lunch, menu, soon, best, breakfast, restaurant, moving, years, ago, cor, super, awesome, friendly, service, gabriela, felt, like, home, downtown, chicago, place, clean, friendly, staff, breakfast, lunch, served, day, fresh, delicious, finally, place, hash, browns, right, way, biscuits, gravy, outstanding, plan, going]   \n",
              "\n",
              "                                                                                                words_related_to_food  \\\n",
              "300001                                                                                                    [breakfast]   \n",
              "300002                                                                                        [food, breakfast, eggs]   \n",
              "300003                                                                                                             []   \n",
              "300004                                                                                     [breakfast, food, caramel]   \n",
              "300005  [breakfast, breakfast, entrees, chili, eggs, food, lunch, breakfast, breakfast, lunch, hash, biscuits, gravy]   \n",
              "\n",
              "                                words_related_to_service  \\\n",
              "300001                                                []   \n",
              "300002                           [service, time, giving]   \n",
              "300003                                          [knocks]   \n",
              "300004                                      [best, fast]   \n",
              "300005  [try, service, try, best, service, clean, going]   \n",
              "\n",
              "       words_related_to_speed words_related_to_price  \\\n",
              "300001                     []                     []   \n",
              "300002                     []                 [good]   \n",
              "300003                     []                     []   \n",
              "300004                     []                     []   \n",
              "300005                     []              [quality]   \n",
              "\n",
              "       words_related_to_ambience words_related_to_experience  \n",
              "300001                        []                          []  \n",
              "300002                    [need]                          []  \n",
              "300003                        []                          []  \n",
              "300004                        []                [experience]  \n",
              "300005  [quality, ambiance, way]         [like, right, plan]  "
            ]
          },
          "metadata": {
            "tags": []
          },
          "execution_count": 26
        }
      ]
    },
    {
      "cell_type": "code",
      "metadata": {
        "id": "0_jAkt3K57tu",
        "colab_type": "code",
        "colab": {}
      },
      "source": [
        "df = df.reset_index()"
      ],
      "execution_count": null,
      "outputs": []
    },
    {
      "cell_type": "code",
      "metadata": {
        "id": "fZumT9l25-uQ",
        "colab_type": "code",
        "colab": {
          "base_uri": "https://localhost:8080/",
          "height": 1000
        },
        "outputId": "9b4a61d5-2876-416a-d6fc-74240f1bbfea"
      },
      "source": [
        "df.head()"
      ],
      "execution_count": null,
      "outputs": [
        {
          "output_type": "execute_result",
          "data": {
            "text/html": [
              "<div>\n",
              "<style scoped>\n",
              "    .dataframe tbody tr th:only-of-type {\n",
              "        vertical-align: middle;\n",
              "    }\n",
              "\n",
              "    .dataframe tbody tr th {\n",
              "        vertical-align: top;\n",
              "    }\n",
              "\n",
              "    .dataframe thead th {\n",
              "        text-align: right;\n",
              "    }\n",
              "</style>\n",
              "<table border=\"1\" class=\"dataframe\">\n",
              "  <thead>\n",
              "    <tr style=\"text-align: right;\">\n",
              "      <th></th>\n",
              "      <th>index</th>\n",
              "      <th>review_id</th>\n",
              "      <th>business_id</th>\n",
              "      <th>compound</th>\n",
              "      <th>text</th>\n",
              "      <th>cleaned</th>\n",
              "      <th>words_related_to_food</th>\n",
              "      <th>words_related_to_service</th>\n",
              "      <th>words_related_to_speed</th>\n",
              "      <th>words_related_to_price</th>\n",
              "      <th>words_related_to_ambience</th>\n",
              "      <th>words_related_to_experience</th>\n",
              "    </tr>\n",
              "  </thead>\n",
              "  <tbody>\n",
              "    <tr>\n",
              "      <th>0</th>\n",
              "      <td>300001</td>\n",
              "      <td>QtdfgzU2QWqkqqnSQSJsCg</td>\n",
              "      <td>bjJcDCx5uMUr89nxBdGizw</td>\n",
              "      <td>0.8176</td>\n",
              "      <td>This place is legit The breakfast was amazing The staff so attentive and on top of it Thanks Brittany</td>\n",
              "      <td>[place, legit, breakfast, amazing, staff, attentive, thanks, brittany]</td>\n",
              "      <td>[breakfast]</td>\n",
              "      <td>[]</td>\n",
              "      <td>[]</td>\n",
              "      <td>[]</td>\n",
              "      <td>[]</td>\n",
              "      <td>[]</td>\n",
              "    </tr>\n",
              "    <tr>\n",
              "      <th>1</th>\n",
              "      <td>300002</td>\n",
              "      <td>YA_UscHihJW0Z7YSvPt_9A</td>\n",
              "      <td>bjJcDCx5uMUr89nxBdGizw</td>\n",
              "      <td>0.9580</td>\n",
              "      <td>Awesome service and tasty food Husband had the Hawaiian pork chops and egg breakfast I had the waffle with eggs bacon and added strawberries bananas to the waffle The waffle is so good it didnt need the fruit Next time Im having it plain Staff are genuinely nice and inviting Definitely worth giving this place your business</td>\n",
              "      <td>[awesome, service, tasty, food, husband, hawaiian, pork, chops, egg, breakfast, waffle, eggs, bacon, added, strawberries, bananas, waffle, waffle, good, didnt, need, fruit, time, im, having, plain, staff, genuinely, nice, inviting, definitely, worth, giving, place, business]</td>\n",
              "      <td>[food, breakfast, eggs]</td>\n",
              "      <td>[service, time, giving]</td>\n",
              "      <td>[]</td>\n",
              "      <td>[good]</td>\n",
              "      <td>[need]</td>\n",
              "      <td>[]</td>\n",
              "    </tr>\n",
              "    <tr>\n",
              "      <th>2</th>\n",
              "      <td>300003</td>\n",
              "      <td>10gJft08qwWrVXm5DgeA3w</td>\n",
              "      <td>bjJcDCx5uMUr89nxBdGizw</td>\n",
              "      <td>0.9164</td>\n",
              "      <td>WOW Just WOW This place knocks it outta the park SOOOOO lucky to have this family owned joint here in Henderson</td>\n",
              "      <td>[wow, wow, place, knocks, outta, park, sooooo, lucky, family, owned, joint, henderson]</td>\n",
              "      <td>[]</td>\n",
              "      <td>[knocks]</td>\n",
              "      <td>[]</td>\n",
              "      <td>[]</td>\n",
              "      <td>[]</td>\n",
              "      <td>[]</td>\n",
              "    </tr>\n",
              "    <tr>\n",
              "      <th>3</th>\n",
              "      <td>300004</td>\n",
              "      <td>8QoGf7QsDVOjkRHOfewY1w</td>\n",
              "      <td>bjJcDCx5uMUr89nxBdGizw</td>\n",
              "      <td>0.8906</td>\n",
              "      <td>My husband and I came here for breakfast and seriously was the best experience Everyone was extremely nice and the food blew us away Came out fast and extremely delicious Oh and the caramel bananas were bomb com</td>\n",
              "      <td>[husband, came, breakfast, seriously, best, experience, extremely, nice, food, blew, away, came, fast, extremely, delicious, oh, caramel, bananas, bomb, com]</td>\n",
              "      <td>[breakfast, food, caramel]</td>\n",
              "      <td>[best, fast]</td>\n",
              "      <td>[]</td>\n",
              "      <td>[]</td>\n",
              "      <td>[]</td>\n",
              "      <td>[experience]</td>\n",
              "    </tr>\n",
              "    <tr>\n",
              "      <th>4</th>\n",
              "      <td>300005</td>\n",
              "      <td>nvX0xUUgJhkoG9hrYJEyLQ</td>\n",
              "      <td>bjJcDCx5uMUr89nxBdGizw</td>\n",
              "      <td>0.9937</td>\n",
              "      <td>Loved the first breakfast last week and have been back twice more to try additional breakfast entrees The Belgian waffle was outstanding and the chili relleno and eggs were super delicious The service quality of food and ambiance is very consistent I am anxious to try the lunch menu soon The best breakfast restaurant I have been to since moving here years ago The d cor is super awesome along with the friendly service from Gabriela I felt like I was back home in downtown Chicago This place is clean with a friendly staff Breakfast and Lunch served all day Everything is fresh and delicious Finally found a place that can make hash browns the right way Biscuits and gravy were outstanding I plan on going back often</td>\n",
              "      <td>[loved, breakfast, week, twice, try, additional, breakfast, entrees, belgian, waffle, outstanding, chili, relleno, eggs, super, delicious, service, quality, food, ambiance, consistent, anxious, try, lunch, menu, soon, best, breakfast, restaurant, moving, years, ago, cor, super, awesome, friendly, service, gabriela, felt, like, home, downtown, chicago, place, clean, friendly, staff, breakfast, lunch, served, day, fresh, delicious, finally, place, hash, browns, right, way, biscuits, gravy, outstanding, plan, going]</td>\n",
              "      <td>[breakfast, breakfast, entrees, chili, eggs, food, lunch, breakfast, breakfast, lunch, hash, biscuits, gravy]</td>\n",
              "      <td>[try, service, try, best, service, clean, going]</td>\n",
              "      <td>[]</td>\n",
              "      <td>[quality]</td>\n",
              "      <td>[quality, ambiance, way]</td>\n",
              "      <td>[like, right, plan]</td>\n",
              "    </tr>\n",
              "  </tbody>\n",
              "</table>\n",
              "</div>"
            ],
            "text/plain": [
              "    index               review_id             business_id  compound  \\\n",
              "0  300001  QtdfgzU2QWqkqqnSQSJsCg  bjJcDCx5uMUr89nxBdGizw    0.8176   \n",
              "1  300002  YA_UscHihJW0Z7YSvPt_9A  bjJcDCx5uMUr89nxBdGizw    0.9580   \n",
              "2  300003  10gJft08qwWrVXm5DgeA3w  bjJcDCx5uMUr89nxBdGizw    0.9164   \n",
              "3  300004  8QoGf7QsDVOjkRHOfewY1w  bjJcDCx5uMUr89nxBdGizw    0.8906   \n",
              "4  300005  nvX0xUUgJhkoG9hrYJEyLQ  bjJcDCx5uMUr89nxBdGizw    0.9937   \n",
              "\n",
              "                                                                                                                                                                                                                                                                                                                                                                                                                                                                                                                                                                                                                                                                                                                                             text  \\\n",
              "0                                                                                                                                                                                                                                                                                                                                                                                                                                                                                                                                                                                                                                           This place is legit The breakfast was amazing The staff so attentive and on top of it Thanks Brittany   \n",
              "1                                                                                                                                                                                                                                                                                                                                                                                                            Awesome service and tasty food Husband had the Hawaiian pork chops and egg breakfast I had the waffle with eggs bacon and added strawberries bananas to the waffle The waffle is so good it didnt need the fruit Next time Im having it plain Staff are genuinely nice and inviting Definitely worth giving this place your business   \n",
              "2                                                                                                                                                                                                                                                                                                                                                                                                                                                                                                                                                                                                                                 WOW Just WOW This place knocks it outta the park SOOOOO lucky to have this family owned joint here in Henderson   \n",
              "3                                                                                                                                                                                                                                                                                                                                                                                                                                                                                                                             My husband and I came here for breakfast and seriously was the best experience Everyone was extremely nice and the food blew us away Came out fast and extremely delicious Oh and the caramel bananas were bomb com   \n",
              "4  Loved the first breakfast last week and have been back twice more to try additional breakfast entrees The Belgian waffle was outstanding and the chili relleno and eggs were super delicious The service quality of food and ambiance is very consistent I am anxious to try the lunch menu soon The best breakfast restaurant I have been to since moving here years ago The d cor is super awesome along with the friendly service from Gabriela I felt like I was back home in downtown Chicago This place is clean with a friendly staff Breakfast and Lunch served all day Everything is fresh and delicious Finally found a place that can make hash browns the right way Biscuits and gravy were outstanding I plan on going back often   \n",
              "\n",
              "                                                                                                                                                                                                                                                                                                                                                                                                                                                                                                                                  cleaned  \\\n",
              "0                                                                                                                                                                                                                                                                                                                                                                                                                                                                  [place, legit, breakfast, amazing, staff, attentive, thanks, brittany]   \n",
              "1                                                                                                                                                                                                                                                     [awesome, service, tasty, food, husband, hawaiian, pork, chops, egg, breakfast, waffle, eggs, bacon, added, strawberries, bananas, waffle, waffle, good, didnt, need, fruit, time, im, having, plain, staff, genuinely, nice, inviting, definitely, worth, giving, place, business]   \n",
              "2                                                                                                                                                                                                                                                                                                                                                                                                                                                  [wow, wow, place, knocks, outta, park, sooooo, lucky, family, owned, joint, henderson]   \n",
              "3                                                                                                                                                                                                                                                                                                                                                                           [husband, came, breakfast, seriously, best, experience, extremely, nice, food, blew, away, came, fast, extremely, delicious, oh, caramel, bananas, bomb, com]   \n",
              "4  [loved, breakfast, week, twice, try, additional, breakfast, entrees, belgian, waffle, outstanding, chili, relleno, eggs, super, delicious, service, quality, food, ambiance, consistent, anxious, try, lunch, menu, soon, best, breakfast, restaurant, moving, years, ago, cor, super, awesome, friendly, service, gabriela, felt, like, home, downtown, chicago, place, clean, friendly, staff, breakfast, lunch, served, day, fresh, delicious, finally, place, hash, browns, right, way, biscuits, gravy, outstanding, plan, going]   \n",
              "\n",
              "                                                                                           words_related_to_food  \\\n",
              "0                                                                                                    [breakfast]   \n",
              "1                                                                                        [food, breakfast, eggs]   \n",
              "2                                                                                                             []   \n",
              "3                                                                                     [breakfast, food, caramel]   \n",
              "4  [breakfast, breakfast, entrees, chili, eggs, food, lunch, breakfast, breakfast, lunch, hash, biscuits, gravy]   \n",
              "\n",
              "                           words_related_to_service words_related_to_speed  \\\n",
              "0                                                []                     []   \n",
              "1                           [service, time, giving]                     []   \n",
              "2                                          [knocks]                     []   \n",
              "3                                      [best, fast]                     []   \n",
              "4  [try, service, try, best, service, clean, going]                     []   \n",
              "\n",
              "  words_related_to_price words_related_to_ambience words_related_to_experience  \n",
              "0                     []                        []                          []  \n",
              "1                 [good]                    [need]                          []  \n",
              "2                     []                        []                          []  \n",
              "3                     []                        []                [experience]  \n",
              "4              [quality]  [quality, ambiance, way]         [like, right, plan]  "
            ]
          },
          "metadata": {
            "tags": []
          },
          "execution_count": 28
        }
      ]
    },
    {
      "cell_type": "code",
      "metadata": {
        "id": "6afr0qk36EDm",
        "colab_type": "code",
        "colab": {}
      },
      "source": [
        "df = df.drop(columns=[\"index\"])"
      ],
      "execution_count": null,
      "outputs": []
    },
    {
      "cell_type": "code",
      "metadata": {
        "id": "6GnYvzdp6ORI",
        "colab_type": "code",
        "colab": {
          "base_uri": "https://localhost:8080/",
          "height": 1000
        },
        "outputId": "2c31c5cc-7ca1-4c86-959b-e7797c9d00dd"
      },
      "source": [
        "df.head()"
      ],
      "execution_count": null,
      "outputs": [
        {
          "output_type": "execute_result",
          "data": {
            "text/html": [
              "<div>\n",
              "<style scoped>\n",
              "    .dataframe tbody tr th:only-of-type {\n",
              "        vertical-align: middle;\n",
              "    }\n",
              "\n",
              "    .dataframe tbody tr th {\n",
              "        vertical-align: top;\n",
              "    }\n",
              "\n",
              "    .dataframe thead th {\n",
              "        text-align: right;\n",
              "    }\n",
              "</style>\n",
              "<table border=\"1\" class=\"dataframe\">\n",
              "  <thead>\n",
              "    <tr style=\"text-align: right;\">\n",
              "      <th></th>\n",
              "      <th>review_id</th>\n",
              "      <th>business_id</th>\n",
              "      <th>compound</th>\n",
              "      <th>text</th>\n",
              "      <th>cleaned</th>\n",
              "      <th>words_related_to_food</th>\n",
              "      <th>words_related_to_service</th>\n",
              "      <th>words_related_to_speed</th>\n",
              "      <th>words_related_to_price</th>\n",
              "      <th>words_related_to_ambience</th>\n",
              "      <th>words_related_to_experience</th>\n",
              "    </tr>\n",
              "  </thead>\n",
              "  <tbody>\n",
              "    <tr>\n",
              "      <th>0</th>\n",
              "      <td>QtdfgzU2QWqkqqnSQSJsCg</td>\n",
              "      <td>bjJcDCx5uMUr89nxBdGizw</td>\n",
              "      <td>0.8176</td>\n",
              "      <td>This place is legit The breakfast was amazing The staff so attentive and on top of it Thanks Brittany</td>\n",
              "      <td>[place, legit, breakfast, amazing, staff, attentive, thanks, brittany]</td>\n",
              "      <td>[breakfast]</td>\n",
              "      <td>[]</td>\n",
              "      <td>[]</td>\n",
              "      <td>[]</td>\n",
              "      <td>[]</td>\n",
              "      <td>[]</td>\n",
              "    </tr>\n",
              "    <tr>\n",
              "      <th>1</th>\n",
              "      <td>YA_UscHihJW0Z7YSvPt_9A</td>\n",
              "      <td>bjJcDCx5uMUr89nxBdGizw</td>\n",
              "      <td>0.9580</td>\n",
              "      <td>Awesome service and tasty food Husband had the Hawaiian pork chops and egg breakfast I had the waffle with eggs bacon and added strawberries bananas to the waffle The waffle is so good it didnt need the fruit Next time Im having it plain Staff are genuinely nice and inviting Definitely worth giving this place your business</td>\n",
              "      <td>[awesome, service, tasty, food, husband, hawaiian, pork, chops, egg, breakfast, waffle, eggs, bacon, added, strawberries, bananas, waffle, waffle, good, didnt, need, fruit, time, im, having, plain, staff, genuinely, nice, inviting, definitely, worth, giving, place, business]</td>\n",
              "      <td>[food, breakfast, eggs]</td>\n",
              "      <td>[service, time, giving]</td>\n",
              "      <td>[]</td>\n",
              "      <td>[good]</td>\n",
              "      <td>[need]</td>\n",
              "      <td>[]</td>\n",
              "    </tr>\n",
              "    <tr>\n",
              "      <th>2</th>\n",
              "      <td>10gJft08qwWrVXm5DgeA3w</td>\n",
              "      <td>bjJcDCx5uMUr89nxBdGizw</td>\n",
              "      <td>0.9164</td>\n",
              "      <td>WOW Just WOW This place knocks it outta the park SOOOOO lucky to have this family owned joint here in Henderson</td>\n",
              "      <td>[wow, wow, place, knocks, outta, park, sooooo, lucky, family, owned, joint, henderson]</td>\n",
              "      <td>[]</td>\n",
              "      <td>[knocks]</td>\n",
              "      <td>[]</td>\n",
              "      <td>[]</td>\n",
              "      <td>[]</td>\n",
              "      <td>[]</td>\n",
              "    </tr>\n",
              "    <tr>\n",
              "      <th>3</th>\n",
              "      <td>8QoGf7QsDVOjkRHOfewY1w</td>\n",
              "      <td>bjJcDCx5uMUr89nxBdGizw</td>\n",
              "      <td>0.8906</td>\n",
              "      <td>My husband and I came here for breakfast and seriously was the best experience Everyone was extremely nice and the food blew us away Came out fast and extremely delicious Oh and the caramel bananas were bomb com</td>\n",
              "      <td>[husband, came, breakfast, seriously, best, experience, extremely, nice, food, blew, away, came, fast, extremely, delicious, oh, caramel, bananas, bomb, com]</td>\n",
              "      <td>[breakfast, food, caramel]</td>\n",
              "      <td>[best, fast]</td>\n",
              "      <td>[]</td>\n",
              "      <td>[]</td>\n",
              "      <td>[]</td>\n",
              "      <td>[experience]</td>\n",
              "    </tr>\n",
              "    <tr>\n",
              "      <th>4</th>\n",
              "      <td>nvX0xUUgJhkoG9hrYJEyLQ</td>\n",
              "      <td>bjJcDCx5uMUr89nxBdGizw</td>\n",
              "      <td>0.9937</td>\n",
              "      <td>Loved the first breakfast last week and have been back twice more to try additional breakfast entrees The Belgian waffle was outstanding and the chili relleno and eggs were super delicious The service quality of food and ambiance is very consistent I am anxious to try the lunch menu soon The best breakfast restaurant I have been to since moving here years ago The d cor is super awesome along with the friendly service from Gabriela I felt like I was back home in downtown Chicago This place is clean with a friendly staff Breakfast and Lunch served all day Everything is fresh and delicious Finally found a place that can make hash browns the right way Biscuits and gravy were outstanding I plan on going back often</td>\n",
              "      <td>[loved, breakfast, week, twice, try, additional, breakfast, entrees, belgian, waffle, outstanding, chili, relleno, eggs, super, delicious, service, quality, food, ambiance, consistent, anxious, try, lunch, menu, soon, best, breakfast, restaurant, moving, years, ago, cor, super, awesome, friendly, service, gabriela, felt, like, home, downtown, chicago, place, clean, friendly, staff, breakfast, lunch, served, day, fresh, delicious, finally, place, hash, browns, right, way, biscuits, gravy, outstanding, plan, going]</td>\n",
              "      <td>[breakfast, breakfast, entrees, chili, eggs, food, lunch, breakfast, breakfast, lunch, hash, biscuits, gravy]</td>\n",
              "      <td>[try, service, try, best, service, clean, going]</td>\n",
              "      <td>[]</td>\n",
              "      <td>[quality]</td>\n",
              "      <td>[quality, ambiance, way]</td>\n",
              "      <td>[like, right, plan]</td>\n",
              "    </tr>\n",
              "  </tbody>\n",
              "</table>\n",
              "</div>"
            ],
            "text/plain": [
              "                review_id             business_id  compound  \\\n",
              "0  QtdfgzU2QWqkqqnSQSJsCg  bjJcDCx5uMUr89nxBdGizw    0.8176   \n",
              "1  YA_UscHihJW0Z7YSvPt_9A  bjJcDCx5uMUr89nxBdGizw    0.9580   \n",
              "2  10gJft08qwWrVXm5DgeA3w  bjJcDCx5uMUr89nxBdGizw    0.9164   \n",
              "3  8QoGf7QsDVOjkRHOfewY1w  bjJcDCx5uMUr89nxBdGizw    0.8906   \n",
              "4  nvX0xUUgJhkoG9hrYJEyLQ  bjJcDCx5uMUr89nxBdGizw    0.9937   \n",
              "\n",
              "                                                                                                                                                                                                                                                                                                                                                                                                                                                                                                                                                                                                                                                                                                                                             text  \\\n",
              "0                                                                                                                                                                                                                                                                                                                                                                                                                                                                                                                                                                                                                                           This place is legit The breakfast was amazing The staff so attentive and on top of it Thanks Brittany   \n",
              "1                                                                                                                                                                                                                                                                                                                                                                                                            Awesome service and tasty food Husband had the Hawaiian pork chops and egg breakfast I had the waffle with eggs bacon and added strawberries bananas to the waffle The waffle is so good it didnt need the fruit Next time Im having it plain Staff are genuinely nice and inviting Definitely worth giving this place your business   \n",
              "2                                                                                                                                                                                                                                                                                                                                                                                                                                                                                                                                                                                                                                 WOW Just WOW This place knocks it outta the park SOOOOO lucky to have this family owned joint here in Henderson   \n",
              "3                                                                                                                                                                                                                                                                                                                                                                                                                                                                                                                             My husband and I came here for breakfast and seriously was the best experience Everyone was extremely nice and the food blew us away Came out fast and extremely delicious Oh and the caramel bananas were bomb com   \n",
              "4  Loved the first breakfast last week and have been back twice more to try additional breakfast entrees The Belgian waffle was outstanding and the chili relleno and eggs were super delicious The service quality of food and ambiance is very consistent I am anxious to try the lunch menu soon The best breakfast restaurant I have been to since moving here years ago The d cor is super awesome along with the friendly service from Gabriela I felt like I was back home in downtown Chicago This place is clean with a friendly staff Breakfast and Lunch served all day Everything is fresh and delicious Finally found a place that can make hash browns the right way Biscuits and gravy were outstanding I plan on going back often   \n",
              "\n",
              "                                                                                                                                                                                                                                                                                                                                                                                                                                                                                                                                  cleaned  \\\n",
              "0                                                                                                                                                                                                                                                                                                                                                                                                                                                                  [place, legit, breakfast, amazing, staff, attentive, thanks, brittany]   \n",
              "1                                                                                                                                                                                                                                                     [awesome, service, tasty, food, husband, hawaiian, pork, chops, egg, breakfast, waffle, eggs, bacon, added, strawberries, bananas, waffle, waffle, good, didnt, need, fruit, time, im, having, plain, staff, genuinely, nice, inviting, definitely, worth, giving, place, business]   \n",
              "2                                                                                                                                                                                                                                                                                                                                                                                                                                                  [wow, wow, place, knocks, outta, park, sooooo, lucky, family, owned, joint, henderson]   \n",
              "3                                                                                                                                                                                                                                                                                                                                                                           [husband, came, breakfast, seriously, best, experience, extremely, nice, food, blew, away, came, fast, extremely, delicious, oh, caramel, bananas, bomb, com]   \n",
              "4  [loved, breakfast, week, twice, try, additional, breakfast, entrees, belgian, waffle, outstanding, chili, relleno, eggs, super, delicious, service, quality, food, ambiance, consistent, anxious, try, lunch, menu, soon, best, breakfast, restaurant, moving, years, ago, cor, super, awesome, friendly, service, gabriela, felt, like, home, downtown, chicago, place, clean, friendly, staff, breakfast, lunch, served, day, fresh, delicious, finally, place, hash, browns, right, way, biscuits, gravy, outstanding, plan, going]   \n",
              "\n",
              "                                                                                           words_related_to_food  \\\n",
              "0                                                                                                    [breakfast]   \n",
              "1                                                                                        [food, breakfast, eggs]   \n",
              "2                                                                                                             []   \n",
              "3                                                                                     [breakfast, food, caramel]   \n",
              "4  [breakfast, breakfast, entrees, chili, eggs, food, lunch, breakfast, breakfast, lunch, hash, biscuits, gravy]   \n",
              "\n",
              "                           words_related_to_service words_related_to_speed  \\\n",
              "0                                                []                     []   \n",
              "1                           [service, time, giving]                     []   \n",
              "2                                          [knocks]                     []   \n",
              "3                                      [best, fast]                     []   \n",
              "4  [try, service, try, best, service, clean, going]                     []   \n",
              "\n",
              "  words_related_to_price words_related_to_ambience words_related_to_experience  \n",
              "0                     []                        []                          []  \n",
              "1                 [good]                    [need]                          []  \n",
              "2                     []                        []                          []  \n",
              "3                     []                        []                [experience]  \n",
              "4              [quality]  [quality, ambiance, way]         [like, right, plan]  "
            ]
          },
          "metadata": {
            "tags": []
          },
          "execution_count": 30
        }
      ]
    },
    {
      "cell_type": "code",
      "metadata": {
        "id": "Qkx67gf62ZWi",
        "colab_type": "code",
        "colab": {
          "base_uri": "https://localhost:8080/",
          "height": 296
        },
        "outputId": "22192580-c66a-48ce-e33e-fd7c9024d300"
      },
      "source": [
        "df = sentimental_analysis(df)"
      ],
      "execution_count": null,
      "outputs": [
        {
          "output_type": "error",
          "ename": "ValueError",
          "evalue": "ignored",
          "traceback": [
            "\u001b[0;31m---------------------------------------------------------------------------\u001b[0m",
            "\u001b[0;31mValueError\u001b[0m                                Traceback (most recent call last)",
            "\u001b[0;32m<ipython-input-33-6e55c12699fc>\u001b[0m in \u001b[0;36m<module>\u001b[0;34m()\u001b[0m\n\u001b[0;32m----> 1\u001b[0;31m \u001b[0mdf\u001b[0m \u001b[0;34m=\u001b[0m \u001b[0msentimental_analysis\u001b[0m\u001b[0;34m(\u001b[0m\u001b[0mdf\u001b[0m\u001b[0;34m)\u001b[0m\u001b[0;34m\u001b[0m\u001b[0;34m\u001b[0m\u001b[0m\n\u001b[0m",
            "\u001b[0;32m<ipython-input-23-3872ec8cb255>\u001b[0m in \u001b[0;36msentimental_analysis\u001b[0;34m(df)\u001b[0m\n\u001b[1;32m     44\u001b[0m \u001b[0;34m\u001b[0m\u001b[0m\n\u001b[1;32m     45\u001b[0m   \u001b[0mdf\u001b[0m\u001b[0;34m[\u001b[0m\u001b[0;34m'words_related_to_food'\u001b[0m\u001b[0;34m]\u001b[0m \u001b[0;34m=\u001b[0m \u001b[0mdf\u001b[0m\u001b[0;34m[\u001b[0m\u001b[0;34m'cleaned'\u001b[0m\u001b[0;34m]\u001b[0m\u001b[0;34m.\u001b[0m\u001b[0mapply\u001b[0m\u001b[0;34m(\u001b[0m\u001b[0mrelated_to_food\u001b[0m\u001b[0;34m)\u001b[0m\u001b[0;34m\u001b[0m\u001b[0;34m\u001b[0m\u001b[0m\n\u001b[0;32m---> 46\u001b[0;31m   \u001b[0mdf\u001b[0m\u001b[0;34m[\u001b[0m\u001b[0;34m'food_review_list'\u001b[0m\u001b[0;34m]\u001b[0m \u001b[0;34m=\u001b[0m \u001b[0mdf\u001b[0m\u001b[0;34m[\u001b[0m\u001b[0mdf\u001b[0m\u001b[0;34m[\u001b[0m\u001b[0;34m'words_related_to_food'\u001b[0m\u001b[0;34m]\u001b[0m\u001b[0;34m.\u001b[0m\u001b[0mmap\u001b[0m\u001b[0;34m(\u001b[0m\u001b[0mlen\u001b[0m\u001b[0;34m)\u001b[0m \u001b[0;34m>\u001b[0m \u001b[0;36m1\u001b[0m\u001b[0;34m]\u001b[0m\u001b[0;34m[\u001b[0m\u001b[0;34m'text'\u001b[0m\u001b[0;34m]\u001b[0m\u001b[0;34m.\u001b[0m\u001b[0mtolist\u001b[0m\u001b[0;34m(\u001b[0m\u001b[0;34m)\u001b[0m\u001b[0;34m\u001b[0m\u001b[0;34m\u001b[0m\u001b[0m\n\u001b[0m\u001b[1;32m     47\u001b[0m   \u001b[0mdf\u001b[0m\u001b[0;34m[\u001b[0m\u001b[0;34m'food_score'\u001b[0m\u001b[0;34m]\u001b[0m \u001b[0;34m=\u001b[0m \u001b[0mdf\u001b[0m\u001b[0;34m[\u001b[0m\u001b[0;34m'food_review_list'\u001b[0m\u001b[0;34m]\u001b[0m\u001b[0;34m.\u001b[0m\u001b[0mapply\u001b[0m\u001b[0;34m(\u001b[0m\u001b[0mget_subject_review_scores\u001b[0m\u001b[0;34m)\u001b[0m\u001b[0;34m\u001b[0m\u001b[0;34m\u001b[0m\u001b[0m\n\u001b[1;32m     48\u001b[0m \u001b[0;34m\u001b[0m\u001b[0m\n",
            "\u001b[0;32m/usr/local/lib/python3.6/dist-packages/pandas/core/frame.py\u001b[0m in \u001b[0;36m__setitem__\u001b[0;34m(self, key, value)\u001b[0m\n\u001b[1;32m   2936\u001b[0m         \u001b[0;32melse\u001b[0m\u001b[0;34m:\u001b[0m\u001b[0;34m\u001b[0m\u001b[0;34m\u001b[0m\u001b[0m\n\u001b[1;32m   2937\u001b[0m             \u001b[0;31m# set column\u001b[0m\u001b[0;34m\u001b[0m\u001b[0;34m\u001b[0m\u001b[0;34m\u001b[0m\u001b[0m\n\u001b[0;32m-> 2938\u001b[0;31m             \u001b[0mself\u001b[0m\u001b[0;34m.\u001b[0m\u001b[0m_set_item\u001b[0m\u001b[0;34m(\u001b[0m\u001b[0mkey\u001b[0m\u001b[0;34m,\u001b[0m \u001b[0mvalue\u001b[0m\u001b[0;34m)\u001b[0m\u001b[0;34m\u001b[0m\u001b[0;34m\u001b[0m\u001b[0m\n\u001b[0m\u001b[1;32m   2939\u001b[0m \u001b[0;34m\u001b[0m\u001b[0m\n\u001b[1;32m   2940\u001b[0m     \u001b[0;32mdef\u001b[0m \u001b[0m_setitem_slice\u001b[0m\u001b[0;34m(\u001b[0m\u001b[0mself\u001b[0m\u001b[0;34m,\u001b[0m \u001b[0mkey\u001b[0m\u001b[0;34m,\u001b[0m \u001b[0mvalue\u001b[0m\u001b[0;34m)\u001b[0m\u001b[0;34m:\u001b[0m\u001b[0;34m\u001b[0m\u001b[0;34m\u001b[0m\u001b[0m\n",
            "\u001b[0;32m/usr/local/lib/python3.6/dist-packages/pandas/core/frame.py\u001b[0m in \u001b[0;36m_set_item\u001b[0;34m(self, key, value)\u001b[0m\n\u001b[1;32m   2998\u001b[0m \u001b[0;34m\u001b[0m\u001b[0m\n\u001b[1;32m   2999\u001b[0m         \u001b[0mself\u001b[0m\u001b[0;34m.\u001b[0m\u001b[0m_ensure_valid_index\u001b[0m\u001b[0;34m(\u001b[0m\u001b[0mvalue\u001b[0m\u001b[0;34m)\u001b[0m\u001b[0;34m\u001b[0m\u001b[0;34m\u001b[0m\u001b[0m\n\u001b[0;32m-> 3000\u001b[0;31m         \u001b[0mvalue\u001b[0m \u001b[0;34m=\u001b[0m \u001b[0mself\u001b[0m\u001b[0;34m.\u001b[0m\u001b[0m_sanitize_column\u001b[0m\u001b[0;34m(\u001b[0m\u001b[0mkey\u001b[0m\u001b[0;34m,\u001b[0m \u001b[0mvalue\u001b[0m\u001b[0;34m)\u001b[0m\u001b[0;34m\u001b[0m\u001b[0;34m\u001b[0m\u001b[0m\n\u001b[0m\u001b[1;32m   3001\u001b[0m         \u001b[0mNDFrame\u001b[0m\u001b[0;34m.\u001b[0m\u001b[0m_set_item\u001b[0m\u001b[0;34m(\u001b[0m\u001b[0mself\u001b[0m\u001b[0;34m,\u001b[0m \u001b[0mkey\u001b[0m\u001b[0;34m,\u001b[0m \u001b[0mvalue\u001b[0m\u001b[0;34m)\u001b[0m\u001b[0;34m\u001b[0m\u001b[0;34m\u001b[0m\u001b[0m\n\u001b[1;32m   3002\u001b[0m \u001b[0;34m\u001b[0m\u001b[0m\n",
            "\u001b[0;32m/usr/local/lib/python3.6/dist-packages/pandas/core/frame.py\u001b[0m in \u001b[0;36m_sanitize_column\u001b[0;34m(self, key, value, broadcast)\u001b[0m\n\u001b[1;32m   3634\u001b[0m \u001b[0;34m\u001b[0m\u001b[0m\n\u001b[1;32m   3635\u001b[0m             \u001b[0;31m# turn me into an ndarray\u001b[0m\u001b[0;34m\u001b[0m\u001b[0;34m\u001b[0m\u001b[0;34m\u001b[0m\u001b[0m\n\u001b[0;32m-> 3636\u001b[0;31m             \u001b[0mvalue\u001b[0m \u001b[0;34m=\u001b[0m \u001b[0msanitize_index\u001b[0m\u001b[0;34m(\u001b[0m\u001b[0mvalue\u001b[0m\u001b[0;34m,\u001b[0m \u001b[0mself\u001b[0m\u001b[0;34m.\u001b[0m\u001b[0mindex\u001b[0m\u001b[0;34m,\u001b[0m \u001b[0mcopy\u001b[0m\u001b[0;34m=\u001b[0m\u001b[0;32mFalse\u001b[0m\u001b[0;34m)\u001b[0m\u001b[0;34m\u001b[0m\u001b[0;34m\u001b[0m\u001b[0m\n\u001b[0m\u001b[1;32m   3637\u001b[0m             \u001b[0;32mif\u001b[0m \u001b[0;32mnot\u001b[0m \u001b[0misinstance\u001b[0m\u001b[0;34m(\u001b[0m\u001b[0mvalue\u001b[0m\u001b[0;34m,\u001b[0m \u001b[0;34m(\u001b[0m\u001b[0mnp\u001b[0m\u001b[0;34m.\u001b[0m\u001b[0mndarray\u001b[0m\u001b[0;34m,\u001b[0m \u001b[0mIndex\u001b[0m\u001b[0;34m)\u001b[0m\u001b[0;34m)\u001b[0m\u001b[0;34m:\u001b[0m\u001b[0;34m\u001b[0m\u001b[0;34m\u001b[0m\u001b[0m\n\u001b[1;32m   3638\u001b[0m                 \u001b[0;32mif\u001b[0m \u001b[0misinstance\u001b[0m\u001b[0;34m(\u001b[0m\u001b[0mvalue\u001b[0m\u001b[0;34m,\u001b[0m \u001b[0mlist\u001b[0m\u001b[0;34m)\u001b[0m \u001b[0;32mand\u001b[0m \u001b[0mlen\u001b[0m\u001b[0;34m(\u001b[0m\u001b[0mvalue\u001b[0m\u001b[0;34m)\u001b[0m \u001b[0;34m>\u001b[0m \u001b[0;36m0\u001b[0m\u001b[0;34m:\u001b[0m\u001b[0;34m\u001b[0m\u001b[0;34m\u001b[0m\u001b[0m\n",
            "\u001b[0;32m/usr/local/lib/python3.6/dist-packages/pandas/core/internals/construction.py\u001b[0m in \u001b[0;36msanitize_index\u001b[0;34m(data, index, copy)\u001b[0m\n\u001b[1;32m    609\u001b[0m \u001b[0;34m\u001b[0m\u001b[0m\n\u001b[1;32m    610\u001b[0m     \u001b[0;32mif\u001b[0m \u001b[0mlen\u001b[0m\u001b[0;34m(\u001b[0m\u001b[0mdata\u001b[0m\u001b[0;34m)\u001b[0m \u001b[0;34m!=\u001b[0m \u001b[0mlen\u001b[0m\u001b[0;34m(\u001b[0m\u001b[0mindex\u001b[0m\u001b[0;34m)\u001b[0m\u001b[0;34m:\u001b[0m\u001b[0;34m\u001b[0m\u001b[0;34m\u001b[0m\u001b[0m\n\u001b[0;32m--> 611\u001b[0;31m         \u001b[0;32mraise\u001b[0m \u001b[0mValueError\u001b[0m\u001b[0;34m(\u001b[0m\u001b[0;34m\"Length of values does not match length of index\"\u001b[0m\u001b[0;34m)\u001b[0m\u001b[0;34m\u001b[0m\u001b[0;34m\u001b[0m\u001b[0m\n\u001b[0m\u001b[1;32m    612\u001b[0m \u001b[0;34m\u001b[0m\u001b[0m\n\u001b[1;32m    613\u001b[0m     \u001b[0;32mif\u001b[0m \u001b[0misinstance\u001b[0m\u001b[0;34m(\u001b[0m\u001b[0mdata\u001b[0m\u001b[0;34m,\u001b[0m \u001b[0mABCIndexClass\u001b[0m\u001b[0;34m)\u001b[0m \u001b[0;32mand\u001b[0m \u001b[0;32mnot\u001b[0m \u001b[0mcopy\u001b[0m\u001b[0;34m:\u001b[0m\u001b[0;34m\u001b[0m\u001b[0;34m\u001b[0m\u001b[0m\n",
            "\u001b[0;31mValueError\u001b[0m: Length of values does not match length of index"
          ]
        }
      ]
    },
    {
      "cell_type": "code",
      "metadata": {
        "id": "YPRDHn928mU6",
        "colab_type": "code",
        "colab": {}
      },
      "source": [
        "#errored out when executed\n",
        "df = df.apply(sentimental_analysis(df))"
      ],
      "execution_count": null,
      "outputs": []
    },
    {
      "cell_type": "code",
      "metadata": {
        "id": "1reXBrLJdBSc",
        "colab_type": "code",
        "colab": {}
      },
      "source": [
        "df.to_csv('sentiment300001-350000.csv')\n",
        "!cp sentiment300001-350000.csv \"drive/My Drive/\""
      ],
      "execution_count": null,
      "outputs": []
    },
    {
      "cell_type": "code",
      "metadata": {
        "id": "J1mcTlGAdBNa",
        "colab_type": "code",
        "colab": {}
      },
      "source": [
        ""
      ],
      "execution_count": null,
      "outputs": []
    },
    {
      "cell_type": "code",
      "metadata": {
        "id": "m4UC7LLxdBIQ",
        "colab_type": "code",
        "colab": {}
      },
      "source": [
        ""
      ],
      "execution_count": null,
      "outputs": []
    }
  ]
}