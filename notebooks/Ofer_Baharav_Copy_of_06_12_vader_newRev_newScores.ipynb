{
  "nbformat": 4,
  "nbformat_minor": 0,
  "metadata": {
    "colab": {
      "name": "Ofer Baharav Copy of 06-12-vader-newRev-newScores.ipynb",
      "provenance": [],
      "collapsed_sections": [],
      "machine_shape": "hm"
    },
    "kernelspec": {
      "name": "python3",
      "display_name": "Python 3"
    },
    "accelerator": "TPU"
  },
  "cells": [
    {
      "cell_type": "code",
      "metadata": {
        "id": "tRpHTdw9gL0q",
        "colab_type": "code",
        "colab": {
          "base_uri": "https://localhost:8080/",
          "height": 122
        },
        "outputId": "78275d6b-3dc4-4f3f-a87d-558a7995b7be"
      },
      "source": [
        "from google.colab import drive\n",
        "drive.mount('drive')"
      ],
      "execution_count": 3,
      "outputs": [
        {
          "output_type": "stream",
          "text": [
            "Go to this URL in a browser: https://accounts.google.com/o/oauth2/auth?client_id=947318989803-6bn6qk8qdgf4n4g3pfee6491hc0brc4i.apps.googleusercontent.com&redirect_uri=urn%3aietf%3awg%3aoauth%3a2.0%3aoob&response_type=code&scope=email%20https%3a%2f%2fwww.googleapis.com%2fauth%2fdocs.test%20https%3a%2f%2fwww.googleapis.com%2fauth%2fdrive%20https%3a%2f%2fwww.googleapis.com%2fauth%2fdrive.photos.readonly%20https%3a%2f%2fwww.googleapis.com%2fauth%2fpeopleapi.readonly\n",
            "\n",
            "Enter your authorization code:\n",
            "··········\n",
            "Mounted at drive\n"
          ],
          "name": "stdout"
        }
      ]
    },
    {
      "cell_type": "code",
      "metadata": {
        "id": "cLp-MbwugMQL",
        "colab_type": "code",
        "colab": {
          "base_uri": "https://localhost:8080/",
          "height": 221
        },
        "outputId": "c3a0a5e7-85a4-4df1-babd-417badd2249c"
      },
      "source": [
        "import dask.dataframe as dd\n",
        "#!pip install fastparquet\n",
        "#from fastparquet import ParquetFile\n",
        "\n",
        "import re\n",
        "import nltk\n",
        "import json\n",
        "import pandas as pd\n",
        "import numpy as np\n",
        "!pip install vaderSentiment\n",
        "from nltk.corpus import wordnet \n",
        "from gensim.utils import simple_preprocess\n",
        "from gensim.parsing.preprocessing import STOPWORDS\n",
        "from vaderSentiment.vaderSentiment import SentimentIntensityAnalyzer \n",
        "\n",
        "nltk.download('wordnet')\n",
        "pd.options.display.max_rows = 999\n",
        "pd.options.display.max_columns = 999\n",
        "pd.set_option('display.max_colwidth', 1000)\n",
        "\n",
        "#imports to get our parquet files aand dask files"
      ],
      "execution_count": 4,
      "outputs": [
        {
          "output_type": "stream",
          "text": [
            "Collecting vaderSentiment\n",
            "\u001b[?25l  Downloading https://files.pythonhosted.org/packages/76/fc/310e16254683c1ed35eeb97386986d6c00bc29df17ce280aed64d55537e9/vaderSentiment-3.3.2-py2.py3-none-any.whl (125kB)\n",
            "\r\u001b[K     |██▋                             | 10kB 17.2MB/s eta 0:00:01\r\u001b[K     |█████▏                          | 20kB 1.8MB/s eta 0:00:01\r\u001b[K     |███████▉                        | 30kB 2.4MB/s eta 0:00:01\r\u001b[K     |██████████▍                     | 40kB 1.9MB/s eta 0:00:01\r\u001b[K     |█████████████                   | 51kB 2.3MB/s eta 0:00:01\r\u001b[K     |███████████████▋                | 61kB 2.6MB/s eta 0:00:01\r\u001b[K     |██████████████████▏             | 71kB 2.9MB/s eta 0:00:01\r\u001b[K     |████████████████████▉           | 81kB 3.2MB/s eta 0:00:01\r\u001b[K     |███████████████████████▍        | 92kB 3.2MB/s eta 0:00:01\r\u001b[K     |██████████████████████████      | 102kB 3.3MB/s eta 0:00:01\r\u001b[K     |████████████████████████████▋   | 112kB 3.3MB/s eta 0:00:01\r\u001b[K     |███████████████████████████████▏| 122kB 3.3MB/s eta 0:00:01\r\u001b[K     |████████████████████████████████| 133kB 3.3MB/s \n",
            "\u001b[?25hRequirement already satisfied: requests in /usr/local/lib/python3.6/dist-packages (from vaderSentiment) (2.23.0)\n",
            "Requirement already satisfied: chardet<4,>=3.0.2 in /usr/local/lib/python3.6/dist-packages (from requests->vaderSentiment) (3.0.4)\n",
            "Requirement already satisfied: idna<3,>=2.5 in /usr/local/lib/python3.6/dist-packages (from requests->vaderSentiment) (2.9)\n",
            "Requirement already satisfied: urllib3!=1.25.0,!=1.25.1,<1.26,>=1.21.1 in /usr/local/lib/python3.6/dist-packages (from requests->vaderSentiment) (1.24.3)\n",
            "Requirement already satisfied: certifi>=2017.4.17 in /usr/local/lib/python3.6/dist-packages (from requests->vaderSentiment) (2020.4.5.2)\n",
            "Installing collected packages: vaderSentiment\n",
            "Successfully installed vaderSentiment-3.3.2\n",
            "[nltk_data] Downloading package wordnet to /root/nltk_data...\n",
            "[nltk_data]   Unzipping corpora/wordnet.zip.\n"
          ],
          "name": "stdout"
        }
      ]
    },
    {
      "cell_type": "code",
      "metadata": {
        "id": "gDOHZ320gMSj",
        "colab_type": "code",
        "colab": {}
      },
      "source": [
        "# Load pandas dataframe\n",
        "def load_data(url):\n",
        "    if url.endswith(\".csv\") or \"csv\" in url:\n",
        "        df = pd.read_csv(url)\n",
        "    else:\n",
        "        df = None\n",
        "    return df\n"
      ],
      "execution_count": 5,
      "outputs": []
    },
    {
      "cell_type": "code",
      "metadata": {
        "id": "cWvhM6c6gMW4",
        "colab_type": "code",
        "colab": {
          "base_uri": "https://localhost:8080/",
          "height": 51
        },
        "outputId": "35df83e5-b5b2-4110-80ec-8955b2ebec62"
      },
      "source": [
        "rev_url = 'https://tally-ai-dspt3.s3.amazonaws.com/yelp-restaurants/rev_export.csv'\n",
        "\n",
        "rev = load_data(rev_url)"
      ],
      "execution_count": 6,
      "outputs": [
        {
          "output_type": "stream",
          "text": [
            "/usr/local/lib/python3.6/dist-packages/IPython/core/interactiveshell.py:2822: DtypeWarning: Columns (0) have mixed types.Specify dtype option on import or set low_memory=False.\n",
            "  if self.run_code(code, result):\n"
          ],
          "name": "stderr"
        }
      ]
    },
    {
      "cell_type": "code",
      "metadata": {
        "id": "XSAs6JChrgXR",
        "colab_type": "code",
        "colab": {
          "base_uri": "https://localhost:8080/",
          "height": 493
        },
        "outputId": "2ac44350-c64a-451f-f945-ee3d8cb1f883"
      },
      "source": [
        "rev.head()"
      ],
      "execution_count": 7,
      "outputs": [
        {
          "output_type": "execute_result",
          "data": {
            "text/html": [
              "<div>\n",
              "<style scoped>\n",
              "    .dataframe tbody tr th:only-of-type {\n",
              "        vertical-align: middle;\n",
              "    }\n",
              "\n",
              "    .dataframe tbody tr th {\n",
              "        vertical-align: top;\n",
              "    }\n",
              "\n",
              "    .dataframe thead th {\n",
              "        text-align: right;\n",
              "    }\n",
              "</style>\n",
              "<table border=\"1\" class=\"dataframe\">\n",
              "  <thead>\n",
              "    <tr style=\"text-align: right;\">\n",
              "      <th></th>\n",
              "      <th>Unnamed: 0</th>\n",
              "      <th>review_id</th>\n",
              "      <th>reviews_stars</th>\n",
              "      <th>date</th>\n",
              "      <th>text</th>\n",
              "    </tr>\n",
              "  </thead>\n",
              "  <tbody>\n",
              "    <tr>\n",
              "      <th>0</th>\n",
              "      <td>0</td>\n",
              "      <td>Oa-sapLub0wRAzxRKVmtDQ</td>\n",
              "      <td>5.0</td>\n",
              "      <td>2017-02-23 03:10:38</td>\n",
              "      <td>Best thai food in Mesa, and you get so much food for your money. We have tried almost every thai place in the area, and think Papaya thai is by far the best - and always ends u p being the cheapest too. Only eating here for thair food for now on!!</td>\n",
              "    </tr>\n",
              "    <tr>\n",
              "      <th>1</th>\n",
              "      <td>1</td>\n",
              "      <td>NawvdCkVIvhMO_eMVMdBhw</td>\n",
              "      <td>3.0</td>\n",
              "      <td>2010-12-04 00:38:28</td>\n",
              "      <td>There are several contributing factors to the 3-starness of Papaya Thai, but it isn't necessarily the food.   This place is literally a block away from my house, and I have ventured frequently because of its proximity, reasonable pricing, and portioning.  \\n\\nGiant fish tanks with some cool tropical fish are strewn about, but then there is this tank with the ugliest eel-like fish and catfish.  It makes it hard for me to eat looking at them, so I opt for seats facing the opposite direction.  I also feel like there are too many tables for the amount of space.  If the restaurant where ever full, I think I would knock into someone's head with the imaginary purse that I do not carry. \\n\\nNow onto the food.  I love that there are spiciness scales that I do not adhere too.  I always ask extra, extra spicy, and they don't just throw a handful of red chile flakes into the dish that I order.  Every curry dish I have ordered has tasted the way it should, not like coconut milk or peanuts.  The...</td>\n",
              "    </tr>\n",
              "    <tr>\n",
              "      <th>2</th>\n",
              "      <td>2</td>\n",
              "      <td>uBWpaM4_PQ1NMB3N9nYkJA</td>\n",
              "      <td>1.0</td>\n",
              "      <td>2012-03-07 21:51:40</td>\n",
              "      <td>Moving to the Phoenix area was a shock to begin with and it has been difficult finding truly great Thai food establishments, especially in the far East Valley. However, of all the places I have tried, which is nearly 15 in just under 2 years, Papaya Thai on University Dr. in Mesa is the absolute WORST! \\n\\nI am a HUGE fan of all styles of Thai Food. I've traveled throughout Asia on more than one occassion, taught English in China and spent years seeking out authentic eateries in the Asian-based areas of this country's biggest Metropolitan cities. Thai food holds a special place in my heart, but never have I been as disappointed as I was with my experience at Papaya Thai!\\n\\nIf Papaya Thai was worth the words, I would gladly go into more detail about the atmosphere, the menu and the quality-to-value ratio, as I do with my other reviews... \\n\\nHowever, there's really not much to say about this dark and dirty hole-in-the-wall next to the Dollar Store. The service isn't worth the price...</td>\n",
              "    </tr>\n",
              "    <tr>\n",
              "      <th>3</th>\n",
              "      <td>3</td>\n",
              "      <td>EIcE_Xw9G5bDAY-XQ0Vosg</td>\n",
              "      <td>1.0</td>\n",
              "      <td>2011-10-06 00:29:51</td>\n",
              "      <td>Usually ok but today we went and ordered garden medley with garlic and drunken noodles which should have lots of basil in it.  The medley had no garlic and was sour.  The drunken noodles had no basil and after we asked the rude owner for some basil he told us that its in there but he will bring us some raw basil.  I think he must have been drunk to screw up 2 dishes that we have ordered 10 times before.  He treats the customer like an idiot.</td>\n",
              "    </tr>\n",
              "    <tr>\n",
              "      <th>4</th>\n",
              "      <td>4</td>\n",
              "      <td>BXTxF_ijBmm5RPYELr-5RQ</td>\n",
              "      <td>4.0</td>\n",
              "      <td>2013-11-20 03:08:02</td>\n",
              "      <td>I have never dined in. The restaurant itself is always pretty slow but the takeout is delicious. I really enjoy the soups. I have tried a number of entrees and they have been delicious. The lady dish I tried had sauteed pumpkin. It was something I have never tried but it was great!</td>\n",
              "    </tr>\n",
              "  </tbody>\n",
              "</table>\n",
              "</div>"
            ],
            "text/plain": [
              "  Unnamed: 0               review_id  reviews_stars                 date  \\\n",
              "0          0  Oa-sapLub0wRAzxRKVmtDQ            5.0  2017-02-23 03:10:38   \n",
              "1          1  NawvdCkVIvhMO_eMVMdBhw            3.0  2010-12-04 00:38:28   \n",
              "2          2  uBWpaM4_PQ1NMB3N9nYkJA            1.0  2012-03-07 21:51:40   \n",
              "3          3  EIcE_Xw9G5bDAY-XQ0Vosg            1.0  2011-10-06 00:29:51   \n",
              "4          4  BXTxF_ijBmm5RPYELr-5RQ            4.0  2013-11-20 03:08:02   \n",
              "\n",
              "                                                                                                                                                                                                                                                                                                                                                                                                                                                                                                                                                                                                                                                                                                                                                                                                                                                                                                                                                                                                                                      text  \n",
              "0                                                                                                                                                                                                                                                                                                                                                                                                                                                                                                                                                                                                                                                                                                                                                                                  Best thai food in Mesa, and you get so much food for your money. We have tried almost every thai place in the area, and think Papaya thai is by far the best - and always ends u p being the cheapest too. Only eating here for thair food for now on!!  \n",
              "1  There are several contributing factors to the 3-starness of Papaya Thai, but it isn't necessarily the food.   This place is literally a block away from my house, and I have ventured frequently because of its proximity, reasonable pricing, and portioning.  \\n\\nGiant fish tanks with some cool tropical fish are strewn about, but then there is this tank with the ugliest eel-like fish and catfish.  It makes it hard for me to eat looking at them, so I opt for seats facing the opposite direction.  I also feel like there are too many tables for the amount of space.  If the restaurant where ever full, I think I would knock into someone's head with the imaginary purse that I do not carry. \\n\\nNow onto the food.  I love that there are spiciness scales that I do not adhere too.  I always ask extra, extra spicy, and they don't just throw a handful of red chile flakes into the dish that I order.  Every curry dish I have ordered has tasted the way it should, not like coconut milk or peanuts.  The...  \n",
              "2  Moving to the Phoenix area was a shock to begin with and it has been difficult finding truly great Thai food establishments, especially in the far East Valley. However, of all the places I have tried, which is nearly 15 in just under 2 years, Papaya Thai on University Dr. in Mesa is the absolute WORST! \\n\\nI am a HUGE fan of all styles of Thai Food. I've traveled throughout Asia on more than one occassion, taught English in China and spent years seeking out authentic eateries in the Asian-based areas of this country's biggest Metropolitan cities. Thai food holds a special place in my heart, but never have I been as disappointed as I was with my experience at Papaya Thai!\\n\\nIf Papaya Thai was worth the words, I would gladly go into more detail about the atmosphere, the menu and the quality-to-value ratio, as I do with my other reviews... \\n\\nHowever, there's really not much to say about this dark and dirty hole-in-the-wall next to the Dollar Store. The service isn't worth the price...  \n",
              "3                                                                                                                                                                                                                                                                                                                                                                                                                                                                                                                                                                            Usually ok but today we went and ordered garden medley with garlic and drunken noodles which should have lots of basil in it.  The medley had no garlic and was sour.  The drunken noodles had no basil and after we asked the rude owner for some basil he told us that its in there but he will bring us some raw basil.  I think he must have been drunk to screw up 2 dishes that we have ordered 10 times before.  He treats the customer like an idiot.  \n",
              "4                                                                                                                                                                                                                                                                                                                                                                                                                                                                                                                                                                                                                                                                                                                                               I have never dined in. The restaurant itself is always pretty slow but the takeout is delicious. I really enjoy the soups. I have tried a number of entrees and they have been delicious. The lady dish I tried had sauteed pumpkin. It was something I have never tried but it was great!  "
            ]
          },
          "metadata": {
            "tags": []
          },
          "execution_count": 7
        }
      ]
    },
    {
      "cell_type": "code",
      "metadata": {
        "id": "7Ok4Entmr5bt",
        "colab_type": "code",
        "colab": {
          "base_uri": "https://localhost:8080/",
          "height": 34
        },
        "outputId": "02081009-79aa-4918-a167-8c23af173245"
      },
      "source": [
        "rev.columns"
      ],
      "execution_count": 8,
      "outputs": [
        {
          "output_type": "execute_result",
          "data": {
            "text/plain": [
              "Index(['Unnamed: 0', 'review_id', 'reviews_stars', 'date', 'text'], dtype='object')"
            ]
          },
          "metadata": {
            "tags": []
          },
          "execution_count": 8
        }
      ]
    },
    {
      "cell_type": "code",
      "metadata": {
        "id": "o_ceyrqirkSr",
        "colab_type": "code",
        "colab": {
          "base_uri": "https://localhost:8080/",
          "height": 459
        },
        "outputId": "24ba52b8-8df7-434f-81a5-ce84899fab3a"
      },
      "source": [
        "rev = rev.drop(columns=[\"Unnamed: 0\"])\n",
        "rev.head()"
      ],
      "execution_count": 9,
      "outputs": [
        {
          "output_type": "execute_result",
          "data": {
            "text/html": [
              "<div>\n",
              "<style scoped>\n",
              "    .dataframe tbody tr th:only-of-type {\n",
              "        vertical-align: middle;\n",
              "    }\n",
              "\n",
              "    .dataframe tbody tr th {\n",
              "        vertical-align: top;\n",
              "    }\n",
              "\n",
              "    .dataframe thead th {\n",
              "        text-align: right;\n",
              "    }\n",
              "</style>\n",
              "<table border=\"1\" class=\"dataframe\">\n",
              "  <thead>\n",
              "    <tr style=\"text-align: right;\">\n",
              "      <th></th>\n",
              "      <th>review_id</th>\n",
              "      <th>reviews_stars</th>\n",
              "      <th>date</th>\n",
              "      <th>text</th>\n",
              "    </tr>\n",
              "  </thead>\n",
              "  <tbody>\n",
              "    <tr>\n",
              "      <th>0</th>\n",
              "      <td>Oa-sapLub0wRAzxRKVmtDQ</td>\n",
              "      <td>5.0</td>\n",
              "      <td>2017-02-23 03:10:38</td>\n",
              "      <td>Best thai food in Mesa, and you get so much food for your money. We have tried almost every thai place in the area, and think Papaya thai is by far the best - and always ends u p being the cheapest too. Only eating here for thair food for now on!!</td>\n",
              "    </tr>\n",
              "    <tr>\n",
              "      <th>1</th>\n",
              "      <td>NawvdCkVIvhMO_eMVMdBhw</td>\n",
              "      <td>3.0</td>\n",
              "      <td>2010-12-04 00:38:28</td>\n",
              "      <td>There are several contributing factors to the 3-starness of Papaya Thai, but it isn't necessarily the food.   This place is literally a block away from my house, and I have ventured frequently because of its proximity, reasonable pricing, and portioning.  \\n\\nGiant fish tanks with some cool tropical fish are strewn about, but then there is this tank with the ugliest eel-like fish and catfish.  It makes it hard for me to eat looking at them, so I opt for seats facing the opposite direction.  I also feel like there are too many tables for the amount of space.  If the restaurant where ever full, I think I would knock into someone's head with the imaginary purse that I do not carry. \\n\\nNow onto the food.  I love that there are spiciness scales that I do not adhere too.  I always ask extra, extra spicy, and they don't just throw a handful of red chile flakes into the dish that I order.  Every curry dish I have ordered has tasted the way it should, not like coconut milk or peanuts.  The...</td>\n",
              "    </tr>\n",
              "    <tr>\n",
              "      <th>2</th>\n",
              "      <td>uBWpaM4_PQ1NMB3N9nYkJA</td>\n",
              "      <td>1.0</td>\n",
              "      <td>2012-03-07 21:51:40</td>\n",
              "      <td>Moving to the Phoenix area was a shock to begin with and it has been difficult finding truly great Thai food establishments, especially in the far East Valley. However, of all the places I have tried, which is nearly 15 in just under 2 years, Papaya Thai on University Dr. in Mesa is the absolute WORST! \\n\\nI am a HUGE fan of all styles of Thai Food. I've traveled throughout Asia on more than one occassion, taught English in China and spent years seeking out authentic eateries in the Asian-based areas of this country's biggest Metropolitan cities. Thai food holds a special place in my heart, but never have I been as disappointed as I was with my experience at Papaya Thai!\\n\\nIf Papaya Thai was worth the words, I would gladly go into more detail about the atmosphere, the menu and the quality-to-value ratio, as I do with my other reviews... \\n\\nHowever, there's really not much to say about this dark and dirty hole-in-the-wall next to the Dollar Store. The service isn't worth the price...</td>\n",
              "    </tr>\n",
              "    <tr>\n",
              "      <th>3</th>\n",
              "      <td>EIcE_Xw9G5bDAY-XQ0Vosg</td>\n",
              "      <td>1.0</td>\n",
              "      <td>2011-10-06 00:29:51</td>\n",
              "      <td>Usually ok but today we went and ordered garden medley with garlic and drunken noodles which should have lots of basil in it.  The medley had no garlic and was sour.  The drunken noodles had no basil and after we asked the rude owner for some basil he told us that its in there but he will bring us some raw basil.  I think he must have been drunk to screw up 2 dishes that we have ordered 10 times before.  He treats the customer like an idiot.</td>\n",
              "    </tr>\n",
              "    <tr>\n",
              "      <th>4</th>\n",
              "      <td>BXTxF_ijBmm5RPYELr-5RQ</td>\n",
              "      <td>4.0</td>\n",
              "      <td>2013-11-20 03:08:02</td>\n",
              "      <td>I have never dined in. The restaurant itself is always pretty slow but the takeout is delicious. I really enjoy the soups. I have tried a number of entrees and they have been delicious. The lady dish I tried had sauteed pumpkin. It was something I have never tried but it was great!</td>\n",
              "    </tr>\n",
              "  </tbody>\n",
              "</table>\n",
              "</div>"
            ],
            "text/plain": [
              "                review_id  reviews_stars                 date  \\\n",
              "0  Oa-sapLub0wRAzxRKVmtDQ            5.0  2017-02-23 03:10:38   \n",
              "1  NawvdCkVIvhMO_eMVMdBhw            3.0  2010-12-04 00:38:28   \n",
              "2  uBWpaM4_PQ1NMB3N9nYkJA            1.0  2012-03-07 21:51:40   \n",
              "3  EIcE_Xw9G5bDAY-XQ0Vosg            1.0  2011-10-06 00:29:51   \n",
              "4  BXTxF_ijBmm5RPYELr-5RQ            4.0  2013-11-20 03:08:02   \n",
              "\n",
              "                                                                                                                                                                                                                                                                                                                                                                                                                                                                                                                                                                                                                                                                                                                                                                                                                                                                                                                                                                                                                                      text  \n",
              "0                                                                                                                                                                                                                                                                                                                                                                                                                                                                                                                                                                                                                                                                                                                                                                                  Best thai food in Mesa, and you get so much food for your money. We have tried almost every thai place in the area, and think Papaya thai is by far the best - and always ends u p being the cheapest too. Only eating here for thair food for now on!!  \n",
              "1  There are several contributing factors to the 3-starness of Papaya Thai, but it isn't necessarily the food.   This place is literally a block away from my house, and I have ventured frequently because of its proximity, reasonable pricing, and portioning.  \\n\\nGiant fish tanks with some cool tropical fish are strewn about, but then there is this tank with the ugliest eel-like fish and catfish.  It makes it hard for me to eat looking at them, so I opt for seats facing the opposite direction.  I also feel like there are too many tables for the amount of space.  If the restaurant where ever full, I think I would knock into someone's head with the imaginary purse that I do not carry. \\n\\nNow onto the food.  I love that there are spiciness scales that I do not adhere too.  I always ask extra, extra spicy, and they don't just throw a handful of red chile flakes into the dish that I order.  Every curry dish I have ordered has tasted the way it should, not like coconut milk or peanuts.  The...  \n",
              "2  Moving to the Phoenix area was a shock to begin with and it has been difficult finding truly great Thai food establishments, especially in the far East Valley. However, of all the places I have tried, which is nearly 15 in just under 2 years, Papaya Thai on University Dr. in Mesa is the absolute WORST! \\n\\nI am a HUGE fan of all styles of Thai Food. I've traveled throughout Asia on more than one occassion, taught English in China and spent years seeking out authentic eateries in the Asian-based areas of this country's biggest Metropolitan cities. Thai food holds a special place in my heart, but never have I been as disappointed as I was with my experience at Papaya Thai!\\n\\nIf Papaya Thai was worth the words, I would gladly go into more detail about the atmosphere, the menu and the quality-to-value ratio, as I do with my other reviews... \\n\\nHowever, there's really not much to say about this dark and dirty hole-in-the-wall next to the Dollar Store. The service isn't worth the price...  \n",
              "3                                                                                                                                                                                                                                                                                                                                                                                                                                                                                                                                                                            Usually ok but today we went and ordered garden medley with garlic and drunken noodles which should have lots of basil in it.  The medley had no garlic and was sour.  The drunken noodles had no basil and after we asked the rude owner for some basil he told us that its in there but he will bring us some raw basil.  I think he must have been drunk to screw up 2 dishes that we have ordered 10 times before.  He treats the customer like an idiot.  \n",
              "4                                                                                                                                                                                                                                                                                                                                                                                                                                                                                                                                                                                                                                                                                                                                               I have never dined in. The restaurant itself is always pretty slow but the takeout is delicious. I really enjoy the soups. I have tried a number of entrees and they have been delicious. The lady dish I tried had sauteed pumpkin. It was something I have never tried but it was great!  "
            ]
          },
          "metadata": {
            "tags": []
          },
          "execution_count": 9
        }
      ]
    },
    {
      "cell_type": "code",
      "metadata": {
        "id": "DGB2CSbmsU4O",
        "colab_type": "code",
        "colab": {
          "base_uri": "https://localhost:8080/",
          "height": 102
        },
        "outputId": "c9383d4d-c39c-4e5a-bb49-445c8e51666d"
      },
      "source": [
        "rev.dtypes"
      ],
      "execution_count": 10,
      "outputs": [
        {
          "output_type": "execute_result",
          "data": {
            "text/plain": [
              "review_id         object\n",
              "reviews_stars    float64\n",
              "date              object\n",
              "text              object\n",
              "dtype: object"
            ]
          },
          "metadata": {
            "tags": []
          },
          "execution_count": 10
        }
      ]
    },
    {
      "cell_type": "code",
      "metadata": {
        "id": "JQaEDcrbGuV1",
        "colab_type": "code",
        "colab": {}
      },
      "source": [
        "#rev['text'] = rev['text'].str"
      ],
      "execution_count": 11,
      "outputs": []
    },
    {
      "cell_type": "markdown",
      "metadata": {
        "id": "6j5E0SdynnX9",
        "colab_type": "text"
      },
      "source": [
        "\n",
        "# Possible NLTK Text Cleaning to work around String"
      ]
    },
    {
      "cell_type": "code",
      "metadata": {
        "id": "wd9W9GbXoAEZ",
        "colab_type": "code",
        "colab": {}
      },
      "source": [
        "from nltk.tokenize import word_tokenize\n",
        "\n",
        "def token(df):\n",
        "  for x in reviews:\n",
        "    tokens = word_tokenize(df['date'])\n",
        "  words = [word for word in tokens if word.isalpha()]"
      ],
      "execution_count": 12,
      "outputs": []
    },
    {
      "cell_type": "code",
      "metadata": {
        "id": "AN6VvurIlPKh",
        "colab_type": "code",
        "colab": {}
      },
      "source": [
        "df = rev"
      ],
      "execution_count": 13,
      "outputs": []
    },
    {
      "cell_type": "code",
      "metadata": {
        "id": "bT_Pdc7blkGm",
        "colab_type": "code",
        "colab": {}
      },
      "source": [
        "#df['cleaned_text'] = df['text']"
      ],
      "execution_count": 14,
      "outputs": []
    },
    {
      "cell_type": "code",
      "metadata": {
        "id": "MSMpFlQ5kF2E",
        "colab_type": "code",
        "colab": {}
      },
      "source": [
        "#df['cleaned_text'] = df['cleaned_text'].replace(r'[^\\w\\s]','')"
      ],
      "execution_count": 15,
      "outputs": []
    },
    {
      "cell_type": "code",
      "metadata": {
        "id": "bsY_osr-rV08",
        "colab_type": "code",
        "colab": {
          "base_uri": "https://localhost:8080/",
          "height": 459
        },
        "outputId": "2a5e2529-1f09-4588-ead0-bc674989056d"
      },
      "source": [
        "df.head()"
      ],
      "execution_count": 16,
      "outputs": [
        {
          "output_type": "execute_result",
          "data": {
            "text/html": [
              "<div>\n",
              "<style scoped>\n",
              "    .dataframe tbody tr th:only-of-type {\n",
              "        vertical-align: middle;\n",
              "    }\n",
              "\n",
              "    .dataframe tbody tr th {\n",
              "        vertical-align: top;\n",
              "    }\n",
              "\n",
              "    .dataframe thead th {\n",
              "        text-align: right;\n",
              "    }\n",
              "</style>\n",
              "<table border=\"1\" class=\"dataframe\">\n",
              "  <thead>\n",
              "    <tr style=\"text-align: right;\">\n",
              "      <th></th>\n",
              "      <th>review_id</th>\n",
              "      <th>reviews_stars</th>\n",
              "      <th>date</th>\n",
              "      <th>text</th>\n",
              "    </tr>\n",
              "  </thead>\n",
              "  <tbody>\n",
              "    <tr>\n",
              "      <th>0</th>\n",
              "      <td>Oa-sapLub0wRAzxRKVmtDQ</td>\n",
              "      <td>5.0</td>\n",
              "      <td>2017-02-23 03:10:38</td>\n",
              "      <td>Best thai food in Mesa, and you get so much food for your money. We have tried almost every thai place in the area, and think Papaya thai is by far the best - and always ends u p being the cheapest too. Only eating here for thair food for now on!!</td>\n",
              "    </tr>\n",
              "    <tr>\n",
              "      <th>1</th>\n",
              "      <td>NawvdCkVIvhMO_eMVMdBhw</td>\n",
              "      <td>3.0</td>\n",
              "      <td>2010-12-04 00:38:28</td>\n",
              "      <td>There are several contributing factors to the 3-starness of Papaya Thai, but it isn't necessarily the food.   This place is literally a block away from my house, and I have ventured frequently because of its proximity, reasonable pricing, and portioning.  \\n\\nGiant fish tanks with some cool tropical fish are strewn about, but then there is this tank with the ugliest eel-like fish and catfish.  It makes it hard for me to eat looking at them, so I opt for seats facing the opposite direction.  I also feel like there are too many tables for the amount of space.  If the restaurant where ever full, I think I would knock into someone's head with the imaginary purse that I do not carry. \\n\\nNow onto the food.  I love that there are spiciness scales that I do not adhere too.  I always ask extra, extra spicy, and they don't just throw a handful of red chile flakes into the dish that I order.  Every curry dish I have ordered has tasted the way it should, not like coconut milk or peanuts.  The...</td>\n",
              "    </tr>\n",
              "    <tr>\n",
              "      <th>2</th>\n",
              "      <td>uBWpaM4_PQ1NMB3N9nYkJA</td>\n",
              "      <td>1.0</td>\n",
              "      <td>2012-03-07 21:51:40</td>\n",
              "      <td>Moving to the Phoenix area was a shock to begin with and it has been difficult finding truly great Thai food establishments, especially in the far East Valley. However, of all the places I have tried, which is nearly 15 in just under 2 years, Papaya Thai on University Dr. in Mesa is the absolute WORST! \\n\\nI am a HUGE fan of all styles of Thai Food. I've traveled throughout Asia on more than one occassion, taught English in China and spent years seeking out authentic eateries in the Asian-based areas of this country's biggest Metropolitan cities. Thai food holds a special place in my heart, but never have I been as disappointed as I was with my experience at Papaya Thai!\\n\\nIf Papaya Thai was worth the words, I would gladly go into more detail about the atmosphere, the menu and the quality-to-value ratio, as I do with my other reviews... \\n\\nHowever, there's really not much to say about this dark and dirty hole-in-the-wall next to the Dollar Store. The service isn't worth the price...</td>\n",
              "    </tr>\n",
              "    <tr>\n",
              "      <th>3</th>\n",
              "      <td>EIcE_Xw9G5bDAY-XQ0Vosg</td>\n",
              "      <td>1.0</td>\n",
              "      <td>2011-10-06 00:29:51</td>\n",
              "      <td>Usually ok but today we went and ordered garden medley with garlic and drunken noodles which should have lots of basil in it.  The medley had no garlic and was sour.  The drunken noodles had no basil and after we asked the rude owner for some basil he told us that its in there but he will bring us some raw basil.  I think he must have been drunk to screw up 2 dishes that we have ordered 10 times before.  He treats the customer like an idiot.</td>\n",
              "    </tr>\n",
              "    <tr>\n",
              "      <th>4</th>\n",
              "      <td>BXTxF_ijBmm5RPYELr-5RQ</td>\n",
              "      <td>4.0</td>\n",
              "      <td>2013-11-20 03:08:02</td>\n",
              "      <td>I have never dined in. The restaurant itself is always pretty slow but the takeout is delicious. I really enjoy the soups. I have tried a number of entrees and they have been delicious. The lady dish I tried had sauteed pumpkin. It was something I have never tried but it was great!</td>\n",
              "    </tr>\n",
              "  </tbody>\n",
              "</table>\n",
              "</div>"
            ],
            "text/plain": [
              "                review_id  reviews_stars                 date  \\\n",
              "0  Oa-sapLub0wRAzxRKVmtDQ            5.0  2017-02-23 03:10:38   \n",
              "1  NawvdCkVIvhMO_eMVMdBhw            3.0  2010-12-04 00:38:28   \n",
              "2  uBWpaM4_PQ1NMB3N9nYkJA            1.0  2012-03-07 21:51:40   \n",
              "3  EIcE_Xw9G5bDAY-XQ0Vosg            1.0  2011-10-06 00:29:51   \n",
              "4  BXTxF_ijBmm5RPYELr-5RQ            4.0  2013-11-20 03:08:02   \n",
              "\n",
              "                                                                                                                                                                                                                                                                                                                                                                                                                                                                                                                                                                                                                                                                                                                                                                                                                                                                                                                                                                                                                                      text  \n",
              "0                                                                                                                                                                                                                                                                                                                                                                                                                                                                                                                                                                                                                                                                                                                                                                                  Best thai food in Mesa, and you get so much food for your money. We have tried almost every thai place in the area, and think Papaya thai is by far the best - and always ends u p being the cheapest too. Only eating here for thair food for now on!!  \n",
              "1  There are several contributing factors to the 3-starness of Papaya Thai, but it isn't necessarily the food.   This place is literally a block away from my house, and I have ventured frequently because of its proximity, reasonable pricing, and portioning.  \\n\\nGiant fish tanks with some cool tropical fish are strewn about, but then there is this tank with the ugliest eel-like fish and catfish.  It makes it hard for me to eat looking at them, so I opt for seats facing the opposite direction.  I also feel like there are too many tables for the amount of space.  If the restaurant where ever full, I think I would knock into someone's head with the imaginary purse that I do not carry. \\n\\nNow onto the food.  I love that there are spiciness scales that I do not adhere too.  I always ask extra, extra spicy, and they don't just throw a handful of red chile flakes into the dish that I order.  Every curry dish I have ordered has tasted the way it should, not like coconut milk or peanuts.  The...  \n",
              "2  Moving to the Phoenix area was a shock to begin with and it has been difficult finding truly great Thai food establishments, especially in the far East Valley. However, of all the places I have tried, which is nearly 15 in just under 2 years, Papaya Thai on University Dr. in Mesa is the absolute WORST! \\n\\nI am a HUGE fan of all styles of Thai Food. I've traveled throughout Asia on more than one occassion, taught English in China and spent years seeking out authentic eateries in the Asian-based areas of this country's biggest Metropolitan cities. Thai food holds a special place in my heart, but never have I been as disappointed as I was with my experience at Papaya Thai!\\n\\nIf Papaya Thai was worth the words, I would gladly go into more detail about the atmosphere, the menu and the quality-to-value ratio, as I do with my other reviews... \\n\\nHowever, there's really not much to say about this dark and dirty hole-in-the-wall next to the Dollar Store. The service isn't worth the price...  \n",
              "3                                                                                                                                                                                                                                                                                                                                                                                                                                                                                                                                                                            Usually ok but today we went and ordered garden medley with garlic and drunken noodles which should have lots of basil in it.  The medley had no garlic and was sour.  The drunken noodles had no basil and after we asked the rude owner for some basil he told us that its in there but he will bring us some raw basil.  I think he must have been drunk to screw up 2 dishes that we have ordered 10 times before.  He treats the customer like an idiot.  \n",
              "4                                                                                                                                                                                                                                                                                                                                                                                                                                                                                                                                                                                                                                                                                                                                               I have never dined in. The restaurant itself is always pretty slow but the takeout is delicious. I really enjoy the soups. I have tried a number of entrees and they have been delicious. The lady dish I tried had sauteed pumpkin. It was something I have never tried but it was great!  "
            ]
          },
          "metadata": {
            "tags": []
          },
          "execution_count": 16
        }
      ]
    },
    {
      "cell_type": "code",
      "metadata": {
        "id": "TmvSz-vpkGJh",
        "colab_type": "code",
        "colab": {}
      },
      "source": [
        "tokenizer = nltk.RegexpTokenizer(r\"\\w+\")\n",
        "# df['cleaned_text'] = tokenizer.tokenize(df['text'])"
      ],
      "execution_count": 17,
      "outputs": []
    },
    {
      "cell_type": "code",
      "metadata": {
        "id": "TB0fnC0Hyb0A",
        "colab_type": "code",
        "colab": {}
      },
      "source": [
        "# def customtokensize(text):\n",
        "#     return tokenizer.tokenize(text)\n",
        "\n",
        "# df['tokenized_text'] = df['text'].apply(customtokensize)\n",
        "# df.head(2)"
      ],
      "execution_count": 18,
      "outputs": []
    },
    {
      "cell_type": "code",
      "metadata": {
        "id": "jNNaOgbmzK1h",
        "colab_type": "code",
        "colab": {
          "base_uri": "https://localhost:8080/",
          "height": 111
        },
        "outputId": "c4ed71e3-1261-4fd6-f48b-cc6b5958fc0b"
      },
      "source": [
        "df.loc[df.isnull().any(axis=1)]"
      ],
      "execution_count": 19,
      "outputs": [
        {
          "output_type": "execute_result",
          "data": {
            "text/html": [
              "<div>\n",
              "<style scoped>\n",
              "    .dataframe tbody tr th:only-of-type {\n",
              "        vertical-align: middle;\n",
              "    }\n",
              "\n",
              "    .dataframe tbody tr th {\n",
              "        vertical-align: top;\n",
              "    }\n",
              "\n",
              "    .dataframe thead th {\n",
              "        text-align: right;\n",
              "    }\n",
              "</style>\n",
              "<table border=\"1\" class=\"dataframe\">\n",
              "  <thead>\n",
              "    <tr style=\"text-align: right;\">\n",
              "      <th></th>\n",
              "      <th>review_id</th>\n",
              "      <th>reviews_stars</th>\n",
              "      <th>date</th>\n",
              "      <th>text</th>\n",
              "    </tr>\n",
              "  </thead>\n",
              "  <tbody>\n",
              "    <tr>\n",
              "      <th>564707</th>\n",
              "      <td>NaN</td>\n",
              "      <td>NaN</td>\n",
              "      <td>NaN</td>\n",
              "      <td>NaN</td>\n",
              "    </tr>\n",
              "    <tr>\n",
              "      <th>1549812</th>\n",
              "      <td>iHdxK8lwkYn0rlNh-REuGQ</td>\n",
              "      <td>3.0</td>\n",
              "      <td>2014-12-26 08:32:06</td>\n",
              "      <td>NaN</td>\n",
              "    </tr>\n",
              "  </tbody>\n",
              "</table>\n",
              "</div>"
            ],
            "text/plain": [
              "                      review_id  reviews_stars                 date text\n",
              "564707                      NaN            NaN                  NaN  NaN\n",
              "1549812  iHdxK8lwkYn0rlNh-REuGQ            3.0  2014-12-26 08:32:06  NaN"
            ]
          },
          "metadata": {
            "tags": []
          },
          "execution_count": 19
        }
      ]
    },
    {
      "cell_type": "code",
      "metadata": {
        "id": "VwwR8vWO0noP",
        "colab_type": "code",
        "colab": {
          "base_uri": "https://localhost:8080/",
          "height": 111
        },
        "outputId": "d84c8a3f-68cd-4b44-819e-99def133d718"
      },
      "source": [
        "df.loc[df.isna().any(axis=1)]"
      ],
      "execution_count": 20,
      "outputs": [
        {
          "output_type": "execute_result",
          "data": {
            "text/html": [
              "<div>\n",
              "<style scoped>\n",
              "    .dataframe tbody tr th:only-of-type {\n",
              "        vertical-align: middle;\n",
              "    }\n",
              "\n",
              "    .dataframe tbody tr th {\n",
              "        vertical-align: top;\n",
              "    }\n",
              "\n",
              "    .dataframe thead th {\n",
              "        text-align: right;\n",
              "    }\n",
              "</style>\n",
              "<table border=\"1\" class=\"dataframe\">\n",
              "  <thead>\n",
              "    <tr style=\"text-align: right;\">\n",
              "      <th></th>\n",
              "      <th>review_id</th>\n",
              "      <th>reviews_stars</th>\n",
              "      <th>date</th>\n",
              "      <th>text</th>\n",
              "    </tr>\n",
              "  </thead>\n",
              "  <tbody>\n",
              "    <tr>\n",
              "      <th>564707</th>\n",
              "      <td>NaN</td>\n",
              "      <td>NaN</td>\n",
              "      <td>NaN</td>\n",
              "      <td>NaN</td>\n",
              "    </tr>\n",
              "    <tr>\n",
              "      <th>1549812</th>\n",
              "      <td>iHdxK8lwkYn0rlNh-REuGQ</td>\n",
              "      <td>3.0</td>\n",
              "      <td>2014-12-26 08:32:06</td>\n",
              "      <td>NaN</td>\n",
              "    </tr>\n",
              "  </tbody>\n",
              "</table>\n",
              "</div>"
            ],
            "text/plain": [
              "                      review_id  reviews_stars                 date text\n",
              "564707                      NaN            NaN                  NaN  NaN\n",
              "1549812  iHdxK8lwkYn0rlNh-REuGQ            3.0  2014-12-26 08:32:06  NaN"
            ]
          },
          "metadata": {
            "tags": []
          },
          "execution_count": 20
        }
      ]
    },
    {
      "cell_type": "code",
      "metadata": {
        "id": "J2xY8FR1PpAK",
        "colab_type": "code",
        "colab": {
          "base_uri": "https://localhost:8080/",
          "height": 34
        },
        "outputId": "c80d9316-5fa7-4349-98ae-3c6321c253ba"
      },
      "source": [
        "df.shape"
      ],
      "execution_count": 21,
      "outputs": [
        {
          "output_type": "execute_result",
          "data": {
            "text/plain": [
              "(3244807, 4)"
            ]
          },
          "metadata": {
            "tags": []
          },
          "execution_count": 21
        }
      ]
    },
    {
      "cell_type": "code",
      "metadata": {
        "id": "VtmVYsJcSIak",
        "colab_type": "code",
        "colab": {}
      },
      "source": [
        "df = df[df.isna().any(axis=1)==False]"
      ],
      "execution_count": 22,
      "outputs": []
    },
    {
      "cell_type": "code",
      "metadata": {
        "id": "P1ImwVClQ8Bf",
        "colab_type": "code",
        "colab": {}
      },
      "source": [
        "## uncomment the below to test code on a smaller size dataframe\n",
        "#df = df.sample(frac=0.05)"
      ],
      "execution_count": 23,
      "outputs": []
    },
    {
      "cell_type": "code",
      "metadata": {
        "id": "3sS0X-Iy32mS",
        "colab_type": "code",
        "colab": {}
      },
      "source": [
        "df2 = dd.from_pandas(df, npartitions=12)"
      ],
      "execution_count": 24,
      "outputs": []
    },
    {
      "cell_type": "code",
      "metadata": {
        "id": "QCk1A2h3RHwY",
        "colab_type": "code",
        "colab": {
          "base_uri": "https://localhost:8080/",
          "height": 459
        },
        "outputId": "ba98bfde-fb84-415c-9cf7-3f5bcfd83237"
      },
      "source": [
        "df2.head()"
      ],
      "execution_count": 25,
      "outputs": [
        {
          "output_type": "execute_result",
          "data": {
            "text/html": [
              "<div>\n",
              "<style scoped>\n",
              "    .dataframe tbody tr th:only-of-type {\n",
              "        vertical-align: middle;\n",
              "    }\n",
              "\n",
              "    .dataframe tbody tr th {\n",
              "        vertical-align: top;\n",
              "    }\n",
              "\n",
              "    .dataframe thead th {\n",
              "        text-align: right;\n",
              "    }\n",
              "</style>\n",
              "<table border=\"1\" class=\"dataframe\">\n",
              "  <thead>\n",
              "    <tr style=\"text-align: right;\">\n",
              "      <th></th>\n",
              "      <th>review_id</th>\n",
              "      <th>reviews_stars</th>\n",
              "      <th>date</th>\n",
              "      <th>text</th>\n",
              "    </tr>\n",
              "  </thead>\n",
              "  <tbody>\n",
              "    <tr>\n",
              "      <th>0</th>\n",
              "      <td>Oa-sapLub0wRAzxRKVmtDQ</td>\n",
              "      <td>5.0</td>\n",
              "      <td>2017-02-23 03:10:38</td>\n",
              "      <td>Best thai food in Mesa, and you get so much food for your money. We have tried almost every thai place in the area, and think Papaya thai is by far the best - and always ends u p being the cheapest too. Only eating here for thair food for now on!!</td>\n",
              "    </tr>\n",
              "    <tr>\n",
              "      <th>1</th>\n",
              "      <td>NawvdCkVIvhMO_eMVMdBhw</td>\n",
              "      <td>3.0</td>\n",
              "      <td>2010-12-04 00:38:28</td>\n",
              "      <td>There are several contributing factors to the 3-starness of Papaya Thai, but it isn't necessarily the food.   This place is literally a block away from my house, and I have ventured frequently because of its proximity, reasonable pricing, and portioning.  \\n\\nGiant fish tanks with some cool tropical fish are strewn about, but then there is this tank with the ugliest eel-like fish and catfish.  It makes it hard for me to eat looking at them, so I opt for seats facing the opposite direction.  I also feel like there are too many tables for the amount of space.  If the restaurant where ever full, I think I would knock into someone's head with the imaginary purse that I do not carry. \\n\\nNow onto the food.  I love that there are spiciness scales that I do not adhere too.  I always ask extra, extra spicy, and they don't just throw a handful of red chile flakes into the dish that I order.  Every curry dish I have ordered has tasted the way it should, not like coconut milk or peanuts.  The...</td>\n",
              "    </tr>\n",
              "    <tr>\n",
              "      <th>2</th>\n",
              "      <td>uBWpaM4_PQ1NMB3N9nYkJA</td>\n",
              "      <td>1.0</td>\n",
              "      <td>2012-03-07 21:51:40</td>\n",
              "      <td>Moving to the Phoenix area was a shock to begin with and it has been difficult finding truly great Thai food establishments, especially in the far East Valley. However, of all the places I have tried, which is nearly 15 in just under 2 years, Papaya Thai on University Dr. in Mesa is the absolute WORST! \\n\\nI am a HUGE fan of all styles of Thai Food. I've traveled throughout Asia on more than one occassion, taught English in China and spent years seeking out authentic eateries in the Asian-based areas of this country's biggest Metropolitan cities. Thai food holds a special place in my heart, but never have I been as disappointed as I was with my experience at Papaya Thai!\\n\\nIf Papaya Thai was worth the words, I would gladly go into more detail about the atmosphere, the menu and the quality-to-value ratio, as I do with my other reviews... \\n\\nHowever, there's really not much to say about this dark and dirty hole-in-the-wall next to the Dollar Store. The service isn't worth the price...</td>\n",
              "    </tr>\n",
              "    <tr>\n",
              "      <th>3</th>\n",
              "      <td>EIcE_Xw9G5bDAY-XQ0Vosg</td>\n",
              "      <td>1.0</td>\n",
              "      <td>2011-10-06 00:29:51</td>\n",
              "      <td>Usually ok but today we went and ordered garden medley with garlic and drunken noodles which should have lots of basil in it.  The medley had no garlic and was sour.  The drunken noodles had no basil and after we asked the rude owner for some basil he told us that its in there but he will bring us some raw basil.  I think he must have been drunk to screw up 2 dishes that we have ordered 10 times before.  He treats the customer like an idiot.</td>\n",
              "    </tr>\n",
              "    <tr>\n",
              "      <th>4</th>\n",
              "      <td>BXTxF_ijBmm5RPYELr-5RQ</td>\n",
              "      <td>4.0</td>\n",
              "      <td>2013-11-20 03:08:02</td>\n",
              "      <td>I have never dined in. The restaurant itself is always pretty slow but the takeout is delicious. I really enjoy the soups. I have tried a number of entrees and they have been delicious. The lady dish I tried had sauteed pumpkin. It was something I have never tried but it was great!</td>\n",
              "    </tr>\n",
              "  </tbody>\n",
              "</table>\n",
              "</div>"
            ],
            "text/plain": [
              "                review_id  reviews_stars                 date  \\\n",
              "0  Oa-sapLub0wRAzxRKVmtDQ            5.0  2017-02-23 03:10:38   \n",
              "1  NawvdCkVIvhMO_eMVMdBhw            3.0  2010-12-04 00:38:28   \n",
              "2  uBWpaM4_PQ1NMB3N9nYkJA            1.0  2012-03-07 21:51:40   \n",
              "3  EIcE_Xw9G5bDAY-XQ0Vosg            1.0  2011-10-06 00:29:51   \n",
              "4  BXTxF_ijBmm5RPYELr-5RQ            4.0  2013-11-20 03:08:02   \n",
              "\n",
              "                                                                                                                                                                                                                                                                                                                                                                                                                                                                                                                                                                                                                                                                                                                                                                                                                                                                                                                                                                                                                                      text  \n",
              "0                                                                                                                                                                                                                                                                                                                                                                                                                                                                                                                                                                                                                                                                                                                                                                                  Best thai food in Mesa, and you get so much food for your money. We have tried almost every thai place in the area, and think Papaya thai is by far the best - and always ends u p being the cheapest too. Only eating here for thair food for now on!!  \n",
              "1  There are several contributing factors to the 3-starness of Papaya Thai, but it isn't necessarily the food.   This place is literally a block away from my house, and I have ventured frequently because of its proximity, reasonable pricing, and portioning.  \\n\\nGiant fish tanks with some cool tropical fish are strewn about, but then there is this tank with the ugliest eel-like fish and catfish.  It makes it hard for me to eat looking at them, so I opt for seats facing the opposite direction.  I also feel like there are too many tables for the amount of space.  If the restaurant where ever full, I think I would knock into someone's head with the imaginary purse that I do not carry. \\n\\nNow onto the food.  I love that there are spiciness scales that I do not adhere too.  I always ask extra, extra spicy, and they don't just throw a handful of red chile flakes into the dish that I order.  Every curry dish I have ordered has tasted the way it should, not like coconut milk or peanuts.  The...  \n",
              "2  Moving to the Phoenix area was a shock to begin with and it has been difficult finding truly great Thai food establishments, especially in the far East Valley. However, of all the places I have tried, which is nearly 15 in just under 2 years, Papaya Thai on University Dr. in Mesa is the absolute WORST! \\n\\nI am a HUGE fan of all styles of Thai Food. I've traveled throughout Asia on more than one occassion, taught English in China and spent years seeking out authentic eateries in the Asian-based areas of this country's biggest Metropolitan cities. Thai food holds a special place in my heart, but never have I been as disappointed as I was with my experience at Papaya Thai!\\n\\nIf Papaya Thai was worth the words, I would gladly go into more detail about the atmosphere, the menu and the quality-to-value ratio, as I do with my other reviews... \\n\\nHowever, there's really not much to say about this dark and dirty hole-in-the-wall next to the Dollar Store. The service isn't worth the price...  \n",
              "3                                                                                                                                                                                                                                                                                                                                                                                                                                                                                                                                                                            Usually ok but today we went and ordered garden medley with garlic and drunken noodles which should have lots of basil in it.  The medley had no garlic and was sour.  The drunken noodles had no basil and after we asked the rude owner for some basil he told us that its in there but he will bring us some raw basil.  I think he must have been drunk to screw up 2 dishes that we have ordered 10 times before.  He treats the customer like an idiot.  \n",
              "4                                                                                                                                                                                                                                                                                                                                                                                                                                                                                                                                                                                                                                                                                                                                               I have never dined in. The restaurant itself is always pretty slow but the takeout is delicious. I really enjoy the soups. I have tried a number of entrees and they have been delicious. The lady dish I tried had sauteed pumpkin. It was something I have never tried but it was great!  "
            ]
          },
          "metadata": {
            "tags": []
          },
          "execution_count": 25
        }
      ]
    },
    {
      "cell_type": "code",
      "metadata": {
        "id": "FWrO-46K1Rcs",
        "colab_type": "code",
        "colab": {
          "base_uri": "https://localhost:8080/",
          "height": 400
        },
        "outputId": "1d46278c-7efe-4c97-d368-883f7def307a"
      },
      "source": [
        "def customtokensize(text):\n",
        "    return tokenizer.tokenize(text)\n",
        "\n",
        "df2['tokenized_text'] = df2['text'].apply(customtokensize)\n",
        "df2.head(2)"
      ],
      "execution_count": 26,
      "outputs": [
        {
          "output_type": "stream",
          "text": [
            "/usr/local/lib/python3.6/dist-packages/dask/dataframe/core.py:3073: UserWarning: \n",
            "You did not provide metadata, so Dask is running your function on a small dataset to guess output types. It is possible that Dask will guess incorrectly.\n",
            "To provide an explicit output types or to silence this message, please provide the `meta=` keyword, as described in the map or apply function that you are using.\n",
            "  Before: .apply(func)\n",
            "  After:  .apply(func, meta=('text', 'object'))\n",
            "\n",
            "  warnings.warn(meta_warning(meta))\n"
          ],
          "name": "stderr"
        },
        {
          "output_type": "execute_result",
          "data": {
            "text/html": [
              "<div>\n",
              "<style scoped>\n",
              "    .dataframe tbody tr th:only-of-type {\n",
              "        vertical-align: middle;\n",
              "    }\n",
              "\n",
              "    .dataframe tbody tr th {\n",
              "        vertical-align: top;\n",
              "    }\n",
              "\n",
              "    .dataframe thead th {\n",
              "        text-align: right;\n",
              "    }\n",
              "</style>\n",
              "<table border=\"1\" class=\"dataframe\">\n",
              "  <thead>\n",
              "    <tr style=\"text-align: right;\">\n",
              "      <th></th>\n",
              "      <th>review_id</th>\n",
              "      <th>reviews_stars</th>\n",
              "      <th>date</th>\n",
              "      <th>text</th>\n",
              "      <th>tokenized_text</th>\n",
              "    </tr>\n",
              "  </thead>\n",
              "  <tbody>\n",
              "    <tr>\n",
              "      <th>0</th>\n",
              "      <td>Oa-sapLub0wRAzxRKVmtDQ</td>\n",
              "      <td>5.0</td>\n",
              "      <td>2017-02-23 03:10:38</td>\n",
              "      <td>Best thai food in Mesa, and you get so much food for your money. We have tried almost every thai place in the area, and think Papaya thai is by far the best - and always ends u p being the cheapest too. Only eating here for thair food for now on!!</td>\n",
              "      <td>[Best, thai, food, in, Mesa, and, you, get, so, much, food, for, your, money, We, have, tried, almost, every, thai, place, in, the, area, and, think, Papaya, thai, is, by, far, the, best, and, always, ends, u, p, being, the, cheapest, too, Only, eating, here, for, thair, food, for, now, on]</td>\n",
              "    </tr>\n",
              "    <tr>\n",
              "      <th>1</th>\n",
              "      <td>NawvdCkVIvhMO_eMVMdBhw</td>\n",
              "      <td>3.0</td>\n",
              "      <td>2010-12-04 00:38:28</td>\n",
              "      <td>There are several contributing factors to the 3-starness of Papaya Thai, but it isn't necessarily the food.   This place is literally a block away from my house, and I have ventured frequently because of its proximity, reasonable pricing, and portioning.  \\n\\nGiant fish tanks with some cool tropical fish are strewn about, but then there is this tank with the ugliest eel-like fish and catfish.  It makes it hard for me to eat looking at them, so I opt for seats facing the opposite direction.  I also feel like there are too many tables for the amount of space.  If the restaurant where ever full, I think I would knock into someone's head with the imaginary purse that I do not carry. \\n\\nNow onto the food.  I love that there are spiciness scales that I do not adhere too.  I always ask extra, extra spicy, and they don't just throw a handful of red chile flakes into the dish that I order.  Every curry dish I have ordered has tasted the way it should, not like coconut milk or peanuts.  The...</td>\n",
              "      <td>[There, are, several, contributing, factors, to, the, 3, starness, of, Papaya, Thai, but, it, isn, t, necessarily, the, food, This, place, is, literally, a, block, away, from, my, house, and, I, have, ventured, frequently, because, of, its, proximity, reasonable, pricing, and, portioning, Giant, fish, tanks, with, some, cool, tropical, fish, are, strewn, about, but, then, there, is, this, tank, with, the, ugliest, eel, like, fish, and, catfish, It, makes, it, hard, for, me, to, eat, looking, at, them, so, I, opt, for, seats, facing, the, opposite, direction, I, also, feel, like, there, are, too, many, tables, for, the, amount, of, ...]</td>\n",
              "    </tr>\n",
              "  </tbody>\n",
              "</table>\n",
              "</div>"
            ],
            "text/plain": [
              "                review_id  reviews_stars                 date  \\\n",
              "0  Oa-sapLub0wRAzxRKVmtDQ            5.0  2017-02-23 03:10:38   \n",
              "1  NawvdCkVIvhMO_eMVMdBhw            3.0  2010-12-04 00:38:28   \n",
              "\n",
              "                                                                                                                                                                                                                                                                                                                                                                                                                                                                                                                                                                                                                                                                                                                                                                                                                                                                                                                                                                                                                                      text  \\\n",
              "0                                                                                                                                                                                                                                                                                                                                                                                                                                                                                                                                                                                                                                                                                                                                                                                  Best thai food in Mesa, and you get so much food for your money. We have tried almost every thai place in the area, and think Papaya thai is by far the best - and always ends u p being the cheapest too. Only eating here for thair food for now on!!   \n",
              "1  There are several contributing factors to the 3-starness of Papaya Thai, but it isn't necessarily the food.   This place is literally a block away from my house, and I have ventured frequently because of its proximity, reasonable pricing, and portioning.  \\n\\nGiant fish tanks with some cool tropical fish are strewn about, but then there is this tank with the ugliest eel-like fish and catfish.  It makes it hard for me to eat looking at them, so I opt for seats facing the opposite direction.  I also feel like there are too many tables for the amount of space.  If the restaurant where ever full, I think I would knock into someone's head with the imaginary purse that I do not carry. \\n\\nNow onto the food.  I love that there are spiciness scales that I do not adhere too.  I always ask extra, extra spicy, and they don't just throw a handful of red chile flakes into the dish that I order.  Every curry dish I have ordered has tasted the way it should, not like coconut milk or peanuts.  The...   \n",
              "\n",
              "                                                                                                                                                                                                                                                                                                                                                                                                                                                                                                                                                                                                                                                        tokenized_text  \n",
              "0                                                                                                                                                                                                                                                                                                                                                                  [Best, thai, food, in, Mesa, and, you, get, so, much, food, for, your, money, We, have, tried, almost, every, thai, place, in, the, area, and, think, Papaya, thai, is, by, far, the, best, and, always, ends, u, p, being, the, cheapest, too, Only, eating, here, for, thair, food, for, now, on]  \n",
              "1  [There, are, several, contributing, factors, to, the, 3, starness, of, Papaya, Thai, but, it, isn, t, necessarily, the, food, This, place, is, literally, a, block, away, from, my, house, and, I, have, ventured, frequently, because, of, its, proximity, reasonable, pricing, and, portioning, Giant, fish, tanks, with, some, cool, tropical, fish, are, strewn, about, but, then, there, is, this, tank, with, the, ugliest, eel, like, fish, and, catfish, It, makes, it, hard, for, me, to, eat, looking, at, them, so, I, opt, for, seats, facing, the, opposite, direction, I, also, feel, like, there, are, too, many, tables, for, the, amount, of, ...]  "
            ]
          },
          "metadata": {
            "tags": []
          },
          "execution_count": 26
        }
      ]
    },
    {
      "cell_type": "markdown",
      "metadata": {
        "id": "Cd2NRGYwnuNl",
        "colab_type": "text"
      },
      "source": [
        "# Sentiment Analysis that worked on sample"
      ]
    },
    {
      "cell_type": "code",
      "metadata": {
        "id": "LWxeozndgMa0",
        "colab_type": "code",
        "colab": {}
      },
      "source": [
        "#load VADER\n",
        "analyzer = SentimentIntensityAnalyzer()\n",
        "#Add VADER metrics to dataframe\n"
      ],
      "execution_count": 27,
      "outputs": []
    },
    {
      "cell_type": "code",
      "metadata": {
        "id": "kAgR9xUL4zF7",
        "colab_type": "code",
        "colab": {
          "base_uri": "https://localhost:8080/",
          "height": 281
        },
        "outputId": "c3298d9a-3080-4910-8d4b-fb76aeb4d10d"
      },
      "source": [
        "rev = df2\n",
        "#remove emojis\n",
        "rev['text'] = rev['text'].str.replace('[^\\w\\s#@/:%.,_-]', '', flags=re.UNICODE) \n",
        "rev['text'] = rev['text'].str.replace('[^\\x1F-\\x7F]+', '', flags=re.UNICODE)\n",
        "rev['text'] = rev['text'].str.replace('\\d+', '') #removes digits\n",
        "rev.head(2)  # it seems like it's important to run .head() after any operation(s) that set a column value because dask seems to delay execution until the data is viewed and the operations stack up"
      ],
      "execution_count": 28,
      "outputs": [
        {
          "output_type": "execute_result",
          "data": {
            "text/html": [
              "<div>\n",
              "<style scoped>\n",
              "    .dataframe tbody tr th:only-of-type {\n",
              "        vertical-align: middle;\n",
              "    }\n",
              "\n",
              "    .dataframe tbody tr th {\n",
              "        vertical-align: top;\n",
              "    }\n",
              "\n",
              "    .dataframe thead th {\n",
              "        text-align: right;\n",
              "    }\n",
              "</style>\n",
              "<table border=\"1\" class=\"dataframe\">\n",
              "  <thead>\n",
              "    <tr style=\"text-align: right;\">\n",
              "      <th></th>\n",
              "      <th>review_id</th>\n",
              "      <th>reviews_stars</th>\n",
              "      <th>date</th>\n",
              "      <th>text</th>\n",
              "      <th>tokenized_text</th>\n",
              "    </tr>\n",
              "  </thead>\n",
              "  <tbody>\n",
              "    <tr>\n",
              "      <th>0</th>\n",
              "      <td>Oa-sapLub0wRAzxRKVmtDQ</td>\n",
              "      <td>5.0</td>\n",
              "      <td>2017-02-23 03:10:38</td>\n",
              "      <td>Best thai food in Mesa, and you get so much food for your money. We have tried almost every thai place in the area, and think Papaya thai is by far the best - and always ends u p being the cheapest too. Only eating here for thair food for now on</td>\n",
              "      <td>[Best, thai, food, in, Mesa, and, you, get, so, much, food, for, your, money, We, have, tried, almost, every, thai, place, in, the, area, and, think, Papaya, thai, is, by, far, the, best, and, always, ends, u, p, being, the, cheapest, too, Only, eating, here, for, thair, food, for, now, on]</td>\n",
              "    </tr>\n",
              "    <tr>\n",
              "      <th>1</th>\n",
              "      <td>NawvdCkVIvhMO_eMVMdBhw</td>\n",
              "      <td>3.0</td>\n",
              "      <td>2010-12-04 00:38:28</td>\n",
              "      <td>There are several contributing factors to the -starness of Papaya Thai, but it isnt necessarily the food.   This place is literally a block away from my house, and I have ventured frequently because of its proximity, reasonable pricing, and portioning.  Giant fish tanks with some cool tropical fish are strewn about, but then there is this tank with the ugliest eel-like fish and catfish.  It makes it hard for me to eat looking at them, so I opt for seats facing the opposite direction.  I also feel like there are too many tables for the amount of space.  If the restaurant where ever full, I think I would knock into someones head with the imaginary purse that I do not carry. Now onto the food.  I love that there are spiciness scales that I do not adhere too.  I always ask extra, extra spicy, and they dont just throw a handful of red chile flakes into the dish that I order.  Every curry dish I have ordered has tasted the way it should, not like coconut milk or peanuts.  The price isnt ...</td>\n",
              "      <td>[There, are, several, contributing, factors, to, the, 3, starness, of, Papaya, Thai, but, it, isn, t, necessarily, the, food, This, place, is, literally, a, block, away, from, my, house, and, I, have, ventured, frequently, because, of, its, proximity, reasonable, pricing, and, portioning, Giant, fish, tanks, with, some, cool, tropical, fish, are, strewn, about, but, then, there, is, this, tank, with, the, ugliest, eel, like, fish, and, catfish, It, makes, it, hard, for, me, to, eat, looking, at, them, so, I, opt, for, seats, facing, the, opposite, direction, I, also, feel, like, there, are, too, many, tables, for, the, amount, of, ...]</td>\n",
              "    </tr>\n",
              "  </tbody>\n",
              "</table>\n",
              "</div>"
            ],
            "text/plain": [
              "                review_id  reviews_stars                 date  \\\n",
              "0  Oa-sapLub0wRAzxRKVmtDQ            5.0  2017-02-23 03:10:38   \n",
              "1  NawvdCkVIvhMO_eMVMdBhw            3.0  2010-12-04 00:38:28   \n",
              "\n",
              "                                                                                                                                                                                                                                                                                                                                                                                                                                                                                                                                                                                                                                                                                                                                                                                                                                                                                                                                                                                                                                      text  \\\n",
              "0                                                                                                                                                                                                                                                                                                                                                                                                                                                                                                                                                                                                                                                                                                                                                                                    Best thai food in Mesa, and you get so much food for your money. We have tried almost every thai place in the area, and think Papaya thai is by far the best - and always ends u p being the cheapest too. Only eating here for thair food for now on   \n",
              "1  There are several contributing factors to the -starness of Papaya Thai, but it isnt necessarily the food.   This place is literally a block away from my house, and I have ventured frequently because of its proximity, reasonable pricing, and portioning.  Giant fish tanks with some cool tropical fish are strewn about, but then there is this tank with the ugliest eel-like fish and catfish.  It makes it hard for me to eat looking at them, so I opt for seats facing the opposite direction.  I also feel like there are too many tables for the amount of space.  If the restaurant where ever full, I think I would knock into someones head with the imaginary purse that I do not carry. Now onto the food.  I love that there are spiciness scales that I do not adhere too.  I always ask extra, extra spicy, and they dont just throw a handful of red chile flakes into the dish that I order.  Every curry dish I have ordered has tasted the way it should, not like coconut milk or peanuts.  The price isnt ...   \n",
              "\n",
              "                                                                                                                                                                                                                                                                                                                                                                                                                                                                                                                                                                                                                                                        tokenized_text  \n",
              "0                                                                                                                                                                                                                                                                                                                                                                  [Best, thai, food, in, Mesa, and, you, get, so, much, food, for, your, money, We, have, tried, almost, every, thai, place, in, the, area, and, think, Papaya, thai, is, by, far, the, best, and, always, ends, u, p, being, the, cheapest, too, Only, eating, here, for, thair, food, for, now, on]  \n",
              "1  [There, are, several, contributing, factors, to, the, 3, starness, of, Papaya, Thai, but, it, isn, t, necessarily, the, food, This, place, is, literally, a, block, away, from, my, house, and, I, have, ventured, frequently, because, of, its, proximity, reasonable, pricing, and, portioning, Giant, fish, tanks, with, some, cool, tropical, fish, are, strewn, about, but, then, there, is, this, tank, with, the, ugliest, eel, like, fish, and, catfish, It, makes, it, hard, for, me, to, eat, looking, at, them, so, I, opt, for, seats, facing, the, opposite, direction, I, also, feel, like, there, are, too, many, tables, for, the, amount, of, ...]  "
            ]
          },
          "metadata": {
            "tags": []
          },
          "execution_count": 28
        }
      ]
    },
    {
      "cell_type": "code",
      "metadata": {
        "id": "v26RYjetjALL",
        "colab_type": "code",
        "colab": {}
      },
      "source": [
        "## this is how you get a dask.dataframe.shape, however compute() means that it has to scan the entire dataframe so it's very slow\n",
        "#a = rev.shape\n",
        "#a[0].compute(),a[1]"
      ],
      "execution_count": 29,
      "outputs": []
    },
    {
      "cell_type": "code",
      "metadata": {
        "id": "7xM_v9aIulY8",
        "colab_type": "code",
        "colab": {
          "base_uri": "https://localhost:8080/",
          "height": 434
        },
        "outputId": "7e20bf56-bcba-481a-a4c6-8806f6cd468b"
      },
      "source": [
        "def get_compound(text):\n",
        "  return analyzer.polarity_scores(text)['compound']\n",
        "\n",
        "rev['compound'] = rev['text'].apply(get_compound)\n",
        "rev.head(2)"
      ],
      "execution_count": 30,
      "outputs": [
        {
          "output_type": "stream",
          "text": [
            "/usr/local/lib/python3.6/dist-packages/dask/dataframe/core.py:3073: UserWarning: \n",
            "You did not provide metadata, so Dask is running your function on a small dataset to guess output types. It is possible that Dask will guess incorrectly.\n",
            "To provide an explicit output types or to silence this message, please provide the `meta=` keyword, as described in the map or apply function that you are using.\n",
            "  Before: .apply(func)\n",
            "  After:  .apply(func, meta=('text', 'float64'))\n",
            "\n",
            "  warnings.warn(meta_warning(meta))\n"
          ],
          "name": "stderr"
        },
        {
          "output_type": "execute_result",
          "data": {
            "text/html": [
              "<div>\n",
              "<style scoped>\n",
              "    .dataframe tbody tr th:only-of-type {\n",
              "        vertical-align: middle;\n",
              "    }\n",
              "\n",
              "    .dataframe tbody tr th {\n",
              "        vertical-align: top;\n",
              "    }\n",
              "\n",
              "    .dataframe thead th {\n",
              "        text-align: right;\n",
              "    }\n",
              "</style>\n",
              "<table border=\"1\" class=\"dataframe\">\n",
              "  <thead>\n",
              "    <tr style=\"text-align: right;\">\n",
              "      <th></th>\n",
              "      <th>review_id</th>\n",
              "      <th>reviews_stars</th>\n",
              "      <th>date</th>\n",
              "      <th>text</th>\n",
              "      <th>tokenized_text</th>\n",
              "      <th>compound</th>\n",
              "    </tr>\n",
              "  </thead>\n",
              "  <tbody>\n",
              "    <tr>\n",
              "      <th>0</th>\n",
              "      <td>Oa-sapLub0wRAzxRKVmtDQ</td>\n",
              "      <td>5.0</td>\n",
              "      <td>2017-02-23 03:10:38</td>\n",
              "      <td>Best thai food in Mesa, and you get so much food for your money. We have tried almost every thai place in the area, and think Papaya thai is by far the best - and always ends u p being the cheapest too. Only eating here for thair food for now on</td>\n",
              "      <td>[Best, thai, food, in, Mesa, and, you, get, so, much, food, for, your, money, We, have, tried, almost, every, thai, place, in, the, area, and, think, Papaya, thai, is, by, far, the, best, and, always, ends, u, p, being, the, cheapest, too, Only, eating, here, for, thair, food, for, now, on]</td>\n",
              "      <td>0.8555</td>\n",
              "    </tr>\n",
              "    <tr>\n",
              "      <th>1</th>\n",
              "      <td>NawvdCkVIvhMO_eMVMdBhw</td>\n",
              "      <td>3.0</td>\n",
              "      <td>2010-12-04 00:38:28</td>\n",
              "      <td>There are several contributing factors to the -starness of Papaya Thai, but it isnt necessarily the food.   This place is literally a block away from my house, and I have ventured frequently because of its proximity, reasonable pricing, and portioning.  Giant fish tanks with some cool tropical fish are strewn about, but then there is this tank with the ugliest eel-like fish and catfish.  It makes it hard for me to eat looking at them, so I opt for seats facing the opposite direction.  I also feel like there are too many tables for the amount of space.  If the restaurant where ever full, I think I would knock into someones head with the imaginary purse that I do not carry. Now onto the food.  I love that there are spiciness scales that I do not adhere too.  I always ask extra, extra spicy, and they dont just throw a handful of red chile flakes into the dish that I order.  Every curry dish I have ordered has tasted the way it should, not like coconut milk or peanuts.  The price isnt ...</td>\n",
              "      <td>[There, are, several, contributing, factors, to, the, 3, starness, of, Papaya, Thai, but, it, isn, t, necessarily, the, food, This, place, is, literally, a, block, away, from, my, house, and, I, have, ventured, frequently, because, of, its, proximity, reasonable, pricing, and, portioning, Giant, fish, tanks, with, some, cool, tropical, fish, are, strewn, about, but, then, there, is, this, tank, with, the, ugliest, eel, like, fish, and, catfish, It, makes, it, hard, for, me, to, eat, looking, at, them, so, I, opt, for, seats, facing, the, opposite, direction, I, also, feel, like, there, are, too, many, tables, for, the, amount, of, ...]</td>\n",
              "      <td>0.4617</td>\n",
              "    </tr>\n",
              "  </tbody>\n",
              "</table>\n",
              "</div>"
            ],
            "text/plain": [
              "                review_id  reviews_stars                 date  \\\n",
              "0  Oa-sapLub0wRAzxRKVmtDQ            5.0  2017-02-23 03:10:38   \n",
              "1  NawvdCkVIvhMO_eMVMdBhw            3.0  2010-12-04 00:38:28   \n",
              "\n",
              "                                                                                                                                                                                                                                                                                                                                                                                                                                                                                                                                                                                                                                                                                                                                                                                                                                                                                                                                                                                                                                      text  \\\n",
              "0                                                                                                                                                                                                                                                                                                                                                                                                                                                                                                                                                                                                                                                                                                                                                                                    Best thai food in Mesa, and you get so much food for your money. We have tried almost every thai place in the area, and think Papaya thai is by far the best - and always ends u p being the cheapest too. Only eating here for thair food for now on   \n",
              "1  There are several contributing factors to the -starness of Papaya Thai, but it isnt necessarily the food.   This place is literally a block away from my house, and I have ventured frequently because of its proximity, reasonable pricing, and portioning.  Giant fish tanks with some cool tropical fish are strewn about, but then there is this tank with the ugliest eel-like fish and catfish.  It makes it hard for me to eat looking at them, so I opt for seats facing the opposite direction.  I also feel like there are too many tables for the amount of space.  If the restaurant where ever full, I think I would knock into someones head with the imaginary purse that I do not carry. Now onto the food.  I love that there are spiciness scales that I do not adhere too.  I always ask extra, extra spicy, and they dont just throw a handful of red chile flakes into the dish that I order.  Every curry dish I have ordered has tasted the way it should, not like coconut milk or peanuts.  The price isnt ...   \n",
              "\n",
              "                                                                                                                                                                                                                                                                                                                                                                                                                                                                                                                                                                                                                                                        tokenized_text  \\\n",
              "0                                                                                                                                                                                                                                                                                                                                                                  [Best, thai, food, in, Mesa, and, you, get, so, much, food, for, your, money, We, have, tried, almost, every, thai, place, in, the, area, and, think, Papaya, thai, is, by, far, the, best, and, always, ends, u, p, being, the, cheapest, too, Only, eating, here, for, thair, food, for, now, on]   \n",
              "1  [There, are, several, contributing, factors, to, the, 3, starness, of, Papaya, Thai, but, it, isn, t, necessarily, the, food, This, place, is, literally, a, block, away, from, my, house, and, I, have, ventured, frequently, because, of, its, proximity, reasonable, pricing, and, portioning, Giant, fish, tanks, with, some, cool, tropical, fish, are, strewn, about, but, then, there, is, this, tank, with, the, ugliest, eel, like, fish, and, catfish, It, makes, it, hard, for, me, to, eat, looking, at, them, so, I, opt, for, seats, facing, the, opposite, direction, I, also, feel, like, there, are, too, many, tables, for, the, amount, of, ...]   \n",
              "\n",
              "   compound  \n",
              "0    0.8555  \n",
              "1    0.4617  "
            ]
          },
          "metadata": {
            "tags": []
          },
          "execution_count": 30
        }
      ]
    },
    {
      "cell_type": "code",
      "metadata": {
        "id": "HURqViNaHQ4j",
        "colab_type": "code",
        "colab": {
          "base_uri": "https://localhost:8080/",
          "height": 434
        },
        "outputId": "9137c63d-efe4-4d13-9481-69968c4242aa"
      },
      "source": [
        "def get_neg(text):\n",
        "  return analyzer.polarity_scores(text)['neg']\n",
        "\n",
        "rev['neg'] = rev['text'].apply(get_neg)\n",
        "rev.head(2)"
      ],
      "execution_count": 31,
      "outputs": [
        {
          "output_type": "stream",
          "text": [
            "/usr/local/lib/python3.6/dist-packages/dask/dataframe/core.py:3073: UserWarning: \n",
            "You did not provide metadata, so Dask is running your function on a small dataset to guess output types. It is possible that Dask will guess incorrectly.\n",
            "To provide an explicit output types or to silence this message, please provide the `meta=` keyword, as described in the map or apply function that you are using.\n",
            "  Before: .apply(func)\n",
            "  After:  .apply(func, meta=('text', 'float64'))\n",
            "\n",
            "  warnings.warn(meta_warning(meta))\n"
          ],
          "name": "stderr"
        },
        {
          "output_type": "execute_result",
          "data": {
            "text/html": [
              "<div>\n",
              "<style scoped>\n",
              "    .dataframe tbody tr th:only-of-type {\n",
              "        vertical-align: middle;\n",
              "    }\n",
              "\n",
              "    .dataframe tbody tr th {\n",
              "        vertical-align: top;\n",
              "    }\n",
              "\n",
              "    .dataframe thead th {\n",
              "        text-align: right;\n",
              "    }\n",
              "</style>\n",
              "<table border=\"1\" class=\"dataframe\">\n",
              "  <thead>\n",
              "    <tr style=\"text-align: right;\">\n",
              "      <th></th>\n",
              "      <th>review_id</th>\n",
              "      <th>reviews_stars</th>\n",
              "      <th>date</th>\n",
              "      <th>text</th>\n",
              "      <th>tokenized_text</th>\n",
              "      <th>compound</th>\n",
              "      <th>neg</th>\n",
              "    </tr>\n",
              "  </thead>\n",
              "  <tbody>\n",
              "    <tr>\n",
              "      <th>0</th>\n",
              "      <td>Oa-sapLub0wRAzxRKVmtDQ</td>\n",
              "      <td>5.0</td>\n",
              "      <td>2017-02-23 03:10:38</td>\n",
              "      <td>Best thai food in Mesa, and you get so much food for your money. We have tried almost every thai place in the area, and think Papaya thai is by far the best - and always ends u p being the cheapest too. Only eating here for thair food for now on</td>\n",
              "      <td>[Best, thai, food, in, Mesa, and, you, get, so, much, food, for, your, money, We, have, tried, almost, every, thai, place, in, the, area, and, think, Papaya, thai, is, by, far, the, best, and, always, ends, u, p, being, the, cheapest, too, Only, eating, here, for, thair, food, for, now, on]</td>\n",
              "      <td>0.8555</td>\n",
              "      <td>0.000</td>\n",
              "    </tr>\n",
              "    <tr>\n",
              "      <th>1</th>\n",
              "      <td>NawvdCkVIvhMO_eMVMdBhw</td>\n",
              "      <td>3.0</td>\n",
              "      <td>2010-12-04 00:38:28</td>\n",
              "      <td>There are several contributing factors to the -starness of Papaya Thai, but it isnt necessarily the food.   This place is literally a block away from my house, and I have ventured frequently because of its proximity, reasonable pricing, and portioning.  Giant fish tanks with some cool tropical fish are strewn about, but then there is this tank with the ugliest eel-like fish and catfish.  It makes it hard for me to eat looking at them, so I opt for seats facing the opposite direction.  I also feel like there are too many tables for the amount of space.  If the restaurant where ever full, I think I would knock into someones head with the imaginary purse that I do not carry. Now onto the food.  I love that there are spiciness scales that I do not adhere too.  I always ask extra, extra spicy, and they dont just throw a handful of red chile flakes into the dish that I order.  Every curry dish I have ordered has tasted the way it should, not like coconut milk or peanuts.  The price isnt ...</td>\n",
              "      <td>[There, are, several, contributing, factors, to, the, 3, starness, of, Papaya, Thai, but, it, isn, t, necessarily, the, food, This, place, is, literally, a, block, away, from, my, house, and, I, have, ventured, frequently, because, of, its, proximity, reasonable, pricing, and, portioning, Giant, fish, tanks, with, some, cool, tropical, fish, are, strewn, about, but, then, there, is, this, tank, with, the, ugliest, eel, like, fish, and, catfish, It, makes, it, hard, for, me, to, eat, looking, at, them, so, I, opt, for, seats, facing, the, opposite, direction, I, also, feel, like, there, are, too, many, tables, for, the, amount, of, ...]</td>\n",
              "      <td>0.4617</td>\n",
              "      <td>0.057</td>\n",
              "    </tr>\n",
              "  </tbody>\n",
              "</table>\n",
              "</div>"
            ],
            "text/plain": [
              "                review_id  reviews_stars                 date  \\\n",
              "0  Oa-sapLub0wRAzxRKVmtDQ            5.0  2017-02-23 03:10:38   \n",
              "1  NawvdCkVIvhMO_eMVMdBhw            3.0  2010-12-04 00:38:28   \n",
              "\n",
              "                                                                                                                                                                                                                                                                                                                                                                                                                                                                                                                                                                                                                                                                                                                                                                                                                                                                                                                                                                                                                                      text  \\\n",
              "0                                                                                                                                                                                                                                                                                                                                                                                                                                                                                                                                                                                                                                                                                                                                                                                    Best thai food in Mesa, and you get so much food for your money. We have tried almost every thai place in the area, and think Papaya thai is by far the best - and always ends u p being the cheapest too. Only eating here for thair food for now on   \n",
              "1  There are several contributing factors to the -starness of Papaya Thai, but it isnt necessarily the food.   This place is literally a block away from my house, and I have ventured frequently because of its proximity, reasonable pricing, and portioning.  Giant fish tanks with some cool tropical fish are strewn about, but then there is this tank with the ugliest eel-like fish and catfish.  It makes it hard for me to eat looking at them, so I opt for seats facing the opposite direction.  I also feel like there are too many tables for the amount of space.  If the restaurant where ever full, I think I would knock into someones head with the imaginary purse that I do not carry. Now onto the food.  I love that there are spiciness scales that I do not adhere too.  I always ask extra, extra spicy, and they dont just throw a handful of red chile flakes into the dish that I order.  Every curry dish I have ordered has tasted the way it should, not like coconut milk or peanuts.  The price isnt ...   \n",
              "\n",
              "                                                                                                                                                                                                                                                                                                                                                                                                                                                                                                                                                                                                                                                        tokenized_text  \\\n",
              "0                                                                                                                                                                                                                                                                                                                                                                  [Best, thai, food, in, Mesa, and, you, get, so, much, food, for, your, money, We, have, tried, almost, every, thai, place, in, the, area, and, think, Papaya, thai, is, by, far, the, best, and, always, ends, u, p, being, the, cheapest, too, Only, eating, here, for, thair, food, for, now, on]   \n",
              "1  [There, are, several, contributing, factors, to, the, 3, starness, of, Papaya, Thai, but, it, isn, t, necessarily, the, food, This, place, is, literally, a, block, away, from, my, house, and, I, have, ventured, frequently, because, of, its, proximity, reasonable, pricing, and, portioning, Giant, fish, tanks, with, some, cool, tropical, fish, are, strewn, about, but, then, there, is, this, tank, with, the, ugliest, eel, like, fish, and, catfish, It, makes, it, hard, for, me, to, eat, looking, at, them, so, I, opt, for, seats, facing, the, opposite, direction, I, also, feel, like, there, are, too, many, tables, for, the, amount, of, ...]   \n",
              "\n",
              "   compound    neg  \n",
              "0    0.8555  0.000  \n",
              "1    0.4617  0.057  "
            ]
          },
          "metadata": {
            "tags": []
          },
          "execution_count": 31
        }
      ]
    },
    {
      "cell_type": "code",
      "metadata": {
        "id": "8GAdOwOcHRdK",
        "colab_type": "code",
        "colab": {
          "base_uri": "https://localhost:8080/",
          "height": 451
        },
        "outputId": "2917a014-66b3-4ad2-88fe-b7cc27c1563c"
      },
      "source": [
        "def get_neu(text):\n",
        "  return analyzer.polarity_scores(text)['neu']\n",
        "\n",
        "rev['neu'] = rev['text'].apply(get_neu)\n",
        "rev.head(2)"
      ],
      "execution_count": 32,
      "outputs": [
        {
          "output_type": "stream",
          "text": [
            "/usr/local/lib/python3.6/dist-packages/dask/dataframe/core.py:3073: UserWarning: \n",
            "You did not provide metadata, so Dask is running your function on a small dataset to guess output types. It is possible that Dask will guess incorrectly.\n",
            "To provide an explicit output types or to silence this message, please provide the `meta=` keyword, as described in the map or apply function that you are using.\n",
            "  Before: .apply(func)\n",
            "  After:  .apply(func, meta=('text', 'float64'))\n",
            "\n",
            "  warnings.warn(meta_warning(meta))\n"
          ],
          "name": "stderr"
        },
        {
          "output_type": "execute_result",
          "data": {
            "text/html": [
              "<div>\n",
              "<style scoped>\n",
              "    .dataframe tbody tr th:only-of-type {\n",
              "        vertical-align: middle;\n",
              "    }\n",
              "\n",
              "    .dataframe tbody tr th {\n",
              "        vertical-align: top;\n",
              "    }\n",
              "\n",
              "    .dataframe thead th {\n",
              "        text-align: right;\n",
              "    }\n",
              "</style>\n",
              "<table border=\"1\" class=\"dataframe\">\n",
              "  <thead>\n",
              "    <tr style=\"text-align: right;\">\n",
              "      <th></th>\n",
              "      <th>review_id</th>\n",
              "      <th>reviews_stars</th>\n",
              "      <th>date</th>\n",
              "      <th>text</th>\n",
              "      <th>tokenized_text</th>\n",
              "      <th>compound</th>\n",
              "      <th>neg</th>\n",
              "      <th>neu</th>\n",
              "    </tr>\n",
              "  </thead>\n",
              "  <tbody>\n",
              "    <tr>\n",
              "      <th>0</th>\n",
              "      <td>Oa-sapLub0wRAzxRKVmtDQ</td>\n",
              "      <td>5.0</td>\n",
              "      <td>2017-02-23 03:10:38</td>\n",
              "      <td>Best thai food in Mesa, and you get so much food for your money. We have tried almost every thai place in the area, and think Papaya thai is by far the best - and always ends u p being the cheapest too. Only eating here for thair food for now on</td>\n",
              "      <td>[Best, thai, food, in, Mesa, and, you, get, so, much, food, for, your, money, We, have, tried, almost, every, thai, place, in, the, area, and, think, Papaya, thai, is, by, far, the, best, and, always, ends, u, p, being, the, cheapest, too, Only, eating, here, for, thair, food, for, now, on]</td>\n",
              "      <td>0.8555</td>\n",
              "      <td>0.000</td>\n",
              "      <td>0.856</td>\n",
              "    </tr>\n",
              "    <tr>\n",
              "      <th>1</th>\n",
              "      <td>NawvdCkVIvhMO_eMVMdBhw</td>\n",
              "      <td>3.0</td>\n",
              "      <td>2010-12-04 00:38:28</td>\n",
              "      <td>There are several contributing factors to the -starness of Papaya Thai, but it isnt necessarily the food.   This place is literally a block away from my house, and I have ventured frequently because of its proximity, reasonable pricing, and portioning.  Giant fish tanks with some cool tropical fish are strewn about, but then there is this tank with the ugliest eel-like fish and catfish.  It makes it hard for me to eat looking at them, so I opt for seats facing the opposite direction.  I also feel like there are too many tables for the amount of space.  If the restaurant where ever full, I think I would knock into someones head with the imaginary purse that I do not carry. Now onto the food.  I love that there are spiciness scales that I do not adhere too.  I always ask extra, extra spicy, and they dont just throw a handful of red chile flakes into the dish that I order.  Every curry dish I have ordered has tasted the way it should, not like coconut milk or peanuts.  The price isnt ...</td>\n",
              "      <td>[There, are, several, contributing, factors, to, the, 3, starness, of, Papaya, Thai, but, it, isn, t, necessarily, the, food, This, place, is, literally, a, block, away, from, my, house, and, I, have, ventured, frequently, because, of, its, proximity, reasonable, pricing, and, portioning, Giant, fish, tanks, with, some, cool, tropical, fish, are, strewn, about, but, then, there, is, this, tank, with, the, ugliest, eel, like, fish, and, catfish, It, makes, it, hard, for, me, to, eat, looking, at, them, so, I, opt, for, seats, facing, the, opposite, direction, I, also, feel, like, there, are, too, many, tables, for, the, amount, of, ...]</td>\n",
              "      <td>0.4617</td>\n",
              "      <td>0.057</td>\n",
              "      <td>0.876</td>\n",
              "    </tr>\n",
              "  </tbody>\n",
              "</table>\n",
              "</div>"
            ],
            "text/plain": [
              "                review_id  reviews_stars                 date  \\\n",
              "0  Oa-sapLub0wRAzxRKVmtDQ            5.0  2017-02-23 03:10:38   \n",
              "1  NawvdCkVIvhMO_eMVMdBhw            3.0  2010-12-04 00:38:28   \n",
              "\n",
              "                                                                                                                                                                                                                                                                                                                                                                                                                                                                                                                                                                                                                                                                                                                                                                                                                                                                                                                                                                                                                                      text  \\\n",
              "0                                                                                                                                                                                                                                                                                                                                                                                                                                                                                                                                                                                                                                                                                                                                                                                    Best thai food in Mesa, and you get so much food for your money. We have tried almost every thai place in the area, and think Papaya thai is by far the best - and always ends u p being the cheapest too. Only eating here for thair food for now on   \n",
              "1  There are several contributing factors to the -starness of Papaya Thai, but it isnt necessarily the food.   This place is literally a block away from my house, and I have ventured frequently because of its proximity, reasonable pricing, and portioning.  Giant fish tanks with some cool tropical fish are strewn about, but then there is this tank with the ugliest eel-like fish and catfish.  It makes it hard for me to eat looking at them, so I opt for seats facing the opposite direction.  I also feel like there are too many tables for the amount of space.  If the restaurant where ever full, I think I would knock into someones head with the imaginary purse that I do not carry. Now onto the food.  I love that there are spiciness scales that I do not adhere too.  I always ask extra, extra spicy, and they dont just throw a handful of red chile flakes into the dish that I order.  Every curry dish I have ordered has tasted the way it should, not like coconut milk or peanuts.  The price isnt ...   \n",
              "\n",
              "                                                                                                                                                                                                                                                                                                                                                                                                                                                                                                                                                                                                                                                        tokenized_text  \\\n",
              "0                                                                                                                                                                                                                                                                                                                                                                  [Best, thai, food, in, Mesa, and, you, get, so, much, food, for, your, money, We, have, tried, almost, every, thai, place, in, the, area, and, think, Papaya, thai, is, by, far, the, best, and, always, ends, u, p, being, the, cheapest, too, Only, eating, here, for, thair, food, for, now, on]   \n",
              "1  [There, are, several, contributing, factors, to, the, 3, starness, of, Papaya, Thai, but, it, isn, t, necessarily, the, food, This, place, is, literally, a, block, away, from, my, house, and, I, have, ventured, frequently, because, of, its, proximity, reasonable, pricing, and, portioning, Giant, fish, tanks, with, some, cool, tropical, fish, are, strewn, about, but, then, there, is, this, tank, with, the, ugliest, eel, like, fish, and, catfish, It, makes, it, hard, for, me, to, eat, looking, at, them, so, I, opt, for, seats, facing, the, opposite, direction, I, also, feel, like, there, are, too, many, tables, for, the, amount, of, ...]   \n",
              "\n",
              "   compound    neg    neu  \n",
              "0    0.8555  0.000  0.856  \n",
              "1    0.4617  0.057  0.876  "
            ]
          },
          "metadata": {
            "tags": []
          },
          "execution_count": 32
        }
      ]
    },
    {
      "cell_type": "code",
      "metadata": {
        "id": "L3RlXu0-HRv-",
        "colab_type": "code",
        "colab": {
          "base_uri": "https://localhost:8080/",
          "height": 136
        },
        "outputId": "a8c9eb0d-809f-4f68-ae51-962beda4c35c"
      },
      "source": [
        "def get_pos(text):\n",
        "  return analyzer.polarity_scores(text)['pos']\n",
        "\n",
        "rev['pos'] = rev['text'].apply(get_pos)\n",
        "rev.head(2)"
      ],
      "execution_count": null,
      "outputs": [
        {
          "output_type": "stream",
          "text": [
            "/usr/local/lib/python3.6/dist-packages/dask/dataframe/core.py:3073: UserWarning: \n",
            "You did not provide metadata, so Dask is running your function on a small dataset to guess output types. It is possible that Dask will guess incorrectly.\n",
            "To provide an explicit output types or to silence this message, please provide the `meta=` keyword, as described in the map or apply function that you are using.\n",
            "  Before: .apply(func)\n",
            "  After:  .apply(func, meta=('text', 'float64'))\n",
            "\n",
            "  warnings.warn(meta_warning(meta))\n"
          ],
          "name": "stderr"
        }
      ]
    },
    {
      "cell_type": "code",
      "metadata": {
        "id": "EGmvNOIDD17K",
        "colab_type": "code",
        "colab": {}
      },
      "source": [
        "  # rev['text_length'] = rev['text'].str.len()"
      ],
      "execution_count": null,
      "outputs": []
    },
    {
      "cell_type": "code",
      "metadata": {
        "id": "7bwbZBX95PLY",
        "colab_type": "code",
        "colab": {}
      },
      "source": [
        "# rev['text_length'] = rev['text'].apply(len)\n",
        "# rev.head(2)"
      ],
      "execution_count": null,
      "outputs": []
    },
    {
      "cell_type": "code",
      "metadata": {
        "id": "YVExHctogMdF",
        "colab_type": "code",
        "colab": {}
      },
      "source": [
        "#columns = ['review_id', 'business_id', 'compound']\n",
        "columns = ['review_id', 'compound', 'neg', 'neu', 'pos']"
      ],
      "execution_count": null,
      "outputs": []
    },
    {
      "cell_type": "code",
      "metadata": {
        "id": "FvTZdkkBtrnV",
        "colab_type": "code",
        "colab": {}
      },
      "source": [
        "df = rev[columns]"
      ],
      "execution_count": null,
      "outputs": []
    },
    {
      "cell_type": "code",
      "metadata": {
        "id": "EVtfG2vWgMhA",
        "colab_type": "code",
        "colab": {}
      },
      "source": [
        "# def sentiment_score(sentence):\n",
        "#   # Create a SentimentIntensityAnalyzer object. \n",
        "#   sid_obj = SentimentIntensityAnalyzer()\n",
        "#   # polarity_scores method of SentimentIntensityAnalyzer oject gives a sentiment dictionary. which contains pos, neg, neu, and compound scores. \n",
        "#   sentiment_dict = sid_obj.polarity_scores(sentence)\n",
        "#   return sentiment_dict\n",
        "\n",
        "# def get_sentiment(review_list):\n",
        "#   all_sentiments = []\n",
        "#   compounds = []\n",
        "#   if len(review_list) > 0:\n",
        "#     for review in review_list:\n",
        "#       score = sentiment_score(review)\n",
        "#       all_sentiments.append(score)\n",
        "#   if len(all_sentiments) > 0:\n",
        "#     for sentiment_dict in all_sentiments:\n",
        "#       compound = sentiment_dict['compound']\n",
        "#       compounds.append(compound)\n",
        "# \tif len(compounds) > 0:\n",
        "# \t\tavg_sentiment = sum(compounds) / len(compounds)\n",
        "# \telse:\n",
        "# \t\tavg_sentiment = None\n",
        "# \treturn avg_sentiment\n",
        "\n",
        "# def get_subject_review_scores(review_list):\n",
        "#     if len(review_list) > 0:\n",
        "# \t    sub_sentiment_score = round((get_sentiment(review_list))*150)\n",
        "# \t\tif sub_sentiment_score < 0:\n",
        "# \t\t    sub_sentiment_score = 0\n",
        "# \t\telse: \n",
        "# \t\t\tsub_sentiment_score = 75 #leaving at 75 to give neutral score\n",
        "#     return sub_sentiment_score\n",
        "\n",
        "# def sentimental_analysis(df):\n",
        "#   # Create a SentimentIntensityAnalyzer object. \n",
        "#   sid_obj = SentimentIntensityAnalyzer()\n",
        "#   # extract_subject_related_words\n",
        "#   df['text'] = df['text'].apply(lambda x:\" \".join(re.findall(\"[a-zA-Z]+\", x)))\n",
        "#   df['cleaned'] = df['text'].apply(tokenizer)\n",
        "#   df['words_related_to_food'] = df['cleaned'].apply(related_to_food)\n",
        "#   df['food_review_list'] = df[df['words_related_to_food'].map(len) > 1]['text'].tolist()\n",
        "#   df['food_score'] = df['food_review_list'].apply(get_subject_review_scores)\n",
        "# \tdf['words_related_to_service'] = df['cleaned'].apply(related_to_service)\n",
        "#   df['service_review_list'] = df[df['words_related_to_service'].map(len) > 1]['text'].tolist()\n",
        "#   df['service_score'] = df['service_review_list'].apply(get_subject_review_scores)\n",
        "# \tdf['words_related_to_speed'] = df['cleaned'].apply(related_to_service)\n",
        "#   df['speed_review_list'] = df[df['words_related_to_speed'].map(len) > 1]['text'].tolist()\n",
        "#   df['speed_score'] = df['speed_review_list'].apply(get_subject_review_scores)\n",
        "# \tdf['words_related_to_price'] = df['cleaned'].apply(related_to_service)\n",
        "#   df['price_review_list'] = df[df['words_related_to_price'].map(len) > 1]['text'].tolist()\n",
        "#   df['price_score'] = df['price_review_list'].apply(get_subject_review_scores)\n",
        "# \tdf['words_related_to_ambience'] = df['cleaned'].apply(related_to_service)\n",
        "#   df['ambience_review_list'] = df[df['words_related_to_ambience'].map(len) > 1]['text'].tolist()\n",
        "#   df['ambience_score'] = df['ambience_review_list'].apply(get_subject_review_scores)\n",
        "# \tdf['words_related_to_experience'] = df['cleaned'].apply(related_to_service)\n",
        "#   df['experience_review_list'] = df[df['words_related_to_experience'].map(len) > 1]['text'].tolist()\n",
        "#   df['experience_score'] = df['experience_review_list'].apply(get_subject_review_scores)\n",
        "#   return df"
      ],
      "execution_count": null,
      "outputs": []
    },
    {
      "cell_type": "code",
      "metadata": {
        "id": "rzNFgShaRedW",
        "colab_type": "code",
        "colab": {}
      },
      "source": [
        "rev.to_csv('sentiment.csv')\n",
        "!cp rev.csv \"drive/My Drive/\""
      ],
      "execution_count": null,
      "outputs": []
    }
  ]
}