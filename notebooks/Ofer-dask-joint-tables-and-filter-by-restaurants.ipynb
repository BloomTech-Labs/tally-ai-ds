{
 "cells": [
  {
   "cell_type": "code",
   "execution_count": 1,
   "metadata": {},
   "outputs": [
    {
     "name": "stdout",
     "output_type": "stream",
     "text": [
      "S3 Bucket is tally-ai-dspt3, and Folder is yelp-kaggle-raw-data\n"
     ]
    }
   ],
   "source": [
    "import boto3\n",
    "import dask.dataframe as dd\n",
    "from sagemaker import get_execution_role\n",
    "import pandas as pd\n",
    "\n",
    "\n",
    "role = get_execution_role()\n",
    "bucket='tally-ai-dspt3'\n",
    "folder = 'yelp-kaggle-raw-data'\n",
    "\n",
    "print(f\"S3 Bucket is {bucket}, and Folder is {folder}\")"
   ]
  },
  {
   "cell_type": "code",
   "execution_count": 2,
   "metadata": {},
   "outputs": [],
   "source": [
    "# follow the following steps below verbatim and open in terminal to run them except for kernel restart which is at menu\n",
    "# source activate python3\n",
    "# conda install dask -y\n",
    "# conda install s3fs -c conda-forge -y\n",
    "# restart kernel\n",
    "#Note, to run parquet which is a way to export to S3 with highly reduces dask files, you need to add the following command:\n",
    "# conda install -c conda-forge fastparquet"
   ]
  },
  {
   "cell_type": "markdown",
   "metadata": {},
   "source": [
    "# Loading Yelp Businees `attributes`"
   ]
  },
  {
   "cell_type": "code",
   "execution_count": 3,
   "metadata": {},
   "outputs": [
    {
     "data": {
      "text/html": [
       "<div>\n",
       "<style scoped>\n",
       "    .dataframe tbody tr th:only-of-type {\n",
       "        vertical-align: middle;\n",
       "    }\n",
       "\n",
       "    .dataframe tbody tr th {\n",
       "        vertical-align: top;\n",
       "    }\n",
       "\n",
       "    .dataframe thead th {\n",
       "        text-align: right;\n",
       "    }\n",
       "</style>\n",
       "<table border=\"1\" class=\"dataframe\">\n",
       "  <thead>\n",
       "    <tr style=\"text-align: right;\">\n",
       "      <th></th>\n",
       "      <th>address</th>\n",
       "      <th>attributes</th>\n",
       "      <th>business_id</th>\n",
       "      <th>categories</th>\n",
       "      <th>city</th>\n",
       "      <th>hours</th>\n",
       "      <th>is_open</th>\n",
       "      <th>latitude</th>\n",
       "      <th>longitude</th>\n",
       "      <th>name</th>\n",
       "      <th>postal_code</th>\n",
       "      <th>review_count</th>\n",
       "      <th>stars</th>\n",
       "      <th>state</th>\n",
       "    </tr>\n",
       "  </thead>\n",
       "  <tbody>\n",
       "    <tr>\n",
       "      <th>0</th>\n",
       "      <td>10913 Bailey Rd</td>\n",
       "      <td>{'BusinessAcceptsCreditCards': 'True', 'BikePa...</td>\n",
       "      <td>f9NumwFMBDn751xgFiRbNA</td>\n",
       "      <td>Active Life, Gun/Rifle Ranges, Guns &amp; Ammo, Sh...</td>\n",
       "      <td>Cornelius</td>\n",
       "      <td>{'Monday': '10:0-18:0', 'Tuesday': '11:0-20:0'...</td>\n",
       "      <td>1</td>\n",
       "      <td>35.462724</td>\n",
       "      <td>-80.852612</td>\n",
       "      <td>The Range At Lake Norman</td>\n",
       "      <td>28031</td>\n",
       "      <td>36</td>\n",
       "      <td>3.5</td>\n",
       "      <td>NC</td>\n",
       "    </tr>\n",
       "    <tr>\n",
       "      <th>1</th>\n",
       "      <td>8880 E Via Linda, Ste 107</td>\n",
       "      <td>{'GoodForKids': 'True', 'ByAppointmentOnly': '...</td>\n",
       "      <td>Yzvjg0SayhoZgCljUJRF9Q</td>\n",
       "      <td>Health &amp; Medical, Fitness &amp; Instruction, Yoga,...</td>\n",
       "      <td>Scottsdale</td>\n",
       "      <td>None</td>\n",
       "      <td>1</td>\n",
       "      <td>33.569404</td>\n",
       "      <td>-111.890264</td>\n",
       "      <td>Carlos Santo, NMD</td>\n",
       "      <td>85258</td>\n",
       "      <td>4</td>\n",
       "      <td>5.0</td>\n",
       "      <td>AZ</td>\n",
       "    </tr>\n",
       "    <tr>\n",
       "      <th>2</th>\n",
       "      <td>3554 Rue Notre-Dame O</td>\n",
       "      <td>None</td>\n",
       "      <td>XNoUzKckATkOD1hP6vghZg</td>\n",
       "      <td>Pets, Pet Services, Pet Groomers</td>\n",
       "      <td>Montreal</td>\n",
       "      <td>None</td>\n",
       "      <td>1</td>\n",
       "      <td>45.479984</td>\n",
       "      <td>-73.580070</td>\n",
       "      <td>Felinus</td>\n",
       "      <td>H4C 1P4</td>\n",
       "      <td>5</td>\n",
       "      <td>5.0</td>\n",
       "      <td>QC</td>\n",
       "    </tr>\n",
       "    <tr>\n",
       "      <th>3</th>\n",
       "      <td>1015 Sharp Cir</td>\n",
       "      <td>{'BusinessAcceptsCreditCards': 'True', 'ByAppo...</td>\n",
       "      <td>6OAZjbxqM5ol29BuHsil3w</td>\n",
       "      <td>Hardware Stores, Home Services, Building Suppl...</td>\n",
       "      <td>North Las Vegas</td>\n",
       "      <td>{'Monday': '7:0-16:0', 'Tuesday': '7:0-16:0', ...</td>\n",
       "      <td>0</td>\n",
       "      <td>36.219728</td>\n",
       "      <td>-115.127725</td>\n",
       "      <td>Nevada House of Hose</td>\n",
       "      <td>89030</td>\n",
       "      <td>3</td>\n",
       "      <td>2.5</td>\n",
       "      <td>NV</td>\n",
       "    </tr>\n",
       "    <tr>\n",
       "      <th>4</th>\n",
       "      <td>4827 E Downing Cir</td>\n",
       "      <td>{'BusinessAcceptsCreditCards': 'True', 'ByAppo...</td>\n",
       "      <td>51M2Kk903DFYI6gnB5I6SQ</td>\n",
       "      <td>Home Services, Plumbing, Electricians, Handyma...</td>\n",
       "      <td>Mesa</td>\n",
       "      <td>{'Monday': '0:0-0:0', 'Tuesday': '9:0-16:0', '...</td>\n",
       "      <td>1</td>\n",
       "      <td>33.428065</td>\n",
       "      <td>-111.726648</td>\n",
       "      <td>USE MY GUY SERVICES LLC</td>\n",
       "      <td>85205</td>\n",
       "      <td>26</td>\n",
       "      <td>4.5</td>\n",
       "      <td>AZ</td>\n",
       "    </tr>\n",
       "    <tr>\n",
       "      <th>5</th>\n",
       "      <td>1720 W Elliot Rd, Ste 105</td>\n",
       "      <td>{'BusinessAcceptsCreditCards': 'True'}</td>\n",
       "      <td>cKyLV5oWZJ2NudWgqs8VZw</td>\n",
       "      <td>Auto Repair, Automotive, Oil Change Stations, ...</td>\n",
       "      <td>Gilbert</td>\n",
       "      <td>{'Monday': '7:0-18:0', 'Tuesday': '7:0-18:0', ...</td>\n",
       "      <td>1</td>\n",
       "      <td>33.350399</td>\n",
       "      <td>-111.827142</td>\n",
       "      <td>Oasis Auto Center - Gilbert</td>\n",
       "      <td>85233</td>\n",
       "      <td>38</td>\n",
       "      <td>4.5</td>\n",
       "      <td>AZ</td>\n",
       "    </tr>\n",
       "    <tr>\n",
       "      <th>6</th>\n",
       "      <td>6870 S Rainbow Blvd, Ste 117</td>\n",
       "      <td>{'BusinessParking': '{'garage': False, 'street...</td>\n",
       "      <td>oiAlXZPIFm2nBCt0DHLu_Q</td>\n",
       "      <td>Dry Cleaning &amp; Laundry, Local Services, Laundr...</td>\n",
       "      <td>Las Vegas</td>\n",
       "      <td>{'Monday': '7:0-19:0', 'Tuesday': '7:0-19:0', ...</td>\n",
       "      <td>1</td>\n",
       "      <td>36.063977</td>\n",
       "      <td>-115.241463</td>\n",
       "      <td>Green World Cleaners</td>\n",
       "      <td>89118</td>\n",
       "      <td>81</td>\n",
       "      <td>3.5</td>\n",
       "      <td>NV</td>\n",
       "    </tr>\n",
       "    <tr>\n",
       "      <th>7</th>\n",
       "      <td>6910 E Southern Ave</td>\n",
       "      <td>{'BusinessAcceptsCreditCards': 'True', 'ByAppo...</td>\n",
       "      <td>ScYkbYNkDgCneBrD9vqhCQ</td>\n",
       "      <td>Auto Repair, Oil Change Stations, Automotive, ...</td>\n",
       "      <td>Mesa</td>\n",
       "      <td>{'Monday': '7:30-17:0', 'Tuesday': '7:30-17:0'...</td>\n",
       "      <td>1</td>\n",
       "      <td>33.393885</td>\n",
       "      <td>-111.682226</td>\n",
       "      <td>Junction Tire &amp; Auto Service</td>\n",
       "      <td>85209</td>\n",
       "      <td>18</td>\n",
       "      <td>5.0</td>\n",
       "      <td>AZ</td>\n",
       "    </tr>\n",
       "    <tr>\n",
       "      <th>8</th>\n",
       "      <td>404 E Green St</td>\n",
       "      <td>{'RestaurantsAttire': 'u'casual'', 'Restaurant...</td>\n",
       "      <td>pQeaRpvuhoEqudo3uymHIQ</td>\n",
       "      <td>Ethnic Food, Food Trucks, Specialty Food, Impo...</td>\n",
       "      <td>Champaign</td>\n",
       "      <td>{'Monday': '11:30-14:30', 'Tuesday': '11:30-14...</td>\n",
       "      <td>1</td>\n",
       "      <td>40.110446</td>\n",
       "      <td>-88.233073</td>\n",
       "      <td>The Empanadas House</td>\n",
       "      <td>61820</td>\n",
       "      <td>5</td>\n",
       "      <td>4.5</td>\n",
       "      <td>IL</td>\n",
       "    </tr>\n",
       "    <tr>\n",
       "      <th>9</th>\n",
       "      <td>700 Kipling Avenue Etobicoke</td>\n",
       "      <td>{'GoodForKids': 'True', 'ByAppointmentOnly': '...</td>\n",
       "      <td>EosRKXIGeSWFYWwpkbhNnA</td>\n",
       "      <td>Martial Arts, Gyms, Fitness &amp; Instruction, Act...</td>\n",
       "      <td>Toronto</td>\n",
       "      <td>{'Monday': '5:30-23:0', 'Tuesday': '5:30-23:0'...</td>\n",
       "      <td>1</td>\n",
       "      <td>43.624539</td>\n",
       "      <td>-79.529108</td>\n",
       "      <td>Xtreme Couture</td>\n",
       "      <td>M8Z 5G3</td>\n",
       "      <td>16</td>\n",
       "      <td>3.0</td>\n",
       "      <td>ON</td>\n",
       "    </tr>\n",
       "  </tbody>\n",
       "</table>\n",
       "</div>"
      ],
      "text/plain": [
       "                        address  \\\n",
       "0               10913 Bailey Rd   \n",
       "1     8880 E Via Linda, Ste 107   \n",
       "2         3554 Rue Notre-Dame O   \n",
       "3                1015 Sharp Cir   \n",
       "4            4827 E Downing Cir   \n",
       "5     1720 W Elliot Rd, Ste 105   \n",
       "6  6870 S Rainbow Blvd, Ste 117   \n",
       "7           6910 E Southern Ave   \n",
       "8                404 E Green St   \n",
       "9  700 Kipling Avenue Etobicoke   \n",
       "\n",
       "                                          attributes             business_id  \\\n",
       "0  {'BusinessAcceptsCreditCards': 'True', 'BikePa...  f9NumwFMBDn751xgFiRbNA   \n",
       "1  {'GoodForKids': 'True', 'ByAppointmentOnly': '...  Yzvjg0SayhoZgCljUJRF9Q   \n",
       "2                                               None  XNoUzKckATkOD1hP6vghZg   \n",
       "3  {'BusinessAcceptsCreditCards': 'True', 'ByAppo...  6OAZjbxqM5ol29BuHsil3w   \n",
       "4  {'BusinessAcceptsCreditCards': 'True', 'ByAppo...  51M2Kk903DFYI6gnB5I6SQ   \n",
       "5             {'BusinessAcceptsCreditCards': 'True'}  cKyLV5oWZJ2NudWgqs8VZw   \n",
       "6  {'BusinessParking': '{'garage': False, 'street...  oiAlXZPIFm2nBCt0DHLu_Q   \n",
       "7  {'BusinessAcceptsCreditCards': 'True', 'ByAppo...  ScYkbYNkDgCneBrD9vqhCQ   \n",
       "8  {'RestaurantsAttire': 'u'casual'', 'Restaurant...  pQeaRpvuhoEqudo3uymHIQ   \n",
       "9  {'GoodForKids': 'True', 'ByAppointmentOnly': '...  EosRKXIGeSWFYWwpkbhNnA   \n",
       "\n",
       "                                          categories             city  \\\n",
       "0  Active Life, Gun/Rifle Ranges, Guns & Ammo, Sh...        Cornelius   \n",
       "1  Health & Medical, Fitness & Instruction, Yoga,...       Scottsdale   \n",
       "2                   Pets, Pet Services, Pet Groomers         Montreal   \n",
       "3  Hardware Stores, Home Services, Building Suppl...  North Las Vegas   \n",
       "4  Home Services, Plumbing, Electricians, Handyma...             Mesa   \n",
       "5  Auto Repair, Automotive, Oil Change Stations, ...          Gilbert   \n",
       "6  Dry Cleaning & Laundry, Local Services, Laundr...        Las Vegas   \n",
       "7  Auto Repair, Oil Change Stations, Automotive, ...             Mesa   \n",
       "8  Ethnic Food, Food Trucks, Specialty Food, Impo...        Champaign   \n",
       "9  Martial Arts, Gyms, Fitness & Instruction, Act...          Toronto   \n",
       "\n",
       "                                               hours  is_open   latitude  \\\n",
       "0  {'Monday': '10:0-18:0', 'Tuesday': '11:0-20:0'...        1  35.462724   \n",
       "1                                               None        1  33.569404   \n",
       "2                                               None        1  45.479984   \n",
       "3  {'Monday': '7:0-16:0', 'Tuesday': '7:0-16:0', ...        0  36.219728   \n",
       "4  {'Monday': '0:0-0:0', 'Tuesday': '9:0-16:0', '...        1  33.428065   \n",
       "5  {'Monday': '7:0-18:0', 'Tuesday': '7:0-18:0', ...        1  33.350399   \n",
       "6  {'Monday': '7:0-19:0', 'Tuesday': '7:0-19:0', ...        1  36.063977   \n",
       "7  {'Monday': '7:30-17:0', 'Tuesday': '7:30-17:0'...        1  33.393885   \n",
       "8  {'Monday': '11:30-14:30', 'Tuesday': '11:30-14...        1  40.110446   \n",
       "9  {'Monday': '5:30-23:0', 'Tuesday': '5:30-23:0'...        1  43.624539   \n",
       "\n",
       "    longitude                          name postal_code  review_count  stars  \\\n",
       "0  -80.852612      The Range At Lake Norman       28031            36    3.5   \n",
       "1 -111.890264             Carlos Santo, NMD       85258             4    5.0   \n",
       "2  -73.580070                       Felinus     H4C 1P4             5    5.0   \n",
       "3 -115.127725          Nevada House of Hose       89030             3    2.5   \n",
       "4 -111.726648       USE MY GUY SERVICES LLC       85205            26    4.5   \n",
       "5 -111.827142   Oasis Auto Center - Gilbert       85233            38    4.5   \n",
       "6 -115.241463          Green World Cleaners       89118            81    3.5   \n",
       "7 -111.682226  Junction Tire & Auto Service       85209            18    5.0   \n",
       "8  -88.233073           The Empanadas House       61820             5    4.5   \n",
       "9  -79.529108                Xtreme Couture     M8Z 5G3            16    3.0   \n",
       "\n",
       "  state  \n",
       "0    NC  \n",
       "1    AZ  \n",
       "2    QC  \n",
       "3    NV  \n",
       "4    AZ  \n",
       "5    AZ  \n",
       "6    NV  \n",
       "7    AZ  \n",
       "8    IL  \n",
       "9    ON  "
      ]
     },
     "execution_count": 3,
     "metadata": {},
     "output_type": "execute_result"
    }
   ],
   "source": [
    "data_key = 'yelp_academic_dataset_business.json'\n",
    "data_location = 's3://{}/{}/{}'.format(bucket, folder, data_key)\n",
    "business = dd.read_json(data_location, lines=True)\n",
    "business.head(10)"
   ]
  },
  {
   "cell_type": "markdown",
   "metadata": {},
   "source": [
    "In order to use dask\n",
    "\n",
    "1. Activate Conda Python 3 `source activate python3`\n",
    "2. Install dask and s3fs `conda install dask s3fs -c conda-forge -y`"
   ]
  },
  {
   "cell_type": "markdown",
   "metadata": {},
   "source": [
    "# Loading Yelp Businees `reviews` ~ 6GB data"
   ]
  },
  {
   "cell_type": "code",
   "execution_count": 4,
   "metadata": {},
   "outputs": [],
   "source": [
    "#uncomment below to spin reviews which will be too large. Suggested we create a subset on RDS/postgres and then spin only what's necessary\n",
    "data_key = 'yelp_academic_dataset_review.json'\n",
    "data_location = 's3://{}/{}/{}'.format(bucket, folder, data_key)\n",
    "reviews = dd.read_json(data_location, blocksize=32e6)"
   ]
  },
  {
   "cell_type": "code",
   "execution_count": 5,
   "metadata": {},
   "outputs": [],
   "source": [
    "#reviews.head()"
   ]
  },
  {
   "cell_type": "code",
   "execution_count": 6,
   "metadata": {},
   "outputs": [],
   "source": [
    "#need to join the three datasets together. Dask join is just like dask\n",
    "#once joined, filter with restaurants\n",
    "#once filtered, only have restaurants in database, export as .csv\n",
    "#once have .csv file load to S3 bucket"
   ]
  },
  {
   "cell_type": "code",
   "execution_count": 7,
   "metadata": {},
   "outputs": [],
   "source": [
    "#uncomment below to spin reviews which will be too large. Suggested we create a subset on RDS/postgres and then spin only what's necessary\n",
    "data_key = 'yelp_academic_dataset_user.json'\n",
    "data_location = 's3://{}/{}/{}'.format(bucket, folder, data_key)\n",
    "users = dd.read_json(data_location, blocksize=32e6)"
   ]
  },
  {
   "cell_type": "code",
   "execution_count": 8,
   "metadata": {},
   "outputs": [],
   "source": [
    "#users.head()"
   ]
  },
  {
   "cell_type": "code",
   "execution_count": 9,
   "metadata": {},
   "outputs": [],
   "source": [
    "#business_reviews = business.merge(reviews, on = 'business_id', how = 'inner')"
   ]
  },
  {
   "cell_type": "code",
   "execution_count": 10,
   "metadata": {},
   "outputs": [],
   "source": [
    "#business_reviews.head()"
   ]
  },
  {
   "cell_type": "code",
   "execution_count": 11,
   "metadata": {},
   "outputs": [],
   "source": [
    "#business_reviews_users = business_reviews.merge(users, on = 'user_id', how = 'inner')"
   ]
  },
  {
   "cell_type": "code",
   "execution_count": 12,
   "metadata": {},
   "outputs": [],
   "source": [
    "#business_reviews_users.head()"
   ]
  },
  {
   "cell_type": "code",
   "execution_count": 13,
   "metadata": {},
   "outputs": [],
   "source": [
    "#method to pull unique values out of column 'category' in business\n",
    "# def unique_col(col):\n",
    "#     return ','.join(set(col.split(',')))\n",
    "\n",
    "# x = business.categories.apply(unique_col)"
   ]
  },
  {
   "cell_type": "code",
   "execution_count": 14,
   "metadata": {},
   "outputs": [],
   "source": [
    "#drop na values\n",
    "business2 = business.dropna(subset=['categories'])"
   ]
  },
  {
   "cell_type": "code",
   "execution_count": 15,
   "metadata": {},
   "outputs": [],
   "source": [
    "restaurants = business2[business2['categories'].str.contains('Restaurants')]"
   ]
  },
  {
   "cell_type": "code",
   "execution_count": 16,
   "metadata": {},
   "outputs": [],
   "source": [
    "#restaurants.head()"
   ]
  },
  {
   "cell_type": "code",
   "execution_count": 17,
   "metadata": {},
   "outputs": [],
   "source": [
    "restaurants_reviews = restaurants.merge(reviews, on = 'business_id', how = 'inner')"
   ]
  },
  {
   "cell_type": "code",
   "execution_count": 18,
   "metadata": {},
   "outputs": [],
   "source": [
    "#restaurants_reviews.head()"
   ]
  },
  {
   "cell_type": "code",
   "execution_count": 19,
   "metadata": {},
   "outputs": [],
   "source": [
    "restaurants_reviews_users = restaurants_reviews.merge(users, on = 'user_id', how = 'inner')"
   ]
  },
  {
   "cell_type": "code",
   "execution_count": 20,
   "metadata": {},
   "outputs": [],
   "source": [
    "pd.set_option('display.max_columns', None)"
   ]
  },
  {
   "cell_type": "code",
   "execution_count": 21,
   "metadata": {},
   "outputs": [],
   "source": [
    "#restaurants_reviews_users.head()"
   ]
  },
  {
   "cell_type": "code",
   "execution_count": 22,
   "metadata": {},
   "outputs": [],
   "source": [
    "#restaurants_reviews_users1 = restaurants_reviews_users.drop(['address', 'business_id', 'hours', 'is_open', 'postal_code', 'date', 'friends', 'yelping_since'], axis=1)"
   ]
  },
  {
   "cell_type": "code",
   "execution_count": 25,
   "metadata": {},
   "outputs": [],
   "source": [
    "#reducing file size further by cropping out additional columns for parquet to pass, as issues with RAM cause kernel to restart\n",
    "restaurants_reviews_users2 = restaurants_reviews_users.drop(['address', 'hours', 'is_open', 'postal_code', 'date', \n",
    "                                                             'friends', 'yelping_since','compliment_cool', 'compliment_cute', 'compliment_hot', \n",
    "                                                             'compliment_list', 'compliment_more', 'compliment_note', 'compliment_photos', \n",
    "                                                             'compliment_plain', 'compliment_profile'], axis=1)"
   ]
  },
  {
   "cell_type": "code",
   "execution_count": null,
   "metadata": {},
   "outputs": [],
   "source": [
    "# 'compliment_cool', 'compliment_cute', 'compliment_hot', 'compliment_list', 'compliment_more', 'compliment_note', 'compliment_photos', 'compliment_plain', 'compliment_profile', 'compliment_write',"
   ]
  },
  {
   "cell_type": "code",
   "execution_count": null,
   "metadata": {},
   "outputs": [],
   "source": [
    "#add the following code to run parquet, in terminal:\n",
    "#conda install -c conda-forge fastparquet"
   ]
  },
  {
   "cell_type": "code",
   "execution_count": 26,
   "metadata": {},
   "outputs": [],
   "source": [
    "from fastparquet import ParquetFile"
   ]
  },
  {
   "cell_type": "code",
   "execution_count": null,
   "metadata": {},
   "outputs": [],
   "source": [
    "restaurants_reviews_users2.to_parquet('s3://tally-ai-dspt3/yelp-kaggle-raw-data/restaurants_reviews_users.parquet.gzip', compression='gzip') \n",
    "             "
   ]
  },
  {
   "cell_type": "code",
   "execution_count": null,
   "metadata": {},
   "outputs": [],
   "source": [
    "#dd.to_csv(restaurants_reviews_users,'s3://tally-ai-dspt3/yelp-kaggle-raw-data/restaurants_reviews_users.csv')"
   ]
  },
  {
   "cell_type": "code",
   "execution_count": null,
   "metadata": {},
   "outputs": [],
   "source": []
  },
  {
   "cell_type": "code",
   "execution_count": null,
   "metadata": {},
   "outputs": [],
   "source": []
  }
 ],
 "metadata": {
  "kernelspec": {
   "display_name": "conda_python3",
   "language": "python",
   "name": "conda_python3"
  },
  "language_info": {
   "codemirror_mode": {
    "name": "ipython",
    "version": 3
   },
   "file_extension": ".py",
   "mimetype": "text/x-python",
   "name": "python",
   "nbconvert_exporter": "python",
   "pygments_lexer": "ipython3",
   "version": "3.6.5"
  }
 },
 "nbformat": 4,
 "nbformat_minor": 4
}
