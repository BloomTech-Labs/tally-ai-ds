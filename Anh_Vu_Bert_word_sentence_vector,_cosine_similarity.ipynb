{
  "nbformat": 4,
  "nbformat_minor": 0,
  "metadata": {
    "colab": {
      "name": "Anh_Vu_Bert word/sentence vector, cosine similarity.ipynb",
      "provenance": []
    },
    "kernelspec": {
      "name": "python3",
      "display_name": "Python 3"
    }
  },
  "cells": [
    {
      "cell_type": "code",
      "metadata": {
        "id": "XBEk6Nf9xx3Z",
        "colab_type": "code",
        "colab": {
          "base_uri": "https://localhost:8080/",
          "height": 444
        },
        "outputId": "0241c375-47f8-44fc-fae6-63751b6a50df"
      },
      "source": [
        "import dask.dataframe as dd\n",
        "import pandas as pd\n",
        "!pip install fastparquet\n",
        "from fastparquet import ParquetFile\n",
        "pd.set_option('display.max_columns', None)"
      ],
      "execution_count": 1,
      "outputs": [
        {
          "output_type": "stream",
          "text": [
            "Collecting fastparquet\n",
            "\u001b[?25l  Downloading https://files.pythonhosted.org/packages/20/65/557177ac29fa2afe05cf8734283ae297e601e8063509b8305ff6153be7e6/fastparquet-0.4.0.tar.gz (152kB)\n",
            "\r\u001b[K     |██▏                             | 10kB 17.5MB/s eta 0:00:01\r\u001b[K     |████▎                           | 20kB 1.7MB/s eta 0:00:01\r\u001b[K     |██████▌                         | 30kB 2.2MB/s eta 0:00:01\r\u001b[K     |████████▋                       | 40kB 2.5MB/s eta 0:00:01\r\u001b[K     |██████████▊                     | 51kB 1.9MB/s eta 0:00:01\r\u001b[K     |█████████████                   | 61kB 2.2MB/s eta 0:00:01\r\u001b[K     |███████████████                 | 71kB 2.4MB/s eta 0:00:01\r\u001b[K     |█████████████████▏              | 81kB 2.6MB/s eta 0:00:01\r\u001b[K     |███████████████████▍            | 92kB 2.8MB/s eta 0:00:01\r\u001b[K     |█████████████████████▌          | 102kB 2.7MB/s eta 0:00:01\r\u001b[K     |███████████████████████▊        | 112kB 2.7MB/s eta 0:00:01\r\u001b[K     |█████████████████████████▉      | 122kB 2.7MB/s eta 0:00:01\r\u001b[K     |████████████████████████████    | 133kB 2.7MB/s eta 0:00:01\r\u001b[K     |██████████████████████████████▏ | 143kB 2.7MB/s eta 0:00:01\r\u001b[K     |████████████████████████████████| 153kB 2.7MB/s \n",
            "\u001b[?25hRequirement already satisfied: pandas>=0.19 in /usr/local/lib/python3.6/dist-packages (from fastparquet) (1.0.4)\n",
            "Requirement already satisfied: numba>=0.28 in /usr/local/lib/python3.6/dist-packages (from fastparquet) (0.48.0)\n",
            "Requirement already satisfied: numpy>=1.11 in /usr/local/lib/python3.6/dist-packages (from fastparquet) (1.18.4)\n",
            "Collecting thrift>=0.11.0\n",
            "\u001b[?25l  Downloading https://files.pythonhosted.org/packages/97/1e/3284d19d7be99305eda145b8aa46b0c33244e4a496ec66440dac19f8274d/thrift-0.13.0.tar.gz (59kB)\n",
            "\u001b[K     |████████████████████████████████| 61kB 4.6MB/s \n",
            "\u001b[?25hRequirement already satisfied: six in /usr/local/lib/python3.6/dist-packages (from fastparquet) (1.12.0)\n",
            "Requirement already satisfied: pytz>=2017.2 in /usr/local/lib/python3.6/dist-packages (from pandas>=0.19->fastparquet) (2018.9)\n",
            "Requirement already satisfied: python-dateutil>=2.6.1 in /usr/local/lib/python3.6/dist-packages (from pandas>=0.19->fastparquet) (2.8.1)\n",
            "Requirement already satisfied: setuptools in /usr/local/lib/python3.6/dist-packages (from numba>=0.28->fastparquet) (47.1.1)\n",
            "Requirement already satisfied: llvmlite<0.32.0,>=0.31.0dev0 in /usr/local/lib/python3.6/dist-packages (from numba>=0.28->fastparquet) (0.31.0)\n",
            "Building wheels for collected packages: fastparquet, thrift\n",
            "  Building wheel for fastparquet (setup.py) ... \u001b[?25l\u001b[?25hdone\n",
            "  Created wheel for fastparquet: filename=fastparquet-0.4.0-cp36-cp36m-linux_x86_64.whl size=251886 sha256=36bb3b90455428513f3c642a53740f2f55d1831e555719a6c1db25689f0024a6\n",
            "  Stored in directory: /root/.cache/pip/wheels/2f/1d/6f/d10f8d2688469c279b71799a457a1fd8f35e5ba06e91b7d993\n",
            "  Building wheel for thrift (setup.py) ... \u001b[?25l\u001b[?25hdone\n",
            "  Created wheel for thrift: filename=thrift-0.13.0-cp36-cp36m-linux_x86_64.whl size=345219 sha256=db0a8ffec87723b669fea5cd4576464eb06767c83251c623a1f71e0c42895aed\n",
            "  Stored in directory: /root/.cache/pip/wheels/02/a2/46/689ccfcf40155c23edc7cdbd9de488611c8fdf49ff34b1706e\n",
            "Successfully built fastparquet thrift\n",
            "Installing collected packages: thrift, fastparquet\n",
            "Successfully installed fastparquet-0.4.0 thrift-0.13.0\n"
          ],
          "name": "stdout"
        }
      ]
    },
    {
      "cell_type": "code",
      "metadata": {
        "id": "5c5PiZax5Hxm",
        "colab_type": "code",
        "colab": {
          "base_uri": "https://localhost:8080/",
          "height": 408
        },
        "outputId": "13e2cad4-6b1d-4091-c7c6-a13453f133da"
      },
      "source": [
        "!pip install pytorch-pretrained-bert"
      ],
      "execution_count": 2,
      "outputs": [
        {
          "output_type": "stream",
          "text": [
            "Collecting pytorch-pretrained-bert\n",
            "\u001b[?25l  Downloading https://files.pythonhosted.org/packages/d7/e0/c08d5553b89973d9a240605b9c12404bcf8227590de62bae27acbcfe076b/pytorch_pretrained_bert-0.6.2-py3-none-any.whl (123kB)\n",
            "\r\u001b[K     |██▋                             | 10kB 16.3MB/s eta 0:00:01\r\u001b[K     |█████▎                          | 20kB 1.7MB/s eta 0:00:01\r\u001b[K     |████████                        | 30kB 2.2MB/s eta 0:00:01\r\u001b[K     |██████████▋                     | 40kB 2.4MB/s eta 0:00:01\r\u001b[K     |█████████████▎                  | 51kB 1.9MB/s eta 0:00:01\r\u001b[K     |███████████████▉                | 61kB 2.2MB/s eta 0:00:01\r\u001b[K     |██████████████████▌             | 71kB 2.5MB/s eta 0:00:01\r\u001b[K     |█████████████████████▏          | 81kB 2.6MB/s eta 0:00:01\r\u001b[K     |███████████████████████▉        | 92kB 2.8MB/s eta 0:00:01\r\u001b[K     |██████████████████████████▌     | 102kB 2.7MB/s eta 0:00:01\r\u001b[K     |█████████████████████████████▏  | 112kB 2.7MB/s eta 0:00:01\r\u001b[K     |███████████████████████████████▊| 122kB 2.7MB/s eta 0:00:01\r\u001b[K     |████████████████████████████████| 133kB 2.7MB/s \n",
            "\u001b[?25hRequirement already satisfied: requests in /usr/local/lib/python3.6/dist-packages (from pytorch-pretrained-bert) (2.23.0)\n",
            "Requirement already satisfied: tqdm in /usr/local/lib/python3.6/dist-packages (from pytorch-pretrained-bert) (4.41.1)\n",
            "Requirement already satisfied: numpy in /usr/local/lib/python3.6/dist-packages (from pytorch-pretrained-bert) (1.18.4)\n",
            "Requirement already satisfied: regex in /usr/local/lib/python3.6/dist-packages (from pytorch-pretrained-bert) (2019.12.20)\n",
            "Requirement already satisfied: boto3 in /usr/local/lib/python3.6/dist-packages (from pytorch-pretrained-bert) (1.13.19)\n",
            "Requirement already satisfied: torch>=0.4.1 in /usr/local/lib/python3.6/dist-packages (from pytorch-pretrained-bert) (1.5.0+cu101)\n",
            "Requirement already satisfied: certifi>=2017.4.17 in /usr/local/lib/python3.6/dist-packages (from requests->pytorch-pretrained-bert) (2020.4.5.1)\n",
            "Requirement already satisfied: chardet<4,>=3.0.2 in /usr/local/lib/python3.6/dist-packages (from requests->pytorch-pretrained-bert) (3.0.4)\n",
            "Requirement already satisfied: idna<3,>=2.5 in /usr/local/lib/python3.6/dist-packages (from requests->pytorch-pretrained-bert) (2.9)\n",
            "Requirement already satisfied: urllib3!=1.25.0,!=1.25.1,<1.26,>=1.21.1 in /usr/local/lib/python3.6/dist-packages (from requests->pytorch-pretrained-bert) (1.24.3)\n",
            "Requirement already satisfied: botocore<1.17.0,>=1.16.19 in /usr/local/lib/python3.6/dist-packages (from boto3->pytorch-pretrained-bert) (1.16.19)\n",
            "Requirement already satisfied: jmespath<1.0.0,>=0.7.1 in /usr/local/lib/python3.6/dist-packages (from boto3->pytorch-pretrained-bert) (0.10.0)\n",
            "Requirement already satisfied: s3transfer<0.4.0,>=0.3.0 in /usr/local/lib/python3.6/dist-packages (from boto3->pytorch-pretrained-bert) (0.3.3)\n",
            "Requirement already satisfied: future in /usr/local/lib/python3.6/dist-packages (from torch>=0.4.1->pytorch-pretrained-bert) (0.16.0)\n",
            "Requirement already satisfied: docutils<0.16,>=0.10 in /usr/local/lib/python3.6/dist-packages (from botocore<1.17.0,>=1.16.19->boto3->pytorch-pretrained-bert) (0.15.2)\n",
            "Requirement already satisfied: python-dateutil<3.0.0,>=2.1 in /usr/local/lib/python3.6/dist-packages (from botocore<1.17.0,>=1.16.19->boto3->pytorch-pretrained-bert) (2.8.1)\n",
            "Requirement already satisfied: six>=1.5 in /usr/local/lib/python3.6/dist-packages (from python-dateutil<3.0.0,>=2.1->botocore<1.17.0,>=1.16.19->boto3->pytorch-pretrained-bert) (1.12.0)\n",
            "Installing collected packages: pytorch-pretrained-bert\n",
            "Successfully installed pytorch-pretrained-bert-0.6.2\n"
          ],
          "name": "stdout"
        }
      ]
    },
    {
      "cell_type": "code",
      "metadata": {
        "id": "o0SDA1F84U0J",
        "colab_type": "code",
        "colab": {}
      },
      "source": [
        "import re\n",
        "from scipy.spatial.distance import cosine\n",
        "import torch\n",
        "from pytorch_pretrained_bert import BertTokenizer, BertModel, BertForMaskedLM\n",
        "\n",
        "import logging\n",
        "\n",
        "import matplotlib.pyplot as plt\n",
        "% matplotlib inline"
      ],
      "execution_count": 0,
      "outputs": []
    },
    {
      "cell_type": "markdown",
      "metadata": {
        "id": "EDZTstz35YXP",
        "colab_type": "text"
      },
      "source": [
        "# Load the dataset\n"
      ]
    },
    {
      "cell_type": "code",
      "metadata": {
        "id": "IA_Gx8C25ndr",
        "colab_type": "code",
        "colab": {
          "base_uri": "https://localhost:8080/",
          "height": 223
        },
        "outputId": "8a82ef4c-639d-4b7f-8983-1cdce7be4e75"
      },
      "source": [
        "#Loading reviews data\n",
        "reviews = dd.read_parquet('https://tally-ai-dspt3.s3.amazonaws.com/yelp-restaurants/reviews.parquet.gzip')\n",
        "reviews.head()"
      ],
      "execution_count": 14,
      "outputs": [
        {
          "output_type": "execute_result",
          "data": {
            "text/html": [
              "<div>\n",
              "<style scoped>\n",
              "    .dataframe tbody tr th:only-of-type {\n",
              "        vertical-align: middle;\n",
              "    }\n",
              "\n",
              "    .dataframe tbody tr th {\n",
              "        vertical-align: top;\n",
              "    }\n",
              "\n",
              "    .dataframe thead th {\n",
              "        text-align: right;\n",
              "    }\n",
              "</style>\n",
              "<table border=\"1\" class=\"dataframe\">\n",
              "  <thead>\n",
              "    <tr style=\"text-align: right;\">\n",
              "      <th></th>\n",
              "      <th>review_id</th>\n",
              "      <th>business_id</th>\n",
              "      <th>reviews_stars</th>\n",
              "      <th>date</th>\n",
              "      <th>text</th>\n",
              "    </tr>\n",
              "    <tr>\n",
              "      <th>index</th>\n",
              "      <th></th>\n",
              "      <th></th>\n",
              "      <th></th>\n",
              "      <th></th>\n",
              "      <th></th>\n",
              "    </tr>\n",
              "  </thead>\n",
              "  <tbody>\n",
              "    <tr>\n",
              "      <th>0</th>\n",
              "      <td>ipufYjKx5saLVuDR6f6o0w</td>\n",
              "      <td>S9RoY_Smsh0a2JPo90bkdg</td>\n",
              "      <td>5</td>\n",
              "      <td>2017-08-21 02:03:08</td>\n",
              "      <td>Was there with a girlfriend at lunch time toda...</td>\n",
              "    </tr>\n",
              "    <tr>\n",
              "      <th>1</th>\n",
              "      <td>VNOhF-xUYguSjA01yx5nwA</td>\n",
              "      <td>S9RoY_Smsh0a2JPo90bkdg</td>\n",
              "      <td>2</td>\n",
              "      <td>2017-08-20 17:46:40</td>\n",
              "      <td>I thought my meal was OK. I ordered an omelett...</td>\n",
              "    </tr>\n",
              "    <tr>\n",
              "      <th>2</th>\n",
              "      <td>PMXYXphbbkx2TM80AtIpQQ</td>\n",
              "      <td>S9RoY_Smsh0a2JPo90bkdg</td>\n",
              "      <td>2</td>\n",
              "      <td>2015-12-10 17:53:39</td>\n",
              "      <td>It's just a breakfast not too fancy. Weak coff...</td>\n",
              "    </tr>\n",
              "    <tr>\n",
              "      <th>3</th>\n",
              "      <td>7hxilsquX34WXHYc80qLkw</td>\n",
              "      <td>S9RoY_Smsh0a2JPo90bkdg</td>\n",
              "      <td>1</td>\n",
              "      <td>2017-09-02 18:54:37</td>\n",
              "      <td>Shoule be zero stars! So, we have been here a ...</td>\n",
              "    </tr>\n",
              "    <tr>\n",
              "      <th>4</th>\n",
              "      <td>Xnf39DsDWqiv1wulL2NK9g</td>\n",
              "      <td>S9RoY_Smsh0a2JPo90bkdg</td>\n",
              "      <td>5</td>\n",
              "      <td>2017-04-30 05:33:08</td>\n",
              "      <td>I LOVE this place!!! I'm so happy they opened ...</td>\n",
              "    </tr>\n",
              "  </tbody>\n",
              "</table>\n",
              "</div>"
            ],
            "text/plain": [
              "                    review_id             business_id  reviews_stars  \\\n",
              "index                                                                  \n",
              "0      ipufYjKx5saLVuDR6f6o0w  S9RoY_Smsh0a2JPo90bkdg              5   \n",
              "1      VNOhF-xUYguSjA01yx5nwA  S9RoY_Smsh0a2JPo90bkdg              2   \n",
              "2      PMXYXphbbkx2TM80AtIpQQ  S9RoY_Smsh0a2JPo90bkdg              2   \n",
              "3      7hxilsquX34WXHYc80qLkw  S9RoY_Smsh0a2JPo90bkdg              1   \n",
              "4      Xnf39DsDWqiv1wulL2NK9g  S9RoY_Smsh0a2JPo90bkdg              5   \n",
              "\n",
              "                     date                                               text  \n",
              "index                                                                         \n",
              "0     2017-08-21 02:03:08  Was there with a girlfriend at lunch time toda...  \n",
              "1     2017-08-20 17:46:40  I thought my meal was OK. I ordered an omelett...  \n",
              "2     2015-12-10 17:53:39  It's just a breakfast not too fancy. Weak coff...  \n",
              "3     2017-09-02 18:54:37  Shoule be zero stars! So, we have been here a ...  \n",
              "4     2017-04-30 05:33:08  I LOVE this place!!! I'm so happy they opened ...  "
            ]
          },
          "metadata": {
            "tags": []
          },
          "execution_count": 14
        }
      ]
    },
    {
      "cell_type": "code",
      "metadata": {
        "id": "X5wqu_zFUJnE",
        "colab_type": "code",
        "colab": {
          "base_uri": "https://localhost:8080/",
          "height": 484
        },
        "outputId": "c7a3fbbd-8b36-4f49-e1e9-22dc9e4ada6c"
      },
      "source": [
        "#Loading business data\n",
        "business = dd.read_csv('https://tally-ai-dspt3.s3.amazonaws.com/yelp-restaurants/business.csv', blocksize=None)\n",
        "business.head()"
      ],
      "execution_count": 15,
      "outputs": [
        {
          "output_type": "execute_result",
          "data": {
            "text/html": [
              "<div>\n",
              "<style scoped>\n",
              "    .dataframe tbody tr th:only-of-type {\n",
              "        vertical-align: middle;\n",
              "    }\n",
              "\n",
              "    .dataframe tbody tr th {\n",
              "        vertical-align: top;\n",
              "    }\n",
              "\n",
              "    .dataframe thead th {\n",
              "        text-align: right;\n",
              "    }\n",
              "</style>\n",
              "<table border=\"1\" class=\"dataframe\">\n",
              "  <thead>\n",
              "    <tr style=\"text-align: right;\">\n",
              "      <th></th>\n",
              "      <th>Unnamed: 0</th>\n",
              "      <th>address</th>\n",
              "      <th>attributes</th>\n",
              "      <th>business_id</th>\n",
              "      <th>categories</th>\n",
              "      <th>city</th>\n",
              "      <th>hours</th>\n",
              "      <th>is_open</th>\n",
              "      <th>latitude</th>\n",
              "      <th>longitude</th>\n",
              "      <th>name</th>\n",
              "      <th>postal_code</th>\n",
              "      <th>review_count</th>\n",
              "      <th>state</th>\n",
              "      <th>business_stars</th>\n",
              "    </tr>\n",
              "  </thead>\n",
              "  <tbody>\n",
              "    <tr>\n",
              "      <th>0</th>\n",
              "      <td>8</td>\n",
              "      <td>404 E Green St</td>\n",
              "      <td>{'RestaurantsAttire': \"u'casual'\", 'Restaurant...</td>\n",
              "      <td>pQeaRpvuhoEqudo3uymHIQ</td>\n",
              "      <td>Ethnic Food, Food Trucks, Specialty Food, Impo...</td>\n",
              "      <td>Champaign</td>\n",
              "      <td>{'Monday': '11:30-14:30', 'Tuesday': '11:30-14...</td>\n",
              "      <td>1</td>\n",
              "      <td>40.110446</td>\n",
              "      <td>-88.233073</td>\n",
              "      <td>The Empanadas House</td>\n",
              "      <td>61820</td>\n",
              "      <td>5</td>\n",
              "      <td>IL</td>\n",
              "      <td>4.5</td>\n",
              "    </tr>\n",
              "    <tr>\n",
              "      <th>1</th>\n",
              "      <td>20</td>\n",
              "      <td>4508 E Independence Blvd</td>\n",
              "      <td>{'RestaurantsGoodForGroups': 'True', 'OutdoorS...</td>\n",
              "      <td>CsLQLiRoafpJPJSkNX2h5Q</td>\n",
              "      <td>Food, Restaurants, Grocery, Middle Eastern</td>\n",
              "      <td>Charlotte</td>\n",
              "      <td>NaN</td>\n",
              "      <td>0</td>\n",
              "      <td>35.194894</td>\n",
              "      <td>-80.767442</td>\n",
              "      <td>Middle East Deli</td>\n",
              "      <td>28205</td>\n",
              "      <td>5</td>\n",
              "      <td>NC</td>\n",
              "      <td>3.0</td>\n",
              "    </tr>\n",
              "    <tr>\n",
              "      <th>2</th>\n",
              "      <td>24</td>\n",
              "      <td>15480 Bayview Avenue, unit D0110</td>\n",
              "      <td>{'RestaurantsTableService': 'False', 'Restaura...</td>\n",
              "      <td>eBEfgOPG7pvFhb2wcG9I7w</td>\n",
              "      <td>Restaurants, Cheesesteaks, Poutineries</td>\n",
              "      <td>Aurora</td>\n",
              "      <td>{'Monday': '11:0-22:0', 'Tuesday': '11:0-22:0'...</td>\n",
              "      <td>1</td>\n",
              "      <td>44.010962</td>\n",
              "      <td>-79.448677</td>\n",
              "      <td>Philthy Phillys</td>\n",
              "      <td>L4G 7J1</td>\n",
              "      <td>4</td>\n",
              "      <td>ON</td>\n",
              "      <td>4.5</td>\n",
              "    </tr>\n",
              "    <tr>\n",
              "      <th>3</th>\n",
              "      <td>25</td>\n",
              "      <td>300 John Street</td>\n",
              "      <td>{'GoodForKids': 'True', 'RestaurantsTakeOut': ...</td>\n",
              "      <td>lu7vtrp_bE9PnxWfA8g4Pg</td>\n",
              "      <td>Japanese, Fast Food, Food Court, Restaurants</td>\n",
              "      <td>Thornhill</td>\n",
              "      <td>NaN</td>\n",
              "      <td>1</td>\n",
              "      <td>43.820492</td>\n",
              "      <td>-79.398466</td>\n",
              "      <td>Banzai Sushi</td>\n",
              "      <td>L3T 5W4</td>\n",
              "      <td>7</td>\n",
              "      <td>ON</td>\n",
              "      <td>4.5</td>\n",
              "    </tr>\n",
              "    <tr>\n",
              "      <th>4</th>\n",
              "      <td>30</td>\n",
              "      <td>13071 Yonge Street</td>\n",
              "      <td>{'Ambience': \"{'touristy': False, 'hipster': F...</td>\n",
              "      <td>9sRGfSVEfLhN_km60YruTA</td>\n",
              "      <td>Persian/Iranian, Turkish, Middle Eastern, Rest...</td>\n",
              "      <td>Richmond Hill</td>\n",
              "      <td>{'Tuesday': '12:0-21:0', 'Wednesday': '12:0-21...</td>\n",
              "      <td>1</td>\n",
              "      <td>43.947011</td>\n",
              "      <td>-79.454862</td>\n",
              "      <td>Apadana Restaurant</td>\n",
              "      <td>L4E 1A5</td>\n",
              "      <td>3</td>\n",
              "      <td>ON</td>\n",
              "      <td>3.0</td>\n",
              "    </tr>\n",
              "  </tbody>\n",
              "</table>\n",
              "</div>"
            ],
            "text/plain": [
              "   Unnamed: 0                           address  \\\n",
              "0           8                    404 E Green St   \n",
              "1          20          4508 E Independence Blvd   \n",
              "2          24  15480 Bayview Avenue, unit D0110   \n",
              "3          25                   300 John Street   \n",
              "4          30                13071 Yonge Street   \n",
              "\n",
              "                                          attributes             business_id  \\\n",
              "0  {'RestaurantsAttire': \"u'casual'\", 'Restaurant...  pQeaRpvuhoEqudo3uymHIQ   \n",
              "1  {'RestaurantsGoodForGroups': 'True', 'OutdoorS...  CsLQLiRoafpJPJSkNX2h5Q   \n",
              "2  {'RestaurantsTableService': 'False', 'Restaura...  eBEfgOPG7pvFhb2wcG9I7w   \n",
              "3  {'GoodForKids': 'True', 'RestaurantsTakeOut': ...  lu7vtrp_bE9PnxWfA8g4Pg   \n",
              "4  {'Ambience': \"{'touristy': False, 'hipster': F...  9sRGfSVEfLhN_km60YruTA   \n",
              "\n",
              "                                          categories           city  \\\n",
              "0  Ethnic Food, Food Trucks, Specialty Food, Impo...      Champaign   \n",
              "1         Food, Restaurants, Grocery, Middle Eastern      Charlotte   \n",
              "2             Restaurants, Cheesesteaks, Poutineries         Aurora   \n",
              "3       Japanese, Fast Food, Food Court, Restaurants      Thornhill   \n",
              "4  Persian/Iranian, Turkish, Middle Eastern, Rest...  Richmond Hill   \n",
              "\n",
              "                                               hours  is_open   latitude  \\\n",
              "0  {'Monday': '11:30-14:30', 'Tuesday': '11:30-14...        1  40.110446   \n",
              "1                                                NaN        0  35.194894   \n",
              "2  {'Monday': '11:0-22:0', 'Tuesday': '11:0-22:0'...        1  44.010962   \n",
              "3                                                NaN        1  43.820492   \n",
              "4  {'Tuesday': '12:0-21:0', 'Wednesday': '12:0-21...        1  43.947011   \n",
              "\n",
              "   longitude                 name postal_code  review_count state  \\\n",
              "0 -88.233073  The Empanadas House       61820             5    IL   \n",
              "1 -80.767442     Middle East Deli       28205             5    NC   \n",
              "2 -79.448677      Philthy Phillys     L4G 7J1             4    ON   \n",
              "3 -79.398466         Banzai Sushi     L3T 5W4             7    ON   \n",
              "4 -79.454862   Apadana Restaurant     L4E 1A5             3    ON   \n",
              "\n",
              "   business_stars  \n",
              "0             4.5  \n",
              "1             3.0  \n",
              "2             4.5  \n",
              "3             4.5  \n",
              "4             3.0  "
            ]
          },
          "metadata": {
            "tags": []
          },
          "execution_count": 15
        }
      ]
    },
    {
      "cell_type": "code",
      "metadata": {
        "id": "_7Bts5_u_Z6i",
        "colab_type": "code",
        "colab": {}
      },
      "source": [
        "#Conver dd to pd dataframe\n",
        "reviews = reviews.compute()"
      ],
      "execution_count": 0,
      "outputs": []
    },
    {
      "cell_type": "code",
      "metadata": {
        "id": "Tv3rni7i5yMA",
        "colab_type": "code",
        "colab": {}
      },
      "source": [
        "# Load pre-trained model tokenizer(vocabulary)\n",
        "tokenizer = BertTokenizer.from_pretrained('bert-base-uncased')"
      ],
      "execution_count": 0,
      "outputs": []
    },
    {
      "cell_type": "code",
      "metadata": {
        "id": "O65_fv2jdY1X",
        "colab_type": "code",
        "colab": {
          "base_uri": "https://localhost:8080/",
          "height": 446
        },
        "outputId": "cb0141d3-5ab8-45c8-ac79-4b454f0c397d"
      },
      "source": [
        "# locate the records containing \"awesome\", \"excellent\" and \"great\"\n",
        "reviews_tmp = reviews[reviews['text'].str.contains(\"^(?=.*awesome)(?=.*excellent)(?=.*great).+\",\n",
        "                                   flags=re.IGNORECASE, regex=True)]\n",
        "print(reviews_tmp.shape)\n",
        "reviews_tmp"
      ],
      "execution_count": 71,
      "outputs": [
        {
          "output_type": "stream",
          "text": [
            "(6262, 5)\n"
          ],
          "name": "stdout"
        },
        {
          "output_type": "execute_result",
          "data": {
            "text/html": [
              "<div>\n",
              "<style scoped>\n",
              "    .dataframe tbody tr th:only-of-type {\n",
              "        vertical-align: middle;\n",
              "    }\n",
              "\n",
              "    .dataframe tbody tr th {\n",
              "        vertical-align: top;\n",
              "    }\n",
              "\n",
              "    .dataframe thead th {\n",
              "        text-align: right;\n",
              "    }\n",
              "</style>\n",
              "<table border=\"1\" class=\"dataframe\">\n",
              "  <thead>\n",
              "    <tr style=\"text-align: right;\">\n",
              "      <th></th>\n",
              "      <th>review_id</th>\n",
              "      <th>business_id</th>\n",
              "      <th>reviews_stars</th>\n",
              "      <th>date</th>\n",
              "      <th>text</th>\n",
              "    </tr>\n",
              "    <tr>\n",
              "      <th>index</th>\n",
              "      <th></th>\n",
              "      <th></th>\n",
              "      <th></th>\n",
              "      <th></th>\n",
              "      <th></th>\n",
              "    </tr>\n",
              "  </thead>\n",
              "  <tbody>\n",
              "    <tr>\n",
              "      <th>592</th>\n",
              "      <td>J4CpLMrMz7ETqQU9_8kBeA</td>\n",
              "      <td>7sb2FYLS2sejZKxRYF9mtg</td>\n",
              "      <td>5</td>\n",
              "      <td>2016-12-15 02:33:31</td>\n",
              "      <td>Excellent!  All you can eat and bogo beer?!?  ...</td>\n",
              "    </tr>\n",
              "    <tr>\n",
              "      <th>1008</th>\n",
              "      <td>FxlfIn1oe5OVf-oBqvCZ5g</td>\n",
              "      <td>7sb2FYLS2sejZKxRYF9mtg</td>\n",
              "      <td>5</td>\n",
              "      <td>2016-11-05 21:51:16</td>\n",
              "      <td>awesome sushi every time. salmon lemon roll an...</td>\n",
              "    </tr>\n",
              "    <tr>\n",
              "      <th>1258</th>\n",
              "      <td>QHbj1cG_DlwZbIyB6xoBHw</td>\n",
              "      <td>7sb2FYLS2sejZKxRYF9mtg</td>\n",
              "      <td>4</td>\n",
              "      <td>2016-12-18 23:42:02</td>\n",
              "      <td>Great atmosphere, good music and excellent men...</td>\n",
              "    </tr>\n",
              "    <tr>\n",
              "      <th>1551</th>\n",
              "      <td>0rCuo-QSDvSAEfBYwuDswg</td>\n",
              "      <td>7sb2FYLS2sejZKxRYF9mtg</td>\n",
              "      <td>5</td>\n",
              "      <td>2018-03-23 06:34:08</td>\n",
              "      <td>I read the reviews and knew I wanted to try th...</td>\n",
              "    </tr>\n",
              "    <tr>\n",
              "      <th>3768</th>\n",
              "      <td>saSenPAM9VdpoFfrDhNhvA</td>\n",
              "      <td>gtg8Hld2EyJrFoB-272SIg</td>\n",
              "      <td>5</td>\n",
              "      <td>2014-02-25 19:25:10</td>\n",
              "      <td>My mom and I went here the other night for her...</td>\n",
              "    </tr>\n",
              "    <tr>\n",
              "      <th>...</th>\n",
              "      <td>...</td>\n",
              "      <td>...</td>\n",
              "      <td>...</td>\n",
              "      <td>...</td>\n",
              "      <td>...</td>\n",
              "    </tr>\n",
              "    <tr>\n",
              "      <th>13945</th>\n",
              "      <td>4iCmDMWrO7tSyDICRKEE_A</td>\n",
              "      <td>RwlumSqNBunw1a1LXccN8A</td>\n",
              "      <td>5</td>\n",
              "      <td>2016-09-28 23:45:20</td>\n",
              "      <td>I went to Snooze for breakfast on Tuesday, Sep...</td>\n",
              "    </tr>\n",
              "    <tr>\n",
              "      <th>14405</th>\n",
              "      <td>AyqIs3Ro27rpAuHtdRnILg</td>\n",
              "      <td>RwlumSqNBunw1a1LXccN8A</td>\n",
              "      <td>5</td>\n",
              "      <td>2018-07-04 04:26:58</td>\n",
              "      <td>Best breakfast place ever! Pancakes are awesom...</td>\n",
              "    </tr>\n",
              "    <tr>\n",
              "      <th>14587</th>\n",
              "      <td>I5Rv1cyBR35P2C95Nv-kHg</td>\n",
              "      <td>RwlumSqNBunw1a1LXccN8A</td>\n",
              "      <td>4</td>\n",
              "      <td>2018-07-25 14:34:13</td>\n",
              "      <td>EXCELLENT breakfast spot. The variety of the s...</td>\n",
              "    </tr>\n",
              "    <tr>\n",
              "      <th>14895</th>\n",
              "      <td>hx3EEX5VqtE2f6v9jFeNdA</td>\n",
              "      <td>RwlumSqNBunw1a1LXccN8A</td>\n",
              "      <td>5</td>\n",
              "      <td>2018-08-04 13:53:36</td>\n",
              "      <td>We had the chance to eat here last week while ...</td>\n",
              "    </tr>\n",
              "    <tr>\n",
              "      <th>17037</th>\n",
              "      <td>diw7qAX4eakXoEYVa5ZH4g</td>\n",
              "      <td>7VYFL_s1HK1vOU-dzyW1Ew</td>\n",
              "      <td>5</td>\n",
              "      <td>2018-09-29 13:54:04</td>\n",
              "      <td>Great sandwiches at an affordable prices (unde...</td>\n",
              "    </tr>\n",
              "  </tbody>\n",
              "</table>\n",
              "<p>6262 rows × 5 columns</p>\n",
              "</div>"
            ],
            "text/plain": [
              "                    review_id             business_id  reviews_stars  \\\n",
              "index                                                                  \n",
              "592    J4CpLMrMz7ETqQU9_8kBeA  7sb2FYLS2sejZKxRYF9mtg              5   \n",
              "1008   FxlfIn1oe5OVf-oBqvCZ5g  7sb2FYLS2sejZKxRYF9mtg              5   \n",
              "1258   QHbj1cG_DlwZbIyB6xoBHw  7sb2FYLS2sejZKxRYF9mtg              4   \n",
              "1551   0rCuo-QSDvSAEfBYwuDswg  7sb2FYLS2sejZKxRYF9mtg              5   \n",
              "3768   saSenPAM9VdpoFfrDhNhvA  gtg8Hld2EyJrFoB-272SIg              5   \n",
              "...                       ...                     ...            ...   \n",
              "13945  4iCmDMWrO7tSyDICRKEE_A  RwlumSqNBunw1a1LXccN8A              5   \n",
              "14405  AyqIs3Ro27rpAuHtdRnILg  RwlumSqNBunw1a1LXccN8A              5   \n",
              "14587  I5Rv1cyBR35P2C95Nv-kHg  RwlumSqNBunw1a1LXccN8A              4   \n",
              "14895  hx3EEX5VqtE2f6v9jFeNdA  RwlumSqNBunw1a1LXccN8A              5   \n",
              "17037  diw7qAX4eakXoEYVa5ZH4g  7VYFL_s1HK1vOU-dzyW1Ew              5   \n",
              "\n",
              "                     date                                               text  \n",
              "index                                                                         \n",
              "592   2016-12-15 02:33:31  Excellent!  All you can eat and bogo beer?!?  ...  \n",
              "1008  2016-11-05 21:51:16  awesome sushi every time. salmon lemon roll an...  \n",
              "1258  2016-12-18 23:42:02  Great atmosphere, good music and excellent men...  \n",
              "1551  2018-03-23 06:34:08  I read the reviews and knew I wanted to try th...  \n",
              "3768  2014-02-25 19:25:10  My mom and I went here the other night for her...  \n",
              "...                   ...                                                ...  \n",
              "13945 2016-09-28 23:45:20  I went to Snooze for breakfast on Tuesday, Sep...  \n",
              "14405 2018-07-04 04:26:58  Best breakfast place ever! Pancakes are awesom...  \n",
              "14587 2018-07-25 14:34:13  EXCELLENT breakfast spot. The variety of the s...  \n",
              "14895 2018-08-04 13:53:36  We had the chance to eat here last week while ...  \n",
              "17037 2018-09-29 13:54:04  Great sandwiches at an affordable prices (unde...  \n",
              "\n",
              "[6262 rows x 5 columns]"
            ]
          },
          "metadata": {
            "tags": []
          },
          "execution_count": 71
        }
      ]
    },
    {
      "cell_type": "code",
      "metadata": {
        "id": "bb2N5S_MMmZC",
        "colab_type": "code",
        "colab": {
          "base_uri": "https://localhost:8080/",
          "height": 124
        },
        "outputId": "be4b30d8-1f38-4ab3-bcec-af7bb0fb5b22"
      },
      "source": [
        "reviews.dtypes"
      ],
      "execution_count": 27,
      "outputs": [
        {
          "output_type": "execute_result",
          "data": {
            "text/plain": [
              "review_id                object\n",
              "business_id              object\n",
              "reviews_stars             int64\n",
              "date             datetime64[ns]\n",
              "text                     object\n",
              "dtype: object"
            ]
          },
          "metadata": {
            "tags": []
          },
          "execution_count": 27
        }
      ]
    },
    {
      "cell_type": "code",
      "metadata": {
        "id": "fC6Ygt1khtmk",
        "colab_type": "code",
        "colab": {
          "base_uri": "https://localhost:8080/",
          "height": 55
        },
        "outputId": "917ec48a-a2f4-43d5-dffa-556d7b82c32b"
      },
      "source": [
        "text = reviews_tmp['text'].values[6261]\n",
        "marked_text = \"[CLS] \" + text + \" [SEP]\"\n",
        "\n",
        "# Tokenize our sentence with the BERT tokenizer.\n",
        "tokenized_text = tokenizer.tokenize(marked_text)\n",
        "\n",
        "# Print out the tokens.\n",
        "print (tokenized_text)"
      ],
      "execution_count": 75,
      "outputs": [
        {
          "output_type": "stream",
          "text": [
            "['[CLS]', 'great', 'sandwiches', 'at', 'an', 'affordable', 'prices', '(', 'under', '$', '10', ')', '.', 'comes', 'with', '2', 'sides', 'that', 'are', 'excellent', '.', 'the', 'staff', 'when', 'above', 'and', 'beyond', 'to', 'help', 'me', 'craft', 'a', 'sandwich', 'i', 'would', 'love', '.', 'they', 'were', 'awesome', '!', 'the', 'chef', 'in', 'the', 'back', 'actually', 'listened', 'to', 'what', 'i', 'wanted', 'and', 'gave', 'me', 'some', 'recommendations', ',', 'and', 'even', 'customized', 'my', 'order', 'to', 'my', 'liking', '.', 'it', 'was', 'clean', 'and', 'well', 'kept', '.', 'we', 'will', 'be', 'returning', 'here', 'for', 'sure', '.', '[SEP]']\n"
          ],
          "name": "stdout"
        }
      ]
    },
    {
      "cell_type": "code",
      "metadata": {
        "id": "_5R7emsQlJkX",
        "colab_type": "code",
        "colab": {
          "base_uri": "https://localhost:8080/",
          "height": 1000
        },
        "outputId": "18d0d498-2f08-48c7-fd95-6697535a4335"
      },
      "source": [
        "# Map the token strings to their vocabulary indices.\n",
        "indexed_tokens = tokenizer.convert_tokens_to_ids(tokenized_text)\n",
        "\n",
        "# Display the words with their indices.\n",
        "for tup in zip(tokenized_text, indexed_tokens):\n",
        "  print('{:<12} {:>6,}'.format(tup[0], tup[1]))"
      ],
      "execution_count": 76,
      "outputs": [
        {
          "output_type": "stream",
          "text": [
            "[CLS]           101\n",
            "great         2,307\n",
            "sandwiches   22,094\n",
            "at            2,012\n",
            "an            2,019\n",
            "affordable   15,184\n",
            "prices        7,597\n",
            "(             1,006\n",
            "under         2,104\n",
            "$             1,002\n",
            "10            2,184\n",
            ")             1,007\n",
            ".             1,012\n",
            "comes         3,310\n",
            "with          2,007\n",
            "2             1,016\n",
            "sides         3,903\n",
            "that          2,008\n",
            "are           2,024\n",
            "excellent     6,581\n",
            ".             1,012\n",
            "the           1,996\n",
            "staff         3,095\n",
            "when          2,043\n",
            "above         2,682\n",
            "and           1,998\n",
            "beyond        3,458\n",
            "to            2,000\n",
            "help          2,393\n",
            "me            2,033\n",
            "craft         7,477\n",
            "a             1,037\n",
            "sandwich     11,642\n",
            "i             1,045\n",
            "would         2,052\n",
            "love          2,293\n",
            ".             1,012\n",
            "they          2,027\n",
            "were          2,020\n",
            "awesome      12,476\n",
            "!               999\n",
            "the           1,996\n",
            "chef         10,026\n",
            "in            1,999\n",
            "the           1,996\n",
            "back          2,067\n",
            "actually      2,941\n",
            "listened      7,791\n",
            "to            2,000\n",
            "what          2,054\n",
            "i             1,045\n",
            "wanted        2,359\n",
            "and           1,998\n",
            "gave          2,435\n",
            "me            2,033\n",
            "some          2,070\n",
            "recommendations 11,433\n",
            ",             1,010\n",
            "and           1,998\n",
            "even          2,130\n",
            "customized   28,749\n",
            "my            2,026\n",
            "order         2,344\n",
            "to            2,000\n",
            "my            2,026\n",
            "liking       16,663\n",
            ".             1,012\n",
            "it            2,009\n",
            "was           2,001\n",
            "clean         4,550\n",
            "and           1,998\n",
            "well          2,092\n",
            "kept          2,921\n",
            ".             1,012\n",
            "we            2,057\n",
            "will          2,097\n",
            "be            2,022\n",
            "returning     4,192\n",
            "here          2,182\n",
            "for           2,005\n",
            "sure          2,469\n",
            ".             1,012\n",
            "[SEP]           102\n"
          ],
          "name": "stdout"
        }
      ]
    },
    {
      "cell_type": "code",
      "metadata": {
        "id": "F9wsZc-Ml4jh",
        "colab_type": "code",
        "colab": {
          "base_uri": "https://localhost:8080/",
          "height": 55
        },
        "outputId": "52f1d2d7-7db7-499c-e24b-18eaabe31e21"
      },
      "source": [
        "# Mark each of the 15 tokens as belonging to sentence \"1\"\n",
        "segments_ids = [1] * len(tokenized_text)\n",
        "print(segments_ids)"
      ],
      "execution_count": 77,
      "outputs": [
        {
          "output_type": "stream",
          "text": [
            "[1, 1, 1, 1, 1, 1, 1, 1, 1, 1, 1, 1, 1, 1, 1, 1, 1, 1, 1, 1, 1, 1, 1, 1, 1, 1, 1, 1, 1, 1, 1, 1, 1, 1, 1, 1, 1, 1, 1, 1, 1, 1, 1, 1, 1, 1, 1, 1, 1, 1, 1, 1, 1, 1, 1, 1, 1, 1, 1, 1, 1, 1, 1, 1, 1, 1, 1, 1, 1, 1, 1, 1, 1, 1, 1, 1, 1, 1, 1, 1, 1, 1, 1]\n"
          ],
          "name": "stdout"
        }
      ]
    },
    {
      "cell_type": "code",
      "metadata": {
        "id": "WgcUhtEjmHqD",
        "colab_type": "code",
        "colab": {}
      },
      "source": [
        "# Convert inputs to PyTorch tensors\n",
        "tokens_tensor = torch.tensor([indexed_tokens])\n",
        "segments_tensors = torch.tensor([segments_ids])"
      ],
      "execution_count": 0,
      "outputs": []
    },
    {
      "cell_type": "markdown",
      "metadata": {
        "id": "MV7Upy-_mXti",
        "colab_type": "text"
      },
      "source": [
        "# Load BERT base model"
      ]
    },
    {
      "cell_type": "code",
      "metadata": {
        "id": "0jRogYalmbwY",
        "colab_type": "code",
        "colab": {
          "base_uri": "https://localhost:8080/",
          "height": 1000
        },
        "outputId": "ede17faa-0e54-4395-c359-7e6482c5f69d"
      },
      "source": [
        "# Load pre-trained model(weights)\n",
        "model = BertModel.from_pretrained('bert-base-uncased')\n",
        "\n",
        "# Put the model in \"evaluation\" mode, meaning feed-forward operation.\n",
        "model.eval()"
      ],
      "execution_count": 79,
      "outputs": [
        {
          "output_type": "stream",
          "text": [
            "100%|██████████| 407873900/407873900 [00:35<00:00, 11374379.54B/s]\n"
          ],
          "name": "stderr"
        },
        {
          "output_type": "execute_result",
          "data": {
            "text/plain": [
              "BertModel(\n",
              "  (embeddings): BertEmbeddings(\n",
              "    (word_embeddings): Embedding(30522, 768, padding_idx=0)\n",
              "    (position_embeddings): Embedding(512, 768)\n",
              "    (token_type_embeddings): Embedding(2, 768)\n",
              "    (LayerNorm): BertLayerNorm()\n",
              "    (dropout): Dropout(p=0.1, inplace=False)\n",
              "  )\n",
              "  (encoder): BertEncoder(\n",
              "    (layer): ModuleList(\n",
              "      (0): BertLayer(\n",
              "        (attention): BertAttention(\n",
              "          (self): BertSelfAttention(\n",
              "            (query): Linear(in_features=768, out_features=768, bias=True)\n",
              "            (key): Linear(in_features=768, out_features=768, bias=True)\n",
              "            (value): Linear(in_features=768, out_features=768, bias=True)\n",
              "            (dropout): Dropout(p=0.1, inplace=False)\n",
              "          )\n",
              "          (output): BertSelfOutput(\n",
              "            (dense): Linear(in_features=768, out_features=768, bias=True)\n",
              "            (LayerNorm): BertLayerNorm()\n",
              "            (dropout): Dropout(p=0.1, inplace=False)\n",
              "          )\n",
              "        )\n",
              "        (intermediate): BertIntermediate(\n",
              "          (dense): Linear(in_features=768, out_features=3072, bias=True)\n",
              "        )\n",
              "        (output): BertOutput(\n",
              "          (dense): Linear(in_features=3072, out_features=768, bias=True)\n",
              "          (LayerNorm): BertLayerNorm()\n",
              "          (dropout): Dropout(p=0.1, inplace=False)\n",
              "        )\n",
              "      )\n",
              "      (1): BertLayer(\n",
              "        (attention): BertAttention(\n",
              "          (self): BertSelfAttention(\n",
              "            (query): Linear(in_features=768, out_features=768, bias=True)\n",
              "            (key): Linear(in_features=768, out_features=768, bias=True)\n",
              "            (value): Linear(in_features=768, out_features=768, bias=True)\n",
              "            (dropout): Dropout(p=0.1, inplace=False)\n",
              "          )\n",
              "          (output): BertSelfOutput(\n",
              "            (dense): Linear(in_features=768, out_features=768, bias=True)\n",
              "            (LayerNorm): BertLayerNorm()\n",
              "            (dropout): Dropout(p=0.1, inplace=False)\n",
              "          )\n",
              "        )\n",
              "        (intermediate): BertIntermediate(\n",
              "          (dense): Linear(in_features=768, out_features=3072, bias=True)\n",
              "        )\n",
              "        (output): BertOutput(\n",
              "          (dense): Linear(in_features=3072, out_features=768, bias=True)\n",
              "          (LayerNorm): BertLayerNorm()\n",
              "          (dropout): Dropout(p=0.1, inplace=False)\n",
              "        )\n",
              "      )\n",
              "      (2): BertLayer(\n",
              "        (attention): BertAttention(\n",
              "          (self): BertSelfAttention(\n",
              "            (query): Linear(in_features=768, out_features=768, bias=True)\n",
              "            (key): Linear(in_features=768, out_features=768, bias=True)\n",
              "            (value): Linear(in_features=768, out_features=768, bias=True)\n",
              "            (dropout): Dropout(p=0.1, inplace=False)\n",
              "          )\n",
              "          (output): BertSelfOutput(\n",
              "            (dense): Linear(in_features=768, out_features=768, bias=True)\n",
              "            (LayerNorm): BertLayerNorm()\n",
              "            (dropout): Dropout(p=0.1, inplace=False)\n",
              "          )\n",
              "        )\n",
              "        (intermediate): BertIntermediate(\n",
              "          (dense): Linear(in_features=768, out_features=3072, bias=True)\n",
              "        )\n",
              "        (output): BertOutput(\n",
              "          (dense): Linear(in_features=3072, out_features=768, bias=True)\n",
              "          (LayerNorm): BertLayerNorm()\n",
              "          (dropout): Dropout(p=0.1, inplace=False)\n",
              "        )\n",
              "      )\n",
              "      (3): BertLayer(\n",
              "        (attention): BertAttention(\n",
              "          (self): BertSelfAttention(\n",
              "            (query): Linear(in_features=768, out_features=768, bias=True)\n",
              "            (key): Linear(in_features=768, out_features=768, bias=True)\n",
              "            (value): Linear(in_features=768, out_features=768, bias=True)\n",
              "            (dropout): Dropout(p=0.1, inplace=False)\n",
              "          )\n",
              "          (output): BertSelfOutput(\n",
              "            (dense): Linear(in_features=768, out_features=768, bias=True)\n",
              "            (LayerNorm): BertLayerNorm()\n",
              "            (dropout): Dropout(p=0.1, inplace=False)\n",
              "          )\n",
              "        )\n",
              "        (intermediate): BertIntermediate(\n",
              "          (dense): Linear(in_features=768, out_features=3072, bias=True)\n",
              "        )\n",
              "        (output): BertOutput(\n",
              "          (dense): Linear(in_features=3072, out_features=768, bias=True)\n",
              "          (LayerNorm): BertLayerNorm()\n",
              "          (dropout): Dropout(p=0.1, inplace=False)\n",
              "        )\n",
              "      )\n",
              "      (4): BertLayer(\n",
              "        (attention): BertAttention(\n",
              "          (self): BertSelfAttention(\n",
              "            (query): Linear(in_features=768, out_features=768, bias=True)\n",
              "            (key): Linear(in_features=768, out_features=768, bias=True)\n",
              "            (value): Linear(in_features=768, out_features=768, bias=True)\n",
              "            (dropout): Dropout(p=0.1, inplace=False)\n",
              "          )\n",
              "          (output): BertSelfOutput(\n",
              "            (dense): Linear(in_features=768, out_features=768, bias=True)\n",
              "            (LayerNorm): BertLayerNorm()\n",
              "            (dropout): Dropout(p=0.1, inplace=False)\n",
              "          )\n",
              "        )\n",
              "        (intermediate): BertIntermediate(\n",
              "          (dense): Linear(in_features=768, out_features=3072, bias=True)\n",
              "        )\n",
              "        (output): BertOutput(\n",
              "          (dense): Linear(in_features=3072, out_features=768, bias=True)\n",
              "          (LayerNorm): BertLayerNorm()\n",
              "          (dropout): Dropout(p=0.1, inplace=False)\n",
              "        )\n",
              "      )\n",
              "      (5): BertLayer(\n",
              "        (attention): BertAttention(\n",
              "          (self): BertSelfAttention(\n",
              "            (query): Linear(in_features=768, out_features=768, bias=True)\n",
              "            (key): Linear(in_features=768, out_features=768, bias=True)\n",
              "            (value): Linear(in_features=768, out_features=768, bias=True)\n",
              "            (dropout): Dropout(p=0.1, inplace=False)\n",
              "          )\n",
              "          (output): BertSelfOutput(\n",
              "            (dense): Linear(in_features=768, out_features=768, bias=True)\n",
              "            (LayerNorm): BertLayerNorm()\n",
              "            (dropout): Dropout(p=0.1, inplace=False)\n",
              "          )\n",
              "        )\n",
              "        (intermediate): BertIntermediate(\n",
              "          (dense): Linear(in_features=768, out_features=3072, bias=True)\n",
              "        )\n",
              "        (output): BertOutput(\n",
              "          (dense): Linear(in_features=3072, out_features=768, bias=True)\n",
              "          (LayerNorm): BertLayerNorm()\n",
              "          (dropout): Dropout(p=0.1, inplace=False)\n",
              "        )\n",
              "      )\n",
              "      (6): BertLayer(\n",
              "        (attention): BertAttention(\n",
              "          (self): BertSelfAttention(\n",
              "            (query): Linear(in_features=768, out_features=768, bias=True)\n",
              "            (key): Linear(in_features=768, out_features=768, bias=True)\n",
              "            (value): Linear(in_features=768, out_features=768, bias=True)\n",
              "            (dropout): Dropout(p=0.1, inplace=False)\n",
              "          )\n",
              "          (output): BertSelfOutput(\n",
              "            (dense): Linear(in_features=768, out_features=768, bias=True)\n",
              "            (LayerNorm): BertLayerNorm()\n",
              "            (dropout): Dropout(p=0.1, inplace=False)\n",
              "          )\n",
              "        )\n",
              "        (intermediate): BertIntermediate(\n",
              "          (dense): Linear(in_features=768, out_features=3072, bias=True)\n",
              "        )\n",
              "        (output): BertOutput(\n",
              "          (dense): Linear(in_features=3072, out_features=768, bias=True)\n",
              "          (LayerNorm): BertLayerNorm()\n",
              "          (dropout): Dropout(p=0.1, inplace=False)\n",
              "        )\n",
              "      )\n",
              "      (7): BertLayer(\n",
              "        (attention): BertAttention(\n",
              "          (self): BertSelfAttention(\n",
              "            (query): Linear(in_features=768, out_features=768, bias=True)\n",
              "            (key): Linear(in_features=768, out_features=768, bias=True)\n",
              "            (value): Linear(in_features=768, out_features=768, bias=True)\n",
              "            (dropout): Dropout(p=0.1, inplace=False)\n",
              "          )\n",
              "          (output): BertSelfOutput(\n",
              "            (dense): Linear(in_features=768, out_features=768, bias=True)\n",
              "            (LayerNorm): BertLayerNorm()\n",
              "            (dropout): Dropout(p=0.1, inplace=False)\n",
              "          )\n",
              "        )\n",
              "        (intermediate): BertIntermediate(\n",
              "          (dense): Linear(in_features=768, out_features=3072, bias=True)\n",
              "        )\n",
              "        (output): BertOutput(\n",
              "          (dense): Linear(in_features=3072, out_features=768, bias=True)\n",
              "          (LayerNorm): BertLayerNorm()\n",
              "          (dropout): Dropout(p=0.1, inplace=False)\n",
              "        )\n",
              "      )\n",
              "      (8): BertLayer(\n",
              "        (attention): BertAttention(\n",
              "          (self): BertSelfAttention(\n",
              "            (query): Linear(in_features=768, out_features=768, bias=True)\n",
              "            (key): Linear(in_features=768, out_features=768, bias=True)\n",
              "            (value): Linear(in_features=768, out_features=768, bias=True)\n",
              "            (dropout): Dropout(p=0.1, inplace=False)\n",
              "          )\n",
              "          (output): BertSelfOutput(\n",
              "            (dense): Linear(in_features=768, out_features=768, bias=True)\n",
              "            (LayerNorm): BertLayerNorm()\n",
              "            (dropout): Dropout(p=0.1, inplace=False)\n",
              "          )\n",
              "        )\n",
              "        (intermediate): BertIntermediate(\n",
              "          (dense): Linear(in_features=768, out_features=3072, bias=True)\n",
              "        )\n",
              "        (output): BertOutput(\n",
              "          (dense): Linear(in_features=3072, out_features=768, bias=True)\n",
              "          (LayerNorm): BertLayerNorm()\n",
              "          (dropout): Dropout(p=0.1, inplace=False)\n",
              "        )\n",
              "      )\n",
              "      (9): BertLayer(\n",
              "        (attention): BertAttention(\n",
              "          (self): BertSelfAttention(\n",
              "            (query): Linear(in_features=768, out_features=768, bias=True)\n",
              "            (key): Linear(in_features=768, out_features=768, bias=True)\n",
              "            (value): Linear(in_features=768, out_features=768, bias=True)\n",
              "            (dropout): Dropout(p=0.1, inplace=False)\n",
              "          )\n",
              "          (output): BertSelfOutput(\n",
              "            (dense): Linear(in_features=768, out_features=768, bias=True)\n",
              "            (LayerNorm): BertLayerNorm()\n",
              "            (dropout): Dropout(p=0.1, inplace=False)\n",
              "          )\n",
              "        )\n",
              "        (intermediate): BertIntermediate(\n",
              "          (dense): Linear(in_features=768, out_features=3072, bias=True)\n",
              "        )\n",
              "        (output): BertOutput(\n",
              "          (dense): Linear(in_features=3072, out_features=768, bias=True)\n",
              "          (LayerNorm): BertLayerNorm()\n",
              "          (dropout): Dropout(p=0.1, inplace=False)\n",
              "        )\n",
              "      )\n",
              "      (10): BertLayer(\n",
              "        (attention): BertAttention(\n",
              "          (self): BertSelfAttention(\n",
              "            (query): Linear(in_features=768, out_features=768, bias=True)\n",
              "            (key): Linear(in_features=768, out_features=768, bias=True)\n",
              "            (value): Linear(in_features=768, out_features=768, bias=True)\n",
              "            (dropout): Dropout(p=0.1, inplace=False)\n",
              "          )\n",
              "          (output): BertSelfOutput(\n",
              "            (dense): Linear(in_features=768, out_features=768, bias=True)\n",
              "            (LayerNorm): BertLayerNorm()\n",
              "            (dropout): Dropout(p=0.1, inplace=False)\n",
              "          )\n",
              "        )\n",
              "        (intermediate): BertIntermediate(\n",
              "          (dense): Linear(in_features=768, out_features=3072, bias=True)\n",
              "        )\n",
              "        (output): BertOutput(\n",
              "          (dense): Linear(in_features=3072, out_features=768, bias=True)\n",
              "          (LayerNorm): BertLayerNorm()\n",
              "          (dropout): Dropout(p=0.1, inplace=False)\n",
              "        )\n",
              "      )\n",
              "      (11): BertLayer(\n",
              "        (attention): BertAttention(\n",
              "          (self): BertSelfAttention(\n",
              "            (query): Linear(in_features=768, out_features=768, bias=True)\n",
              "            (key): Linear(in_features=768, out_features=768, bias=True)\n",
              "            (value): Linear(in_features=768, out_features=768, bias=True)\n",
              "            (dropout): Dropout(p=0.1, inplace=False)\n",
              "          )\n",
              "          (output): BertSelfOutput(\n",
              "            (dense): Linear(in_features=768, out_features=768, bias=True)\n",
              "            (LayerNorm): BertLayerNorm()\n",
              "            (dropout): Dropout(p=0.1, inplace=False)\n",
              "          )\n",
              "        )\n",
              "        (intermediate): BertIntermediate(\n",
              "          (dense): Linear(in_features=768, out_features=3072, bias=True)\n",
              "        )\n",
              "        (output): BertOutput(\n",
              "          (dense): Linear(in_features=3072, out_features=768, bias=True)\n",
              "          (LayerNorm): BertLayerNorm()\n",
              "          (dropout): Dropout(p=0.1, inplace=False)\n",
              "        )\n",
              "      )\n",
              "    )\n",
              "  )\n",
              "  (pooler): BertPooler(\n",
              "    (dense): Linear(in_features=768, out_features=768, bias=True)\n",
              "    (activation): Tanh()\n",
              "  )\n",
              ")"
            ]
          },
          "metadata": {
            "tags": []
          },
          "execution_count": 79
        }
      ]
    },
    {
      "cell_type": "code",
      "metadata": {
        "id": "8Xi9mkF5m9w5",
        "colab_type": "code",
        "colab": {}
      },
      "source": [
        "# Predict hidden states features for each layer\n",
        "with torch.no_grad():\n",
        "  encoded_layers, _ = model(tokens_tensor, segments_tensors)"
      ],
      "execution_count": 0,
      "outputs": []
    },
    {
      "cell_type": "code",
      "metadata": {
        "id": "oL2nRFZsnMln",
        "colab_type": "code",
        "colab": {
          "base_uri": "https://localhost:8080/",
          "height": 88
        },
        "outputId": "b0fb6923-275e-4caf-aee9-bffe3a6856f9"
      },
      "source": [
        "print (\"Number of layers:\", len(encoded_layers))\n",
        "layer_i = 0\n",
        "print (\"Number of batches:\", len(encoded_layers[layer_i]))\n",
        "batch_i = 0\n",
        "print (\"Number of tokens:\", len(encoded_layers[layer_i][batch_i]))\n",
        "token_i = 0\n",
        "print (\"Number of hidden units:\", len(encoded_layers[layer_i][batch_i][token_i]))"
      ],
      "execution_count": 81,
      "outputs": [
        {
          "output_type": "stream",
          "text": [
            "Number of layers: 12\n",
            "Number of batches: 1\n",
            "Number of tokens: 83\n",
            "Number of hidden units: 768\n"
          ],
          "name": "stdout"
        }
      ]
    },
    {
      "cell_type": "code",
      "metadata": {
        "id": "JYCRjbbUnWgQ",
        "colab_type": "code",
        "colab": {
          "base_uri": "https://localhost:8080/",
          "height": 265
        },
        "outputId": "b56159a7-00ba-48c6-f892-06fa3dc1d44c"
      },
      "source": [
        "# For the 5th token in our sentence, select its feature values from layer 5.\n",
        "token_i = 5\n",
        "layer_i = 5\n",
        "vec = encoded_layers[layer_i][batch_i][token_i]\n",
        "\n",
        "# Plot the values as a histogram to show their distribution.\n",
        "plt.figure(figsize=(8,4))\n",
        "plt.hist(vec, bins=200)\n",
        "plt.show()"
      ],
      "execution_count": 82,
      "outputs": [
        {
          "output_type": "display_data",
          "data": {
            "image/png": "[encoded data removed]",
            "text/plain": [
              "<Figure size 576x288 with 1 Axes>"
            ]
          },
          "metadata": {
            "tags": [],
            "needs_background": "light"
          }
        }
      ]
    },
    {
      "cell_type": "code",
      "metadata": {
        "id": "H_pYrr3snfLT",
        "colab_type": "code",
        "colab": {
          "base_uri": "https://localhost:8080/",
          "height": 52
        },
        "outputId": "bd15cd3d-66c3-4797-ebfc-79d3b4f50c46"
      },
      "source": [
        "# `encoded_layers` is a Python list.\n",
        "print('Type of encoded_layers: ', type(encoded_layers))\n",
        "\n",
        "# Each layer in the list is a torch tensor.\n",
        "print('Tensor shape for each layer: ', encoded_layers[0].size())"
      ],
      "execution_count": 83,
      "outputs": [
        {
          "output_type": "stream",
          "text": [
            "Type of encoded_layers:  <class 'list'>\n",
            "Tensor shape for each layer:  torch.Size([1, 83, 768])\n"
          ],
          "name": "stdout"
        }
      ]
    },
    {
      "cell_type": "markdown",
      "metadata": {
        "id": "-nSaNb1znjEs",
        "colab_type": "text"
      },
      "source": [
        "# Token Vectors"
      ]
    },
    {
      "cell_type": "code",
      "metadata": {
        "id": "l7-tfVjPnlOA",
        "colab_type": "code",
        "colab": {}
      },
      "source": [
        ""
      ],
      "execution_count": 0,
      "outputs": []
    }
  ]
}