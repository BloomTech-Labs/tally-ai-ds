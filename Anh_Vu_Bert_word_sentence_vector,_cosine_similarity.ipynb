{
  "nbformat": 4,
  "nbformat_minor": 0,
  "metadata": {
    "colab": {
      "name": "Anh_Vu_Bert word/sentence vector, cosine similarity.ipynb",
      "provenance": []
    },
    "kernelspec": {
      "name": "python3",
      "display_name": "Python 3"
    }
  },
  "cells": [
    {
      "cell_type": "code",
      "metadata": {
        "id": "XBEk6Nf9xx3Z",
        "colab_type": "code",
        "colab": {
          "base_uri": "https://localhost:8080/",
          "height": 195
        },
        "outputId": "3c5093b2-d52e-4f38-9207-934037758d74"
      },
      "source": [
        "import dask.dataframe as dd\n",
        "import pandas as pd\n",
        "!pip install fastparquet\n",
        "from fastparquet import ParquetFile\n",
        "pd.set_option('display.max_columns', None)"
      ],
      "execution_count": 1,
      "outputs": [
        {
          "output_type": "stream",
          "text": [
            "Requirement already satisfied: fastparquet in /usr/local/lib/python3.6/dist-packages (0.4.0)\n",
            "Requirement already satisfied: six in /usr/local/lib/python3.6/dist-packages (from fastparquet) (1.12.0)\n",
            "Requirement already satisfied: pandas>=0.19 in /usr/local/lib/python3.6/dist-packages (from fastparquet) (1.0.4)\n",
            "Requirement already satisfied: numpy>=1.11 in /usr/local/lib/python3.6/dist-packages (from fastparquet) (1.18.4)\n",
            "Requirement already satisfied: numba>=0.28 in /usr/local/lib/python3.6/dist-packages (from fastparquet) (0.48.0)\n",
            "Requirement already satisfied: thrift>=0.11.0 in /usr/local/lib/python3.6/dist-packages (from fastparquet) (0.13.0)\n",
            "Requirement already satisfied: python-dateutil>=2.6.1 in /usr/local/lib/python3.6/dist-packages (from pandas>=0.19->fastparquet) (2.8.1)\n",
            "Requirement already satisfied: pytz>=2017.2 in /usr/local/lib/python3.6/dist-packages (from pandas>=0.19->fastparquet) (2018.9)\n",
            "Requirement already satisfied: setuptools in /usr/local/lib/python3.6/dist-packages (from numba>=0.28->fastparquet) (47.1.1)\n",
            "Requirement already satisfied: llvmlite<0.32.0,>=0.31.0dev0 in /usr/local/lib/python3.6/dist-packages (from numba>=0.28->fastparquet) (0.31.0)\n"
          ],
          "name": "stdout"
        }
      ]
    },
    {
      "cell_type": "code",
      "metadata": {
        "id": "5c5PiZax5Hxm",
        "colab_type": "code",
        "colab": {
          "base_uri": "https://localhost:8080/",
          "height": 337
        },
        "outputId": "bdcf30cb-9217-4626-dc79-ea4273e3cccb"
      },
      "source": [
        "!pip install pytorch-pretrained-bert"
      ],
      "execution_count": 2,
      "outputs": [
        {
          "output_type": "stream",
          "text": [
            "Requirement already satisfied: pytorch-pretrained-bert in /usr/local/lib/python3.6/dist-packages (0.6.2)\n",
            "Requirement already satisfied: requests in /usr/local/lib/python3.6/dist-packages (from pytorch-pretrained-bert) (2.23.0)\n",
            "Requirement already satisfied: regex in /usr/local/lib/python3.6/dist-packages (from pytorch-pretrained-bert) (2019.12.20)\n",
            "Requirement already satisfied: tqdm in /usr/local/lib/python3.6/dist-packages (from pytorch-pretrained-bert) (4.41.1)\n",
            "Requirement already satisfied: numpy in /usr/local/lib/python3.6/dist-packages (from pytorch-pretrained-bert) (1.18.4)\n",
            "Requirement already satisfied: torch>=0.4.1 in /usr/local/lib/python3.6/dist-packages (from pytorch-pretrained-bert) (1.5.0+cu101)\n",
            "Requirement already satisfied: boto3 in /usr/local/lib/python3.6/dist-packages (from pytorch-pretrained-bert) (1.13.19)\n",
            "Requirement already satisfied: certifi>=2017.4.17 in /usr/local/lib/python3.6/dist-packages (from requests->pytorch-pretrained-bert) (2020.4.5.1)\n",
            "Requirement already satisfied: idna<3,>=2.5 in /usr/local/lib/python3.6/dist-packages (from requests->pytorch-pretrained-bert) (2.9)\n",
            "Requirement already satisfied: urllib3!=1.25.0,!=1.25.1,<1.26,>=1.21.1 in /usr/local/lib/python3.6/dist-packages (from requests->pytorch-pretrained-bert) (1.24.3)\n",
            "Requirement already satisfied: chardet<4,>=3.0.2 in /usr/local/lib/python3.6/dist-packages (from requests->pytorch-pretrained-bert) (3.0.4)\n",
            "Requirement already satisfied: future in /usr/local/lib/python3.6/dist-packages (from torch>=0.4.1->pytorch-pretrained-bert) (0.16.0)\n",
            "Requirement already satisfied: botocore<1.17.0,>=1.16.19 in /usr/local/lib/python3.6/dist-packages (from boto3->pytorch-pretrained-bert) (1.16.19)\n",
            "Requirement already satisfied: s3transfer<0.4.0,>=0.3.0 in /usr/local/lib/python3.6/dist-packages (from boto3->pytorch-pretrained-bert) (0.3.3)\n",
            "Requirement already satisfied: jmespath<1.0.0,>=0.7.1 in /usr/local/lib/python3.6/dist-packages (from boto3->pytorch-pretrained-bert) (0.10.0)\n",
            "Requirement already satisfied: docutils<0.16,>=0.10 in /usr/local/lib/python3.6/dist-packages (from botocore<1.17.0,>=1.16.19->boto3->pytorch-pretrained-bert) (0.15.2)\n",
            "Requirement already satisfied: python-dateutil<3.0.0,>=2.1 in /usr/local/lib/python3.6/dist-packages (from botocore<1.17.0,>=1.16.19->boto3->pytorch-pretrained-bert) (2.8.1)\n",
            "Requirement already satisfied: six>=1.5 in /usr/local/lib/python3.6/dist-packages (from python-dateutil<3.0.0,>=2.1->botocore<1.17.0,>=1.16.19->boto3->pytorch-pretrained-bert) (1.12.0)\n"
          ],
          "name": "stdout"
        }
      ]
    },
    {
      "cell_type": "code",
      "metadata": {
        "id": "o0SDA1F84U0J",
        "colab_type": "code",
        "colab": {}
      },
      "source": [
        "import re\n",
        "from scipy.spatial.distance import cosine\n",
        "import torch\n",
        "from pytorch_pretrained_bert import BertTokenizer, BertModel, BertForMaskedLM\n",
        "\n",
        "import logging\n",
        "\n",
        "import matplotlib.pyplot as plt\n",
        "% matplotlib inline"
      ],
      "execution_count": 0,
      "outputs": []
    },
    {
      "cell_type": "markdown",
      "metadata": {
        "id": "EDZTstz35YXP",
        "colab_type": "text"
      },
      "source": [
        "# Load the dataset\n"
      ]
    },
    {
      "cell_type": "code",
      "metadata": {
        "id": "IA_Gx8C25ndr",
        "colab_type": "code",
        "colab": {
          "base_uri": "https://localhost:8080/",
          "height": 223
        },
        "outputId": "0ec3026f-fb1f-4d1b-8b59-ea3ce33515b2"
      },
      "source": [
        "#Loading reviews data\n",
        "reviews = dd.read_parquet('https://tally-ai-dspt3.s3.amazonaws.com/yelp-restaurants/reviews.parquet.gzip')\n",
        "reviews.head()"
      ],
      "execution_count": 5,
      "outputs": [
        {
          "output_type": "execute_result",
          "data": {
            "text/html": [
              "<div>\n",
              "<style scoped>\n",
              "    .dataframe tbody tr th:only-of-type {\n",
              "        vertical-align: middle;\n",
              "    }\n",
              "\n",
              "    .dataframe tbody tr th {\n",
              "        vertical-align: top;\n",
              "    }\n",
              "\n",
              "    .dataframe thead th {\n",
              "        text-align: right;\n",
              "    }\n",
              "</style>\n",
              "<table border=\"1\" class=\"dataframe\">\n",
              "  <thead>\n",
              "    <tr style=\"text-align: right;\">\n",
              "      <th></th>\n",
              "      <th>review_id</th>\n",
              "      <th>business_id</th>\n",
              "      <th>reviews_stars</th>\n",
              "      <th>date</th>\n",
              "      <th>text</th>\n",
              "    </tr>\n",
              "    <tr>\n",
              "      <th>index</th>\n",
              "      <th></th>\n",
              "      <th></th>\n",
              "      <th></th>\n",
              "      <th></th>\n",
              "      <th></th>\n",
              "    </tr>\n",
              "  </thead>\n",
              "  <tbody>\n",
              "    <tr>\n",
              "      <th>0</th>\n",
              "      <td>ipufYjKx5saLVuDR6f6o0w</td>\n",
              "      <td>S9RoY_Smsh0a2JPo90bkdg</td>\n",
              "      <td>5</td>\n",
              "      <td>2017-08-21 02:03:08</td>\n",
              "      <td>Was there with a girlfriend at lunch time toda...</td>\n",
              "    </tr>\n",
              "    <tr>\n",
              "      <th>1</th>\n",
              "      <td>VNOhF-xUYguSjA01yx5nwA</td>\n",
              "      <td>S9RoY_Smsh0a2JPo90bkdg</td>\n",
              "      <td>2</td>\n",
              "      <td>2017-08-20 17:46:40</td>\n",
              "      <td>I thought my meal was OK. I ordered an omelett...</td>\n",
              "    </tr>\n",
              "    <tr>\n",
              "      <th>2</th>\n",
              "      <td>PMXYXphbbkx2TM80AtIpQQ</td>\n",
              "      <td>S9RoY_Smsh0a2JPo90bkdg</td>\n",
              "      <td>2</td>\n",
              "      <td>2015-12-10 17:53:39</td>\n",
              "      <td>It's just a breakfast not too fancy. Weak coff...</td>\n",
              "    </tr>\n",
              "    <tr>\n",
              "      <th>3</th>\n",
              "      <td>7hxilsquX34WXHYc80qLkw</td>\n",
              "      <td>S9RoY_Smsh0a2JPo90bkdg</td>\n",
              "      <td>1</td>\n",
              "      <td>2017-09-02 18:54:37</td>\n",
              "      <td>Shoule be zero stars! So, we have been here a ...</td>\n",
              "    </tr>\n",
              "    <tr>\n",
              "      <th>4</th>\n",
              "      <td>Xnf39DsDWqiv1wulL2NK9g</td>\n",
              "      <td>S9RoY_Smsh0a2JPo90bkdg</td>\n",
              "      <td>5</td>\n",
              "      <td>2017-04-30 05:33:08</td>\n",
              "      <td>I LOVE this place!!! I'm so happy they opened ...</td>\n",
              "    </tr>\n",
              "  </tbody>\n",
              "</table>\n",
              "</div>"
            ],
            "text/plain": [
              "                    review_id             business_id  reviews_stars  \\\n",
              "index                                                                  \n",
              "0      ipufYjKx5saLVuDR6f6o0w  S9RoY_Smsh0a2JPo90bkdg              5   \n",
              "1      VNOhF-xUYguSjA01yx5nwA  S9RoY_Smsh0a2JPo90bkdg              2   \n",
              "2      PMXYXphbbkx2TM80AtIpQQ  S9RoY_Smsh0a2JPo90bkdg              2   \n",
              "3      7hxilsquX34WXHYc80qLkw  S9RoY_Smsh0a2JPo90bkdg              1   \n",
              "4      Xnf39DsDWqiv1wulL2NK9g  S9RoY_Smsh0a2JPo90bkdg              5   \n",
              "\n",
              "                     date                                               text  \n",
              "index                                                                         \n",
              "0     2017-08-21 02:03:08  Was there with a girlfriend at lunch time toda...  \n",
              "1     2017-08-20 17:46:40  I thought my meal was OK. I ordered an omelett...  \n",
              "2     2015-12-10 17:53:39  It's just a breakfast not too fancy. Weak coff...  \n",
              "3     2017-09-02 18:54:37  Shoule be zero stars! So, we have been here a ...  \n",
              "4     2017-04-30 05:33:08  I LOVE this place!!! I'm so happy they opened ...  "
            ]
          },
          "metadata": {
            "tags": []
          },
          "execution_count": 5
        }
      ]
    },
    {
      "cell_type": "code",
      "metadata": {
        "id": "X5wqu_zFUJnE",
        "colab_type": "code",
        "colab": {
          "base_uri": "https://localhost:8080/",
          "height": 484
        },
        "outputId": "37d5299d-ca88-48f0-c5ab-3c45f38e1a97"
      },
      "source": [
        "#Loading business data\n",
        "business = dd.read_csv('https://tally-ai-dspt3.s3.amazonaws.com/yelp-restaurants/business.csv', blocksize=None)\n",
        "business.head()"
      ],
      "execution_count": 6,
      "outputs": [
        {
          "output_type": "execute_result",
          "data": {
            "text/html": [
              "<div>\n",
              "<style scoped>\n",
              "    .dataframe tbody tr th:only-of-type {\n",
              "        vertical-align: middle;\n",
              "    }\n",
              "\n",
              "    .dataframe tbody tr th {\n",
              "        vertical-align: top;\n",
              "    }\n",
              "\n",
              "    .dataframe thead th {\n",
              "        text-align: right;\n",
              "    }\n",
              "</style>\n",
              "<table border=\"1\" class=\"dataframe\">\n",
              "  <thead>\n",
              "    <tr style=\"text-align: right;\">\n",
              "      <th></th>\n",
              "      <th>Unnamed: 0</th>\n",
              "      <th>address</th>\n",
              "      <th>attributes</th>\n",
              "      <th>business_id</th>\n",
              "      <th>categories</th>\n",
              "      <th>city</th>\n",
              "      <th>hours</th>\n",
              "      <th>is_open</th>\n",
              "      <th>latitude</th>\n",
              "      <th>longitude</th>\n",
              "      <th>name</th>\n",
              "      <th>postal_code</th>\n",
              "      <th>review_count</th>\n",
              "      <th>state</th>\n",
              "      <th>business_stars</th>\n",
              "    </tr>\n",
              "  </thead>\n",
              "  <tbody>\n",
              "    <tr>\n",
              "      <th>0</th>\n",
              "      <td>8</td>\n",
              "      <td>404 E Green St</td>\n",
              "      <td>{'RestaurantsAttire': \"u'casual'\", 'Restaurant...</td>\n",
              "      <td>pQeaRpvuhoEqudo3uymHIQ</td>\n",
              "      <td>Ethnic Food, Food Trucks, Specialty Food, Impo...</td>\n",
              "      <td>Champaign</td>\n",
              "      <td>{'Monday': '11:30-14:30', 'Tuesday': '11:30-14...</td>\n",
              "      <td>1</td>\n",
              "      <td>40.110446</td>\n",
              "      <td>-88.233073</td>\n",
              "      <td>The Empanadas House</td>\n",
              "      <td>61820</td>\n",
              "      <td>5</td>\n",
              "      <td>IL</td>\n",
              "      <td>4.5</td>\n",
              "    </tr>\n",
              "    <tr>\n",
              "      <th>1</th>\n",
              "      <td>20</td>\n",
              "      <td>4508 E Independence Blvd</td>\n",
              "      <td>{'RestaurantsGoodForGroups': 'True', 'OutdoorS...</td>\n",
              "      <td>CsLQLiRoafpJPJSkNX2h5Q</td>\n",
              "      <td>Food, Restaurants, Grocery, Middle Eastern</td>\n",
              "      <td>Charlotte</td>\n",
              "      <td>NaN</td>\n",
              "      <td>0</td>\n",
              "      <td>35.194894</td>\n",
              "      <td>-80.767442</td>\n",
              "      <td>Middle East Deli</td>\n",
              "      <td>28205</td>\n",
              "      <td>5</td>\n",
              "      <td>NC</td>\n",
              "      <td>3.0</td>\n",
              "    </tr>\n",
              "    <tr>\n",
              "      <th>2</th>\n",
              "      <td>24</td>\n",
              "      <td>15480 Bayview Avenue, unit D0110</td>\n",
              "      <td>{'RestaurantsTableService': 'False', 'Restaura...</td>\n",
              "      <td>eBEfgOPG7pvFhb2wcG9I7w</td>\n",
              "      <td>Restaurants, Cheesesteaks, Poutineries</td>\n",
              "      <td>Aurora</td>\n",
              "      <td>{'Monday': '11:0-22:0', 'Tuesday': '11:0-22:0'...</td>\n",
              "      <td>1</td>\n",
              "      <td>44.010962</td>\n",
              "      <td>-79.448677</td>\n",
              "      <td>Philthy Phillys</td>\n",
              "      <td>L4G 7J1</td>\n",
              "      <td>4</td>\n",
              "      <td>ON</td>\n",
              "      <td>4.5</td>\n",
              "    </tr>\n",
              "    <tr>\n",
              "      <th>3</th>\n",
              "      <td>25</td>\n",
              "      <td>300 John Street</td>\n",
              "      <td>{'GoodForKids': 'True', 'RestaurantsTakeOut': ...</td>\n",
              "      <td>lu7vtrp_bE9PnxWfA8g4Pg</td>\n",
              "      <td>Japanese, Fast Food, Food Court, Restaurants</td>\n",
              "      <td>Thornhill</td>\n",
              "      <td>NaN</td>\n",
              "      <td>1</td>\n",
              "      <td>43.820492</td>\n",
              "      <td>-79.398466</td>\n",
              "      <td>Banzai Sushi</td>\n",
              "      <td>L3T 5W4</td>\n",
              "      <td>7</td>\n",
              "      <td>ON</td>\n",
              "      <td>4.5</td>\n",
              "    </tr>\n",
              "    <tr>\n",
              "      <th>4</th>\n",
              "      <td>30</td>\n",
              "      <td>13071 Yonge Street</td>\n",
              "      <td>{'Ambience': \"{'touristy': False, 'hipster': F...</td>\n",
              "      <td>9sRGfSVEfLhN_km60YruTA</td>\n",
              "      <td>Persian/Iranian, Turkish, Middle Eastern, Rest...</td>\n",
              "      <td>Richmond Hill</td>\n",
              "      <td>{'Tuesday': '12:0-21:0', 'Wednesday': '12:0-21...</td>\n",
              "      <td>1</td>\n",
              "      <td>43.947011</td>\n",
              "      <td>-79.454862</td>\n",
              "      <td>Apadana Restaurant</td>\n",
              "      <td>L4E 1A5</td>\n",
              "      <td>3</td>\n",
              "      <td>ON</td>\n",
              "      <td>3.0</td>\n",
              "    </tr>\n",
              "  </tbody>\n",
              "</table>\n",
              "</div>"
            ],
            "text/plain": [
              "   Unnamed: 0                           address  \\\n",
              "0           8                    404 E Green St   \n",
              "1          20          4508 E Independence Blvd   \n",
              "2          24  15480 Bayview Avenue, unit D0110   \n",
              "3          25                   300 John Street   \n",
              "4          30                13071 Yonge Street   \n",
              "\n",
              "                                          attributes             business_id  \\\n",
              "0  {'RestaurantsAttire': \"u'casual'\", 'Restaurant...  pQeaRpvuhoEqudo3uymHIQ   \n",
              "1  {'RestaurantsGoodForGroups': 'True', 'OutdoorS...  CsLQLiRoafpJPJSkNX2h5Q   \n",
              "2  {'RestaurantsTableService': 'False', 'Restaura...  eBEfgOPG7pvFhb2wcG9I7w   \n",
              "3  {'GoodForKids': 'True', 'RestaurantsTakeOut': ...  lu7vtrp_bE9PnxWfA8g4Pg   \n",
              "4  {'Ambience': \"{'touristy': False, 'hipster': F...  9sRGfSVEfLhN_km60YruTA   \n",
              "\n",
              "                                          categories           city  \\\n",
              "0  Ethnic Food, Food Trucks, Specialty Food, Impo...      Champaign   \n",
              "1         Food, Restaurants, Grocery, Middle Eastern      Charlotte   \n",
              "2             Restaurants, Cheesesteaks, Poutineries         Aurora   \n",
              "3       Japanese, Fast Food, Food Court, Restaurants      Thornhill   \n",
              "4  Persian/Iranian, Turkish, Middle Eastern, Rest...  Richmond Hill   \n",
              "\n",
              "                                               hours  is_open   latitude  \\\n",
              "0  {'Monday': '11:30-14:30', 'Tuesday': '11:30-14...        1  40.110446   \n",
              "1                                                NaN        0  35.194894   \n",
              "2  {'Monday': '11:0-22:0', 'Tuesday': '11:0-22:0'...        1  44.010962   \n",
              "3                                                NaN        1  43.820492   \n",
              "4  {'Tuesday': '12:0-21:0', 'Wednesday': '12:0-21...        1  43.947011   \n",
              "\n",
              "   longitude                 name postal_code  review_count state  \\\n",
              "0 -88.233073  The Empanadas House       61820             5    IL   \n",
              "1 -80.767442     Middle East Deli       28205             5    NC   \n",
              "2 -79.448677      Philthy Phillys     L4G 7J1             4    ON   \n",
              "3 -79.398466         Banzai Sushi     L3T 5W4             7    ON   \n",
              "4 -79.454862   Apadana Restaurant     L4E 1A5             3    ON   \n",
              "\n",
              "   business_stars  \n",
              "0             4.5  \n",
              "1             3.0  \n",
              "2             4.5  \n",
              "3             4.5  \n",
              "4             3.0  "
            ]
          },
          "metadata": {
            "tags": []
          },
          "execution_count": 6
        }
      ]
    },
    {
      "cell_type": "code",
      "metadata": {
        "id": "_7Bts5_u_Z6i",
        "colab_type": "code",
        "colab": {}
      },
      "source": [
        "#Conver dd to pd dataframe\n",
        "reviews = reviews.compute()"
      ],
      "execution_count": 0,
      "outputs": []
    },
    {
      "cell_type": "code",
      "metadata": {
        "id": "Tv3rni7i5yMA",
        "colab_type": "code",
        "colab": {
          "base_uri": "https://localhost:8080/",
          "height": 35
        },
        "outputId": "e129b8cc-d3f1-4633-931f-7ec495b39b2d"
      },
      "source": [
        "# Load pre-trained model tokenizer(vocabulary)\n",
        "tokenizer = BertTokenizer.from_pretrained('bert-base-uncased')"
      ],
      "execution_count": 10,
      "outputs": [
        {
          "output_type": "stream",
          "text": [
            "100%|██████████| 231508/231508 [00:00<00:00, 886977.37B/s]\n"
          ],
          "name": "stderr"
        }
      ]
    },
    {
      "cell_type": "code",
      "metadata": {
        "id": "O65_fv2jdY1X",
        "colab_type": "code",
        "colab": {
          "base_uri": "https://localhost:8080/",
          "height": 615
        },
        "outputId": "a50f57ec-c2b4-4821-f5d4-cf58f29458d3"
      },
      "source": [
        "# locate the records containing \"awesome\", \"strong\" and \"great\"\n",
        "reviews_tmp = reviews[reviews['text'].str.contains(\"^(?=.*awesome)(?=.*strong)(?=.*great).+\",\n",
        "                                   flags=re.IGNORECASE, regex=True)]\n",
        "print(reviews_tmp.shape)\n",
        "reviews_tmp"
      ],
      "execution_count": 15,
      "outputs": [
        {
          "output_type": "stream",
          "text": [
            "(711, 5)\n"
          ],
          "name": "stdout"
        },
        {
          "output_type": "execute_result",
          "data": {
            "text/html": [
              "<div>\n",
              "<style scoped>\n",
              "    .dataframe tbody tr th:only-of-type {\n",
              "        vertical-align: middle;\n",
              "    }\n",
              "\n",
              "    .dataframe tbody tr th {\n",
              "        vertical-align: top;\n",
              "    }\n",
              "\n",
              "    .dataframe thead th {\n",
              "        text-align: right;\n",
              "    }\n",
              "</style>\n",
              "<table border=\"1\" class=\"dataframe\">\n",
              "  <thead>\n",
              "    <tr style=\"text-align: right;\">\n",
              "      <th></th>\n",
              "      <th>review_id</th>\n",
              "      <th>business_id</th>\n",
              "      <th>reviews_stars</th>\n",
              "      <th>date</th>\n",
              "      <th>text</th>\n",
              "    </tr>\n",
              "    <tr>\n",
              "      <th>index</th>\n",
              "      <th></th>\n",
              "      <th></th>\n",
              "      <th></th>\n",
              "      <th></th>\n",
              "      <th></th>\n",
              "    </tr>\n",
              "  </thead>\n",
              "  <tbody>\n",
              "    <tr>\n",
              "      <th>1210</th>\n",
              "      <td>WpRodqG0U2RsZOuLu0vOSQ</td>\n",
              "      <td>7sb2FYLS2sejZKxRYF9mtg</td>\n",
              "      <td>5</td>\n",
              "      <td>2014-09-25 04:04:31</td>\n",
              "      <td>I literally have no complaints. It was a Tuesd...</td>\n",
              "    </tr>\n",
              "    <tr>\n",
              "      <th>1551</th>\n",
              "      <td>0rCuo-QSDvSAEfBYwuDswg</td>\n",
              "      <td>7sb2FYLS2sejZKxRYF9mtg</td>\n",
              "      <td>5</td>\n",
              "      <td>2018-03-23 06:34:08</td>\n",
              "      <td>I read the reviews and knew I wanted to try th...</td>\n",
              "    </tr>\n",
              "    <tr>\n",
              "      <th>2815</th>\n",
              "      <td>1asOQC6tws-CwA6OGcmgeg</td>\n",
              "      <td>7sb2FYLS2sejZKxRYF9mtg</td>\n",
              "      <td>5</td>\n",
              "      <td>2013-08-14 22:10:28</td>\n",
              "      <td>If you are looking for fresh sushi restaurant ...</td>\n",
              "    </tr>\n",
              "    <tr>\n",
              "      <th>4886</th>\n",
              "      <td>nUp7QbvBBsWINKKItVrM2A</td>\n",
              "      <td>0PMKMyfX1j7Nc4esk1RaMg</td>\n",
              "      <td>4</td>\n",
              "      <td>2009-01-13 15:15:57</td>\n",
              "      <td>We tried Humble Pie for takeout.  The pizza wa...</td>\n",
              "    </tr>\n",
              "    <tr>\n",
              "      <th>4952</th>\n",
              "      <td>RzQdHQh3Ra2SFVbJa9d0ww</td>\n",
              "      <td>0PMKMyfX1j7Nc4esk1RaMg</td>\n",
              "      <td>5</td>\n",
              "      <td>2011-07-10 12:02:02</td>\n",
              "      <td>Truth be told, great happy hour. Very strong d...</td>\n",
              "    </tr>\n",
              "    <tr>\n",
              "      <th>...</th>\n",
              "      <td>...</td>\n",
              "      <td>...</td>\n",
              "      <td>...</td>\n",
              "      <td>...</td>\n",
              "      <td>...</td>\n",
              "    </tr>\n",
              "    <tr>\n",
              "      <th>11333</th>\n",
              "      <td>mLIPwI5Sd8kUdh3JN3GfVA</td>\n",
              "      <td>UAGZsl9ul16iDHmFNDLj4A</td>\n",
              "      <td>5</td>\n",
              "      <td>2016-12-14 16:16:31</td>\n",
              "      <td>For a little dive bar this place is awesome! I...</td>\n",
              "    </tr>\n",
              "    <tr>\n",
              "      <th>1072</th>\n",
              "      <td>7ELDahnkBUrkrjzunLUkVw</td>\n",
              "      <td>BYtGiZr3dbxa2qAhg_3I4w</td>\n",
              "      <td>5</td>\n",
              "      <td>2014-05-13 02:28:40</td>\n",
              "      <td>I'll keep it short and sweet... great service,...</td>\n",
              "    </tr>\n",
              "    <tr>\n",
              "      <th>1579</th>\n",
              "      <td>KzWdoutmdg3CHCttdAIe6g</td>\n",
              "      <td>DYuOxkW4DtlJsTHdxdXSlg</td>\n",
              "      <td>3</td>\n",
              "      <td>2017-12-08 08:34:37</td>\n",
              "      <td>I haven't been here in about 10 years decided ...</td>\n",
              "    </tr>\n",
              "    <tr>\n",
              "      <th>6610</th>\n",
              "      <td>fDEomS4TCfVLjjACztM4iw</td>\n",
              "      <td>tj3YzWsjMbPU_ivDkyOE3w</td>\n",
              "      <td>5</td>\n",
              "      <td>2016-05-15 18:53:15</td>\n",
              "      <td>Fresh, healty, and great strong coffee! Servic...</td>\n",
              "    </tr>\n",
              "    <tr>\n",
              "      <th>23828</th>\n",
              "      <td>H2Kn5XBuIm1O5y4JEpYJPA</td>\n",
              "      <td>rbDqCV2g23K3ZrTxmgoNBg</td>\n",
              "      <td>5</td>\n",
              "      <td>2017-03-22 22:07:52</td>\n",
              "      <td>Was not sure what to expect but was staying at...</td>\n",
              "    </tr>\n",
              "  </tbody>\n",
              "</table>\n",
              "<p>711 rows × 5 columns</p>\n",
              "</div>"
            ],
            "text/plain": [
              "                    review_id             business_id  reviews_stars  \\\n",
              "index                                                                  \n",
              "1210   WpRodqG0U2RsZOuLu0vOSQ  7sb2FYLS2sejZKxRYF9mtg              5   \n",
              "1551   0rCuo-QSDvSAEfBYwuDswg  7sb2FYLS2sejZKxRYF9mtg              5   \n",
              "2815   1asOQC6tws-CwA6OGcmgeg  7sb2FYLS2sejZKxRYF9mtg              5   \n",
              "4886   nUp7QbvBBsWINKKItVrM2A  0PMKMyfX1j7Nc4esk1RaMg              4   \n",
              "4952   RzQdHQh3Ra2SFVbJa9d0ww  0PMKMyfX1j7Nc4esk1RaMg              5   \n",
              "...                       ...                     ...            ...   \n",
              "11333  mLIPwI5Sd8kUdh3JN3GfVA  UAGZsl9ul16iDHmFNDLj4A              5   \n",
              "1072   7ELDahnkBUrkrjzunLUkVw  BYtGiZr3dbxa2qAhg_3I4w              5   \n",
              "1579   KzWdoutmdg3CHCttdAIe6g  DYuOxkW4DtlJsTHdxdXSlg              3   \n",
              "6610   fDEomS4TCfVLjjACztM4iw  tj3YzWsjMbPU_ivDkyOE3w              5   \n",
              "23828  H2Kn5XBuIm1O5y4JEpYJPA  rbDqCV2g23K3ZrTxmgoNBg              5   \n",
              "\n",
              "                     date                                               text  \n",
              "index                                                                         \n",
              "1210  2014-09-25 04:04:31  I literally have no complaints. It was a Tuesd...  \n",
              "1551  2018-03-23 06:34:08  I read the reviews and knew I wanted to try th...  \n",
              "2815  2013-08-14 22:10:28  If you are looking for fresh sushi restaurant ...  \n",
              "4886  2009-01-13 15:15:57  We tried Humble Pie for takeout.  The pizza wa...  \n",
              "4952  2011-07-10 12:02:02  Truth be told, great happy hour. Very strong d...  \n",
              "...                   ...                                                ...  \n",
              "11333 2016-12-14 16:16:31  For a little dive bar this place is awesome! I...  \n",
              "1072  2014-05-13 02:28:40  I'll keep it short and sweet... great service,...  \n",
              "1579  2017-12-08 08:34:37  I haven't been here in about 10 years decided ...  \n",
              "6610  2016-05-15 18:53:15  Fresh, healty, and great strong coffee! Servic...  \n",
              "23828 2017-03-22 22:07:52  Was not sure what to expect but was staying at...  \n",
              "\n",
              "[711 rows x 5 columns]"
            ]
          },
          "metadata": {
            "tags": []
          },
          "execution_count": 15
        }
      ]
    },
    {
      "cell_type": "code",
      "metadata": {
        "id": "PDOCznijccHd",
        "colab_type": "code",
        "colab": {
          "base_uri": "https://localhost:8080/",
          "height": 388
        },
        "outputId": "6b6300b7-1c59-4035-a271-0f2347c452f3"
      },
      "source": [
        "text = reviews.loc[23828, 'text']\n",
        "marked_text = \"[CLS] \" + text + \" [SEP]\"\n",
        "\n",
        "# Tokenizer our sentence with the Bert tokenizer.\n",
        "tokenized_text = tokenizer.tokenize(marked_text)\n",
        "\n",
        "# Print out the tokens.\n",
        "print(tokenized_text)"
      ],
      "execution_count": 17,
      "outputs": [
        {
          "output_type": "error",
          "ename": "TypeError",
          "evalue": "ignored",
          "traceback": [
            "\u001b[0;31m---------------------------------------------------------------------------\u001b[0m",
            "\u001b[0;31mTypeError\u001b[0m                                 Traceback (most recent call last)",
            "\u001b[0;32m<ipython-input-17-dd9f2bec9ce5>\u001b[0m in \u001b[0;36m<module>\u001b[0;34m()\u001b[0m\n\u001b[1;32m      3\u001b[0m \u001b[0;34m\u001b[0m\u001b[0m\n\u001b[1;32m      4\u001b[0m \u001b[0;31m# Tokenizer our sentence with the Bert tokenizer.\u001b[0m\u001b[0;34m\u001b[0m\u001b[0;34m\u001b[0m\u001b[0;34m\u001b[0m\u001b[0m\n\u001b[0;32m----> 5\u001b[0;31m \u001b[0mtokenized_text\u001b[0m \u001b[0;34m=\u001b[0m \u001b[0mtokenizer\u001b[0m\u001b[0;34m.\u001b[0m\u001b[0mtokenize\u001b[0m\u001b[0;34m(\u001b[0m\u001b[0mmarked_text\u001b[0m\u001b[0;34m)\u001b[0m\u001b[0;34m\u001b[0m\u001b[0;34m\u001b[0m\u001b[0m\n\u001b[0m\u001b[1;32m      6\u001b[0m \u001b[0;34m\u001b[0m\u001b[0m\n\u001b[1;32m      7\u001b[0m \u001b[0;31m# Print out the tokens.\u001b[0m\u001b[0;34m\u001b[0m\u001b[0;34m\u001b[0m\u001b[0;34m\u001b[0m\u001b[0m\n",
            "\u001b[0;32m/usr/local/lib/python3.6/dist-packages/pytorch_pretrained_bert/tokenization.py\u001b[0m in \u001b[0;36mtokenize\u001b[0;34m(self, text)\u001b[0m\n\u001b[1;32m    108\u001b[0m         \u001b[0msplit_tokens\u001b[0m \u001b[0;34m=\u001b[0m \u001b[0;34m[\u001b[0m\u001b[0;34m]\u001b[0m\u001b[0;34m\u001b[0m\u001b[0;34m\u001b[0m\u001b[0m\n\u001b[1;32m    109\u001b[0m         \u001b[0;32mif\u001b[0m \u001b[0mself\u001b[0m\u001b[0;34m.\u001b[0m\u001b[0mdo_basic_tokenize\u001b[0m\u001b[0;34m:\u001b[0m\u001b[0;34m\u001b[0m\u001b[0;34m\u001b[0m\u001b[0m\n\u001b[0;32m--> 110\u001b[0;31m             \u001b[0;32mfor\u001b[0m \u001b[0mtoken\u001b[0m \u001b[0;32min\u001b[0m \u001b[0mself\u001b[0m\u001b[0;34m.\u001b[0m\u001b[0mbasic_tokenizer\u001b[0m\u001b[0;34m.\u001b[0m\u001b[0mtokenize\u001b[0m\u001b[0;34m(\u001b[0m\u001b[0mtext\u001b[0m\u001b[0;34m)\u001b[0m\u001b[0;34m:\u001b[0m\u001b[0;34m\u001b[0m\u001b[0;34m\u001b[0m\u001b[0m\n\u001b[0m\u001b[1;32m    111\u001b[0m                 \u001b[0;32mfor\u001b[0m \u001b[0msub_token\u001b[0m \u001b[0;32min\u001b[0m \u001b[0mself\u001b[0m\u001b[0;34m.\u001b[0m\u001b[0mwordpiece_tokenizer\u001b[0m\u001b[0;34m.\u001b[0m\u001b[0mtokenize\u001b[0m\u001b[0;34m(\u001b[0m\u001b[0mtoken\u001b[0m\u001b[0;34m)\u001b[0m\u001b[0;34m:\u001b[0m\u001b[0;34m\u001b[0m\u001b[0;34m\u001b[0m\u001b[0m\n\u001b[1;32m    112\u001b[0m                     \u001b[0msplit_tokens\u001b[0m\u001b[0;34m.\u001b[0m\u001b[0mappend\u001b[0m\u001b[0;34m(\u001b[0m\u001b[0msub_token\u001b[0m\u001b[0;34m)\u001b[0m\u001b[0;34m\u001b[0m\u001b[0;34m\u001b[0m\u001b[0m\n",
            "\u001b[0;32m/usr/local/lib/python3.6/dist-packages/pytorch_pretrained_bert/tokenization.py\u001b[0m in \u001b[0;36mtokenize\u001b[0;34m(self, text)\u001b[0m\n\u001b[1;32m    215\u001b[0m     \u001b[0;32mdef\u001b[0m \u001b[0mtokenize\u001b[0m\u001b[0;34m(\u001b[0m\u001b[0mself\u001b[0m\u001b[0;34m,\u001b[0m \u001b[0mtext\u001b[0m\u001b[0;34m)\u001b[0m\u001b[0;34m:\u001b[0m\u001b[0;34m\u001b[0m\u001b[0;34m\u001b[0m\u001b[0m\n\u001b[1;32m    216\u001b[0m         \u001b[0;34m\"\"\"Tokenizes a piece of text.\"\"\"\u001b[0m\u001b[0;34m\u001b[0m\u001b[0;34m\u001b[0m\u001b[0m\n\u001b[0;32m--> 217\u001b[0;31m         \u001b[0mtext\u001b[0m \u001b[0;34m=\u001b[0m \u001b[0mself\u001b[0m\u001b[0;34m.\u001b[0m\u001b[0m_clean_text\u001b[0m\u001b[0;34m(\u001b[0m\u001b[0mtext\u001b[0m\u001b[0;34m)\u001b[0m\u001b[0;34m\u001b[0m\u001b[0;34m\u001b[0m\u001b[0m\n\u001b[0m\u001b[1;32m    218\u001b[0m         \u001b[0;31m# This was added on November 1st, 2018 for the multilingual and Chinese\u001b[0m\u001b[0;34m\u001b[0m\u001b[0;34m\u001b[0m\u001b[0;34m\u001b[0m\u001b[0m\n\u001b[1;32m    219\u001b[0m         \u001b[0;31m# models. This is also applied to the English models now, but it doesn't\u001b[0m\u001b[0;34m\u001b[0m\u001b[0;34m\u001b[0m\u001b[0;34m\u001b[0m\u001b[0m\n",
            "\u001b[0;32m/usr/local/lib/python3.6/dist-packages/pytorch_pretrained_bert/tokenization.py\u001b[0m in \u001b[0;36m_clean_text\u001b[0;34m(self, text)\u001b[0m\n\u001b[1;32m    306\u001b[0m         \u001b[0moutput\u001b[0m \u001b[0;34m=\u001b[0m \u001b[0;34m[\u001b[0m\u001b[0;34m]\u001b[0m\u001b[0;34m\u001b[0m\u001b[0;34m\u001b[0m\u001b[0m\n\u001b[1;32m    307\u001b[0m         \u001b[0;32mfor\u001b[0m \u001b[0mchar\u001b[0m \u001b[0;32min\u001b[0m \u001b[0mtext\u001b[0m\u001b[0;34m:\u001b[0m\u001b[0;34m\u001b[0m\u001b[0;34m\u001b[0m\u001b[0m\n\u001b[0;32m--> 308\u001b[0;31m             \u001b[0mcp\u001b[0m \u001b[0;34m=\u001b[0m \u001b[0mord\u001b[0m\u001b[0;34m(\u001b[0m\u001b[0mchar\u001b[0m\u001b[0;34m)\u001b[0m\u001b[0;34m\u001b[0m\u001b[0;34m\u001b[0m\u001b[0m\n\u001b[0m\u001b[1;32m    309\u001b[0m             \u001b[0;32mif\u001b[0m \u001b[0mcp\u001b[0m \u001b[0;34m==\u001b[0m \u001b[0;36m0\u001b[0m \u001b[0;32mor\u001b[0m \u001b[0mcp\u001b[0m \u001b[0;34m==\u001b[0m \u001b[0;36m0xfffd\u001b[0m \u001b[0;32mor\u001b[0m \u001b[0m_is_control\u001b[0m\u001b[0;34m(\u001b[0m\u001b[0mchar\u001b[0m\u001b[0;34m)\u001b[0m\u001b[0;34m:\u001b[0m\u001b[0;34m\u001b[0m\u001b[0;34m\u001b[0m\u001b[0m\n\u001b[1;32m    310\u001b[0m                 \u001b[0;32mcontinue\u001b[0m\u001b[0;34m\u001b[0m\u001b[0;34m\u001b[0m\u001b[0m\n",
            "\u001b[0;31mTypeError\u001b[0m: ord() expected a character, but string of length 355 found"
          ]
        }
      ]
    }
  ]
}