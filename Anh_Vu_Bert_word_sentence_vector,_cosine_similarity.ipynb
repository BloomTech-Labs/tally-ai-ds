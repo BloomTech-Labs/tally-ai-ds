{
  "nbformat": 4,
  "nbformat_minor": 0,
  "metadata": {
    "colab": {
      "name": "Anh_Vu_Bert word/sentence vector, cosine similarity.ipynb",
      "provenance": [],
      "collapsed_sections": []
    },
    "kernelspec": {
      "name": "python3",
      "display_name": "Python 3"
    }
  },
  "cells": [
    {
      "cell_type": "code",
      "metadata": {
        "id": "XBEk6Nf9xx3Z",
        "colab_type": "code",
        "colab": {
          "base_uri": "https://localhost:8080/",
          "height": 464
        },
        "outputId": "51200930-af56-4453-a98b-d55f264e74f0"
      },
      "source": [
        "import dask.dataframe as dd\n",
        "import pandas as pd\n",
        "!pip install fastparquet\n",
        "from fastparquet import ParquetFile\n",
        "pd.set_option('display.max_columns', None)"
      ],
      "execution_count": 1,
      "outputs": [
        {
          "output_type": "stream",
          "text": [
            "Collecting fastparquet\n",
            "\u001b[?25l  Downloading https://files.pythonhosted.org/packages/20/65/557177ac29fa2afe05cf8734283ae297e601e8063509b8305ff6153be7e6/fastparquet-0.4.0.tar.gz (152kB)\n",
            "\u001b[K     |████████████████████████████████| 153kB 2.7MB/s \n",
            "\u001b[?25hRequirement already satisfied: pandas>=0.19 in /usr/local/lib/python3.6/dist-packages (from fastparquet) (1.0.4)\n",
            "Requirement already satisfied: numba>=0.28 in /usr/local/lib/python3.6/dist-packages (from fastparquet) (0.48.0)\n",
            "Requirement already satisfied: numpy>=1.11 in /usr/local/lib/python3.6/dist-packages (from fastparquet) (1.18.4)\n",
            "Collecting thrift>=0.11.0\n",
            "\u001b[?25l  Downloading https://files.pythonhosted.org/packages/97/1e/3284d19d7be99305eda145b8aa46b0c33244e4a496ec66440dac19f8274d/thrift-0.13.0.tar.gz (59kB)\n",
            "\u001b[K     |████████████████████████████████| 61kB 5.4MB/s \n",
            "\u001b[?25hRequirement already satisfied: six in /usr/local/lib/python3.6/dist-packages (from fastparquet) (1.12.0)\n",
            "Requirement already satisfied: pytz>=2017.2 in /usr/local/lib/python3.6/dist-packages (from pandas>=0.19->fastparquet) (2018.9)\n",
            "Requirement already satisfied: python-dateutil>=2.6.1 in /usr/local/lib/python3.6/dist-packages (from pandas>=0.19->fastparquet) (2.8.1)\n",
            "Requirement already satisfied: llvmlite<0.32.0,>=0.31.0dev0 in /usr/local/lib/python3.6/dist-packages (from numba>=0.28->fastparquet) (0.31.0)\n",
            "Requirement already satisfied: setuptools in /usr/local/lib/python3.6/dist-packages (from numba>=0.28->fastparquet) (47.1.1)\n",
            "Building wheels for collected packages: fastparquet, thrift\n",
            "  Building wheel for fastparquet (setup.py) ... \u001b[?25l\u001b[?25hdone\n",
            "  Created wheel for fastparquet: filename=fastparquet-0.4.0-cp36-cp36m-linux_x86_64.whl size=251897 sha256=cccf59798d647e4e3fc43d18726689df9ab54563765eed4ec24663f0cb211f42\n",
            "  Stored in directory: /root/.cache/pip/wheels/2f/1d/6f/d10f8d2688469c279b71799a457a1fd8f35e5ba06e91b7d993\n",
            "  Building wheel for thrift (setup.py) ... \u001b[?25l\u001b[?25hdone\n",
            "  Created wheel for thrift: filename=thrift-0.13.0-cp36-cp36m-linux_x86_64.whl size=345247 sha256=9fe95c34a52f57ab9d04dea7641d7cc81ab13d01b3c1e0d82f72e68396e8b421\n",
            "  Stored in directory: /root/.cache/pip/wheels/02/a2/46/689ccfcf40155c23edc7cdbd9de488611c8fdf49ff34b1706e\n",
            "Successfully built fastparquet thrift\n",
            "Installing collected packages: thrift, fastparquet\n",
            "Successfully installed fastparquet-0.4.0 thrift-0.13.0\n"
          ],
          "name": "stdout"
        }
      ]
    },
    {
      "cell_type": "code",
      "metadata": {
        "id": "5c5PiZax5Hxm",
        "colab_type": "code",
        "colab": {
          "base_uri": "https://localhost:8080/",
          "height": 428
        },
        "outputId": "d4ad7b21-b746-431d-8a48-e280c41ab939"
      },
      "source": [
        "!pip install pytorch-pretrained-bert"
      ],
      "execution_count": 2,
      "outputs": [
        {
          "output_type": "stream",
          "text": [
            "Collecting pytorch-pretrained-bert\n",
            "\u001b[?25l  Downloading https://files.pythonhosted.org/packages/d7/e0/c08d5553b89973d9a240605b9c12404bcf8227590de62bae27acbcfe076b/pytorch_pretrained_bert-0.6.2-py3-none-any.whl (123kB)\n",
            "\u001b[K     |████████████████████████████████| 133kB 2.7MB/s \n",
            "\u001b[?25hRequirement already satisfied: numpy in /usr/local/lib/python3.6/dist-packages (from pytorch-pretrained-bert) (1.18.4)\n",
            "Requirement already satisfied: regex in /usr/local/lib/python3.6/dist-packages (from pytorch-pretrained-bert) (2019.12.20)\n",
            "Requirement already satisfied: boto3 in /usr/local/lib/python3.6/dist-packages (from pytorch-pretrained-bert) (1.13.19)\n",
            "Requirement already satisfied: torch>=0.4.1 in /usr/local/lib/python3.6/dist-packages (from pytorch-pretrained-bert) (1.5.0+cu101)\n",
            "Requirement already satisfied: tqdm in /usr/local/lib/python3.6/dist-packages (from pytorch-pretrained-bert) (4.41.1)\n",
            "Requirement already satisfied: requests in /usr/local/lib/python3.6/dist-packages (from pytorch-pretrained-bert) (2.23.0)\n",
            "Requirement already satisfied: jmespath<1.0.0,>=0.7.1 in /usr/local/lib/python3.6/dist-packages (from boto3->pytorch-pretrained-bert) (0.10.0)\n",
            "Requirement already satisfied: s3transfer<0.4.0,>=0.3.0 in /usr/local/lib/python3.6/dist-packages (from boto3->pytorch-pretrained-bert) (0.3.3)\n",
            "Requirement already satisfied: botocore<1.17.0,>=1.16.19 in /usr/local/lib/python3.6/dist-packages (from boto3->pytorch-pretrained-bert) (1.16.19)\n",
            "Requirement already satisfied: future in /usr/local/lib/python3.6/dist-packages (from torch>=0.4.1->pytorch-pretrained-bert) (0.16.0)\n",
            "Requirement already satisfied: chardet<4,>=3.0.2 in /usr/local/lib/python3.6/dist-packages (from requests->pytorch-pretrained-bert) (3.0.4)\n",
            "Requirement already satisfied: urllib3!=1.25.0,!=1.25.1,<1.26,>=1.21.1 in /usr/local/lib/python3.6/dist-packages (from requests->pytorch-pretrained-bert) (1.24.3)\n",
            "Requirement already satisfied: idna<3,>=2.5 in /usr/local/lib/python3.6/dist-packages (from requests->pytorch-pretrained-bert) (2.9)\n",
            "Requirement already satisfied: certifi>=2017.4.17 in /usr/local/lib/python3.6/dist-packages (from requests->pytorch-pretrained-bert) (2020.4.5.1)\n",
            "Requirement already satisfied: python-dateutil<3.0.0,>=2.1 in /usr/local/lib/python3.6/dist-packages (from botocore<1.17.0,>=1.16.19->boto3->pytorch-pretrained-bert) (2.8.1)\n",
            "Requirement already satisfied: docutils<0.16,>=0.10 in /usr/local/lib/python3.6/dist-packages (from botocore<1.17.0,>=1.16.19->boto3->pytorch-pretrained-bert) (0.15.2)\n",
            "Requirement already satisfied: six>=1.5 in /usr/local/lib/python3.6/dist-packages (from python-dateutil<3.0.0,>=2.1->botocore<1.17.0,>=1.16.19->boto3->pytorch-pretrained-bert) (1.12.0)\n",
            "Installing collected packages: pytorch-pretrained-bert\n",
            "Successfully installed pytorch-pretrained-bert-0.6.2\n"
          ],
          "name": "stdout"
        }
      ]
    },
    {
      "cell_type": "code",
      "metadata": {
        "id": "o0SDA1F84U0J",
        "colab_type": "code",
        "colab": {}
      },
      "source": [
        "import re\n",
        "from scipy.spatial.distance import cosine\n",
        "import torch\n",
        "from pytorch_pretrained_bert import BertTokenizer, BertModel, BertForMaskedLM\n",
        "\n",
        "import logging\n",
        "\n",
        "import matplotlib.pyplot as plt\n",
        "% matplotlib inline"
      ],
      "execution_count": 0,
      "outputs": []
    },
    {
      "cell_type": "markdown",
      "metadata": {
        "id": "EDZTstz35YXP",
        "colab_type": "text"
      },
      "source": [
        "# Load the dataset\n"
      ]
    },
    {
      "cell_type": "code",
      "metadata": {
        "id": "IA_Gx8C25ndr",
        "colab_type": "code",
        "colab": {
          "base_uri": "https://localhost:8080/",
          "height": 510
        },
        "outputId": "ce219b50-a403-44a3-a84a-9283146938d7"
      },
      "source": [
        "#Loading reviews data\n",
        "reviews = dd.read_parquet('https://tally-ai-dspt3.s3.amazonaws.com/yelp-restaurants/reviews.parquet.gzip')\n",
        "reviews.head()"
      ],
      "execution_count": 4,
      "outputs": [
        {
          "output_type": "execute_result",
          "data": {
            "text/html": [
              "<div>\n",
              "<style scoped>\n",
              "    .dataframe tbody tr th:only-of-type {\n",
              "        vertical-align: middle;\n",
              "    }\n",
              "\n",
              "    .dataframe tbody tr th {\n",
              "        vertical-align: top;\n",
              "    }\n",
              "\n",
              "    .dataframe thead th {\n",
              "        text-align: right;\n",
              "    }\n",
              "</style>\n",
              "<table border=\"1\" class=\"dataframe\">\n",
              "  <thead>\n",
              "    <tr style=\"text-align: right;\">\n",
              "      <th></th>\n",
              "      <th>review_id</th>\n",
              "      <th>business_id</th>\n",
              "      <th>reviews_stars</th>\n",
              "      <th>date</th>\n",
              "      <th>text</th>\n",
              "    </tr>\n",
              "    <tr>\n",
              "      <th>index</th>\n",
              "      <th></th>\n",
              "      <th></th>\n",
              "      <th></th>\n",
              "      <th></th>\n",
              "      <th></th>\n",
              "    </tr>\n",
              "  </thead>\n",
              "  <tbody>\n",
              "    <tr>\n",
              "      <th>0</th>\n",
              "      <td>ipufYjKx5saLVuDR6f6o0w</td>\n",
              "      <td>S9RoY_Smsh0a2JPo90bkdg</td>\n",
              "      <td>5</td>\n",
              "      <td>2017-08-21 02:03:08</td>\n",
              "      <td>Was there with a girlfriend at lunch time toda...</td>\n",
              "    </tr>\n",
              "    <tr>\n",
              "      <th>1</th>\n",
              "      <td>VNOhF-xUYguSjA01yx5nwA</td>\n",
              "      <td>S9RoY_Smsh0a2JPo90bkdg</td>\n",
              "      <td>2</td>\n",
              "      <td>2017-08-20 17:46:40</td>\n",
              "      <td>I thought my meal was OK. I ordered an omelett...</td>\n",
              "    </tr>\n",
              "    <tr>\n",
              "      <th>2</th>\n",
              "      <td>PMXYXphbbkx2TM80AtIpQQ</td>\n",
              "      <td>S9RoY_Smsh0a2JPo90bkdg</td>\n",
              "      <td>2</td>\n",
              "      <td>2015-12-10 17:53:39</td>\n",
              "      <td>It's just a breakfast not too fancy. Weak coff...</td>\n",
              "    </tr>\n",
              "    <tr>\n",
              "      <th>3</th>\n",
              "      <td>7hxilsquX34WXHYc80qLkw</td>\n",
              "      <td>S9RoY_Smsh0a2JPo90bkdg</td>\n",
              "      <td>1</td>\n",
              "      <td>2017-09-02 18:54:37</td>\n",
              "      <td>Shoule be zero stars! So, we have been here a ...</td>\n",
              "    </tr>\n",
              "    <tr>\n",
              "      <th>4</th>\n",
              "      <td>Xnf39DsDWqiv1wulL2NK9g</td>\n",
              "      <td>S9RoY_Smsh0a2JPo90bkdg</td>\n",
              "      <td>5</td>\n",
              "      <td>2017-04-30 05:33:08</td>\n",
              "      <td>I LOVE this place!!! I'm so happy they opened ...</td>\n",
              "    </tr>\n",
              "  </tbody>\n",
              "</table>\n",
              "</div>"
            ],
            "text/plain": [
              "                    review_id             business_id  reviews_stars  \\\n",
              "index                                                                  \n",
              "0      ipufYjKx5saLVuDR6f6o0w  S9RoY_Smsh0a2JPo90bkdg              5   \n",
              "1      VNOhF-xUYguSjA01yx5nwA  S9RoY_Smsh0a2JPo90bkdg              2   \n",
              "2      PMXYXphbbkx2TM80AtIpQQ  S9RoY_Smsh0a2JPo90bkdg              2   \n",
              "3      7hxilsquX34WXHYc80qLkw  S9RoY_Smsh0a2JPo90bkdg              1   \n",
              "4      Xnf39DsDWqiv1wulL2NK9g  S9RoY_Smsh0a2JPo90bkdg              5   \n",
              "\n",
              "                     date                                               text  \n",
              "index                                                                         \n",
              "0     2017-08-21 02:03:08  Was there with a girlfriend at lunch time toda...  \n",
              "1     2017-08-20 17:46:40  I thought my meal was OK. I ordered an omelett...  \n",
              "2     2015-12-10 17:53:39  It's just a breakfast not too fancy. Weak coff...  \n",
              "3     2017-09-02 18:54:37  Shoule be zero stars! So, we have been here a ...  \n",
              "4     2017-04-30 05:33:08  I LOVE this place!!! I'm so happy they opened ...  "
            ]
          },
          "metadata": {
            "tags": []
          },
          "execution_count": 4
        }
      ]
    },
    {
      "cell_type": "code",
      "metadata": {
        "id": "X5wqu_zFUJnE",
        "colab_type": "code",
        "colab": {
          "base_uri": "https://localhost:8080/",
          "height": 484
        },
        "outputId": "51aa56a9-f372-4a7f-8695-797204c1082a"
      },
      "source": [
        "#Loading business data\n",
        "business = dd.read_csv('https://tally-ai-dspt3.s3.amazonaws.com/yelp-restaurants/business.csv', blocksize=None)\n",
        "business.head()"
      ],
      "execution_count": 5,
      "outputs": [
        {
          "output_type": "execute_result",
          "data": {
            "text/html": [
              "<div>\n",
              "<style scoped>\n",
              "    .dataframe tbody tr th:only-of-type {\n",
              "        vertical-align: middle;\n",
              "    }\n",
              "\n",
              "    .dataframe tbody tr th {\n",
              "        vertical-align: top;\n",
              "    }\n",
              "\n",
              "    .dataframe thead th {\n",
              "        text-align: right;\n",
              "    }\n",
              "</style>\n",
              "<table border=\"1\" class=\"dataframe\">\n",
              "  <thead>\n",
              "    <tr style=\"text-align: right;\">\n",
              "      <th></th>\n",
              "      <th>Unnamed: 0</th>\n",
              "      <th>address</th>\n",
              "      <th>attributes</th>\n",
              "      <th>business_id</th>\n",
              "      <th>categories</th>\n",
              "      <th>city</th>\n",
              "      <th>hours</th>\n",
              "      <th>is_open</th>\n",
              "      <th>latitude</th>\n",
              "      <th>longitude</th>\n",
              "      <th>name</th>\n",
              "      <th>postal_code</th>\n",
              "      <th>review_count</th>\n",
              "      <th>state</th>\n",
              "      <th>business_stars</th>\n",
              "    </tr>\n",
              "  </thead>\n",
              "  <tbody>\n",
              "    <tr>\n",
              "      <th>0</th>\n",
              "      <td>8</td>\n",
              "      <td>404 E Green St</td>\n",
              "      <td>{'RestaurantsAttire': \"u'casual'\", 'Restaurant...</td>\n",
              "      <td>pQeaRpvuhoEqudo3uymHIQ</td>\n",
              "      <td>Ethnic Food, Food Trucks, Specialty Food, Impo...</td>\n",
              "      <td>Champaign</td>\n",
              "      <td>{'Monday': '11:30-14:30', 'Tuesday': '11:30-14...</td>\n",
              "      <td>1</td>\n",
              "      <td>40.110446</td>\n",
              "      <td>-88.233073</td>\n",
              "      <td>The Empanadas House</td>\n",
              "      <td>61820</td>\n",
              "      <td>5</td>\n",
              "      <td>IL</td>\n",
              "      <td>4.5</td>\n",
              "    </tr>\n",
              "    <tr>\n",
              "      <th>1</th>\n",
              "      <td>20</td>\n",
              "      <td>4508 E Independence Blvd</td>\n",
              "      <td>{'RestaurantsGoodForGroups': 'True', 'OutdoorS...</td>\n",
              "      <td>CsLQLiRoafpJPJSkNX2h5Q</td>\n",
              "      <td>Food, Restaurants, Grocery, Middle Eastern</td>\n",
              "      <td>Charlotte</td>\n",
              "      <td>NaN</td>\n",
              "      <td>0</td>\n",
              "      <td>35.194894</td>\n",
              "      <td>-80.767442</td>\n",
              "      <td>Middle East Deli</td>\n",
              "      <td>28205</td>\n",
              "      <td>5</td>\n",
              "      <td>NC</td>\n",
              "      <td>3.0</td>\n",
              "    </tr>\n",
              "    <tr>\n",
              "      <th>2</th>\n",
              "      <td>24</td>\n",
              "      <td>15480 Bayview Avenue, unit D0110</td>\n",
              "      <td>{'RestaurantsTableService': 'False', 'Restaura...</td>\n",
              "      <td>eBEfgOPG7pvFhb2wcG9I7w</td>\n",
              "      <td>Restaurants, Cheesesteaks, Poutineries</td>\n",
              "      <td>Aurora</td>\n",
              "      <td>{'Monday': '11:0-22:0', 'Tuesday': '11:0-22:0'...</td>\n",
              "      <td>1</td>\n",
              "      <td>44.010962</td>\n",
              "      <td>-79.448677</td>\n",
              "      <td>Philthy Phillys</td>\n",
              "      <td>L4G 7J1</td>\n",
              "      <td>4</td>\n",
              "      <td>ON</td>\n",
              "      <td>4.5</td>\n",
              "    </tr>\n",
              "    <tr>\n",
              "      <th>3</th>\n",
              "      <td>25</td>\n",
              "      <td>300 John Street</td>\n",
              "      <td>{'GoodForKids': 'True', 'RestaurantsTakeOut': ...</td>\n",
              "      <td>lu7vtrp_bE9PnxWfA8g4Pg</td>\n",
              "      <td>Japanese, Fast Food, Food Court, Restaurants</td>\n",
              "      <td>Thornhill</td>\n",
              "      <td>NaN</td>\n",
              "      <td>1</td>\n",
              "      <td>43.820492</td>\n",
              "      <td>-79.398466</td>\n",
              "      <td>Banzai Sushi</td>\n",
              "      <td>L3T 5W4</td>\n",
              "      <td>7</td>\n",
              "      <td>ON</td>\n",
              "      <td>4.5</td>\n",
              "    </tr>\n",
              "    <tr>\n",
              "      <th>4</th>\n",
              "      <td>30</td>\n",
              "      <td>13071 Yonge Street</td>\n",
              "      <td>{'Ambience': \"{'touristy': False, 'hipster': F...</td>\n",
              "      <td>9sRGfSVEfLhN_km60YruTA</td>\n",
              "      <td>Persian/Iranian, Turkish, Middle Eastern, Rest...</td>\n",
              "      <td>Richmond Hill</td>\n",
              "      <td>{'Tuesday': '12:0-21:0', 'Wednesday': '12:0-21...</td>\n",
              "      <td>1</td>\n",
              "      <td>43.947011</td>\n",
              "      <td>-79.454862</td>\n",
              "      <td>Apadana Restaurant</td>\n",
              "      <td>L4E 1A5</td>\n",
              "      <td>3</td>\n",
              "      <td>ON</td>\n",
              "      <td>3.0</td>\n",
              "    </tr>\n",
              "  </tbody>\n",
              "</table>\n",
              "</div>"
            ],
            "text/plain": [
              "   Unnamed: 0                           address  \\\n",
              "0           8                    404 E Green St   \n",
              "1          20          4508 E Independence Blvd   \n",
              "2          24  15480 Bayview Avenue, unit D0110   \n",
              "3          25                   300 John Street   \n",
              "4          30                13071 Yonge Street   \n",
              "\n",
              "                                          attributes             business_id  \\\n",
              "0  {'RestaurantsAttire': \"u'casual'\", 'Restaurant...  pQeaRpvuhoEqudo3uymHIQ   \n",
              "1  {'RestaurantsGoodForGroups': 'True', 'OutdoorS...  CsLQLiRoafpJPJSkNX2h5Q   \n",
              "2  {'RestaurantsTableService': 'False', 'Restaura...  eBEfgOPG7pvFhb2wcG9I7w   \n",
              "3  {'GoodForKids': 'True', 'RestaurantsTakeOut': ...  lu7vtrp_bE9PnxWfA8g4Pg   \n",
              "4  {'Ambience': \"{'touristy': False, 'hipster': F...  9sRGfSVEfLhN_km60YruTA   \n",
              "\n",
              "                                          categories           city  \\\n",
              "0  Ethnic Food, Food Trucks, Specialty Food, Impo...      Champaign   \n",
              "1         Food, Restaurants, Grocery, Middle Eastern      Charlotte   \n",
              "2             Restaurants, Cheesesteaks, Poutineries         Aurora   \n",
              "3       Japanese, Fast Food, Food Court, Restaurants      Thornhill   \n",
              "4  Persian/Iranian, Turkish, Middle Eastern, Rest...  Richmond Hill   \n",
              "\n",
              "                                               hours  is_open   latitude  \\\n",
              "0  {'Monday': '11:30-14:30', 'Tuesday': '11:30-14...        1  40.110446   \n",
              "1                                                NaN        0  35.194894   \n",
              "2  {'Monday': '11:0-22:0', 'Tuesday': '11:0-22:0'...        1  44.010962   \n",
              "3                                                NaN        1  43.820492   \n",
              "4  {'Tuesday': '12:0-21:0', 'Wednesday': '12:0-21...        1  43.947011   \n",
              "\n",
              "   longitude                 name postal_code  review_count state  \\\n",
              "0 -88.233073  The Empanadas House       61820             5    IL   \n",
              "1 -80.767442     Middle East Deli       28205             5    NC   \n",
              "2 -79.448677      Philthy Phillys     L4G 7J1             4    ON   \n",
              "3 -79.398466         Banzai Sushi     L3T 5W4             7    ON   \n",
              "4 -79.454862   Apadana Restaurant     L4E 1A5             3    ON   \n",
              "\n",
              "   business_stars  \n",
              "0             4.5  \n",
              "1             3.0  \n",
              "2             4.5  \n",
              "3             4.5  \n",
              "4             3.0  "
            ]
          },
          "metadata": {
            "tags": []
          },
          "execution_count": 5
        }
      ]
    },
    {
      "cell_type": "code",
      "metadata": {
        "id": "_7Bts5_u_Z6i",
        "colab_type": "code",
        "colab": {}
      },
      "source": [
        "#Conver dd to pd dataframe\n",
        "reviews = reviews.compute()"
      ],
      "execution_count": 0,
      "outputs": []
    },
    {
      "cell_type": "code",
      "metadata": {
        "id": "Tv3rni7i5yMA",
        "colab_type": "code",
        "colab": {
          "base_uri": "https://localhost:8080/",
          "height": 35
        },
        "outputId": "570273ff-5ead-4cb9-b848-ddc501195a8e"
      },
      "source": [
        "# Load pre-trained model tokenizer(vocabulary)\n",
        "tokenizer = BertTokenizer.from_pretrained('bert-base-uncased')"
      ],
      "execution_count": 7,
      "outputs": [
        {
          "output_type": "stream",
          "text": [
            "100%|██████████| 231508/231508 [00:00<00:00, 415793.10B/s]\n"
          ],
          "name": "stderr"
        }
      ]
    },
    {
      "cell_type": "code",
      "metadata": {
        "id": "O65_fv2jdY1X",
        "colab_type": "code",
        "colab": {
          "base_uri": "https://localhost:8080/",
          "height": 446
        },
        "outputId": "59f70f00-635d-4e29-a05c-f98cbc46a12e"
      },
      "source": [
        "# locate the records containing \"awesome\", \"excellent\" and \"great\"\n",
        "reviews_tmp = reviews[reviews['text'].str.contains(\"^(?=.*awesome)(?=.*excellent)(?=.*clean).+\",\n",
        "                                   flags=re.IGNORECASE, regex=True)]\n",
        "print(reviews_tmp.shape)\n",
        "reviews_tmp"
      ],
      "execution_count": 34,
      "outputs": [
        {
          "output_type": "stream",
          "text": [
            "(654, 5)\n"
          ],
          "name": "stdout"
        },
        {
          "output_type": "execute_result",
          "data": {
            "text/html": [
              "<div>\n",
              "<style scoped>\n",
              "    .dataframe tbody tr th:only-of-type {\n",
              "        vertical-align: middle;\n",
              "    }\n",
              "\n",
              "    .dataframe tbody tr th {\n",
              "        vertical-align: top;\n",
              "    }\n",
              "\n",
              "    .dataframe thead th {\n",
              "        text-align: right;\n",
              "    }\n",
              "</style>\n",
              "<table border=\"1\" class=\"dataframe\">\n",
              "  <thead>\n",
              "    <tr style=\"text-align: right;\">\n",
              "      <th></th>\n",
              "      <th>review_id</th>\n",
              "      <th>business_id</th>\n",
              "      <th>reviews_stars</th>\n",
              "      <th>date</th>\n",
              "      <th>text</th>\n",
              "    </tr>\n",
              "    <tr>\n",
              "      <th>index</th>\n",
              "      <th></th>\n",
              "      <th></th>\n",
              "      <th></th>\n",
              "      <th></th>\n",
              "      <th></th>\n",
              "    </tr>\n",
              "  </thead>\n",
              "  <tbody>\n",
              "    <tr>\n",
              "      <th>4248</th>\n",
              "      <td>0MlgqCeznOq6fTw_yZXLeg</td>\n",
              "      <td>72s7cTvPgI_meydNhX-JMA</td>\n",
              "      <td>5</td>\n",
              "      <td>2013-08-18 18:08:37</td>\n",
              "      <td>Vincent's has excellent food and awesome servi...</td>\n",
              "    </tr>\n",
              "    <tr>\n",
              "      <th>5820</th>\n",
              "      <td>dtMfGwj0qcWIwkMORFuiIw</td>\n",
              "      <td>5p5YW_5bMOSuLIQjkJPO3w</td>\n",
              "      <td>5</td>\n",
              "      <td>2016-05-07 20:38:55</td>\n",
              "      <td>This place is awesome. Salvatore Di Scala, own...</td>\n",
              "    </tr>\n",
              "    <tr>\n",
              "      <th>1636</th>\n",
              "      <td>cHC4hw-_IkZnHjbUUC1aWw</td>\n",
              "      <td>rcaPajgKOJC2vo_l3xa42A</td>\n",
              "      <td>4</td>\n",
              "      <td>2009-07-14 00:56:56</td>\n",
              "      <td>We've been meaning to try Bouchon the last few...</td>\n",
              "    </tr>\n",
              "    <tr>\n",
              "      <th>15611</th>\n",
              "      <td>H-VNxVQso94sE8hiaxI4gg</td>\n",
              "      <td>Dkx_UjNhbXB-P0oyKqbTPA</td>\n",
              "      <td>5</td>\n",
              "      <td>2013-06-29 11:39:13</td>\n",
              "      <td>I was wandering the area and the clean sign, a...</td>\n",
              "    </tr>\n",
              "    <tr>\n",
              "      <th>16265</th>\n",
              "      <td>qWkvzFo9Rv2IcW4sGYUSyA</td>\n",
              "      <td>N7WeIAIipjKwiaoE9ZtKoQ</td>\n",
              "      <td>5</td>\n",
              "      <td>2019-11-03 06:35:21</td>\n",
              "      <td>Just had my first opportunity to eat here. The...</td>\n",
              "    </tr>\n",
              "    <tr>\n",
              "      <th>...</th>\n",
              "      <td>...</td>\n",
              "      <td>...</td>\n",
              "      <td>...</td>\n",
              "      <td>...</td>\n",
              "      <td>...</td>\n",
              "    </tr>\n",
              "    <tr>\n",
              "      <th>8048</th>\n",
              "      <td>yQBCJzy29x7TDExROQmKzA</td>\n",
              "      <td>zaxK3ea92mvEBRy-jttngg</td>\n",
              "      <td>4</td>\n",
              "      <td>2019-03-13 03:29:10</td>\n",
              "      <td>I took my family down to the Las Vegas Strip o...</td>\n",
              "    </tr>\n",
              "    <tr>\n",
              "      <th>11736</th>\n",
              "      <td>nXv81YVuDSD2jfRVPKtcHQ</td>\n",
              "      <td>m9aFZk1f8tSv248YErbpQA</td>\n",
              "      <td>5</td>\n",
              "      <td>2017-09-13 23:56:08</td>\n",
              "      <td>I have been going to this place since 2013. Th...</td>\n",
              "    </tr>\n",
              "    <tr>\n",
              "      <th>12629</th>\n",
              "      <td>MdBKcuWBQWHQWDeiqIjYQA</td>\n",
              "      <td>gU9_PUEdOOoBaSM49SRObg</td>\n",
              "      <td>5</td>\n",
              "      <td>2019-07-13 22:15:31</td>\n",
              "      <td>Our first visit here was a family outing becau...</td>\n",
              "    </tr>\n",
              "    <tr>\n",
              "      <th>14895</th>\n",
              "      <td>hx3EEX5VqtE2f6v9jFeNdA</td>\n",
              "      <td>RwlumSqNBunw1a1LXccN8A</td>\n",
              "      <td>5</td>\n",
              "      <td>2018-08-04 13:53:36</td>\n",
              "      <td>We had the chance to eat here last week while ...</td>\n",
              "    </tr>\n",
              "    <tr>\n",
              "      <th>17587</th>\n",
              "      <td>zJg-2p0ADG-9bLzdrmNLXw</td>\n",
              "      <td>4PqqRa7o_eNydKdGWYdIog</td>\n",
              "      <td>5</td>\n",
              "      <td>2016-06-18 22:51:28</td>\n",
              "      <td>Awesome place! Customer service was excellent!...</td>\n",
              "    </tr>\n",
              "  </tbody>\n",
              "</table>\n",
              "<p>654 rows × 5 columns</p>\n",
              "</div>"
            ],
            "text/plain": [
              "                    review_id             business_id  reviews_stars  \\\n",
              "index                                                                  \n",
              "4248   0MlgqCeznOq6fTw_yZXLeg  72s7cTvPgI_meydNhX-JMA              5   \n",
              "5820   dtMfGwj0qcWIwkMORFuiIw  5p5YW_5bMOSuLIQjkJPO3w              5   \n",
              "1636   cHC4hw-_IkZnHjbUUC1aWw  rcaPajgKOJC2vo_l3xa42A              4   \n",
              "15611  H-VNxVQso94sE8hiaxI4gg  Dkx_UjNhbXB-P0oyKqbTPA              5   \n",
              "16265  qWkvzFo9Rv2IcW4sGYUSyA  N7WeIAIipjKwiaoE9ZtKoQ              5   \n",
              "...                       ...                     ...            ...   \n",
              "8048   yQBCJzy29x7TDExROQmKzA  zaxK3ea92mvEBRy-jttngg              4   \n",
              "11736  nXv81YVuDSD2jfRVPKtcHQ  m9aFZk1f8tSv248YErbpQA              5   \n",
              "12629  MdBKcuWBQWHQWDeiqIjYQA  gU9_PUEdOOoBaSM49SRObg              5   \n",
              "14895  hx3EEX5VqtE2f6v9jFeNdA  RwlumSqNBunw1a1LXccN8A              5   \n",
              "17587  zJg-2p0ADG-9bLzdrmNLXw  4PqqRa7o_eNydKdGWYdIog              5   \n",
              "\n",
              "                     date                                               text  \n",
              "index                                                                         \n",
              "4248  2013-08-18 18:08:37  Vincent's has excellent food and awesome servi...  \n",
              "5820  2016-05-07 20:38:55  This place is awesome. Salvatore Di Scala, own...  \n",
              "1636  2009-07-14 00:56:56  We've been meaning to try Bouchon the last few...  \n",
              "15611 2013-06-29 11:39:13  I was wandering the area and the clean sign, a...  \n",
              "16265 2019-11-03 06:35:21  Just had my first opportunity to eat here. The...  \n",
              "...                   ...                                                ...  \n",
              "8048  2019-03-13 03:29:10  I took my family down to the Las Vegas Strip o...  \n",
              "11736 2017-09-13 23:56:08  I have been going to this place since 2013. Th...  \n",
              "12629 2019-07-13 22:15:31  Our first visit here was a family outing becau...  \n",
              "14895 2018-08-04 13:53:36  We had the chance to eat here last week while ...  \n",
              "17587 2016-06-18 22:51:28  Awesome place! Customer service was excellent!...  \n",
              "\n",
              "[654 rows x 5 columns]"
            ]
          },
          "metadata": {
            "tags": []
          },
          "execution_count": 34
        }
      ]
    },
    {
      "cell_type": "code",
      "metadata": {
        "id": "bb2N5S_MMmZC",
        "colab_type": "code",
        "colab": {
          "base_uri": "https://localhost:8080/",
          "height": 124
        },
        "outputId": "a6644bdc-93b8-48e8-b872-bc8d3c86771e"
      },
      "source": [
        "reviews.dtypes"
      ],
      "execution_count": 35,
      "outputs": [
        {
          "output_type": "execute_result",
          "data": {
            "text/plain": [
              "review_id                object\n",
              "business_id              object\n",
              "reviews_stars             int64\n",
              "date             datetime64[ns]\n",
              "text                     object\n",
              "dtype: object"
            ]
          },
          "metadata": {
            "tags": []
          },
          "execution_count": 35
        }
      ]
    },
    {
      "cell_type": "code",
      "metadata": {
        "id": "fC6Ygt1khtmk",
        "colab_type": "code",
        "colab": {
          "base_uri": "https://localhost:8080/",
          "height": 55
        },
        "outputId": "7fe4009a-c812-4d4f-e656-4fdbbe105a25"
      },
      "source": [
        "text = reviews_tmp['text'].values[653]\n",
        "marked_text = \"[CLS] \" + text + \" [SEP]\"\n",
        "\n",
        "# Tokenize our sentence with the BERT tokenizer.\n",
        "tokenized_text = tokenizer.tokenize(marked_text)\n",
        "\n",
        "# Print out the tokens.\n",
        "print (tokenized_text)"
      ],
      "execution_count": 37,
      "outputs": [
        {
          "output_type": "stream",
          "text": [
            "['[CLS]', 'awesome', 'place', '!', 'customer', 'service', 'was', 'excellent', '!', 'the', 'food', ',', 'although', 'inexpensive', ',', 'were', 'very', 'ta', '##sty', '.', 'we', 'got', 'the', 'chicken', 'burr', '##ito', 'and', 'they', 'were', 'very', 'good', '.', 'the', 'hot', 'sauce', '##s', 'were', 'also', 'very', 'good', 'and', 'fresh', '.', 'i', 'will', 'be', 'coming', 'back', 'and', 'i', 'recommend', 'it', '!', '!', 'overall', ',', 'extremely', 'clean', 'environment', 'with', 'a', 'good', 'din', '##e', 'in', 'experience', 'and', 'yu', '##mmy', 'food', '.', '[SEP]']\n"
          ],
          "name": "stdout"
        }
      ]
    },
    {
      "cell_type": "code",
      "metadata": {
        "id": "_5R7emsQlJkX",
        "colab_type": "code",
        "colab": {
          "base_uri": "https://localhost:8080/",
          "height": 1000
        },
        "outputId": "63bbe498-bbaf-4db8-f0ab-00344d307e84"
      },
      "source": [
        "# Map the token strings to their vocabulary indices.\n",
        "indexed_tokens = tokenizer.convert_tokens_to_ids(tokenized_text)\n",
        "\n",
        "# Display the words with their indices.\n",
        "for tup in zip(tokenized_text, indexed_tokens):\n",
        "  print('{:<12} {:>6,}'.format(tup[0], tup[1]))"
      ],
      "execution_count": 38,
      "outputs": [
        {
          "output_type": "stream",
          "text": [
            "[CLS]           101\n",
            "awesome      12,476\n",
            "place         2,173\n",
            "!               999\n",
            "customer      8,013\n",
            "service       2,326\n",
            "was           2,001\n",
            "excellent     6,581\n",
            "!               999\n",
            "the           1,996\n",
            "food          2,833\n",
            ",             1,010\n",
            "although      2,348\n",
            "inexpensive  23,766\n",
            ",             1,010\n",
            "were          2,020\n",
            "very          2,200\n",
            "ta           11,937\n",
            "##sty        21,756\n",
            ".             1,012\n",
            "we            2,057\n",
            "got           2,288\n",
            "the           1,996\n",
            "chicken       7,975\n",
            "burr         22,715\n",
            "##ito         9,956\n",
            "and           1,998\n",
            "they          2,027\n",
            "were          2,020\n",
            "very          2,200\n",
            "good          2,204\n",
            ".             1,012\n",
            "the           1,996\n",
            "hot           2,980\n",
            "sauce        12,901\n",
            "##s           2,015\n",
            "were          2,020\n",
            "also          2,036\n",
            "very          2,200\n",
            "good          2,204\n",
            "and           1,998\n",
            "fresh         4,840\n",
            ".             1,012\n",
            "i             1,045\n",
            "will          2,097\n",
            "be            2,022\n",
            "coming        2,746\n",
            "back          2,067\n",
            "and           1,998\n",
            "i             1,045\n",
            "recommend    16,755\n",
            "it            2,009\n",
            "!               999\n",
            "!               999\n",
            "overall       3,452\n",
            ",             1,010\n",
            "extremely     5,186\n",
            "clean         4,550\n",
            "environment   4,044\n",
            "with          2,007\n",
            "a             1,037\n",
            "good          2,204\n",
            "din          11,586\n",
            "##e           2,063\n",
            "in            1,999\n",
            "experience    3,325\n",
            "and           1,998\n",
            "yu            9,805\n",
            "##mmy        18,879\n",
            "food          2,833\n",
            ".             1,012\n",
            "[SEP]           102\n"
          ],
          "name": "stdout"
        }
      ]
    },
    {
      "cell_type": "code",
      "metadata": {
        "id": "F9wsZc-Ml4jh",
        "colab_type": "code",
        "colab": {
          "base_uri": "https://localhost:8080/",
          "height": 55
        },
        "outputId": "7c2bca7a-3044-495b-a117-b1b81e4bc093"
      },
      "source": [
        "# Mark each of the 15 tokens as belonging to sentence \"1\"\n",
        "segments_ids = [1] * len(tokenized_text)\n",
        "print(segments_ids)"
      ],
      "execution_count": 39,
      "outputs": [
        {
          "output_type": "stream",
          "text": [
            "[1, 1, 1, 1, 1, 1, 1, 1, 1, 1, 1, 1, 1, 1, 1, 1, 1, 1, 1, 1, 1, 1, 1, 1, 1, 1, 1, 1, 1, 1, 1, 1, 1, 1, 1, 1, 1, 1, 1, 1, 1, 1, 1, 1, 1, 1, 1, 1, 1, 1, 1, 1, 1, 1, 1, 1, 1, 1, 1, 1, 1, 1, 1, 1, 1, 1, 1, 1, 1, 1, 1, 1]\n"
          ],
          "name": "stdout"
        }
      ]
    },
    {
      "cell_type": "code",
      "metadata": {
        "id": "WgcUhtEjmHqD",
        "colab_type": "code",
        "colab": {}
      },
      "source": [
        "# Convert inputs to PyTorch tensors\n",
        "tokens_tensor = torch.tensor([indexed_tokens])\n",
        "segments_tensors = torch.tensor([segments_ids])"
      ],
      "execution_count": 0,
      "outputs": []
    },
    {
      "cell_type": "markdown",
      "metadata": {
        "id": "MV7Upy-_mXti",
        "colab_type": "text"
      },
      "source": [
        "# Load BERT base model"
      ]
    },
    {
      "cell_type": "code",
      "metadata": {
        "id": "0jRogYalmbwY",
        "colab_type": "code",
        "colab": {
          "base_uri": "https://localhost:8080/",
          "height": 1000
        },
        "outputId": "9a3a4bf7-699f-45b7-8c7f-c567e9fcb5bd"
      },
      "source": [
        "# Load pre-trained model(weights)\n",
        "model = BertModel.from_pretrained('bert-base-uncased')\n",
        "\n",
        "# Put the model in \"evaluation\" mode, meaning feed-forward operation.\n",
        "model.eval()"
      ],
      "execution_count": 41,
      "outputs": [
        {
          "output_type": "execute_result",
          "data": {
            "text/plain": [
              "BertModel(\n",
              "  (embeddings): BertEmbeddings(\n",
              "    (word_embeddings): Embedding(30522, 768, padding_idx=0)\n",
              "    (position_embeddings): Embedding(512, 768)\n",
              "    (token_type_embeddings): Embedding(2, 768)\n",
              "    (LayerNorm): BertLayerNorm()\n",
              "    (dropout): Dropout(p=0.1, inplace=False)\n",
              "  )\n",
              "  (encoder): BertEncoder(\n",
              "    (layer): ModuleList(\n",
              "      (0): BertLayer(\n",
              "        (attention): BertAttention(\n",
              "          (self): BertSelfAttention(\n",
              "            (query): Linear(in_features=768, out_features=768, bias=True)\n",
              "            (key): Linear(in_features=768, out_features=768, bias=True)\n",
              "            (value): Linear(in_features=768, out_features=768, bias=True)\n",
              "            (dropout): Dropout(p=0.1, inplace=False)\n",
              "          )\n",
              "          (output): BertSelfOutput(\n",
              "            (dense): Linear(in_features=768, out_features=768, bias=True)\n",
              "            (LayerNorm): BertLayerNorm()\n",
              "            (dropout): Dropout(p=0.1, inplace=False)\n",
              "          )\n",
              "        )\n",
              "        (intermediate): BertIntermediate(\n",
              "          (dense): Linear(in_features=768, out_features=3072, bias=True)\n",
              "        )\n",
              "        (output): BertOutput(\n",
              "          (dense): Linear(in_features=3072, out_features=768, bias=True)\n",
              "          (LayerNorm): BertLayerNorm()\n",
              "          (dropout): Dropout(p=0.1, inplace=False)\n",
              "        )\n",
              "      )\n",
              "      (1): BertLayer(\n",
              "        (attention): BertAttention(\n",
              "          (self): BertSelfAttention(\n",
              "            (query): Linear(in_features=768, out_features=768, bias=True)\n",
              "            (key): Linear(in_features=768, out_features=768, bias=True)\n",
              "            (value): Linear(in_features=768, out_features=768, bias=True)\n",
              "            (dropout): Dropout(p=0.1, inplace=False)\n",
              "          )\n",
              "          (output): BertSelfOutput(\n",
              "            (dense): Linear(in_features=768, out_features=768, bias=True)\n",
              "            (LayerNorm): BertLayerNorm()\n",
              "            (dropout): Dropout(p=0.1, inplace=False)\n",
              "          )\n",
              "        )\n",
              "        (intermediate): BertIntermediate(\n",
              "          (dense): Linear(in_features=768, out_features=3072, bias=True)\n",
              "        )\n",
              "        (output): BertOutput(\n",
              "          (dense): Linear(in_features=3072, out_features=768, bias=True)\n",
              "          (LayerNorm): BertLayerNorm()\n",
              "          (dropout): Dropout(p=0.1, inplace=False)\n",
              "        )\n",
              "      )\n",
              "      (2): BertLayer(\n",
              "        (attention): BertAttention(\n",
              "          (self): BertSelfAttention(\n",
              "            (query): Linear(in_features=768, out_features=768, bias=True)\n",
              "            (key): Linear(in_features=768, out_features=768, bias=True)\n",
              "            (value): Linear(in_features=768, out_features=768, bias=True)\n",
              "            (dropout): Dropout(p=0.1, inplace=False)\n",
              "          )\n",
              "          (output): BertSelfOutput(\n",
              "            (dense): Linear(in_features=768, out_features=768, bias=True)\n",
              "            (LayerNorm): BertLayerNorm()\n",
              "            (dropout): Dropout(p=0.1, inplace=False)\n",
              "          )\n",
              "        )\n",
              "        (intermediate): BertIntermediate(\n",
              "          (dense): Linear(in_features=768, out_features=3072, bias=True)\n",
              "        )\n",
              "        (output): BertOutput(\n",
              "          (dense): Linear(in_features=3072, out_features=768, bias=True)\n",
              "          (LayerNorm): BertLayerNorm()\n",
              "          (dropout): Dropout(p=0.1, inplace=False)\n",
              "        )\n",
              "      )\n",
              "      (3): BertLayer(\n",
              "        (attention): BertAttention(\n",
              "          (self): BertSelfAttention(\n",
              "            (query): Linear(in_features=768, out_features=768, bias=True)\n",
              "            (key): Linear(in_features=768, out_features=768, bias=True)\n",
              "            (value): Linear(in_features=768, out_features=768, bias=True)\n",
              "            (dropout): Dropout(p=0.1, inplace=False)\n",
              "          )\n",
              "          (output): BertSelfOutput(\n",
              "            (dense): Linear(in_features=768, out_features=768, bias=True)\n",
              "            (LayerNorm): BertLayerNorm()\n",
              "            (dropout): Dropout(p=0.1, inplace=False)\n",
              "          )\n",
              "        )\n",
              "        (intermediate): BertIntermediate(\n",
              "          (dense): Linear(in_features=768, out_features=3072, bias=True)\n",
              "        )\n",
              "        (output): BertOutput(\n",
              "          (dense): Linear(in_features=3072, out_features=768, bias=True)\n",
              "          (LayerNorm): BertLayerNorm()\n",
              "          (dropout): Dropout(p=0.1, inplace=False)\n",
              "        )\n",
              "      )\n",
              "      (4): BertLayer(\n",
              "        (attention): BertAttention(\n",
              "          (self): BertSelfAttention(\n",
              "            (query): Linear(in_features=768, out_features=768, bias=True)\n",
              "            (key): Linear(in_features=768, out_features=768, bias=True)\n",
              "            (value): Linear(in_features=768, out_features=768, bias=True)\n",
              "            (dropout): Dropout(p=0.1, inplace=False)\n",
              "          )\n",
              "          (output): BertSelfOutput(\n",
              "            (dense): Linear(in_features=768, out_features=768, bias=True)\n",
              "            (LayerNorm): BertLayerNorm()\n",
              "            (dropout): Dropout(p=0.1, inplace=False)\n",
              "          )\n",
              "        )\n",
              "        (intermediate): BertIntermediate(\n",
              "          (dense): Linear(in_features=768, out_features=3072, bias=True)\n",
              "        )\n",
              "        (output): BertOutput(\n",
              "          (dense): Linear(in_features=3072, out_features=768, bias=True)\n",
              "          (LayerNorm): BertLayerNorm()\n",
              "          (dropout): Dropout(p=0.1, inplace=False)\n",
              "        )\n",
              "      )\n",
              "      (5): BertLayer(\n",
              "        (attention): BertAttention(\n",
              "          (self): BertSelfAttention(\n",
              "            (query): Linear(in_features=768, out_features=768, bias=True)\n",
              "            (key): Linear(in_features=768, out_features=768, bias=True)\n",
              "            (value): Linear(in_features=768, out_features=768, bias=True)\n",
              "            (dropout): Dropout(p=0.1, inplace=False)\n",
              "          )\n",
              "          (output): BertSelfOutput(\n",
              "            (dense): Linear(in_features=768, out_features=768, bias=True)\n",
              "            (LayerNorm): BertLayerNorm()\n",
              "            (dropout): Dropout(p=0.1, inplace=False)\n",
              "          )\n",
              "        )\n",
              "        (intermediate): BertIntermediate(\n",
              "          (dense): Linear(in_features=768, out_features=3072, bias=True)\n",
              "        )\n",
              "        (output): BertOutput(\n",
              "          (dense): Linear(in_features=3072, out_features=768, bias=True)\n",
              "          (LayerNorm): BertLayerNorm()\n",
              "          (dropout): Dropout(p=0.1, inplace=False)\n",
              "        )\n",
              "      )\n",
              "      (6): BertLayer(\n",
              "        (attention): BertAttention(\n",
              "          (self): BertSelfAttention(\n",
              "            (query): Linear(in_features=768, out_features=768, bias=True)\n",
              "            (key): Linear(in_features=768, out_features=768, bias=True)\n",
              "            (value): Linear(in_features=768, out_features=768, bias=True)\n",
              "            (dropout): Dropout(p=0.1, inplace=False)\n",
              "          )\n",
              "          (output): BertSelfOutput(\n",
              "            (dense): Linear(in_features=768, out_features=768, bias=True)\n",
              "            (LayerNorm): BertLayerNorm()\n",
              "            (dropout): Dropout(p=0.1, inplace=False)\n",
              "          )\n",
              "        )\n",
              "        (intermediate): BertIntermediate(\n",
              "          (dense): Linear(in_features=768, out_features=3072, bias=True)\n",
              "        )\n",
              "        (output): BertOutput(\n",
              "          (dense): Linear(in_features=3072, out_features=768, bias=True)\n",
              "          (LayerNorm): BertLayerNorm()\n",
              "          (dropout): Dropout(p=0.1, inplace=False)\n",
              "        )\n",
              "      )\n",
              "      (7): BertLayer(\n",
              "        (attention): BertAttention(\n",
              "          (self): BertSelfAttention(\n",
              "            (query): Linear(in_features=768, out_features=768, bias=True)\n",
              "            (key): Linear(in_features=768, out_features=768, bias=True)\n",
              "            (value): Linear(in_features=768, out_features=768, bias=True)\n",
              "            (dropout): Dropout(p=0.1, inplace=False)\n",
              "          )\n",
              "          (output): BertSelfOutput(\n",
              "            (dense): Linear(in_features=768, out_features=768, bias=True)\n",
              "            (LayerNorm): BertLayerNorm()\n",
              "            (dropout): Dropout(p=0.1, inplace=False)\n",
              "          )\n",
              "        )\n",
              "        (intermediate): BertIntermediate(\n",
              "          (dense): Linear(in_features=768, out_features=3072, bias=True)\n",
              "        )\n",
              "        (output): BertOutput(\n",
              "          (dense): Linear(in_features=3072, out_features=768, bias=True)\n",
              "          (LayerNorm): BertLayerNorm()\n",
              "          (dropout): Dropout(p=0.1, inplace=False)\n",
              "        )\n",
              "      )\n",
              "      (8): BertLayer(\n",
              "        (attention): BertAttention(\n",
              "          (self): BertSelfAttention(\n",
              "            (query): Linear(in_features=768, out_features=768, bias=True)\n",
              "            (key): Linear(in_features=768, out_features=768, bias=True)\n",
              "            (value): Linear(in_features=768, out_features=768, bias=True)\n",
              "            (dropout): Dropout(p=0.1, inplace=False)\n",
              "          )\n",
              "          (output): BertSelfOutput(\n",
              "            (dense): Linear(in_features=768, out_features=768, bias=True)\n",
              "            (LayerNorm): BertLayerNorm()\n",
              "            (dropout): Dropout(p=0.1, inplace=False)\n",
              "          )\n",
              "        )\n",
              "        (intermediate): BertIntermediate(\n",
              "          (dense): Linear(in_features=768, out_features=3072, bias=True)\n",
              "        )\n",
              "        (output): BertOutput(\n",
              "          (dense): Linear(in_features=3072, out_features=768, bias=True)\n",
              "          (LayerNorm): BertLayerNorm()\n",
              "          (dropout): Dropout(p=0.1, inplace=False)\n",
              "        )\n",
              "      )\n",
              "      (9): BertLayer(\n",
              "        (attention): BertAttention(\n",
              "          (self): BertSelfAttention(\n",
              "            (query): Linear(in_features=768, out_features=768, bias=True)\n",
              "            (key): Linear(in_features=768, out_features=768, bias=True)\n",
              "            (value): Linear(in_features=768, out_features=768, bias=True)\n",
              "            (dropout): Dropout(p=0.1, inplace=False)\n",
              "          )\n",
              "          (output): BertSelfOutput(\n",
              "            (dense): Linear(in_features=768, out_features=768, bias=True)\n",
              "            (LayerNorm): BertLayerNorm()\n",
              "            (dropout): Dropout(p=0.1, inplace=False)\n",
              "          )\n",
              "        )\n",
              "        (intermediate): BertIntermediate(\n",
              "          (dense): Linear(in_features=768, out_features=3072, bias=True)\n",
              "        )\n",
              "        (output): BertOutput(\n",
              "          (dense): Linear(in_features=3072, out_features=768, bias=True)\n",
              "          (LayerNorm): BertLayerNorm()\n",
              "          (dropout): Dropout(p=0.1, inplace=False)\n",
              "        )\n",
              "      )\n",
              "      (10): BertLayer(\n",
              "        (attention): BertAttention(\n",
              "          (self): BertSelfAttention(\n",
              "            (query): Linear(in_features=768, out_features=768, bias=True)\n",
              "            (key): Linear(in_features=768, out_features=768, bias=True)\n",
              "            (value): Linear(in_features=768, out_features=768, bias=True)\n",
              "            (dropout): Dropout(p=0.1, inplace=False)\n",
              "          )\n",
              "          (output): BertSelfOutput(\n",
              "            (dense): Linear(in_features=768, out_features=768, bias=True)\n",
              "            (LayerNorm): BertLayerNorm()\n",
              "            (dropout): Dropout(p=0.1, inplace=False)\n",
              "          )\n",
              "        )\n",
              "        (intermediate): BertIntermediate(\n",
              "          (dense): Linear(in_features=768, out_features=3072, bias=True)\n",
              "        )\n",
              "        (output): BertOutput(\n",
              "          (dense): Linear(in_features=3072, out_features=768, bias=True)\n",
              "          (LayerNorm): BertLayerNorm()\n",
              "          (dropout): Dropout(p=0.1, inplace=False)\n",
              "        )\n",
              "      )\n",
              "      (11): BertLayer(\n",
              "        (attention): BertAttention(\n",
              "          (self): BertSelfAttention(\n",
              "            (query): Linear(in_features=768, out_features=768, bias=True)\n",
              "            (key): Linear(in_features=768, out_features=768, bias=True)\n",
              "            (value): Linear(in_features=768, out_features=768, bias=True)\n",
              "            (dropout): Dropout(p=0.1, inplace=False)\n",
              "          )\n",
              "          (output): BertSelfOutput(\n",
              "            (dense): Linear(in_features=768, out_features=768, bias=True)\n",
              "            (LayerNorm): BertLayerNorm()\n",
              "            (dropout): Dropout(p=0.1, inplace=False)\n",
              "          )\n",
              "        )\n",
              "        (intermediate): BertIntermediate(\n",
              "          (dense): Linear(in_features=768, out_features=3072, bias=True)\n",
              "        )\n",
              "        (output): BertOutput(\n",
              "          (dense): Linear(in_features=3072, out_features=768, bias=True)\n",
              "          (LayerNorm): BertLayerNorm()\n",
              "          (dropout): Dropout(p=0.1, inplace=False)\n",
              "        )\n",
              "      )\n",
              "    )\n",
              "  )\n",
              "  (pooler): BertPooler(\n",
              "    (dense): Linear(in_features=768, out_features=768, bias=True)\n",
              "    (activation): Tanh()\n",
              "  )\n",
              ")"
            ]
          },
          "metadata": {
            "tags": []
          },
          "execution_count": 41
        }
      ]
    },
    {
      "cell_type": "code",
      "metadata": {
        "id": "8Xi9mkF5m9w5",
        "colab_type": "code",
        "colab": {}
      },
      "source": [
        "# Predict hidden states features for each layer\n",
        "with torch.no_grad():\n",
        "  encoded_layers, _ = model(tokens_tensor, segments_tensors)"
      ],
      "execution_count": 0,
      "outputs": []
    },
    {
      "cell_type": "code",
      "metadata": {
        "id": "oL2nRFZsnMln",
        "colab_type": "code",
        "colab": {
          "base_uri": "https://localhost:8080/",
          "height": 88
        },
        "outputId": "1ad415b4-50bb-49dd-e67a-4d91bd183c16"
      },
      "source": [
        "print (\"Number of layers:\", len(encoded_layers))\n",
        "layer_i = 0\n",
        "print (\"Number of batches:\", len(encoded_layers[layer_i]))\n",
        "batch_i = 0\n",
        "print (\"Number of tokens:\", len(encoded_layers[layer_i][batch_i]))\n",
        "token_i = 0\n",
        "print (\"Number of hidden units:\", len(encoded_layers[layer_i][batch_i][token_i]))"
      ],
      "execution_count": 43,
      "outputs": [
        {
          "output_type": "stream",
          "text": [
            "Number of layers: 12\n",
            "Number of batches: 1\n",
            "Number of tokens: 72\n",
            "Number of hidden units: 768\n"
          ],
          "name": "stdout"
        }
      ]
    },
    {
      "cell_type": "code",
      "metadata": {
        "id": "JYCRjbbUnWgQ",
        "colab_type": "code",
        "colab": {
          "base_uri": "https://localhost:8080/",
          "height": 265
        },
        "outputId": "7a462173-6009-4ba5-8755-4623a8d7a324"
      },
      "source": [
        "# For the 5th token in our sentence, select its feature values from layer 5.\n",
        "token_i = 5\n",
        "layer_i = 5\n",
        "vec = encoded_layers[layer_i][batch_i][token_i]\n",
        "\n",
        "# Plot the values as a histogram to show their distribution.\n",
        "plt.figure(figsize=(8,4))\n",
        "plt.hist(vec, bins=200)\n",
        "plt.show()"
      ],
      "execution_count": 44,
      "outputs": [
        {
          "output_type": "display_data",
          "data": {
            "image/png": "[encoded data removed]",
            "text/plain": [
              "<Figure size 576x288 with 1 Axes>"
            ]
          },
          "metadata": {
            "tags": [],
            "needs_background": "light"
          }
        }
      ]
    },
    {
      "cell_type": "code",
      "metadata": {
        "id": "H_pYrr3snfLT",
        "colab_type": "code",
        "colab": {
          "base_uri": "https://localhost:8080/",
          "height": 52
        },
        "outputId": "4f7346ea-bfe0-41f4-b41f-9e95d69fe5c0"
      },
      "source": [
        "# `encoded_layers` is a Python list.\n",
        "print('Type of encoded_layers: ', type(encoded_layers))\n",
        "\n",
        "# Each layer in the list is a torch tensor.\n",
        "print('Tensor shape for each layer: ', encoded_layers[0].size())"
      ],
      "execution_count": 45,
      "outputs": [
        {
          "output_type": "stream",
          "text": [
            "Type of encoded_layers:  <class 'list'>\n",
            "Tensor shape for each layer:  torch.Size([1, 72, 768])\n"
          ],
          "name": "stdout"
        }
      ]
    },
    {
      "cell_type": "markdown",
      "metadata": {
        "id": "-nSaNb1znjEs",
        "colab_type": "text"
      },
      "source": [
        "# Token Vectors"
      ]
    },
    {
      "cell_type": "code",
      "metadata": {
        "id": "l7-tfVjPnlOA",
        "colab_type": "code",
        "colab": {
          "base_uri": "https://localhost:8080/",
          "height": 35
        },
        "outputId": "edbf3d75-cd57-44f7-ff9b-2bcf6bb604cb"
      },
      "source": [
        "# Concatenate the tensors for all layers, using 'stack' to create a new dimension in the tensore.\n",
        "token_embeddings = torch.stack(encoded_layers, dim=0)\n",
        "token_embeddings.size()"
      ],
      "execution_count": 46,
      "outputs": [
        {
          "output_type": "execute_result",
          "data": {
            "text/plain": [
              "torch.Size([12, 1, 72, 768])"
            ]
          },
          "metadata": {
            "tags": []
          },
          "execution_count": 46
        }
      ]
    },
    {
      "cell_type": "code",
      "metadata": {
        "id": "Exoo-Rn4Sa01",
        "colab_type": "code",
        "colab": {
          "base_uri": "https://localhost:8080/",
          "height": 35
        },
        "outputId": "6078e6b7-ab72-4160-e2a7-2627e1d31283"
      },
      "source": [
        "# Remove dimension 1, the \"batches\".\n",
        "token_embeddings = torch.squeeze(token_embeddings, dim=1)\n",
        "token_embeddings.size()"
      ],
      "execution_count": 47,
      "outputs": [
        {
          "output_type": "execute_result",
          "data": {
            "text/plain": [
              "torch.Size([12, 72, 768])"
            ]
          },
          "metadata": {
            "tags": []
          },
          "execution_count": 47
        }
      ]
    },
    {
      "cell_type": "code",
      "metadata": {
        "id": "MS-aY_9zSn9X",
        "colab_type": "code",
        "colab": {
          "base_uri": "https://localhost:8080/",
          "height": 35
        },
        "outputId": "c7fe4cec-cb07-4439-e4e7-d9f97033e7a4"
      },
      "source": [
        "# switch the \"layers\" and \"tokens\" dimensions\n",
        "# Swap dimensions 0 and 1\n",
        "token_embeddings = token_embeddings.permute(1,0,2)\n",
        "token_embeddings.size()"
      ],
      "execution_count": 48,
      "outputs": [
        {
          "output_type": "execute_result",
          "data": {
            "text/plain": [
              "torch.Size([72, 12, 768])"
            ]
          },
          "metadata": {
            "tags": []
          },
          "execution_count": 48
        }
      ]
    },
    {
      "cell_type": "code",
      "metadata": {
        "id": "tkxN0rHhS8Ux",
        "colab_type": "code",
        "colab": {
          "base_uri": "https://localhost:8080/",
          "height": 35
        },
        "outputId": "41e43a38-a5bb-453c-e20b-010a970fffea"
      },
      "source": [
        "# Stores the token vectors, with shape[72 X 3,072]\n",
        "token_vecs_cat = []\n",
        "\n",
        "# 'token_embeddings' is a [72 X 12 X 768] tensor.\n",
        "\n",
        "# For each token in the sentence...\n",
        "for token in token_embeddings:\n",
        "\n",
        "  #'token' is a [12 X 768] tensor\n",
        "\n",
        "  # Concatenate the vectors from the last 4 layers.\n",
        "  # Each layer vector is 768 values, so 'cat_vec' length is 3,072.\n",
        "  cat_vec = torch.cat((token[-1], token[-2], token[-3], token[-4]), dim=0)\n",
        "\n",
        "  # Use 'cat_vec' to represent 'token'.\n",
        "  token_vecs_cat.append(cat_vec)\n",
        "\n",
        "print(f'Shape is: {len(token_vecs_cat)} x {len(token_vecs_cat[0])}')"
      ],
      "execution_count": 50,
      "outputs": [
        {
          "output_type": "stream",
          "text": [
            "Shape is: 72 x 3072\n"
          ],
          "name": "stdout"
        }
      ]
    },
    {
      "cell_type": "code",
      "metadata": {
        "id": "ROAn_UnEWZZE",
        "colab_type": "code",
        "colab": {
          "base_uri": "https://localhost:8080/",
          "height": 35
        },
        "outputId": "f1cba593-6d29-449c-902c-3fa891397938"
      },
      "source": [
        "# Stores the token vectors, with shape[72 x 768]\n",
        "token_vecs_sum = []\n",
        "\n",
        "# 'token_embeddings' is a [72 x 12 x 768] tensor.\n",
        "\n",
        "# For each token in the sentence...\n",
        "for token in token_embeddings:\n",
        "\n",
        "  #'token' is a [12 x 768] tensor\n",
        "\n",
        "  # Sum the vectors from the last four layers.\n",
        "  sum_vec = torch.sum(token[-4:], dim=0)\n",
        "\n",
        "  # Use 'sum_vec' to represent 'token'.\n",
        "  token_vecs_sum.append(sum_vec)\n",
        "\n",
        "print(f'Shape is: {len(token_vecs_sum)} x {len(token_vecs_sum[0])}')"
      ],
      "execution_count": 51,
      "outputs": [
        {
          "output_type": "stream",
          "text": [
            "Shape is: 72 x 768\n"
          ],
          "name": "stdout"
        }
      ]
    },
    {
      "cell_type": "markdown",
      "metadata": {
        "id": "IDsaAkTmXc1K",
        "colab_type": "text"
      },
      "source": [
        "# Sentence Vectors"
      ]
    },
    {
      "cell_type": "code",
      "metadata": {
        "id": "YszKVyc-Xfan",
        "colab_type": "code",
        "colab": {
          "base_uri": "https://localhost:8080/",
          "height": 35
        },
        "outputId": "af4b8a90-1f8d-4c77-d918-44994df9dbcf"
      },
      "source": [
        "# encoded_layers has shape [12 x 1 x 72 x 768]\n",
        "\n",
        "# token_vecs is a tensor with shape [72 x 768]\n",
        "token_vecs = encoded_layers[11][0]\n",
        "\n",
        "# Calculate the average of all 72 token vectors.\n",
        "sentence_embedding = torch.mean(token_vecs, dim=0)\n",
        "\n",
        "print(f\"Our final sentence embedding vector of shape: {sentence_embedding.size()}\")"
      ],
      "execution_count": 52,
      "outputs": [
        {
          "output_type": "stream",
          "text": [
            "Our final sentence embedding vector of shape: torch.Size([768])\n"
          ],
          "name": "stdout"
        }
      ]
    },
    {
      "cell_type": "markdown",
      "metadata": {
        "id": "0XfZwvfCY4oK",
        "colab_type": "text"
      },
      "source": [
        "# Token Vector Cosine Similarity"
      ]
    },
    {
      "cell_type": "code",
      "metadata": {
        "id": "W6Bc7PeZY86v",
        "colab_type": "code",
        "colab": {
          "base_uri": "https://localhost:8080/",
          "height": 1000
        },
        "outputId": "3e3e8080-96b7-4b3c-f6fb-f2e4beb9d5b6"
      },
      "source": [
        "for i, token_str in enumerate(tokenized_text):\n",
        "  print(i, token_str)"
      ],
      "execution_count": 53,
      "outputs": [
        {
          "output_type": "stream",
          "text": [
            "0 [CLS]\n",
            "1 awesome\n",
            "2 place\n",
            "3 !\n",
            "4 customer\n",
            "5 service\n",
            "6 was\n",
            "7 excellent\n",
            "8 !\n",
            "9 the\n",
            "10 food\n",
            "11 ,\n",
            "12 although\n",
            "13 inexpensive\n",
            "14 ,\n",
            "15 were\n",
            "16 very\n",
            "17 ta\n",
            "18 ##sty\n",
            "19 .\n",
            "20 we\n",
            "21 got\n",
            "22 the\n",
            "23 chicken\n",
            "24 burr\n",
            "25 ##ito\n",
            "26 and\n",
            "27 they\n",
            "28 were\n",
            "29 very\n",
            "30 good\n",
            "31 .\n",
            "32 the\n",
            "33 hot\n",
            "34 sauce\n",
            "35 ##s\n",
            "36 were\n",
            "37 also\n",
            "38 very\n",
            "39 good\n",
            "40 and\n",
            "41 fresh\n",
            "42 .\n",
            "43 i\n",
            "44 will\n",
            "45 be\n",
            "46 coming\n",
            "47 back\n",
            "48 and\n",
            "49 i\n",
            "50 recommend\n",
            "51 it\n",
            "52 !\n",
            "53 !\n",
            "54 overall\n",
            "55 ,\n",
            "56 extremely\n",
            "57 clean\n",
            "58 environment\n",
            "59 with\n",
            "60 a\n",
            "61 good\n",
            "62 din\n",
            "63 ##e\n",
            "64 in\n",
            "65 experience\n",
            "66 and\n",
            "67 yu\n",
            "68 ##mmy\n",
            "69 food\n",
            "70 .\n",
            "71 [SEP]\n"
          ],
          "name": "stdout"
        }
      ]
    },
    {
      "cell_type": "code",
      "metadata": {
        "id": "KrbyL7uQZOEz",
        "colab_type": "code",
        "colab": {
          "base_uri": "https://localhost:8080/",
          "height": 88
        },
        "outputId": "224ef230-35a4-4841-e580-291c6d25cb9b"
      },
      "source": [
        "print('First 5 vector values for 3 adjectives.')\n",
        "print(\"awesome \", str(token_vecs_sum[1][:5]))\n",
        "print(\"excellent \", str(token_vecs_sum[7][:5]))\n",
        "print(\"clean \", str(token_vecs_sum[57][:5]))"
      ],
      "execution_count": 54,
      "outputs": [
        {
          "output_type": "stream",
          "text": [
            "First 5 vector values for 3 adjectives.\n",
            "awesome  tensor([3.1501, 1.8711, 3.3543, 0.9830, 5.0123])\n",
            "excellent  tensor([ 2.5189, -0.6275,  1.6777,  0.3667,  4.7254])\n",
            "clean  tensor([ 0.8796, -0.9482,  1.7917,  1.2173,  2.7531])\n"
          ],
          "name": "stdout"
        }
      ]
    },
    {
      "cell_type": "code",
      "metadata": {
        "id": "pF3BygjGZuYW",
        "colab_type": "code",
        "colab": {
          "base_uri": "https://localhost:8080/",
          "height": 52
        },
        "outputId": "89cd3963-bacb-49f4-ed4b-938095128df3"
      },
      "source": [
        "# similarity between \"awesome\" and \"excellent\" in this sentence\n",
        "similarity_1 = 1 - cosine(token_vecs_sum[1], token_vecs_sum[7])\n",
        "# similarity between \"awesome\" and \"clean\" in this sentence\n",
        "similarity_2 = 1 - cosine(token_vecs_sum[1], token_vecs_sum[57])\n",
        "\n",
        "print('Vector similarity for  *similar*  meanings:  %.2f' % similarity_1)\n",
        "print('Vector similarity for *different* meanings:  %.2f' % similarity_2)"
      ],
      "execution_count": 55,
      "outputs": [
        {
          "output_type": "stream",
          "text": [
            "Vector similarity for  *similar*  meanings:  0.66\n",
            "Vector similarity for *different* meanings:  0.56\n"
          ],
          "name": "stdout"
        }
      ]
    },
    {
      "cell_type": "markdown",
      "metadata": {
        "id": "oQ9DDWzidt79",
        "colab_type": "text"
      },
      "source": [
        "# Sentence Vector Cosine Similarity"
      ]
    },
    {
      "cell_type": "code",
      "metadata": {
        "id": "nIGCqEjCd52t",
        "colab_type": "code",
        "colab": {
          "base_uri": "https://localhost:8080/",
          "height": 446
        },
        "outputId": "03986267-3210-4998-8a18-5288680b7944"
      },
      "source": [
        "# Locate the records containing \"awesome\", \"excellent\" and \"clean\" and create review_pos for these reviews\n",
        "reviews_tmp = reviews[reviews['text'].str.contains(\"^(?=.*awesome)(?=.*excellent)(?=.*clean).+\",\n",
        "                                   flags=re.IGNORECASE, regex=True)]\n",
        "reviews_pos = reviews_tmp[['text']]\n",
        "print(reviews_pos.shape)\n",
        "reviews_pos"
      ],
      "execution_count": 72,
      "outputs": [
        {
          "output_type": "stream",
          "text": [
            "(654, 1)\n"
          ],
          "name": "stdout"
        },
        {
          "output_type": "execute_result",
          "data": {
            "text/html": [
              "<div>\n",
              "<style scoped>\n",
              "    .dataframe tbody tr th:only-of-type {\n",
              "        vertical-align: middle;\n",
              "    }\n",
              "\n",
              "    .dataframe tbody tr th {\n",
              "        vertical-align: top;\n",
              "    }\n",
              "\n",
              "    .dataframe thead th {\n",
              "        text-align: right;\n",
              "    }\n",
              "</style>\n",
              "<table border=\"1\" class=\"dataframe\">\n",
              "  <thead>\n",
              "    <tr style=\"text-align: right;\">\n",
              "      <th></th>\n",
              "      <th>text</th>\n",
              "    </tr>\n",
              "    <tr>\n",
              "      <th>index</th>\n",
              "      <th></th>\n",
              "    </tr>\n",
              "  </thead>\n",
              "  <tbody>\n",
              "    <tr>\n",
              "      <th>4248</th>\n",
              "      <td>Vincent's has excellent food and awesome servi...</td>\n",
              "    </tr>\n",
              "    <tr>\n",
              "      <th>5820</th>\n",
              "      <td>This place is awesome. Salvatore Di Scala, own...</td>\n",
              "    </tr>\n",
              "    <tr>\n",
              "      <th>1636</th>\n",
              "      <td>We've been meaning to try Bouchon the last few...</td>\n",
              "    </tr>\n",
              "    <tr>\n",
              "      <th>15611</th>\n",
              "      <td>I was wandering the area and the clean sign, a...</td>\n",
              "    </tr>\n",
              "    <tr>\n",
              "      <th>16265</th>\n",
              "      <td>Just had my first opportunity to eat here. The...</td>\n",
              "    </tr>\n",
              "    <tr>\n",
              "      <th>...</th>\n",
              "      <td>...</td>\n",
              "    </tr>\n",
              "    <tr>\n",
              "      <th>8048</th>\n",
              "      <td>I took my family down to the Las Vegas Strip o...</td>\n",
              "    </tr>\n",
              "    <tr>\n",
              "      <th>11736</th>\n",
              "      <td>I have been going to this place since 2013. Th...</td>\n",
              "    </tr>\n",
              "    <tr>\n",
              "      <th>12629</th>\n",
              "      <td>Our first visit here was a family outing becau...</td>\n",
              "    </tr>\n",
              "    <tr>\n",
              "      <th>14895</th>\n",
              "      <td>We had the chance to eat here last week while ...</td>\n",
              "    </tr>\n",
              "    <tr>\n",
              "      <th>17587</th>\n",
              "      <td>Awesome place! Customer service was excellent!...</td>\n",
              "    </tr>\n",
              "  </tbody>\n",
              "</table>\n",
              "<p>654 rows × 1 columns</p>\n",
              "</div>"
            ],
            "text/plain": [
              "                                                    text\n",
              "index                                                   \n",
              "4248   Vincent's has excellent food and awesome servi...\n",
              "5820   This place is awesome. Salvatore Di Scala, own...\n",
              "1636   We've been meaning to try Bouchon the last few...\n",
              "15611  I was wandering the area and the clean sign, a...\n",
              "16265  Just had my first opportunity to eat here. The...\n",
              "...                                                  ...\n",
              "8048   I took my family down to the Las Vegas Strip o...\n",
              "11736  I have been going to this place since 2013. Th...\n",
              "12629  Our first visit here was a family outing becau...\n",
              "14895  We had the chance to eat here last week while ...\n",
              "17587  Awesome place! Customer service was excellent!...\n",
              "\n",
              "[654 rows x 1 columns]"
            ]
          },
          "metadata": {
            "tags": []
          },
          "execution_count": 72
        }
      ]
    },
    {
      "cell_type": "code",
      "metadata": {
        "id": "0luumZYfjKc7",
        "colab_type": "code",
        "colab": {
          "base_uri": "https://localhost:8080/",
          "height": 1000
        },
        "outputId": "5cce8062-8854-406e-ef0e-776491d33fb9"
      },
      "source": [
        "# Locate reviews with \"terrible\", \"disappointing\", and \"dirty\" and create review_neg for these reviews\n",
        "reviews_tmp1 = reviews[reviews['text'].str.contains(\"^(?=.*terrible)(?=.*disappointing)(?=.*dirty).+\",\n",
        "                                   flags=re.IGNORECASE, regex=True)]\n",
        "reviews_neg = reviews_tmp1[['text']]\n",
        "print(reviews_neg.shape)\n",
        "reviews_neg"
      ],
      "execution_count": 73,
      "outputs": [
        {
          "output_type": "stream",
          "text": [
            "(51, 1)\n"
          ],
          "name": "stdout"
        },
        {
          "output_type": "execute_result",
          "data": {
            "text/html": [
              "<div>\n",
              "<style scoped>\n",
              "    .dataframe tbody tr th:only-of-type {\n",
              "        vertical-align: middle;\n",
              "    }\n",
              "\n",
              "    .dataframe tbody tr th {\n",
              "        vertical-align: top;\n",
              "    }\n",
              "\n",
              "    .dataframe thead th {\n",
              "        text-align: right;\n",
              "    }\n",
              "</style>\n",
              "<table border=\"1\" class=\"dataframe\">\n",
              "  <thead>\n",
              "    <tr style=\"text-align: right;\">\n",
              "      <th></th>\n",
              "      <th>text</th>\n",
              "    </tr>\n",
              "    <tr>\n",
              "      <th>index</th>\n",
              "      <th></th>\n",
              "    </tr>\n",
              "  </thead>\n",
              "  <tbody>\n",
              "    <tr>\n",
              "      <th>14267</th>\n",
              "      <td>I'm not sure what happened to this theater, bu...</td>\n",
              "    </tr>\n",
              "    <tr>\n",
              "      <th>28025</th>\n",
              "      <td>Ive been to Vegas buffets many time, but this ...</td>\n",
              "    </tr>\n",
              "    <tr>\n",
              "      <th>20393</th>\n",
              "      <td>Everything about this place is unwelcoming, co...</td>\n",
              "    </tr>\n",
              "    <tr>\n",
              "      <th>8486</th>\n",
              "      <td>Terrible quality food. Prices are not competit...</td>\n",
              "    </tr>\n",
              "    <tr>\n",
              "      <th>20477</th>\n",
              "      <td>Great spot, awesome views, nice outdoor patio....</td>\n",
              "    </tr>\n",
              "    <tr>\n",
              "      <th>17251</th>\n",
              "      <td>We LOVE Rubio's, however, this location is ter...</td>\n",
              "    </tr>\n",
              "    <tr>\n",
              "      <th>25074</th>\n",
              "      <td>Wings Good.  Nachos BAD I am mean REALLY bad. ...</td>\n",
              "    </tr>\n",
              "    <tr>\n",
              "      <th>3325</th>\n",
              "      <td>This has to be the worst restaurant in Las Veg...</td>\n",
              "    </tr>\n",
              "    <tr>\n",
              "      <th>8908</th>\n",
              "      <td>We did not cook our own steak as that wasn't r...</td>\n",
              "    </tr>\n",
              "    <tr>\n",
              "      <th>20847</th>\n",
              "      <td>I feel like this place is always hit or miss w...</td>\n",
              "    </tr>\n",
              "    <tr>\n",
              "      <th>25180</th>\n",
              "      <td>I have eaten here many times and always enjoye...</td>\n",
              "    </tr>\n",
              "    <tr>\n",
              "      <th>237</th>\n",
              "      <td>The place was great when it first opened and a...</td>\n",
              "    </tr>\n",
              "    <tr>\n",
              "      <th>14314</th>\n",
              "      <td>We started with drinks and apps tonight.. Neve...</td>\n",
              "    </tr>\n",
              "    <tr>\n",
              "      <th>11262</th>\n",
              "      <td>Today was my first time going to this restaura...</td>\n",
              "    </tr>\n",
              "    <tr>\n",
              "      <th>22058</th>\n",
              "      <td>This was not a good experience. The food is al...</td>\n",
              "    </tr>\n",
              "    <tr>\n",
              "      <th>16415</th>\n",
              "      <td>Dirty forks, flat Coke, syrupy margarita...wha...</td>\n",
              "    </tr>\n",
              "    <tr>\n",
              "      <th>8500</th>\n",
              "      <td>Dirty cutlery, undercooked food, miserable sta...</td>\n",
              "    </tr>\n",
              "    <tr>\n",
              "      <th>6721</th>\n",
              "      <td>Had two very disappointing dinners here. Altho...</td>\n",
              "    </tr>\n",
              "    <tr>\n",
              "      <th>7605</th>\n",
              "      <td>Terrible service. Was sat at a dirty table,  w...</td>\n",
              "    </tr>\n",
              "    <tr>\n",
              "      <th>8047</th>\n",
              "      <td>Well at least the food was good. The service w...</td>\n",
              "    </tr>\n",
              "    <tr>\n",
              "      <th>19900</th>\n",
              "      <td>Not sure about all the other reviews but as fo...</td>\n",
              "    </tr>\n",
              "    <tr>\n",
              "      <th>960</th>\n",
              "      <td>Worst service ever. There are very few restaur...</td>\n",
              "    </tr>\n",
              "    <tr>\n",
              "      <th>20238</th>\n",
              "      <td>Giving them a 1 star simply because I am a reg...</td>\n",
              "    </tr>\n",
              "    <tr>\n",
              "      <th>17333</th>\n",
              "      <td>I have dined several times at Punderson Manor'...</td>\n",
              "    </tr>\n",
              "    <tr>\n",
              "      <th>17272</th>\n",
              "      <td>Disappointing. The service was terrible. It wa...</td>\n",
              "    </tr>\n",
              "    <tr>\n",
              "      <th>23539</th>\n",
              "      <td>The service was terrible! I walked in and was ...</td>\n",
              "    </tr>\n",
              "    <tr>\n",
              "      <th>4611</th>\n",
              "      <td>The food was okay, the service was terrible.  ...</td>\n",
              "    </tr>\n",
              "    <tr>\n",
              "      <th>786</th>\n",
              "      <td>Just disappointing from every angle. Poor serv...</td>\n",
              "    </tr>\n",
              "    <tr>\n",
              "      <th>1593</th>\n",
              "      <td>Not impressed... Best thing we ate or the chic...</td>\n",
              "    </tr>\n",
              "    <tr>\n",
              "      <th>24896</th>\n",
              "      <td>We have been here a few times before and alway...</td>\n",
              "    </tr>\n",
              "    <tr>\n",
              "      <th>844</th>\n",
              "      <td>We visited Sushi Garden for the first time.  A...</td>\n",
              "    </tr>\n",
              "    <tr>\n",
              "      <th>15968</th>\n",
              "      <td>This is a terrible restaurant. The service was...</td>\n",
              "    </tr>\n",
              "    <tr>\n",
              "      <th>17889</th>\n",
              "      <td>AVOID AT ALL COSTS!  Dr. Phil says there are 7...</td>\n",
              "    </tr>\n",
              "    <tr>\n",
              "      <th>16898</th>\n",
              "      <td>This place looks trashed, inside and out. The ...</td>\n",
              "    </tr>\n",
              "    <tr>\n",
              "      <th>14885</th>\n",
              "      <td>This place wasn't just disappointing, it was t...</td>\n",
              "    </tr>\n",
              "    <tr>\n",
              "      <th>10572</th>\n",
              "      <td>Not only was the service terrible, the food wa...</td>\n",
              "    </tr>\n",
              "    <tr>\n",
              "      <th>1420</th>\n",
              "      <td>very disappointing. The place looks very run d...</td>\n",
              "    </tr>\n",
              "    <tr>\n",
              "      <th>12595</th>\n",
              "      <td>Absolutely terrible experience today. My son i...</td>\n",
              "    </tr>\n",
              "    <tr>\n",
              "      <th>12739</th>\n",
              "      <td>Would not recommend, this place seems very dir...</td>\n",
              "    </tr>\n",
              "    <tr>\n",
              "      <th>14876</th>\n",
              "      <td>Let's start with the wobbly table..should have...</td>\n",
              "    </tr>\n",
              "    <tr>\n",
              "      <th>182</th>\n",
              "      <td>Really disappointing! The service was terrible...</td>\n",
              "    </tr>\n",
              "    <tr>\n",
              "      <th>16634</th>\n",
              "      <td>Great meat but terrible service. We had a larg...</td>\n",
              "    </tr>\n",
              "    <tr>\n",
              "      <th>6807</th>\n",
              "      <td>Terrible, absolutely terrible. The tables were...</td>\n",
              "    </tr>\n",
              "    <tr>\n",
              "      <th>9836</th>\n",
              "      <td>Meh.  Not terrible but not very good either.  ...</td>\n",
              "    </tr>\n",
              "    <tr>\n",
              "      <th>1754</th>\n",
              "      <td>Basically I've been here once before and it wa...</td>\n",
              "    </tr>\n",
              "    <tr>\n",
              "      <th>16025</th>\n",
              "      <td>Disappointing!  Had not eaten there in a few y...</td>\n",
              "    </tr>\n",
              "    <tr>\n",
              "      <th>1462</th>\n",
              "      <td>My experience today at this Benihanna location...</td>\n",
              "    </tr>\n",
              "    <tr>\n",
              "      <th>11369</th>\n",
              "      <td>My employer was hosting an event at the MGM Ga...</td>\n",
              "    </tr>\n",
              "    <tr>\n",
              "      <th>13817</th>\n",
              "      <td>I have gone to Stoke's Grill over the years an...</td>\n",
              "    </tr>\n",
              "    <tr>\n",
              "      <th>4089</th>\n",
              "      <td>Ehhhh, defiantly not competition worthy BBQ.  ...</td>\n",
              "    </tr>\n",
              "    <tr>\n",
              "      <th>7336</th>\n",
              "      <td>Terrible. If I could give this restaurant nega...</td>\n",
              "    </tr>\n",
              "  </tbody>\n",
              "</table>\n",
              "</div>"
            ],
            "text/plain": [
              "                                                    text\n",
              "index                                                   \n",
              "14267  I'm not sure what happened to this theater, bu...\n",
              "28025  Ive been to Vegas buffets many time, but this ...\n",
              "20393  Everything about this place is unwelcoming, co...\n",
              "8486   Terrible quality food. Prices are not competit...\n",
              "20477  Great spot, awesome views, nice outdoor patio....\n",
              "17251  We LOVE Rubio's, however, this location is ter...\n",
              "25074  Wings Good.  Nachos BAD I am mean REALLY bad. ...\n",
              "3325   This has to be the worst restaurant in Las Veg...\n",
              "8908   We did not cook our own steak as that wasn't r...\n",
              "20847  I feel like this place is always hit or miss w...\n",
              "25180  I have eaten here many times and always enjoye...\n",
              "237    The place was great when it first opened and a...\n",
              "14314  We started with drinks and apps tonight.. Neve...\n",
              "11262  Today was my first time going to this restaura...\n",
              "22058  This was not a good experience. The food is al...\n",
              "16415  Dirty forks, flat Coke, syrupy margarita...wha...\n",
              "8500   Dirty cutlery, undercooked food, miserable sta...\n",
              "6721   Had two very disappointing dinners here. Altho...\n",
              "7605   Terrible service. Was sat at a dirty table,  w...\n",
              "8047   Well at least the food was good. The service w...\n",
              "19900  Not sure about all the other reviews but as fo...\n",
              "960    Worst service ever. There are very few restaur...\n",
              "20238  Giving them a 1 star simply because I am a reg...\n",
              "17333  I have dined several times at Punderson Manor'...\n",
              "17272  Disappointing. The service was terrible. It wa...\n",
              "23539  The service was terrible! I walked in and was ...\n",
              "4611   The food was okay, the service was terrible.  ...\n",
              "786    Just disappointing from every angle. Poor serv...\n",
              "1593   Not impressed... Best thing we ate or the chic...\n",
              "24896  We have been here a few times before and alway...\n",
              "844    We visited Sushi Garden for the first time.  A...\n",
              "15968  This is a terrible restaurant. The service was...\n",
              "17889  AVOID AT ALL COSTS!  Dr. Phil says there are 7...\n",
              "16898  This place looks trashed, inside and out. The ...\n",
              "14885  This place wasn't just disappointing, it was t...\n",
              "10572  Not only was the service terrible, the food wa...\n",
              "1420   very disappointing. The place looks very run d...\n",
              "12595  Absolutely terrible experience today. My son i...\n",
              "12739  Would not recommend, this place seems very dir...\n",
              "14876  Let's start with the wobbly table..should have...\n",
              "182    Really disappointing! The service was terrible...\n",
              "16634  Great meat but terrible service. We had a larg...\n",
              "6807   Terrible, absolutely terrible. The tables were...\n",
              "9836   Meh.  Not terrible but not very good either.  ...\n",
              "1754   Basically I've been here once before and it wa...\n",
              "16025  Disappointing!  Had not eaten there in a few y...\n",
              "1462   My experience today at this Benihanna location...\n",
              "11369  My employer was hosting an event at the MGM Ga...\n",
              "13817  I have gone to Stoke's Grill over the years an...\n",
              "4089   Ehhhh, defiantly not competition worthy BBQ.  ...\n",
              "7336   Terrible. If I could give this restaurant nega..."
            ]
          },
          "metadata": {
            "tags": []
          },
          "execution_count": 73
        }
      ]
    },
    {
      "cell_type": "code",
      "metadata": {
        "id": "pVI8GKDUlK_g",
        "colab_type": "code",
        "colab": {}
      },
      "source": [
        "# Merging reviews_pos and reviews_neg\n",
        "reviews_mix = pd.merge(reviews_pos, reviews_neg, on = \"text\", how=\"outer\")"
      ],
      "execution_count": 0,
      "outputs": []
    },
    {
      "cell_type": "code",
      "metadata": {
        "id": "jd13PUPPmbdt",
        "colab_type": "code",
        "colab": {
          "base_uri": "https://localhost:8080/",
          "height": 399
        },
        "outputId": "67391cbe-575d-4b2c-dbe1-c8e345706f4d"
      },
      "source": [
        "reviews_mix"
      ],
      "execution_count": 77,
      "outputs": [
        {
          "output_type": "execute_result",
          "data": {
            "text/html": [
              "<div>\n",
              "<style scoped>\n",
              "    .dataframe tbody tr th:only-of-type {\n",
              "        vertical-align: middle;\n",
              "    }\n",
              "\n",
              "    .dataframe tbody tr th {\n",
              "        vertical-align: top;\n",
              "    }\n",
              "\n",
              "    .dataframe thead th {\n",
              "        text-align: right;\n",
              "    }\n",
              "</style>\n",
              "<table border=\"1\" class=\"dataframe\">\n",
              "  <thead>\n",
              "    <tr style=\"text-align: right;\">\n",
              "      <th></th>\n",
              "      <th>text</th>\n",
              "    </tr>\n",
              "  </thead>\n",
              "  <tbody>\n",
              "    <tr>\n",
              "      <th>0</th>\n",
              "      <td>Vincent's has excellent food and awesome servi...</td>\n",
              "    </tr>\n",
              "    <tr>\n",
              "      <th>1</th>\n",
              "      <td>This place is awesome. Salvatore Di Scala, own...</td>\n",
              "    </tr>\n",
              "    <tr>\n",
              "      <th>2</th>\n",
              "      <td>We've been meaning to try Bouchon the last few...</td>\n",
              "    </tr>\n",
              "    <tr>\n",
              "      <th>3</th>\n",
              "      <td>I was wandering the area and the clean sign, a...</td>\n",
              "    </tr>\n",
              "    <tr>\n",
              "      <th>4</th>\n",
              "      <td>Just had my first opportunity to eat here. The...</td>\n",
              "    </tr>\n",
              "    <tr>\n",
              "      <th>...</th>\n",
              "      <td>...</td>\n",
              "    </tr>\n",
              "    <tr>\n",
              "      <th>700</th>\n",
              "      <td>My experience today at this Benihanna location...</td>\n",
              "    </tr>\n",
              "    <tr>\n",
              "      <th>701</th>\n",
              "      <td>My employer was hosting an event at the MGM Ga...</td>\n",
              "    </tr>\n",
              "    <tr>\n",
              "      <th>702</th>\n",
              "      <td>I have gone to Stoke's Grill over the years an...</td>\n",
              "    </tr>\n",
              "    <tr>\n",
              "      <th>703</th>\n",
              "      <td>Ehhhh, defiantly not competition worthy BBQ.  ...</td>\n",
              "    </tr>\n",
              "    <tr>\n",
              "      <th>704</th>\n",
              "      <td>Terrible. If I could give this restaurant nega...</td>\n",
              "    </tr>\n",
              "  </tbody>\n",
              "</table>\n",
              "<p>705 rows × 1 columns</p>\n",
              "</div>"
            ],
            "text/plain": [
              "                                                  text\n",
              "0    Vincent's has excellent food and awesome servi...\n",
              "1    This place is awesome. Salvatore Di Scala, own...\n",
              "2    We've been meaning to try Bouchon the last few...\n",
              "3    I was wandering the area and the clean sign, a...\n",
              "4    Just had my first opportunity to eat here. The...\n",
              "..                                                 ...\n",
              "700  My experience today at this Benihanna location...\n",
              "701  My employer was hosting an event at the MGM Ga...\n",
              "702  I have gone to Stoke's Grill over the years an...\n",
              "703  Ehhhh, defiantly not competition worthy BBQ.  ...\n",
              "704  Terrible. If I could give this restaurant nega...\n",
              "\n",
              "[705 rows x 1 columns]"
            ]
          },
          "metadata": {
            "tags": []
          },
          "execution_count": 77
        }
      ]
    },
    {
      "cell_type": "code",
      "metadata": {
        "id": "ePK1iUddhebG",
        "colab_type": "code",
        "colab": {
          "base_uri": "https://localhost:8080/",
          "height": 52
        },
        "outputId": "27f2c6c5-c3c9-4b48-fa15-f981b3901bcc"
      },
      "source": [
        "%%time\n",
        "# choose 2 positive and 2 negative tips texts\n",
        "indices = [1, 2, 703, 704]\n",
        "embeddings = []\n",
        "\n",
        "for idx in indices:\n",
        "    text = reviews_mix.loc[idx, 'text']\n",
        "    marked_text = \"[CLS] \" + text + \" [SEP]\"\n",
        "    # Tokenize our sentence with the BERT tokenizer.\n",
        "    tokenized_text = tokenizer.tokenize(marked_text)\n",
        "    # Map the token strings to their vocabulary indices.\n",
        "    indexed_tokens = tokenizer.convert_tokens_to_ids(tokenized_text)\n",
        "    # Mark each of the 22 tokens as belonging to sentence \"1\".\n",
        "    segments_ids = [1] * len(tokenized_text)\n",
        "    # Convert inputs to PyTorch tensors\n",
        "    tokens_tensor = torch.tensor([indexed_tokens])\n",
        "    segments_tensors = torch.tensor([segments_ids])\n",
        "    # Predict hidden states features for each layer\n",
        "    with torch.no_grad():\n",
        "        encoded_layers, _ = model(tokens_tensor, segments_tensors)\n",
        "    # Concatenate the tensors for all layers. We use `stack` here to\n",
        "    # create a new dimension in the tensor.\n",
        "    token_embeddings = torch.stack(encoded_layers, dim=0)\n",
        "    # `token_vecs` is a tensor with shape [15 x 768]\n",
        "    token_vecs = encoded_layers[11][0]\n",
        "    # Calculate the average of all 15 token vectors.\n",
        "    sentence_embedding = torch.mean(token_vecs, dim=0)\n",
        "    embeddings.append(sentence_embedding)"
      ],
      "execution_count": 80,
      "outputs": [
        {
          "output_type": "stream",
          "text": [
            "CPU times: user 2.77 s, sys: 141 ms, total: 2.91 s\n",
            "Wall time: 2.91 s\n"
          ],
          "name": "stdout"
        }
      ]
    },
    {
      "cell_type": "code",
      "metadata": {
        "id": "8iw6qGsop3F1",
        "colab_type": "code",
        "colab": {
          "base_uri": "https://localhost:8080/",
          "height": 410
        },
        "outputId": "24953795-4bfe-4567-bf49-201cb977fc71"
      },
      "source": [
        "# print out sentences and their vector similarity\n",
        "for i, e in enumerate(embeddings):\n",
        "    similarity = 1 - cosine(embeddings[0], embeddings[i-3])\n",
        "    print(reviews_mix.loc[indices[0], 'text'])\n",
        "    print(reviews_mix.loc[indices[i-3], 'text'])\n",
        "    print('Sentence vector similarity: %.2f' % similarity)\n",
        "    print()"
      ],
      "execution_count": 82,
      "outputs": [
        {
          "output_type": "stream",
          "text": [
            "This place is awesome. Salvatore Di Scala, owner and Executive Chef greeted us at the door. One of the best Italian restaurants in the area! If you are looking for a restaurant that offers large portions, fresh EVERYTHING, and a clean and friendly atmosphere - is the place to dine. The service is excellent and the setting is romantic. Most important, the food is A+. I felt right at home. If you love Italian food, you have to try Naples 15. Great wine selection! HIGHLY HIGHLY RECOMMEND!!!\n",
            "We've been meaning to try Bouchon the last few times we've been to Vegas, but for some reason we've just never nailed it down. We were able to stop for a quick bite right before our flight out. I think it was 5 o'clockish pm when we entered and sat at the bar. It was pretty quiet at that time but there was a constant in-flow of people as we ate. The bartender did a great job at setting us up to eat at the bar, almost makes you feel like you should eat all your meals at the bar! We ordered off the bar menu. Started with the Pate, which was excellent! My husband doesn't even like Pate but he really liked Bouchon's Pate. Since we weren't very hungary, my hubby and I split the open-faced lamb sandwich. What can I say, a ridiculously Awesome sandwich! The cut of meat was the leg of lamb and it was cooked perfectly. Nice clean flavors and the pommes frites (fries) were some of the best fries I've ever had and they give you a huge plate full of them! \n",
            "Can't wait to get back to Vegas and try this place for a full on dinner and the Brunch!\n",
            "\n",
            "Location of the restaurant is interesting, it's off the beaten path by Venetian check-in. \n",
            "\n",
            "Bouchon also has a bakery right in front of the Venetian Tower elevators. Everything we tried there was Great! Chocolate Croissant (warmed up) and the baguettes are good stuff!\n",
            "Sentence vector similarity: 0.90\n",
            "\n",
            "This place is awesome. Salvatore Di Scala, owner and Executive Chef greeted us at the door. One of the best Italian restaurants in the area! If you are looking for a restaurant that offers large portions, fresh EVERYTHING, and a clean and friendly atmosphere - is the place to dine. The service is excellent and the setting is romantic. Most important, the food is A+. I felt right at home. If you love Italian food, you have to try Naples 15. Great wine selection! HIGHLY HIGHLY RECOMMEND!!!\n",
            "Ehhhh, defiantly not competition worthy BBQ.  They have 2 mediocre BBQ sauces on each table.  Both list Corn Sugar(high fructose corn syrup) as an ingredient.  Unfortunately they use bar speed pourers as tops and of the 3 tables I tried, all were clogged.  I ended up just pulling the top off to finally get to the disappointing sauce sealed inside.  I wonder what other terrible industrial ingredients their meals hide.  Bland BBQ sauce did a poor job covering up their far from fresh day old meat.  Hint: fresh quality ingredients prepared with respect and care = good food.  Never going back.  Dirty restaraunt, bored staff, and bathrooms to match.\n",
            "Sentence vector similarity: 0.85\n",
            "\n",
            "This place is awesome. Salvatore Di Scala, owner and Executive Chef greeted us at the door. One of the best Italian restaurants in the area! If you are looking for a restaurant that offers large portions, fresh EVERYTHING, and a clean and friendly atmosphere - is the place to dine. The service is excellent and the setting is romantic. Most important, the food is A+. I felt right at home. If you love Italian food, you have to try Naples 15. Great wine selection! HIGHLY HIGHLY RECOMMEND!!!\n",
            "Terrible. If I could give this restaurant negative stars I would. The restaurant was very dirty, food all over the floors, workers looked like they hadn't showered in weeks, etc. We could hear employees swearing at each other and the manager wouldn't do anything about it! Not kid friendly! The food was disgusting and my shake wasn't full. We love Arby's but this was so disappointing. Will not be returning.\n",
            "Sentence vector similarity: 0.84\n",
            "\n",
            "This place is awesome. Salvatore Di Scala, owner and Executive Chef greeted us at the door. One of the best Italian restaurants in the area! If you are looking for a restaurant that offers large portions, fresh EVERYTHING, and a clean and friendly atmosphere - is the place to dine. The service is excellent and the setting is romantic. Most important, the food is A+. I felt right at home. If you love Italian food, you have to try Naples 15. Great wine selection! HIGHLY HIGHLY RECOMMEND!!!\n",
            "This place is awesome. Salvatore Di Scala, owner and Executive Chef greeted us at the door. One of the best Italian restaurants in the area! If you are looking for a restaurant that offers large portions, fresh EVERYTHING, and a clean and friendly atmosphere - is the place to dine. The service is excellent and the setting is romantic. Most important, the food is A+. I felt right at home. If you love Italian food, you have to try Naples 15. Great wine selection! HIGHLY HIGHLY RECOMMEND!!!\n",
            "Sentence vector similarity: 1.00\n",
            "\n"
          ],
          "name": "stdout"
        }
      ]
    },
    {
      "cell_type": "markdown",
      "metadata": {
        "id": "wmQWWtiRqGiJ",
        "colab_type": "text"
      },
      "source": [
        ""
      ]
    }
  ]
}